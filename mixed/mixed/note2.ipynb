{
 "cells": [
  {
   "cell_type": "code",
   "execution_count": 1,
   "id": "92a43ae7",
   "metadata": {
    "execution": {
     "iopub.execute_input": "2024-08-29T15:24:44.114027Z",
     "iopub.status.busy": "2024-08-29T15:24:44.113339Z",
     "iopub.status.idle": "2024-08-29T15:24:44.132539Z",
     "shell.execute_reply": "2024-08-29T15:24:44.131095Z"
    },
    "papermill": {
     "duration": 0.028531,
     "end_time": "2024-08-29T15:24:44.136332",
     "exception": false,
     "start_time": "2024-08-29T15:24:44.107801",
     "status": "completed"
    },
    "tags": []
   },
   "outputs": [
    {
     "name": "stdout",
     "output_type": "stream",
     "text": [
      "note2\n"
     ]
    }
   ],
   "source": [
    "print('note2')"
   ]
  },
  {
   "cell_type": "code",
   "execution_count": null,
   "id": "0718d1ad",
   "metadata": {
    "papermill": {
     "duration": 0.002483,
     "end_time": "2024-08-29T15:24:44.141984",
     "exception": false,
     "start_time": "2024-08-29T15:24:44.139501",
     "status": "completed"
    },
    "tags": []
   },
   "outputs": [],
   "source": []
  }
 ],
 "metadata": {
  "kernelspec": {
   "display_name": ".venv",
   "language": "python",
   "name": "python3"
  },
  "language_info": {
   "codemirror_mode": {
    "name": "ipython",
    "version": 3
   },
   "file_extension": ".py",
   "mimetype": "text/x-python",
   "name": "python",
   "nbconvert_exporter": "python",
   "pygments_lexer": "ipython3",
   "version": "3.8.10"
  },
  "papermill": {
   "default_parameters": {},
   "duration": 1.001608,
   "end_time": "2024-08-29T15:24:44.363860",
   "environment_variables": {},
   "exception": null,
   "input_path": "note2.ipynb",
   "output_path": "note2.ipynb",
   "parameters": {},
   "start_time": "2024-08-29T15:24:43.362252",
   "version": "2.6.0"
  }
 },
 "nbformat": 4,
 "nbformat_minor": 5
}