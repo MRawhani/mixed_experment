{
 "cells": [
  {
   "cell_type": "code",
   "execution_count": 1,
   "id": "e7047bd1",
   "metadata": {
    "execution": {
     "iopub.execute_input": "2024-08-29T15:24:43.238774Z",
     "iopub.status.busy": "2024-08-29T15:24:43.238286Z",
     "iopub.status.idle": "2024-08-29T15:24:43.243182Z",
     "shell.execute_reply": "2024-08-29T15:24:43.242881Z"
    },
    "papermill": {
     "duration": 0.007749,
     "end_time": "2024-08-29T15:24:43.243976",
     "exception": false,
     "start_time": "2024-08-29T15:24:43.236227",
     "status": "completed"
    },
    "tags": []
   },
   "outputs": [
    {
     "name": "stdout",
     "output_type": "stream",
     "text": [
      "note1\n"
     ]
    }
   ],
   "source": [
    "print('note1')"
   ]
  },
  {
   "cell_type": "code",
   "execution_count": null,
   "id": "a21a73ca",
   "metadata": {
    "papermill": {
     "duration": 0.000539,
     "end_time": "2024-08-29T15:24:43.245331",
     "exception": false,
     "start_time": "2024-08-29T15:24:43.244792",
     "status": "completed"
    },
    "tags": []
   },
   "outputs": [],
   "source": []
  }
 ],
 "metadata": {
  "kernelspec": {
   "display_name": ".venv",
   "language": "python",
   "name": "python3"
  },
  "language_info": {
   "codemirror_mode": {
    "name": "ipython",
    "version": 3
   },
   "file_extension": ".py",
   "mimetype": "text/x-python",
   "name": "python",
   "nbconvert_exporter": "python",
   "pygments_lexer": "ipython3",
   "version": "3.8.10"
  },
  "papermill": {
   "default_parameters": {},
   "duration": 0.814266,
   "end_time": "2024-08-29T15:24:43.360067",
   "environment_variables": {},
   "exception": null,
   "input_path": "note1.ipynb",
   "output_path": "note1.ipynb",
   "parameters": {},
   "start_time": "2024-08-29T15:24:42.545801",
   "version": "2.6.0"
  }
 },
 "nbformat": 4,
 "nbformat_minor": 5
}