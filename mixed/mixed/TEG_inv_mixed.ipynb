{
 "cells": [
  {
   "cell_type": "code",
   "execution_count": 1,
   "id": "55e784da",
   "metadata": {
    "execution": {
     "iopub.execute_input": "2024-08-29T15:25:29.001388Z",
     "iopub.status.busy": "2024-08-29T15:25:29.000514Z",
     "iopub.status.idle": "2024-08-29T15:25:32.931652Z",
     "shell.execute_reply": "2024-08-29T15:25:32.931218Z"
    },
    "papermill": {
     "duration": 3.937396,
     "end_time": "2024-08-29T15:25:32.932562",
     "exception": false,
     "start_time": "2024-08-29T15:25:28.995166",
     "status": "completed"
    },
    "tags": []
   },
   "outputs": [
    {
     "name": "stdout",
     "output_type": "stream",
     "text": [
      "Current Python path: ['/usr/lib/python38.zip', '/usr/lib/python3.8', '/usr/lib/python3.8/lib-dynload', '', '/home/guest/.cache/pypoetry/virtualenvs/third-experments-xuKQSur9-py3.8/lib/python3.8/site-packages', '/home/guest/Desktop/projects/third-experiments/domain_adaptation_project/modules']\n",
      "TOKENIZERS_PARALLELISM: false\n",
      "OMP_NUM_THREADS: 1\n",
      "Starting imports...\n"
     ]
    },
    {
     "name": "stdout",
     "output_type": "stream",
     "text": [
      "Imports completed successfully.\n"
     ]
    },
    {
     "name": "stderr",
     "output_type": "stream",
     "text": [
      "2024-08-29 18:25:31.716467: I tensorflow/core/util/port.cc:110] oneDNN custom operations are on. You may see slightly different numerical results due to floating-point round-off errors from different computation orders. To turn them off, set the environment variable `TF_ENABLE_ONEDNN_OPTS=0`.\n",
      "2024-08-29 18:25:31.746735: I tensorflow/core/platform/cpu_feature_guard.cc:182] This TensorFlow binary is optimized to use available CPU instructions in performance-critical operations.\n",
      "To enable the following instructions: AVX2 AVX512F AVX512_VNNI FMA, in other operations, rebuild TensorFlow with the appropriate compiler flags.\n"
     ]
    },
    {
     "name": "stderr",
     "output_type": "stream",
     "text": [
      "2024-08-29 18:25:32.231801: W tensorflow/compiler/tf2tensorrt/utils/py_utils.cc:38] TF-TRT Warning: Could not find TensorRT\n"
     ]
    },
    {
     "name": "stdout",
     "output_type": "stream",
     "text": [
      "./text-files/\n",
      "./hp-model-\n",
      "Loading dataset from: ../../../datasets/datasets\n",
      "Dataset loaded successfully\n"
     ]
    }
   ],
   "source": [
    "import sys\n",
    "from pathlib import Path\n",
    "\n",
    "# Function to set up the source path for modules\n",
    "def setup_src_path():\n",
    "    module_path = str(Path.cwd().parents[1] / \"modules\")\n",
    "    if module_path not in sys.path:\n",
    "        sys.path.append(module_path)\n",
    "    return sys.path\n",
    "\n",
    "# Call the function to ensure the path is set\n",
    "setup_src_path()\n",
    "\n",
    "# Print the current Python path for debugging\n",
    "print(\"Current Python path:\", sys.path)\n",
    "\n",
    "import os\n",
    "\n",
    "os.environ[\"TOKENIZERS_PARALLELISM\"] = \"false\"\n",
    "os.environ[\"OMP_NUM_THREADS\"] = \"1\"\n",
    "\n",
    "print(f\"TOKENIZERS_PARALLELISM: {os.environ.get('TOKENIZERS_PARALLELISM')}\")\n",
    "print(f\"OMP_NUM_THREADS: {os.environ.get('OMP_NUM_THREADS')}\")\n",
    "\n",
    "print(\"Starting imports...\")\n",
    "from typing import Optional, Dict, Any\n",
    "import torch\n",
    "import pytorch_lightning as pl\n",
    "import pandas as pd\n",
    "from transformers import AutoTokenizer\n",
    "from torch.utils.data import Dataset, DataLoader\n",
    "from rich.traceback import install\n",
    "from pytorch_lightning.loggers import WandbLogger\n",
    "import torch.nn as nn\n",
    "import torch.optim as optim\n",
    "from transformers import AutoConfig, get_cosine_schedule_with_warmup\n",
    "from adapters import AutoAdapterModel, AdapterConfig\n",
    "from adapters.composition import Stack\n",
    "from pytorch_lightning import seed_everything, Trainer\n",
    "from pytorch_lightning.callbacks import ModelCheckpoint, EarlyStopping\n",
    "import torchmetrics\n",
    "from sklearn.metrics import confusion_matrix, ConfusionMatrixDisplay\n",
    "from sklearn.manifold import TSNE\n",
    "import matplotlib.pyplot as plt\n",
    "import numpy as np\n",
    "print(\"Imports completed successfully.\")\n",
    "\n",
    "install(show_locals=True)\n",
    "\n",
    "import data.processed as processed\n",
    "import config.config as config\n",
    "import utils.setup as setup\n",
    "import utils.functions as fn\n",
    "from importlib import reload\n",
    "\n",
    "from datasets import load_from_disk\n",
    "\n",
    "print(config.Config.TXT_SAVE_PATH)\n",
    "print(config.Config.MODEL_SAVE_PATH)\n",
    "\n",
    "dataset_path = f\"../{config.Config.DATASETS_SAVE_PATH}/datasets\"\n",
    "print(f\"Loading dataset from: {dataset_path}\")\n",
    "\n",
    "if os.path.exists(dataset_path):\n",
    "    dataset = load_from_disk(dataset_path)\n",
    "    print(\"Dataset loaded successfully\")\n",
    "else:\n",
    "    print(\"Dataset path does not exist\")\n"
   ]
  },
  {
   "cell_type": "code",
   "execution_count": 2,
   "id": "5e2f1a7a",
   "metadata": {
    "execution": {
     "iopub.execute_input": "2024-08-29T15:25:32.936804Z",
     "iopub.status.busy": "2024-08-29T15:25:32.936520Z",
     "iopub.status.idle": "2024-08-29T15:25:32.958611Z",
     "shell.execute_reply": "2024-08-29T15:25:32.958151Z"
    },
    "papermill": {
     "duration": 0.025223,
     "end_time": "2024-08-29T15:25:32.959548",
     "exception": false,
     "start_time": "2024-08-29T15:25:32.934325",
     "status": "completed"
    },
    "tags": []
   },
   "outputs": [],
   "source": [
    "import torch\n",
    "import os\n",
    "import pytorch_lightning as pl\n",
    "from transformers import  AutoConfig, DataCollatorForLanguageModeling\n",
    "from collections import defaultdict\n",
    "import torch.nn as nn\n",
    "import torch.optim as optim\n",
    "from torch.optim.lr_scheduler import ReduceLROnPlateau\n",
    "import numpy as np\n",
    "import torchmetrics\n",
    "\n",
    "class JointDomainTaskAdapter(pl.LightningModule):\n",
    "    def __init__(self, hparams,source_dataset_length,target_dataset_length):\n",
    "        super(JointDomainTaskAdapter, self).__init__()\n",
    "        self.save_hyperparameters(hparams)\n",
    "\n",
    "        # Load config with hidden states output\n",
    "        self.config = AutoConfig.from_pretrained(self.hparams[\"pretrained_model_name\"])\n",
    "        self.config.output_hidden_states = True\n",
    "        self.model = AutoAdapterModel.from_pretrained(self.hparams[\"pretrained_model_name\"], config=self.config)\n",
    "\n",
    "        # Set reduction factor and leave_out layers\n",
    "        self.reduction_factor = self.hparams.get(\"reduction_factor\", 16)\n",
    "        self.leave_out = self.hparams.get(\"leave_out\", [])\n",
    "        # if self.leave_out != \"None\":\n",
    "        #     self.leave_out = self.leave_out.split(\",\")\n",
    "        #     self.leave_out = [int(i) for i in self.leave_out]\n",
    "        # else:\n",
    "        #     self.leave_out = []\n",
    "\n",
    "        # Load MLM adapter with head\n",
    "        self.model.load_adapter(f\"{self.hparams['saved_adapter_dir']}/{self.hparams['domain_adapter_name']}\", with_head=True)\n",
    "\n",
    "        # Add classification head for the task\n",
    "        self.model.add_classification_head(f\"{self.hparams['task_adapter_name']}\", num_labels=self.hparams[\"num_classes\"])\n",
    "\n",
    "        # Set active adapters\n",
    "        self.model.train_adapter(self.hparams['domain_adapter_name'])\n",
    "        # Calculate alpha based on dataset lengths\n",
    "        self.alpha = source_dataset_length / (source_dataset_length + target_dataset_length)\n",
    "\n",
    "        # Initialize loss functions and metrics\n",
    "        self.criterion = nn.CrossEntropyLoss()\n",
    "        self.mlm_criterion = nn.CrossEntropyLoss()\n",
    "        self.accuracy = torchmetrics.Accuracy(task='multiclass', num_classes=self.hparams[\"num_classes\"])\n",
    "        self.f1 = torchmetrics.F1Score(task='multiclass', num_classes=self.hparams[\"num_classes\"], average=\"weighted\")\n",
    "        self.f1_macro = torchmetrics.F1Score(task='multiclass', num_classes=self.hparams[\"num_classes\"], average=\"macro\")\n",
    "        self.softmax = nn.Softmax(dim=1)\n",
    "        self.validation_outputs = []\n",
    "        self.test_outputs = []\n",
    "        # Optimizer related variables\n",
    "        self.learning_rate = self.hparams.get(\"learning_rate\", 1e-4)\n",
    "        self.scheduler_factor = self.hparams.get(\"scheduler_factor\", 0.1)\n",
    "        self.scheduler_patience = self.hparams.get(\"scheduler_patience\", 0.05)\n",
    "        self.scheduler_threshold = self.hparams.get(\"scheduler_threshold\", 0.0001)\n",
    "        self.scheduler_cooldown = self.hparams.get(\"scheduler_cooldown\", 0)\n",
    "        self.scheduler_eps = self.hparams.get(\"scheduler_eps\", 1e-8)\n",
    "\n",
    "    def forward(self, input_ids, attention_mask=None, labels=None, task=None):\n",
    "        if task == \"mlm\":\n",
    "            self.model.active_head= self.hparams['domain_adapter_name']\n",
    "            outputs = self.model(input_ids=input_ids, attention_mask=attention_mask, labels=labels)\n",
    "        elif task == \"classification\":\n",
    "            self.model.active_head= self.hparams['task_adapter_name']\n",
    "            outputs = self.model(input_ids=input_ids, attention_mask=attention_mask, labels=labels)\n",
    "        else:\n",
    "            raise ValueError(\"Task must be either 'mlm' or 'classification'.\")\n",
    "        return outputs\n",
    "\n",
    "    def training_step(self, batch, batch_idx):\n",
    "        # Separate source and target data processing\n",
    "        source_input_ids = batch[\"source_input_ids\"]\n",
    "        source_attention_mask = batch[\"source_attention_mask\"]\n",
    "        source_labels = batch[\"label_source\"]\n",
    "\n",
    "        target_input_ids = batch[\"target_input_ids\"]\n",
    "        target_attention_mask = batch[\"target_attention_mask\"]\n",
    "        mlm_labels = batch[\"mlm_labels\"]\n",
    "\n",
    "        # Calculate dynamic alpha based on the lengths of source and target data\n",
    "        alpha = self.alpha\n",
    "\n",
    "        # Classification task\n",
    "        cls_outputs = self(input_ids=source_input_ids, attention_mask=source_attention_mask, task=\"classification\")\n",
    "        cls_logits = cls_outputs.logits\n",
    "        task_loss = self.criterion(cls_logits, source_labels)\n",
    "\n",
    "        # MLM task\n",
    "        mlm_outputs = self(input_ids=target_input_ids, attention_mask=target_attention_mask, labels=mlm_labels, task=\"mlm\")\n",
    "        mlm_loss = mlm_outputs.loss\n",
    "\n",
    "        # Combine losses\n",
    "        loss = alpha * task_loss + (1 - alpha) * mlm_loss\n",
    "\n",
    "        accuracy = self.accuracy(source_labels, torch.argmax(self.softmax(cls_logits), dim=1))\n",
    "        f1 = self.f1(source_labels, torch.argmax(self.softmax(cls_logits), dim=1))\n",
    "\n",
    "        metrics = {\n",
    "            \"train/accuracy\": accuracy,\n",
    "            \"train/f1\": f1,\n",
    "            \"train/taskclf_loss\": task_loss,\n",
    "            \"train/loss\": loss,\n",
    "            \"train/mlm_loss\": mlm_loss\n",
    "        }\n",
    "\n",
    "        for key, val in metrics.items():\n",
    "            self.log(name=key, value=val)\n",
    "\n",
    "        return loss\n",
    "\n",
    "    def validation_step(self, batch, batch_idx):\n",
    "        # Separate source and target data processing\n",
    "        source_input_ids = batch[\"source_input_ids\"]\n",
    "        source_attention_mask = batch[\"source_attention_mask\"]\n",
    "        source_labels = batch[\"label_source\"]\n",
    "\n",
    "        target_input_ids = batch[\"target_input_ids\"]\n",
    "        target_attention_mask = batch[\"target_attention_mask\"]\n",
    "        mlm_labels = batch[\"mlm_labels\"]\n",
    "\n",
    "        # Calculate dynamic alpha based on the lengths of source and target data\n",
    "        alpha = self.alpha\n",
    "        # Classification task\n",
    "        cls_outputs = self(input_ids=source_input_ids, attention_mask=source_attention_mask, task=\"classification\")\n",
    "        cls_logits = cls_outputs.logits\n",
    "        task_loss = self.criterion(cls_logits, source_labels)\n",
    "\n",
    "        # MLM task\n",
    "        mlm_outputs = self(input_ids=target_input_ids, attention_mask=target_attention_mask, labels=mlm_labels, task=\"mlm\")\n",
    "        mlm_loss = mlm_outputs.loss\n",
    "\n",
    "        # Combine losses\n",
    "        loss = alpha * task_loss + (1 - alpha) * mlm_loss\n",
    "\n",
    "        accuracy = self.accuracy(source_labels, torch.argmax(self.softmax(cls_logits), dim=1))\n",
    "        f1 = self.f1(source_labels, torch.argmax(self.softmax(cls_logits), dim=1))\n",
    "        self.validation_outputs.append({\n",
    "            \"val/accuracy\": accuracy,\n",
    "            \"val/f1\": f1,\n",
    "            \"val/taskclf_loss\": task_loss,\n",
    "            \"val/loss\": loss,\n",
    "            \"val/mlm_loss\": mlm_loss\n",
    "                })\n",
    "        \n",
    "        metrics = {\n",
    "            \"val/accuracy\": accuracy,\n",
    "            \"val/f1\": f1,\n",
    "            \"val/taskclf_loss\": task_loss,\n",
    "            \"val/loss\": loss,\n",
    "            \"val/mlm_loss\": mlm_loss\n",
    "        }\n",
    "\n",
    "        for key, val in metrics.items():\n",
    "            self.log(name=key, value=val)\n",
    "\n",
    "        return metrics\n",
    "    def on_validation_epoch_start(self):\n",
    "        self.validation_outputs = []\n",
    "    \n",
    "    def on_validation_epoch_end(self):\n",
    "        outputs= self.validation_outputs\n",
    "\n",
    "        avg_loss = torch.stack([x[\"val/loss\"] for x in outputs]).mean()\n",
    "        avg_task_loss = torch.stack([x[\"val/taskclf_loss\"] for x in outputs]).mean()\n",
    "        avg_mlm_loss = torch.stack([x[\"val/mlm_loss\"] for x in outputs]).mean()\n",
    "        avg_accuracy = torch.stack([x[\"val/accuracy\"] for x in outputs]).mean()\n",
    "        avg_f1 = torch.stack([x[\"val/f1\"] for x in outputs]).mean()\n",
    "        print(f\"val/accuracy: {avg_accuracy}\")\n",
    "        print(f\"val/f1: {avg_f1}\")\n",
    "        print(f\"val/taskclf_loss: {avg_task_loss}\")\n",
    "        print(f\"val/loss: {avg_loss}\")\n",
    "        print(f\"val/mlm_loss: {avg_mlm_loss}\")\n",
    "        metrics = {\n",
    "            \"val/avg_loss\": avg_loss,\n",
    "            \"val/avg_taskclf_loss\": avg_task_loss,\n",
    "            \"val/avg_mlm_loss\": avg_mlm_loss,\n",
    "            \"val/avg_accuracy\": avg_accuracy,\n",
    "            \"val/avg_f1\": avg_f1,\n",
    "        }\n",
    "\n",
    "        for key, val in metrics.items():\n",
    "            self.log(name=key, value=val)\n",
    "        self.log(\"val_loss\", avg_loss)\n",
    "\n",
    "    def test_step(self, batch, batch_idx):\n",
    "        # Separate source and target data processing\n",
    "        source_input_ids = batch[\"source_input_ids\"]\n",
    "        source_attention_mask = batch[\"source_attention_mask\"]\n",
    "        source_labels = batch[\"label_source\"]\n",
    "\n",
    "        target_input_ids = batch[\"target_input_ids\"]\n",
    "        target_attention_mask = batch[\"target_attention_mask\"]\n",
    "        target_labels = batch[\"label_target\"]\n",
    "\n",
    "        # Classification task for source data\n",
    "        cls_outputs_source = self(input_ids=source_input_ids, attention_mask=source_attention_mask, task=\"classification\")\n",
    "        cls_logits_source = cls_outputs_source.logits\n",
    "        task_loss_source = self.criterion(cls_logits_source, source_labels)\n",
    "\n",
    "        # Classification task for target data\n",
    "        cls_outputs_target = self(input_ids=target_input_ids, attention_mask=target_attention_mask, task=\"classification\")\n",
    "        cls_logits_target = cls_outputs_target.logits\n",
    "        task_loss_target = self.criterion(cls_logits_target, target_labels)\n",
    "\n",
    "        # Combine losses (though typically you would evaluate them separately)\n",
    "        loss = task_loss_source + task_loss_target\n",
    "\n",
    "        accuracy_source = self.accuracy(source_labels, torch.argmax(self.softmax(cls_logits_source), dim=1))\n",
    "        f1_source = self.f1(source_labels, torch.argmax(self.softmax(cls_logits_source), dim=1))\n",
    "        f1_macro_source = self.f1_macro(source_labels, torch.argmax(self.softmax(cls_logits_source), dim=1))\n",
    "\n",
    "        accuracy_target = self.accuracy(target_labels, torch.argmax(self.softmax(cls_logits_target), dim=1))\n",
    "        f1_target = self.f1(target_labels, torch.argmax(self.softmax(cls_logits_target), dim=1))\n",
    "        f1_macro_target = self.f1_macro(target_labels, torch.argmax(self.softmax(cls_logits_target), dim=1))\n",
    "\n",
    "        metrics = {\n",
    "            \"source_test/loss\": task_loss_source,\n",
    "            \"source_test/accuracy\": accuracy_source,\n",
    "            \"source_test/f1\": f1_source,\n",
    "            \"source_test/f1_macro\": f1_macro_source,\n",
    "            \"target_test/loss\": task_loss_target,\n",
    "            \"target_test/accuracy\": accuracy_target,\n",
    "            \"target_test/f1\": f1_target,\n",
    "            \"target_test/f1_macro\": f1_macro_target,\n",
    "        }\n",
    "\n",
    "        for key, val in metrics.items():\n",
    "            self.log(name=key, value=val)\n",
    "\n",
    "        self.test_outputs.append({\n",
    "            \"source_test/loss\": task_loss_source,\n",
    "            \"source_test/accuracy\": accuracy_source,\n",
    "            \"source_test/f1\": f1_source,\n",
    "            \"source_test/f1_macro\": f1_macro_source,\n",
    "            \"target_test/loss\": task_loss_target,\n",
    "            \"target_test/accuracy\": accuracy_target,\n",
    "            \"target_test/f1\": f1_target,\n",
    "            \"target_test/f1_macro\": f1_macro_target,\n",
    "        })\n",
    "        return metrics\n",
    "    def on_test_epoch_start(self):\n",
    "        self.test_outputs = []\n",
    "\n",
    "    def on_test_epoch_end(self):\n",
    "        outputs=  self.test_outputs\n",
    "\n",
    "        avg_loss_source = torch.stack([x[\"source_test/loss\"] for x in outputs]).mean()\n",
    "        avg_task_loss_target = torch.stack([x[\"target_test/loss\"] for x in outputs]).mean()\n",
    "        avg_accuracy_source = torch.stack([x[\"source_test/accuracy\"] for x in outputs]).mean()\n",
    "        avg_f1_source = torch.stack([x[\"source_test/f1\"] for x in outputs]).mean()\n",
    "        avg_f1_macro_source = torch.stack([x[\"source_test/f1_macro\"] for x in outputs]).mean()\n",
    "\n",
    "        avg_accuracy_target = torch.stack([x[\"target_test/accuracy\"] for x in outputs]).mean()\n",
    "        avg_f1_target = torch.stack([x[\"target_test/f1\"] for x in outputs]).mean()\n",
    "        avg_f1_macro_target = torch.stack([x[\"target_test/f1_macro\"] for x in outputs]).mean()\n",
    "\n",
    "        metrics = {\n",
    "            \"source_test/loss\": avg_loss_source,\n",
    "            \"target_test/loss\": avg_task_loss_target,\n",
    "            \"source_test/accuracy\": avg_accuracy_source,\n",
    "            \"source_test/f1\": avg_f1_source,\n",
    "            \"source_test/f1_macro\": avg_f1_macro_source,\n",
    "            \"target_test/accuracy\": avg_accuracy_target,\n",
    "            \"target_test/f1\": avg_f1_target,\n",
    "            \"target_test/f1_macro\": avg_f1_macro_target,\n",
    "        }\n",
    "\n",
    "        for key, val in metrics.items():\n",
    "            self.log(name=key, value=val)\n",
    "    def save_adapter(self, location, adapter_name):\n",
    "        self.model.save_adapter(location, adapter_name)\n",
    "\n",
    "    def configure_optimizers(self):\n",
    "        optimizer = optim.AdamW(self.parameters(), lr=self.learning_rate)\n",
    "        lr_scheduler = ReduceLROnPlateau(\n",
    "            optimizer=optimizer,\n",
    "            mode=\"min\",\n",
    "            factor=self.scheduler_factor,\n",
    "            patience=self.scheduler_patience,\n",
    "            threshold=self.scheduler_threshold,\n",
    "            cooldown=self.scheduler_cooldown,\n",
    "            eps=self.scheduler_eps,\n",
    "            verbose=True,\n",
    "        )\n",
    "        return [optimizer], [{\"scheduler\": lr_scheduler, \"reduce_lr_on_plateau\": True, \"monitor\": \"val_loss\", \"interval\": \"epoch\"}]\n"
   ]
  },
  {
   "cell_type": "code",
   "execution_count": 3,
   "id": "cbf131bf",
   "metadata": {
    "execution": {
     "iopub.execute_input": "2024-08-29T15:25:32.963245Z",
     "iopub.status.busy": "2024-08-29T15:25:32.963056Z",
     "iopub.status.idle": "2024-08-29T15:25:34.267589Z",
     "shell.execute_reply": "2024-08-29T15:25:34.266859Z"
    },
    "papermill": {
     "duration": 1.307711,
     "end_time": "2024-08-29T15:25:34.268815",
     "exception": false,
     "start_time": "2024-08-29T15:25:32.961104",
     "status": "completed"
    },
    "tags": []
   },
   "outputs": [
    {
     "name": "stderr",
     "output_type": "stream",
     "text": [
      "\u001b[34m\u001b[1mwandb\u001b[0m: Currently logged in as: \u001b[33mmrawhani5\u001b[0m (\u001b[33mmrawhani\u001b[0m). Use \u001b[1m`wandb login --relogin`\u001b[0m to force relogin\n"
     ]
    }
   ],
   "source": [
    "import wandb\n",
    "\n",
    "wandb.login()\n",
    "# Wandb setup and training loop\n",
    "seeds = [42, 10, 100]  # List of seeds\n",
    "project_name = 'mixed_edited'  # Replace with your wandb project name\n",
    "domain = 'TEG'  # Replace with the specific domain for this notebook\n",
    "type = 'inv'  # Replace with the specific type for this notebook\n",
    "\n",
    "# Initialize results dictionary\n",
    "results = {\n",
    "    \"last_epoch\": {\n",
    "        \"source_test/loss\": [],\n",
    "        \"source_test/accuracy\": [],\n",
    "        \"source_test/f1\": [],\n",
    "        \"source_test/f1_macro\": [],\n",
    "        \"target_test/loss\": [],\n",
    "        \"target_test/accuracy\": [],\n",
    "        \"target_test/f1\": [],\n",
    "        \"target_test/f1_macro\": [],\n",
    "    },\n",
    "    \"best_model\": {\n",
    "        \"source_test/loss\": [],\n",
    "        \"source_test/accuracy\": [],\n",
    "        \"source_test/f1\": [],\n",
    "        \"source_test/f1_macro\": [],\n",
    "        \"target_test/loss\": [],\n",
    "        \"target_test/accuracy\": [],\n",
    "        \"target_test/f1\": [],\n",
    "        \"target_test/f1_macro\": [],\n",
    "    },\n",
    "    \"epoch_saved\": {\n",
    "        \"source_test/loss\": [],\n",
    "        \"source_test/accuracy\": [],\n",
    "        \"source_test/f1\": [],\n",
    "        \"source_test/f1_macro\": [],\n",
    "        \"target_test/loss\": [],\n",
    "        \"target_test/accuracy\": [],\n",
    "        \"target_test/f1\": [],\n",
    "        \"target_test/f1_macro\": [],\n",
    "    }\n",
    "}\n",
    "\n",
    "best_val_loss = float('inf')\n",
    "best_model = None\n",
    "best_model_path = \"\""
   ]
  },
  {
   "cell_type": "code",
   "execution_count": 4,
   "id": "6d6c9a2e",
   "metadata": {
    "execution": {
     "iopub.execute_input": "2024-08-29T15:25:34.280075Z",
     "iopub.status.busy": "2024-08-29T15:25:34.279855Z"
    },
    "papermill": {
     "duration": null,
     "end_time": null,
     "exception": false,
     "start_time": "2024-08-29T15:25:34.270576",
     "status": "running"
    },
    "tags": []
   },
   "outputs": [
    {
     "name": "stderr",
     "output_type": "stream",
     "text": [
      "\u001b[34m\u001b[1mwandb\u001b[0m: wandb version 0.17.8 is available!  To upgrade, please run:\n",
      "\u001b[34m\u001b[1mwandb\u001b[0m:  $ pip install wandb --upgrade\n"
     ]
    },
    {
     "name": "stderr",
     "output_type": "stream",
     "text": [
      "\u001b[34m\u001b[1mwandb\u001b[0m: Tracking run with wandb version 0.17.0\n"
     ]
    },
    {
     "name": "stderr",
     "output_type": "stream",
     "text": [
      "\u001b[34m\u001b[1mwandb\u001b[0m: Run data is saved locally in \u001b[35m\u001b[1m/home/guest/Desktop/projects/third-experiments/domain_adaptation_project/mixed/mixed/wandb/run-20240829_182534-ogb9mckm\u001b[0m\n",
      "\u001b[34m\u001b[1mwandb\u001b[0m: Run \u001b[1m`wandb offline`\u001b[0m to turn off syncing.\n"
     ]
    },
    {
     "name": "stderr",
     "output_type": "stream",
     "text": [
      "\u001b[34m\u001b[1mwandb\u001b[0m: Syncing run \u001b[33mTEG_inv_run_with_seed_42\u001b[0m\n"
     ]
    },
    {
     "name": "stderr",
     "output_type": "stream",
     "text": [
      "\u001b[34m\u001b[1mwandb\u001b[0m: ⭐️ View project at \u001b[34m\u001b[4mhttps://wandb.ai/mrawhani/mixed_edited\u001b[0m\n"
     ]
    },
    {
     "name": "stderr",
     "output_type": "stream",
     "text": [
      "\u001b[34m\u001b[1mwandb\u001b[0m: 🚀 View run at \u001b[34m\u001b[4mhttps://wandb.ai/mrawhani/mixed_edited/runs/ogb9mckm\u001b[0m\n"
     ]
    },
    {
     "name": "stderr",
     "output_type": "stream",
     "text": [
      "Seed set to 42\n"
     ]
    },
    {
     "name": "stderr",
     "output_type": "stream",
     "text": [
      "/home/guest/.cache/pypoetry/virtualenvs/third-experments-xuKQSur9-py3.8/lib/python3.8/site-packages/huggingface_hub/file_download.py:1132: FutureWarning: `resume_download` is deprecated and will be removed in version 1.0.0. Downloads always resume when possible. If you want to force a new download, use `force_download=True`.\n",
      "  warnings.warn(\n"
     ]
    },
    {
     "name": "stdout",
     "output_type": "stream",
     "text": [
      "Batch size: 32\n"
     ]
    },
    {
     "name": "stdout",
     "output_type": "stream",
     "text": [
      "Source genre: telephone\n",
      "Target genre: government\n",
      "Number of target samples: 69615\n"
     ]
    },
    {
     "name": "stdout",
     "output_type": "stream",
     "text": [
      "Source genre: telephone\n",
      "Target genre: government\n",
      "Number of target samples: 69615\n",
      "Source dataset length: 75013\n",
      "Target dataset length: 23184\n"
     ]
    },
    {
     "name": "stderr",
     "output_type": "stream",
     "text": [
      "Some weights of BertAdapterModel were not initialized from the model checkpoint at bert-base-uncased and are newly initialized: ['heads.default.3.bias']\n",
      "You should probably TRAIN this model on a down-stream task to be able to use it for predictions and inference.\n"
     ]
    },
    {
     "name": "stderr",
     "output_type": "stream",
     "text": [
      "/home/guest/.cache/pypoetry/virtualenvs/third-experments-xuKQSur9-py3.8/lib/python3.8/site-packages/torch/utils/data/dataloader.py:558: UserWarning: This DataLoader will create 16 worker processes in total. Our suggested max number of worker in current system is 12, which is smaller than what this DataLoader is going to create. Please be aware that excessive worker creation might get DataLoader running slow or even freeze, lower the worker number to avoid potential slowness/freeze if necessary.\n",
      "  warnings.warn(_create_warning_msg(\n",
      "/home/guest/.cache/pypoetry/virtualenvs/third-experments-xuKQSur9-py3.8/lib/python3.8/site-packages/lightning_fabric/connector.py:563: `precision=16` is supported for historical reasons but its usage is discouraged. Please set your precision to 16-mixed instead!\n",
      "Using 16bit Automatic Mixed Precision (AMP)\n"
     ]
    },
    {
     "name": "stderr",
     "output_type": "stream",
     "text": [
      "GPU available: True (cuda), used: True\n"
     ]
    },
    {
     "name": "stderr",
     "output_type": "stream",
     "text": [
      "TPU available: False, using: 0 TPU cores\n"
     ]
    },
    {
     "name": "stderr",
     "output_type": "stream",
     "text": [
      "IPU available: False, using: 0 IPUs\n"
     ]
    },
    {
     "name": "stderr",
     "output_type": "stream",
     "text": [
      "HPU available: False, using: 0 HPUs\n"
     ]
    },
    {
     "name": "stderr",
     "output_type": "stream",
     "text": [
      "`Trainer(limit_train_batches=1.0)` was configured so 100% of the batches per epoch will be used..\n"
     ]
    },
    {
     "name": "stderr",
     "output_type": "stream",
     "text": [
      "`Trainer(limit_val_batches=1.0)` was configured so 100% of the batches will be used..\n"
     ]
    },
    {
     "name": "stderr",
     "output_type": "stream",
     "text": [
      "`Trainer(limit_test_batches=1.0)` was configured so 100% of the batches will be used..\n"
     ]
    },
    {
     "name": "stderr",
     "output_type": "stream",
     "text": [
      "/home/guest/.cache/pypoetry/virtualenvs/third-experments-xuKQSur9-py3.8/lib/python3.8/site-packages/pytorch_lightning/loggers/wandb.py:396: There is a wandb run already in progress and newly created instances of `WandbLogger` will reuse this run. If this is not desired, call `wandb.finish()` before instantiating `WandbLogger`.\n",
      "LOCAL_RANK: 0 - CUDA_VISIBLE_DEVICES: [0]\n"
     ]
    },
    {
     "name": "stdout",
     "output_type": "stream",
     "text": [
      "eee\n"
     ]
    },
    {
     "name": "stderr",
     "output_type": "stream",
     "text": [
      "/home/guest/.cache/pypoetry/virtualenvs/third-experments-xuKQSur9-py3.8/lib/python3.8/site-packages/pytorch_lightning/core/optimizer.py:257: Found unsupported keys in the lr scheduler dict: {'reduce_lr_on_plateau'}. HINT: remove them from the output of `configure_optimizers`.\n",
      "\n",
      "  | Name          | Type               | Params\n",
      "-----------------------------------------------------\n",
      "0 | model         | BertAdapterModel   | 118 M \n",
      "1 | criterion     | CrossEntropyLoss   | 0     \n",
      "2 | mlm_criterion | CrossEntropyLoss   | 0     \n",
      "3 | accuracy      | MulticlassAccuracy | 0     \n",
      "4 | f1            | MulticlassF1Score  | 0     \n",
      "5 | f1_macro      | MulticlassF1Score  | 0     \n",
      "6 | softmax       | Softmax            | 0     \n",
      "-----------------------------------------------------\n",
      "9.2 M     Trainable params\n",
      "109 M     Non-trainable params\n",
      "118 M     Total params\n",
      "474.833   Total estimated model params size (MB)\n"
     ]
    },
    {
     "data": {
      "application/vnd.jupyter.widget-view+json": {
       "model_id": "f68222f1f0d040128f82e14ff0eb33e7",
       "version_major": 2,
       "version_minor": 0
      },
      "text/plain": [
       "Sanity Checking: |                                                                                            …"
      ]
     },
     "metadata": {},
     "output_type": "display_data"
    },
    {
     "name": "stdout",
     "output_type": "stream",
     "text": [
      "val/accuracy: 0.34375\n",
      "val/f1: 0.4190171957015991\n",
      "val/taskclf_loss: 1.1047134399414062\n",
      "val/loss: 1.2000457048416138\n",
      "val/mlm_loss: 1.508497953414917\n"
     ]
    },
    {
     "data": {
      "application/vnd.jupyter.widget-view+json": {
       "model_id": "801ae586e3d143698e3a352918ecf949",
       "version_major": 2,
       "version_minor": 0
      },
      "text/plain": [
       "Training: |                                                                                                   …"
      ]
     },
     "metadata": {},
     "output_type": "display_data"
    },
    {
     "data": {
      "application/vnd.jupyter.widget-view+json": {
       "model_id": "4488707ab7184e7bbcb5a47784ae0c83",
       "version_major": 2,
       "version_minor": 0
      },
      "text/plain": [
       "Validation: |                                                                                                 …"
      ]
     },
     "metadata": {},
     "output_type": "display_data"
    },
    {
     "name": "stdout",
     "output_type": "stream",
     "text": [
      "val/accuracy: 0.7610392570495605\n",
      "val/f1: 0.7607637047767639\n",
      "val/taskclf_loss: 0.5826351642608643\n",
      "val/loss: 0.8319616317749023\n",
      "val/mlm_loss: 1.6386702060699463\n"
     ]
    },
    {
     "data": {
      "application/vnd.jupyter.widget-view+json": {
       "model_id": "d0c6f07e19d240939bf87ce66d36c89c",
       "version_major": 2,
       "version_minor": 0
      },
      "text/plain": [
       "Validation: |                                                                                                 …"
      ]
     },
     "metadata": {},
     "output_type": "display_data"
    },
    {
     "name": "stdout",
     "output_type": "stream",
     "text": [
      "val/accuracy: 0.7791507244110107\n",
      "val/f1: 0.7797035574913025\n",
      "val/taskclf_loss: 0.555230975151062\n",
      "val/loss: 0.8083558678627014\n",
      "val/mlm_loss: 1.6273540258407593\n"
     ]
    },
    {
     "data": {
      "application/vnd.jupyter.widget-view+json": {
       "model_id": "7f985670c9cc497f9a849adfb177d624",
       "version_major": 2,
       "version_minor": 0
      },
      "text/plain": [
       "Validation: |                                                                                                 …"
      ]
     },
     "metadata": {},
     "output_type": "display_data"
    },
    {
     "name": "stdout",
     "output_type": "stream",
     "text": [
      "val/accuracy: 0.7813937067985535\n",
      "val/f1: 0.7812208533287048\n",
      "val/taskclf_loss: 0.5705015063285828\n",
      "val/loss: 0.8205548524856567\n",
      "val/mlm_loss: 1.6296149492263794\n"
     ]
    },
    {
     "data": {
      "application/vnd.jupyter.widget-view+json": {
       "model_id": "f6823fc4c6344891a33b2f4e759c42ae",
       "version_major": 2,
       "version_minor": 0
      },
      "text/plain": [
       "Validation: |                                                                                                 …"
      ]
     },
     "metadata": {},
     "output_type": "display_data"
    },
    {
     "name": "stdout",
     "output_type": "stream",
     "text": [
      "val/accuracy: 0.795673668384552\n",
      "val/f1: 0.7956865429878235\n",
      "val/taskclf_loss: 0.6081303358078003\n",
      "val/loss: 0.8446173667907715\n",
      "val/mlm_loss: 1.6097832918167114\n"
     ]
    },
    {
     "data": {
      "application/vnd.jupyter.widget-view+json": {
       "model_id": "1d6f0e0f40b64929aac0de5451e5264d",
       "version_major": 2,
       "version_minor": 0
      },
      "text/plain": [
       "Validation: |                                                                                                 …"
      ]
     },
     "metadata": {},
     "output_type": "display_data"
    },
    {
     "name": "stdout",
     "output_type": "stream",
     "text": [
      "val/accuracy: 0.7932790517807007\n",
      "val/f1: 0.7934054732322693\n",
      "val/taskclf_loss: 0.5940049886703491\n",
      "val/loss: 0.8307983875274658\n",
      "val/mlm_loss: 1.5969551801681519\n"
     ]
    },
    {
     "data": {
      "application/vnd.jupyter.widget-view+json": {
       "model_id": "e4739cc070d5485da585ddc98c3461cf",
       "version_major": 2,
       "version_minor": 0
      },
      "text/plain": [
       "Validation: |                                                                                                 …"
      ]
     },
     "metadata": {},
     "output_type": "display_data"
    },
    {
     "name": "stdout",
     "output_type": "stream",
     "text": [
      "val/accuracy: 0.7935185432434082\n",
      "val/f1: 0.7937185764312744\n",
      "val/taskclf_loss: 0.5909764170646667\n",
      "val/loss: 0.8262047171592712\n",
      "val/mlm_loss: 1.587297797203064\n"
     ]
    },
    {
     "data": {
      "application/vnd.jupyter.widget-view+json": {
       "model_id": "08c51cbf368b4fafa8adb1bff2ecc153",
       "version_major": 2,
       "version_minor": 0
      },
      "text/plain": [
       "Validation: |                                                                                                 …"
      ]
     },
     "metadata": {},
     "output_type": "display_data"
    },
    {
     "name": "stdout",
     "output_type": "stream",
     "text": [
      "val/accuracy: 0.793757975101471\n",
      "val/f1: 0.7939679622650146\n",
      "val/taskclf_loss: 0.5907577276229858\n",
      "val/loss: 0.828673243522644\n",
      "val/mlm_loss: 1.5984609127044678\n"
     ]
    },
    {
     "data": {
      "application/vnd.jupyter.widget-view+json": {
       "model_id": "4563818f6f7f4ba884aa41fd27f4efab",
       "version_major": 2,
       "version_minor": 0
      },
      "text/plain": [
       "Validation: |                                                                                                 …"
      ]
     },
     "metadata": {},
     "output_type": "display_data"
    },
    {
     "name": "stdout",
     "output_type": "stream",
     "text": [
      "val/accuracy: 0.7935185432434082\n",
      "val/f1: 0.793723464012146\n",
      "val/taskclf_loss: 0.5904884338378906\n",
      "val/loss: 0.828690230846405\n",
      "val/mlm_loss: 1.5994038581848145\n"
     ]
    },
    {
     "data": {
      "application/vnd.jupyter.widget-view+json": {
       "model_id": "feb71e6cc6754a57a22399acc9281c10",
       "version_major": 2,
       "version_minor": 0
      },
      "text/plain": [
       "Validation: |                                                                                                 …"
      ]
     },
     "metadata": {},
     "output_type": "display_data"
    },
    {
     "name": "stdout",
     "output_type": "stream",
     "text": [
      "val/accuracy: 0.7935185432434082\n",
      "val/f1: 0.793723464012146\n",
      "val/taskclf_loss: 0.5902460813522339\n",
      "val/loss: 0.8281861543655396\n",
      "val/mlm_loss: 1.5980530977249146\n"
     ]
    },
    {
     "data": {
      "application/vnd.jupyter.widget-view+json": {
       "model_id": "a63018c82c894921bd5be5374bc356b4",
       "version_major": 2,
       "version_minor": 0
      },
      "text/plain": [
       "Validation: |                                                                                                 …"
      ]
     },
     "metadata": {},
     "output_type": "display_data"
    },
    {
     "name": "stderr",
     "output_type": "stream",
     "text": [
      "`Trainer.fit` stopped: `max_epochs=10` reached.\n"
     ]
    },
    {
     "name": "stdout",
     "output_type": "stream",
     "text": [
      "val/accuracy: 0.7935185432434082\n",
      "val/f1: 0.793723464012146\n",
      "val/taskclf_loss: 0.5900600552558899\n",
      "val/loss: 0.829936146736145\n",
      "val/mlm_loss: 1.6060675382614136\n"
     ]
    },
    {
     "name": "stdout",
     "output_type": "stream",
     "text": [
      "Best checkpoint path: ./lightning_logs/ogb9mckm/checkpoints/task-TEG-epoch=01-val_loss=0.81.ckpt\n",
      "Saved epoch checkpoint path: ./lightning_logs/ogb9mckm/checkpoints/TEG-epoch=05.ckpt\n"
     ]
    },
    {
     "name": "stdout",
     "output_type": "stream",
     "text": [
      "Source genre: telephone\n",
      "Target genre: government\n",
      "Number of target samples: 69615\n"
     ]
    },
    {
     "name": "stderr",
     "output_type": "stream",
     "text": [
      "LOCAL_RANK: 0 - CUDA_VISIBLE_DEVICES: [0]\n"
     ]
    },
    {
     "data": {
      "application/vnd.jupyter.widget-view+json": {
       "model_id": "db1cea63fa7a4494930d4cd954937a04",
       "version_major": 2,
       "version_minor": 0
      },
      "text/plain": [
       "Testing: |                                                                                                    …"
      ]
     },
     "metadata": {},
     "output_type": "display_data"
    },
    {
     "data": {
      "text/html": [
       "<pre style=\"white-space:pre;overflow-x:auto;line-height:normal;font-family:Menlo,'DejaVu Sans Mono',consolas,'Courier New',monospace\">┏━━━━━━━━━━━━━━━━━━━━━━━━━━━┳━━━━━━━━━━━━━━━━━━━━━━━━━━━┓\n",
       "┃<span style=\"font-weight: bold\">        Test metric        </span>┃<span style=\"font-weight: bold\">       DataLoader 0        </span>┃\n",
       "┡━━━━━━━━━━━━━━━━━━━━━━━━━━━╇━━━━━━━━━━━━━━━━━━━━━━━━━━━┩\n",
       "│<span style=\"color: #008080; text-decoration-color: #008080\">   source_test/accuracy    </span>│<span style=\"color: #800080; text-decoration-color: #800080\">     0.801771342754364     </span>│\n",
       "│<span style=\"color: #008080; text-decoration-color: #008080\">      source_test/f1       </span>│<span style=\"color: #800080; text-decoration-color: #800080\">    0.8014893531799316     </span>│\n",
       "│<span style=\"color: #008080; text-decoration-color: #008080\">   source_test/f1_macro    </span>│<span style=\"color: #800080; text-decoration-color: #800080\">     0.790848970413208     </span>│\n",
       "│<span style=\"color: #008080; text-decoration-color: #008080\">     source_test/loss      </span>│<span style=\"color: #800080; text-decoration-color: #800080\">    0.5849741101264954     </span>│\n",
       "│<span style=\"color: #008080; text-decoration-color: #008080\">   target_test/accuracy    </span>│<span style=\"color: #800080; text-decoration-color: #800080\">     0.80738765001297      </span>│\n",
       "│<span style=\"color: #008080; text-decoration-color: #008080\">      target_test/f1       </span>│<span style=\"color: #800080; text-decoration-color: #800080\">     0.80760657787323      </span>│\n",
       "│<span style=\"color: #008080; text-decoration-color: #008080\">   target_test/f1_macro    </span>│<span style=\"color: #800080; text-decoration-color: #800080\">    0.8004147410392761     </span>│\n",
       "│<span style=\"color: #008080; text-decoration-color: #008080\">     target_test/loss      </span>│<span style=\"color: #800080; text-decoration-color: #800080\">    0.5615906715393066     </span>│\n",
       "└───────────────────────────┴───────────────────────────┘\n",
       "</pre>\n"
      ],
      "text/plain": [
       "┏━━━━━━━━━━━━━━━━━━━━━━━━━━━┳━━━━━━━━━━━━━━━━━━━━━━━━━━━┓\n",
       "┃\u001b[1m \u001b[0m\u001b[1m       Test metric       \u001b[0m\u001b[1m \u001b[0m┃\u001b[1m \u001b[0m\u001b[1m      DataLoader 0       \u001b[0m\u001b[1m \u001b[0m┃\n",
       "┡━━━━━━━━━━━━━━━━━━━━━━━━━━━╇━━━━━━━━━━━━━━━━━━━━━━━━━━━┩\n",
       "│\u001b[36m \u001b[0m\u001b[36m  source_test/accuracy   \u001b[0m\u001b[36m \u001b[0m│\u001b[35m \u001b[0m\u001b[35m    0.801771342754364    \u001b[0m\u001b[35m \u001b[0m│\n",
       "│\u001b[36m \u001b[0m\u001b[36m     source_test/f1      \u001b[0m\u001b[36m \u001b[0m│\u001b[35m \u001b[0m\u001b[35m   0.8014893531799316    \u001b[0m\u001b[35m \u001b[0m│\n",
       "│\u001b[36m \u001b[0m\u001b[36m  source_test/f1_macro   \u001b[0m\u001b[36m \u001b[0m│\u001b[35m \u001b[0m\u001b[35m    0.790848970413208    \u001b[0m\u001b[35m \u001b[0m│\n",
       "│\u001b[36m \u001b[0m\u001b[36m    source_test/loss     \u001b[0m\u001b[36m \u001b[0m│\u001b[35m \u001b[0m\u001b[35m   0.5849741101264954    \u001b[0m\u001b[35m \u001b[0m│\n",
       "│\u001b[36m \u001b[0m\u001b[36m  target_test/accuracy   \u001b[0m\u001b[36m \u001b[0m│\u001b[35m \u001b[0m\u001b[35m    0.80738765001297     \u001b[0m\u001b[35m \u001b[0m│\n",
       "│\u001b[36m \u001b[0m\u001b[36m     target_test/f1      \u001b[0m\u001b[36m \u001b[0m│\u001b[35m \u001b[0m\u001b[35m    0.80760657787323     \u001b[0m\u001b[35m \u001b[0m│\n",
       "│\u001b[36m \u001b[0m\u001b[36m  target_test/f1_macro   \u001b[0m\u001b[36m \u001b[0m│\u001b[35m \u001b[0m\u001b[35m   0.8004147410392761    \u001b[0m\u001b[35m \u001b[0m│\n",
       "│\u001b[36m \u001b[0m\u001b[36m    target_test/loss     \u001b[0m\u001b[36m \u001b[0m│\u001b[35m \u001b[0m\u001b[35m   0.5615906715393066    \u001b[0m\u001b[35m \u001b[0m│\n",
       "└───────────────────────────┴───────────────────────────┘\n"
      ]
     },
     "metadata": {},
     "output_type": "display_data"
    },
    {
     "name": "stdout",
     "output_type": "stream",
     "text": [
      "Test Results Last Epoch: [{'source_test/loss': 0.5849741101264954, 'source_test/accuracy': 0.801771342754364, 'source_test/f1': 0.8014893531799316, 'source_test/f1_macro': 0.790848970413208, 'target_test/loss': 0.5615906715393066, 'target_test/accuracy': 0.80738765001297, 'target_test/f1': 0.80760657787323, 'target_test/f1_macro': 0.8004147410392761}]\n",
      "Best checkpoint path: ./lightning_logs/ogb9mckm/checkpoints/task-TEG-epoch=01-val_loss=0.81.ckpt\n",
      "Saved epoch checkpoint path: ./lightning_logs/ogb9mckm/checkpoints/TEG-epoch=05.ckpt\n"
     ]
    },
    {
     "name": "stderr",
     "output_type": "stream",
     "text": [
      "Some weights of BertAdapterModel were not initialized from the model checkpoint at bert-base-uncased and are newly initialized: ['heads.default.3.bias']\n",
      "You should probably TRAIN this model on a down-stream task to be able to use it for predictions and inference.\n"
     ]
    },
    {
     "name": "stderr",
     "output_type": "stream",
     "text": [
      "LOCAL_RANK: 0 - CUDA_VISIBLE_DEVICES: [0]\n"
     ]
    },
    {
     "data": {
      "application/vnd.jupyter.widget-view+json": {
       "model_id": "c23c794943944bb5bbe3a4892ea9a760",
       "version_major": 2,
       "version_minor": 0
      },
      "text/plain": [
       "Testing: |                                                                                                    …"
      ]
     },
     "metadata": {},
     "output_type": "display_data"
    },
    {
     "data": {
      "text/html": [
       "<pre style=\"white-space:pre;overflow-x:auto;line-height:normal;font-family:Menlo,'DejaVu Sans Mono',consolas,'Courier New',monospace\">┏━━━━━━━━━━━━━━━━━━━━━━━━━━━┳━━━━━━━━━━━━━━━━━━━━━━━━━━━┓\n",
       "┃<span style=\"font-weight: bold\">        Test metric        </span>┃<span style=\"font-weight: bold\">       DataLoader 0        </span>┃\n",
       "┡━━━━━━━━━━━━━━━━━━━━━━━━━━━╇━━━━━━━━━━━━━━━━━━━━━━━━━━━┩\n",
       "│<span style=\"color: #008080; text-decoration-color: #008080\">   source_test/accuracy    </span>│<span style=\"color: #800080; text-decoration-color: #800080\">    0.7841302156448364     </span>│\n",
       "│<span style=\"color: #008080; text-decoration-color: #008080\">      source_test/f1       </span>│<span style=\"color: #800080; text-decoration-color: #800080\">     0.784834086894989     </span>│\n",
       "│<span style=\"color: #008080; text-decoration-color: #008080\">   source_test/f1_macro    </span>│<span style=\"color: #800080; text-decoration-color: #800080\">     0.772089958190918     </span>│\n",
       "│<span style=\"color: #008080; text-decoration-color: #008080\">     source_test/loss      </span>│<span style=\"color: #800080; text-decoration-color: #800080\">    0.5419445633888245     </span>│\n",
       "│<span style=\"color: #008080; text-decoration-color: #008080\">   target_test/accuracy    </span>│<span style=\"color: #800080; text-decoration-color: #800080\">    0.7988191246986389     </span>│\n",
       "│<span style=\"color: #008080; text-decoration-color: #008080\">      target_test/f1       </span>│<span style=\"color: #800080; text-decoration-color: #800080\">    0.7999159097671509     </span>│\n",
       "│<span style=\"color: #008080; text-decoration-color: #008080\">   target_test/f1_macro    </span>│<span style=\"color: #800080; text-decoration-color: #800080\">    0.7902671694755554     </span>│\n",
       "│<span style=\"color: #008080; text-decoration-color: #008080\">     target_test/loss      </span>│<span style=\"color: #800080; text-decoration-color: #800080\">    0.5198136568069458     </span>│\n",
       "└───────────────────────────┴───────────────────────────┘\n",
       "</pre>\n"
      ],
      "text/plain": [
       "┏━━━━━━━━━━━━━━━━━━━━━━━━━━━┳━━━━━━━━━━━━━━━━━━━━━━━━━━━┓\n",
       "┃\u001b[1m \u001b[0m\u001b[1m       Test metric       \u001b[0m\u001b[1m \u001b[0m┃\u001b[1m \u001b[0m\u001b[1m      DataLoader 0       \u001b[0m\u001b[1m \u001b[0m┃\n",
       "┡━━━━━━━━━━━━━━━━━━━━━━━━━━━╇━━━━━━━━━━━━━━━━━━━━━━━━━━━┩\n",
       "│\u001b[36m \u001b[0m\u001b[36m  source_test/accuracy   \u001b[0m\u001b[36m \u001b[0m│\u001b[35m \u001b[0m\u001b[35m   0.7841302156448364    \u001b[0m\u001b[35m \u001b[0m│\n",
       "│\u001b[36m \u001b[0m\u001b[36m     source_test/f1      \u001b[0m\u001b[36m \u001b[0m│\u001b[35m \u001b[0m\u001b[35m    0.784834086894989    \u001b[0m\u001b[35m \u001b[0m│\n",
       "│\u001b[36m \u001b[0m\u001b[36m  source_test/f1_macro   \u001b[0m\u001b[36m \u001b[0m│\u001b[35m \u001b[0m\u001b[35m    0.772089958190918    \u001b[0m\u001b[35m \u001b[0m│\n",
       "│\u001b[36m \u001b[0m\u001b[36m    source_test/loss     \u001b[0m\u001b[36m \u001b[0m│\u001b[35m \u001b[0m\u001b[35m   0.5419445633888245    \u001b[0m\u001b[35m \u001b[0m│\n",
       "│\u001b[36m \u001b[0m\u001b[36m  target_test/accuracy   \u001b[0m\u001b[36m \u001b[0m│\u001b[35m \u001b[0m\u001b[35m   0.7988191246986389    \u001b[0m\u001b[35m \u001b[0m│\n",
       "│\u001b[36m \u001b[0m\u001b[36m     target_test/f1      \u001b[0m\u001b[36m \u001b[0m│\u001b[35m \u001b[0m\u001b[35m   0.7999159097671509    \u001b[0m\u001b[35m \u001b[0m│\n",
       "│\u001b[36m \u001b[0m\u001b[36m  target_test/f1_macro   \u001b[0m\u001b[36m \u001b[0m│\u001b[35m \u001b[0m\u001b[35m   0.7902671694755554    \u001b[0m\u001b[35m \u001b[0m│\n",
       "│\u001b[36m \u001b[0m\u001b[36m    target_test/loss     \u001b[0m\u001b[36m \u001b[0m│\u001b[35m \u001b[0m\u001b[35m   0.5198136568069458    \u001b[0m\u001b[35m \u001b[0m│\n",
       "└───────────────────────────┴───────────────────────────┘\n"
      ]
     },
     "metadata": {},
     "output_type": "display_data"
    },
    {
     "name": "stdout",
     "output_type": "stream",
     "text": [
      "Test Results on Best Model: [{'source_test/loss': 0.5419445633888245, 'source_test/accuracy': 0.7841302156448364, 'source_test/f1': 0.784834086894989, 'source_test/f1_macro': 0.772089958190918, 'target_test/loss': 0.5198136568069458, 'target_test/accuracy': 0.7988191246986389, 'target_test/f1': 0.7999159097671509, 'target_test/f1_macro': 0.7902671694755554}]\n"
     ]
    },
    {
     "name": "stderr",
     "output_type": "stream",
     "text": [
      "Some weights of BertAdapterModel were not initialized from the model checkpoint at bert-base-uncased and are newly initialized: ['heads.default.3.bias']\n",
      "You should probably TRAIN this model on a down-stream task to be able to use it for predictions and inference.\n"
     ]
    },
    {
     "name": "stderr",
     "output_type": "stream",
     "text": [
      "LOCAL_RANK: 0 - CUDA_VISIBLE_DEVICES: [0]\n"
     ]
    },
    {
     "data": {
      "application/vnd.jupyter.widget-view+json": {
       "model_id": "7bc039526ee44ea99be8ced06ddb26bc",
       "version_major": 2,
       "version_minor": 0
      },
      "text/plain": [
       "Testing: |                                                                                                    …"
      ]
     },
     "metadata": {},
     "output_type": "display_data"
    },
    {
     "data": {
      "text/html": [
       "<pre style=\"white-space:pre;overflow-x:auto;line-height:normal;font-family:Menlo,'DejaVu Sans Mono',consolas,'Courier New',monospace\">┏━━━━━━━━━━━━━━━━━━━━━━━━━━━┳━━━━━━━━━━━━━━━━━━━━━━━━━━━┓\n",
       "┃<span style=\"font-weight: bold\">        Test metric        </span>┃<span style=\"font-weight: bold\">       DataLoader 0        </span>┃\n",
       "┡━━━━━━━━━━━━━━━━━━━━━━━━━━━╇━━━━━━━━━━━━━━━━━━━━━━━━━━━┩\n",
       "│<span style=\"color: #008080; text-decoration-color: #008080\">   source_test/accuracy    </span>│<span style=\"color: #800080; text-decoration-color: #800080\">    0.8027793765068054     </span>│\n",
       "│<span style=\"color: #008080; text-decoration-color: #008080\">      source_test/f1       </span>│<span style=\"color: #800080; text-decoration-color: #800080\">    0.8024909496307373     </span>│\n",
       "│<span style=\"color: #008080; text-decoration-color: #008080\">   source_test/f1_macro    </span>│<span style=\"color: #800080; text-decoration-color: #800080\">    0.7917171120643616     </span>│\n",
       "│<span style=\"color: #008080; text-decoration-color: #008080\">     source_test/loss      </span>│<span style=\"color: #800080; text-decoration-color: #800080\">    0.5857207775115967     </span>│\n",
       "│<span style=\"color: #008080; text-decoration-color: #008080\">   target_test/accuracy    </span>│<span style=\"color: #800080; text-decoration-color: #800080\">     0.80738765001297      </span>│\n",
       "│<span style=\"color: #008080; text-decoration-color: #008080\">      target_test/f1       </span>│<span style=\"color: #800080; text-decoration-color: #800080\">     0.80760657787323      </span>│\n",
       "│<span style=\"color: #008080; text-decoration-color: #008080\">   target_test/f1_macro    </span>│<span style=\"color: #800080; text-decoration-color: #800080\">    0.8004147410392761     </span>│\n",
       "│<span style=\"color: #008080; text-decoration-color: #008080\">     target_test/loss      </span>│<span style=\"color: #800080; text-decoration-color: #800080\">    0.5624329447746277     </span>│\n",
       "└───────────────────────────┴───────────────────────────┘\n",
       "</pre>\n"
      ],
      "text/plain": [
       "┏━━━━━━━━━━━━━━━━━━━━━━━━━━━┳━━━━━━━━━━━━━━━━━━━━━━━━━━━┓\n",
       "┃\u001b[1m \u001b[0m\u001b[1m       Test metric       \u001b[0m\u001b[1m \u001b[0m┃\u001b[1m \u001b[0m\u001b[1m      DataLoader 0       \u001b[0m\u001b[1m \u001b[0m┃\n",
       "┡━━━━━━━━━━━━━━━━━━━━━━━━━━━╇━━━━━━━━━━━━━━━━━━━━━━━━━━━┩\n",
       "│\u001b[36m \u001b[0m\u001b[36m  source_test/accuracy   \u001b[0m\u001b[36m \u001b[0m│\u001b[35m \u001b[0m\u001b[35m   0.8027793765068054    \u001b[0m\u001b[35m \u001b[0m│\n",
       "│\u001b[36m \u001b[0m\u001b[36m     source_test/f1      \u001b[0m\u001b[36m \u001b[0m│\u001b[35m \u001b[0m\u001b[35m   0.8024909496307373    \u001b[0m\u001b[35m \u001b[0m│\n",
       "│\u001b[36m \u001b[0m\u001b[36m  source_test/f1_macro   \u001b[0m\u001b[36m \u001b[0m│\u001b[35m \u001b[0m\u001b[35m   0.7917171120643616    \u001b[0m\u001b[35m \u001b[0m│\n",
       "│\u001b[36m \u001b[0m\u001b[36m    source_test/loss     \u001b[0m\u001b[36m \u001b[0m│\u001b[35m \u001b[0m\u001b[35m   0.5857207775115967    \u001b[0m\u001b[35m \u001b[0m│\n",
       "│\u001b[36m \u001b[0m\u001b[36m  target_test/accuracy   \u001b[0m\u001b[36m \u001b[0m│\u001b[35m \u001b[0m\u001b[35m    0.80738765001297     \u001b[0m\u001b[35m \u001b[0m│\n",
       "│\u001b[36m \u001b[0m\u001b[36m     target_test/f1      \u001b[0m\u001b[36m \u001b[0m│\u001b[35m \u001b[0m\u001b[35m    0.80760657787323     \u001b[0m\u001b[35m \u001b[0m│\n",
       "│\u001b[36m \u001b[0m\u001b[36m  target_test/f1_macro   \u001b[0m\u001b[36m \u001b[0m│\u001b[35m \u001b[0m\u001b[35m   0.8004147410392761    \u001b[0m\u001b[35m \u001b[0m│\n",
       "│\u001b[36m \u001b[0m\u001b[36m    target_test/loss     \u001b[0m\u001b[36m \u001b[0m│\u001b[35m \u001b[0m\u001b[35m   0.5624329447746277    \u001b[0m\u001b[35m \u001b[0m│\n",
       "└───────────────────────────┴───────────────────────────┘\n"
      ]
     },
     "metadata": {},
     "output_type": "display_data"
    },
    {
     "name": "stdout",
     "output_type": "stream",
     "text": [
      "Test Results on saved epoch: [{'source_test/loss': 0.5857207775115967, 'source_test/accuracy': 0.8027793765068054, 'source_test/f1': 0.8024909496307373, 'source_test/f1_macro': 0.7917171120643616, 'target_test/loss': 0.5624329447746277, 'target_test/accuracy': 0.80738765001297, 'target_test/f1': 0.80760657787323, 'target_test/f1_macro': 0.8004147410392761}]\n"
     ]
    },
    {
     "name": "stderr",
     "output_type": "stream",
     "text": [
      "\u001b[34m\u001b[1mwandb\u001b[0m: - 0.003 MB of 0.003 MB uploaded\r"
     ]
    },
    {
     "name": "stderr",
     "output_type": "stream",
     "text": [
      "\u001b[34m\u001b[1mwandb\u001b[0m: \\ 0.003 MB of 0.016 MB uploaded\r"
     ]
    },
    {
     "name": "stderr",
     "output_type": "stream",
     "text": [
      "\u001b[34m\u001b[1mwandb\u001b[0m: | 0.003 MB of 0.016 MB uploaded\r"
     ]
    },
    {
     "name": "stderr",
     "output_type": "stream",
     "text": [
      "\u001b[34m\u001b[1mwandb\u001b[0m: / 0.016 MB of 0.016 MB uploaded\r"
     ]
    },
    {
     "name": "stderr",
     "output_type": "stream",
     "text": [
      "\u001b[34m\u001b[1mwandb\u001b[0m:                                                                                \n"
     ]
    },
    {
     "name": "stderr",
     "output_type": "stream",
     "text": [
      "\u001b[34m\u001b[1mwandb\u001b[0m: \n",
      "\u001b[34m\u001b[1mwandb\u001b[0m: Run history:\n",
      "\u001b[34m\u001b[1mwandb\u001b[0m:                epoch ▁▁▁▁▂▂▂▂▂▂▂▂▃▃▃▃▄▄▄▄▅▅▅▅▅▅▅▅▆▆▆▆▇▇▇▇▇▇▇█\n",
      "\u001b[34m\u001b[1mwandb\u001b[0m: source_test/accuracy █▁█\n",
      "\u001b[34m\u001b[1mwandb\u001b[0m:       source_test/f1 █▁█\n",
      "\u001b[34m\u001b[1mwandb\u001b[0m: source_test/f1_macro █▁█\n",
      "\u001b[34m\u001b[1mwandb\u001b[0m:     source_test/loss █▁█\n",
      "\u001b[34m\u001b[1mwandb\u001b[0m: target_test/accuracy █▁█\n",
      "\u001b[34m\u001b[1mwandb\u001b[0m:       target_test/f1 █▁█\n",
      "\u001b[34m\u001b[1mwandb\u001b[0m: target_test/f1_macro █▁█\n",
      "\u001b[34m\u001b[1mwandb\u001b[0m:     target_test/loss █▁█\n",
      "\u001b[34m\u001b[1mwandb\u001b[0m:       train/accuracy ▁▂▃▅▂▂▄▂▂▄▄▆▅▆▆▇▆▅▅▆▄▃▆▆▅▅▅▆▆▆▆▇▅█▇▇▅▇▇▇\n",
      "\u001b[34m\u001b[1mwandb\u001b[0m:             train/f1 ▁▂▃▄▂▂▄▁▂▄▄▆▄▆▅▇▆▅▅▆▃▃▅▆▅▄▅▆▅▅▆▇▄█▇▇▄▇▇▇\n",
      "\u001b[34m\u001b[1mwandb\u001b[0m:           train/loss █▇▇▅█▆▅▅▅▆▇▃▅▃▃▂▄▄▄▃▄▄▂▃▃▃▄▂▃▅▃▂▅▂▁▂▅▂▁▂\n",
      "\u001b[34m\u001b[1mwandb\u001b[0m:       train/mlm_loss ▆▃█▅▂▆▂▂▂▆▅▄▄▄▁▂▁▂▂▅▁▃▃▅▅▂▂▂▁█▄▃▇▅▂▃▆▄▃▄\n",
      "\u001b[34m\u001b[1mwandb\u001b[0m:   train/taskclf_loss ▇▇▆▅█▆▅▅▆▆▇▃▅▃▃▂▄▄▄▂▅▄▂▂▃▄▅▂▃▄▃▂▄▁▂▂▅▂▁▂\n",
      "\u001b[34m\u001b[1mwandb\u001b[0m:  trainer/global_step ▁▁▁▂▂▂▂▂▂▃▃▃▃▃▃▄▄▄▄▄▅▅▅▅▅▅▆▆▆▆▆▇▇▇▇▇▇███\n",
      "\u001b[34m\u001b[1mwandb\u001b[0m:         val/accuracy ▁▅▅███████\n",
      "\u001b[34m\u001b[1mwandb\u001b[0m:     val/avg_accuracy ▁▅▅███████\n",
      "\u001b[34m\u001b[1mwandb\u001b[0m:           val/avg_f1 ▁▅▅███████\n",
      "\u001b[34m\u001b[1mwandb\u001b[0m:         val/avg_loss ▆▁▃█▅▄▅▅▅▅\n",
      "\u001b[34m\u001b[1mwandb\u001b[0m:     val/avg_mlm_loss █▆▇▄▂▁▃▃▂▄\n",
      "\u001b[34m\u001b[1mwandb\u001b[0m: val/avg_taskclf_loss ▅▁▃█▆▆▆▆▆▆\n",
      "\u001b[34m\u001b[1mwandb\u001b[0m:               val/f1 ▁▅▅███████\n",
      "\u001b[34m\u001b[1mwandb\u001b[0m:             val/loss ▅▁▃█▅▄▅▅▅▅\n",
      "\u001b[34m\u001b[1mwandb\u001b[0m:         val/mlm_loss █▇▇▄▂▁▂▃▃▃\n",
      "\u001b[34m\u001b[1mwandb\u001b[0m:     val/taskclf_loss ▅▁▃█▆▆▆▆▆▆\n",
      "\u001b[34m\u001b[1mwandb\u001b[0m:             val_loss ▆▁▃█▅▄▅▅▅▅\n",
      "\u001b[34m\u001b[1mwandb\u001b[0m: \n",
      "\u001b[34m\u001b[1mwandb\u001b[0m: Run summary:\n",
      "\u001b[34m\u001b[1mwandb\u001b[0m:                epoch 10\n",
      "\u001b[34m\u001b[1mwandb\u001b[0m: source_test/accuracy 0.80278\n",
      "\u001b[34m\u001b[1mwandb\u001b[0m:       source_test/f1 0.80249\n",
      "\u001b[34m\u001b[1mwandb\u001b[0m: source_test/f1_macro 0.79172\n",
      "\u001b[34m\u001b[1mwandb\u001b[0m:     source_test/loss 0.58572\n",
      "\u001b[34m\u001b[1mwandb\u001b[0m: target_test/accuracy 0.80739\n",
      "\u001b[34m\u001b[1mwandb\u001b[0m:       target_test/f1 0.80761\n",
      "\u001b[34m\u001b[1mwandb\u001b[0m: target_test/f1_macro 0.80041\n",
      "\u001b[34m\u001b[1mwandb\u001b[0m:     target_test/loss 0.56243\n",
      "\u001b[34m\u001b[1mwandb\u001b[0m:       train/accuracy 1.0\n",
      "\u001b[34m\u001b[1mwandb\u001b[0m:             train/f1 1.0\n",
      "\u001b[34m\u001b[1mwandb\u001b[0m:           train/loss 0.38235\n",
      "\u001b[34m\u001b[1mwandb\u001b[0m:       train/mlm_loss 1.55026\n",
      "\u001b[34m\u001b[1mwandb\u001b[0m:   train/taskclf_loss 0.02138\n",
      "\u001b[34m\u001b[1mwandb\u001b[0m:  trainer/global_step 23450\n",
      "\u001b[34m\u001b[1mwandb\u001b[0m:         val/accuracy 0.79364\n",
      "\u001b[34m\u001b[1mwandb\u001b[0m:     val/avg_accuracy 0.79352\n",
      "\u001b[34m\u001b[1mwandb\u001b[0m:           val/avg_f1 0.79372\n",
      "\u001b[34m\u001b[1mwandb\u001b[0m:         val/avg_loss 0.82994\n",
      "\u001b[34m\u001b[1mwandb\u001b[0m:     val/avg_mlm_loss 1.60607\n",
      "\u001b[34m\u001b[1mwandb\u001b[0m: val/avg_taskclf_loss 0.59006\n",
      "\u001b[34m\u001b[1mwandb\u001b[0m:               val/f1 0.79385\n",
      "\u001b[34m\u001b[1mwandb\u001b[0m:             val/loss 0.82987\n",
      "\u001b[34m\u001b[1mwandb\u001b[0m:         val/mlm_loss 1.60513\n",
      "\u001b[34m\u001b[1mwandb\u001b[0m:     val/taskclf_loss 0.59026\n",
      "\u001b[34m\u001b[1mwandb\u001b[0m:             val_loss 0.82994\n",
      "\u001b[34m\u001b[1mwandb\u001b[0m: \n"
     ]
    },
    {
     "name": "stderr",
     "output_type": "stream",
     "text": [
      "\u001b[34m\u001b[1mwandb\u001b[0m: 🚀 View run \u001b[33mTEG_inv_run_with_seed_42\u001b[0m at: \u001b[34m\u001b[4mhttps://wandb.ai/mrawhani/mixed_edited/runs/ogb9mckm\u001b[0m\n",
      "\u001b[34m\u001b[1mwandb\u001b[0m: ⭐️ View project at: \u001b[34m\u001b[4mhttps://wandb.ai/mrawhani/mixed_edited\u001b[0m\n",
      "\u001b[34m\u001b[1mwandb\u001b[0m: Synced 5 W&B file(s), 0 media file(s), 0 artifact file(s) and 0 other file(s)\n"
     ]
    },
    {
     "name": "stderr",
     "output_type": "stream",
     "text": [
      "\u001b[34m\u001b[1mwandb\u001b[0m: Find logs at: \u001b[35m\u001b[1m./wandb/run-20240829_182534-ogb9mckm/logs\u001b[0m\n"
     ]
    },
    {
     "name": "stderr",
     "output_type": "stream",
     "text": [
      "\u001b[34m\u001b[1mwandb\u001b[0m: - Waiting for wandb.init()...\r"
     ]
    },
    {
     "name": "stderr",
     "output_type": "stream",
     "text": [
      "\u001b[34m\u001b[1mwandb\u001b[0m: \\ Waiting for wandb.init()...\r"
     ]
    },
    {
     "name": "stderr",
     "output_type": "stream",
     "text": [
      "\u001b[34m\u001b[1mwandb\u001b[0m: wandb version 0.17.8 is available!  To upgrade, please run:\n",
      "\u001b[34m\u001b[1mwandb\u001b[0m:  $ pip install wandb --upgrade\n"
     ]
    },
    {
     "name": "stderr",
     "output_type": "stream",
     "text": [
      "\u001b[34m\u001b[1mwandb\u001b[0m: Tracking run with wandb version 0.17.0\n"
     ]
    },
    {
     "name": "stderr",
     "output_type": "stream",
     "text": [
      "\u001b[34m\u001b[1mwandb\u001b[0m: Run data is saved locally in \u001b[35m\u001b[1m/home/guest/Desktop/projects/third-experiments/domain_adaptation_project/mixed/mixed/wandb/run-20240829_193528-il1lgpe6\u001b[0m\n",
      "\u001b[34m\u001b[1mwandb\u001b[0m: Run \u001b[1m`wandb offline`\u001b[0m to turn off syncing.\n"
     ]
    },
    {
     "name": "stderr",
     "output_type": "stream",
     "text": [
      "\u001b[34m\u001b[1mwandb\u001b[0m: Syncing run \u001b[33mTEG_inv_run_with_seed_10\u001b[0m\n"
     ]
    },
    {
     "name": "stderr",
     "output_type": "stream",
     "text": [
      "\u001b[34m\u001b[1mwandb\u001b[0m: ⭐️ View project at \u001b[34m\u001b[4mhttps://wandb.ai/mrawhani/mixed_edited\u001b[0m\n"
     ]
    },
    {
     "name": "stderr",
     "output_type": "stream",
     "text": [
      "\u001b[34m\u001b[1mwandb\u001b[0m: 🚀 View run at \u001b[34m\u001b[4mhttps://wandb.ai/mrawhani/mixed_edited/runs/il1lgpe6\u001b[0m\n"
     ]
    },
    {
     "name": "stderr",
     "output_type": "stream",
     "text": [
      "Seed set to 10\n"
     ]
    },
    {
     "name": "stderr",
     "output_type": "stream",
     "text": [
      "/home/guest/.cache/pypoetry/virtualenvs/third-experments-xuKQSur9-py3.8/lib/python3.8/site-packages/huggingface_hub/file_download.py:1132: FutureWarning: `resume_download` is deprecated and will be removed in version 1.0.0. Downloads always resume when possible. If you want to force a new download, use `force_download=True`.\n",
      "  warnings.warn(\n"
     ]
    },
    {
     "name": "stdout",
     "output_type": "stream",
     "text": [
      "Batch size: 32\n"
     ]
    },
    {
     "name": "stdout",
     "output_type": "stream",
     "text": [
      "Source genre: telephone\n",
      "Target genre: government\n",
      "Number of target samples: 69615\n"
     ]
    },
    {
     "name": "stdout",
     "output_type": "stream",
     "text": [
      "Source genre: telephone\n",
      "Target genre: government\n",
      "Number of target samples: 69615\n"
     ]
    },
    {
     "name": "stdout",
     "output_type": "stream",
     "text": [
      "Source dataset length: 75013\n",
      "Target dataset length: 23184\n"
     ]
    },
    {
     "name": "stderr",
     "output_type": "stream",
     "text": [
      "Some weights of BertAdapterModel were not initialized from the model checkpoint at bert-base-uncased and are newly initialized: ['heads.default.3.bias']\n",
      "You should probably TRAIN this model on a down-stream task to be able to use it for predictions and inference.\n"
     ]
    },
    {
     "name": "stderr",
     "output_type": "stream",
     "text": [
      "/home/guest/.cache/pypoetry/virtualenvs/third-experments-xuKQSur9-py3.8/lib/python3.8/site-packages/torch/utils/data/dataloader.py:558: UserWarning: This DataLoader will create 16 worker processes in total. Our suggested max number of worker in current system is 12, which is smaller than what this DataLoader is going to create. Please be aware that excessive worker creation might get DataLoader running slow or even freeze, lower the worker number to avoid potential slowness/freeze if necessary.\n",
      "  warnings.warn(_create_warning_msg(\n",
      "/home/guest/.cache/pypoetry/virtualenvs/third-experments-xuKQSur9-py3.8/lib/python3.8/site-packages/lightning_fabric/connector.py:563: `precision=16` is supported for historical reasons but its usage is discouraged. Please set your precision to 16-mixed instead!\n",
      "Using 16bit Automatic Mixed Precision (AMP)\n"
     ]
    },
    {
     "name": "stderr",
     "output_type": "stream",
     "text": [
      "GPU available: True (cuda), used: True\n"
     ]
    },
    {
     "name": "stderr",
     "output_type": "stream",
     "text": [
      "TPU available: False, using: 0 TPU cores\n"
     ]
    },
    {
     "name": "stderr",
     "output_type": "stream",
     "text": [
      "IPU available: False, using: 0 IPUs\n"
     ]
    },
    {
     "name": "stderr",
     "output_type": "stream",
     "text": [
      "HPU available: False, using: 0 HPUs\n"
     ]
    },
    {
     "name": "stderr",
     "output_type": "stream",
     "text": [
      "`Trainer(limit_train_batches=1.0)` was configured so 100% of the batches per epoch will be used..\n"
     ]
    },
    {
     "name": "stderr",
     "output_type": "stream",
     "text": [
      "`Trainer(limit_val_batches=1.0)` was configured so 100% of the batches will be used..\n"
     ]
    },
    {
     "name": "stderr",
     "output_type": "stream",
     "text": [
      "`Trainer(limit_test_batches=1.0)` was configured so 100% of the batches will be used..\n"
     ]
    },
    {
     "name": "stderr",
     "output_type": "stream",
     "text": [
      "/home/guest/.cache/pypoetry/virtualenvs/third-experments-xuKQSur9-py3.8/lib/python3.8/site-packages/pytorch_lightning/loggers/wandb.py:396: There is a wandb run already in progress and newly created instances of `WandbLogger` will reuse this run. If this is not desired, call `wandb.finish()` before instantiating `WandbLogger`.\n",
      "LOCAL_RANK: 0 - CUDA_VISIBLE_DEVICES: [0]\n"
     ]
    },
    {
     "name": "stderr",
     "output_type": "stream",
     "text": [
      "/home/guest/.cache/pypoetry/virtualenvs/third-experments-xuKQSur9-py3.8/lib/python3.8/site-packages/pytorch_lightning/core/optimizer.py:257: Found unsupported keys in the lr scheduler dict: {'reduce_lr_on_plateau'}. HINT: remove them from the output of `configure_optimizers`.\n",
      "\n",
      "  | Name          | Type               | Params\n",
      "-----------------------------------------------------\n",
      "0 | model         | BertAdapterModel   | 118 M \n",
      "1 | criterion     | CrossEntropyLoss   | 0     \n",
      "2 | mlm_criterion | CrossEntropyLoss   | 0     \n",
      "3 | accuracy      | MulticlassAccuracy | 0     \n",
      "4 | f1            | MulticlassF1Score  | 0     \n",
      "5 | f1_macro      | MulticlassF1Score  | 0     \n",
      "6 | softmax       | Softmax            | 0     \n",
      "-----------------------------------------------------\n",
      "9.2 M     Trainable params\n",
      "109 M     Non-trainable params\n",
      "118 M     Total params\n",
      "474.833   Total estimated model params size (MB)\n"
     ]
    },
    {
     "name": "stdout",
     "output_type": "stream",
     "text": [
      "eee\n"
     ]
    },
    {
     "data": {
      "application/vnd.jupyter.widget-view+json": {
       "model_id": "26259cf58a5f4da899ea04b2976a4bdf",
       "version_major": 2,
       "version_minor": 0
      },
      "text/plain": [
       "Sanity Checking: |                                                                                            …"
      ]
     },
     "metadata": {},
     "output_type": "display_data"
    },
    {
     "name": "stdout",
     "output_type": "stream",
     "text": [
      "val/accuracy: 0.359375\n",
      "val/f1: 0.36665987968444824\n",
      "val/taskclf_loss: 1.0900726318359375\n",
      "val/loss: 1.2509503364562988\n",
      "val/mlm_loss: 1.7714776992797852\n"
     ]
    },
    {
     "data": {
      "application/vnd.jupyter.widget-view+json": {
       "model_id": "adc39efb26e9425c9aaed6aa082c30fc",
       "version_major": 2,
       "version_minor": 0
      },
      "text/plain": [
       "Training: |                                                                                                   …"
      ]
     },
     "metadata": {},
     "output_type": "display_data"
    },
    {
     "data": {
      "application/vnd.jupyter.widget-view+json": {
       "model_id": "ad1a65daf3fe479cb7bafdb1fe33ebf6",
       "version_major": 2,
       "version_minor": 0
      },
      "text/plain": [
       "Validation: |                                                                                                 …"
      ]
     },
     "metadata": {},
     "output_type": "display_data"
    },
    {
     "name": "stdout",
     "output_type": "stream",
     "text": [
      "val/accuracy: 0.7633460760116577\n",
      "val/f1: 0.763004720211029\n",
      "val/taskclf_loss: 0.5808234214782715\n",
      "val/loss: 0.8315194249153137\n",
      "val/mlm_loss: 1.6426589488983154\n"
     ]
    },
    {
     "data": {
      "application/vnd.jupyter.widget-view+json": {
       "model_id": "bcdc9d9468ed4a1d9e38647cc49c07b4",
       "version_major": 2,
       "version_minor": 0
      },
      "text/plain": [
       "Validation: |                                                                                                 …"
      ]
     },
     "metadata": {},
     "output_type": "display_data"
    },
    {
     "name": "stdout",
     "output_type": "stream",
     "text": [
      "val/accuracy: 0.7787595987319946\n",
      "val/f1: 0.7787723541259766\n",
      "val/taskclf_loss: 0.5554125905036926\n",
      "val/loss: 0.808074414730072\n",
      "val/mlm_loss: 1.6255744695663452\n"
     ]
    },
    {
     "data": {
      "application/vnd.jupyter.widget-view+json": {
       "model_id": "a4b6ca65d31c42278e8010772cd544c3",
       "version_major": 2,
       "version_minor": 0
      },
      "text/plain": [
       "Validation: |                                                                                                 …"
      ]
     },
     "metadata": {},
     "output_type": "display_data"
    },
    {
     "name": "stdout",
     "output_type": "stream",
     "text": [
      "val/accuracy: 0.7841634750366211\n",
      "val/f1: 0.784153938293457\n",
      "val/taskclf_loss: 0.5604683756828308\n",
      "val/loss: 0.806560218334198\n",
      "val/mlm_loss: 1.6028026342391968\n"
     ]
    },
    {
     "data": {
      "application/vnd.jupyter.widget-view+json": {
       "model_id": "0c55647f702c4274949394cdeb7aa703",
       "version_major": 2,
       "version_minor": 0
      },
      "text/plain": [
       "Validation: |                                                                                                 …"
      ]
     },
     "metadata": {},
     "output_type": "display_data"
    },
    {
     "name": "stdout",
     "output_type": "stream",
     "text": [
      "val/accuracy: 0.7821280360221863\n",
      "val/f1: 0.782932460308075\n",
      "val/taskclf_loss: 0.5921089053153992\n",
      "val/loss: 0.834353506565094\n",
      "val/mlm_loss: 1.6181483268737793\n"
     ]
    },
    {
     "data": {
      "application/vnd.jupyter.widget-view+json": {
       "model_id": "24441e1a5277441abf50bc3b0a256dce",
       "version_major": 2,
       "version_minor": 0
      },
      "text/plain": [
       "Validation: |                                                                                                 …"
      ]
     },
     "metadata": {},
     "output_type": "display_data"
    },
    {
     "name": "stdout",
     "output_type": "stream",
     "text": [
      "val/accuracy: 0.793757975101471\n",
      "val/f1: 0.7938266396522522\n",
      "val/taskclf_loss: 0.6543699502944946\n",
      "val/loss: 0.8784546852111816\n",
      "val/mlm_loss: 1.603492259979248\n"
     ]
    },
    {
     "data": {
      "application/vnd.jupyter.widget-view+json": {
       "model_id": "88ecb35c5ee24daeb07def9fac7a66c6",
       "version_major": 2,
       "version_minor": 0
      },
      "text/plain": [
       "Validation: |                                                                                                 …"
      ]
     },
     "metadata": {},
     "output_type": "display_data"
    },
    {
     "name": "stdout",
     "output_type": "stream",
     "text": [
      "val/accuracy: 0.7936382293701172\n",
      "val/f1: 0.7940589189529419\n",
      "val/taskclf_loss: 0.636455237865448\n",
      "val/loss: 0.8632013201713562\n",
      "val/mlm_loss: 1.5968494415283203\n"
     ]
    },
    {
     "data": {
      "application/vnd.jupyter.widget-view+json": {
       "model_id": "ef05e2d7dc084d4bb3f9a9295d57a28a",
       "version_major": 2,
       "version_minor": 0
      },
      "text/plain": [
       "Validation: |                                                                                                 …"
      ]
     },
     "metadata": {},
     "output_type": "display_data"
    },
    {
     "name": "stdout",
     "output_type": "stream",
     "text": [
      "val/accuracy: 0.7936382293701172\n",
      "val/f1: 0.7940746545791626\n",
      "val/taskclf_loss: 0.6339247822761536\n",
      "val/loss: 0.8625407814979553\n",
      "val/mlm_loss: 1.6022392511367798\n"
     ]
    },
    {
     "data": {
      "application/vnd.jupyter.widget-view+json": {
       "model_id": "087917ad37fe451eabbea9199a80399b",
       "version_major": 2,
       "version_minor": 0
      },
      "text/plain": [
       "Validation: |                                                                                                 …"
      ]
     },
     "metadata": {},
     "output_type": "display_data"
    },
    {
     "name": "stdout",
     "output_type": "stream",
     "text": [
      "val/accuracy: 0.7935185432434082\n",
      "val/f1: 0.7939567565917969\n",
      "val/taskclf_loss: 0.6336891055107117\n",
      "val/loss: 0.8630380034446716\n",
      "val/mlm_loss: 1.6051079034805298\n"
     ]
    },
    {
     "data": {
      "application/vnd.jupyter.widget-view+json": {
       "model_id": "99c54b1fae3f446cbf7e68876d284b18",
       "version_major": 2,
       "version_minor": 0
      },
      "text/plain": [
       "Validation: |                                                                                                 …"
      ]
     },
     "metadata": {},
     "output_type": "display_data"
    },
    {
     "name": "stdout",
     "output_type": "stream",
     "text": [
      "val/accuracy: 0.7935185432434082\n",
      "val/f1: 0.7939567565917969\n",
      "val/taskclf_loss: 0.6334753036499023\n",
      "val/loss: 0.8612682819366455\n",
      "val/mlm_loss: 1.598304033279419\n"
     ]
    },
    {
     "data": {
      "application/vnd.jupyter.widget-view+json": {
       "model_id": "21dec32d77e94e6c9839d18a32dc2219",
       "version_major": 2,
       "version_minor": 0
      },
      "text/plain": [
       "Validation: |                                                                                                 …"
      ]
     },
     "metadata": {},
     "output_type": "display_data"
    },
    {
     "name": "stderr",
     "output_type": "stream",
     "text": [
      "`Trainer.fit` stopped: `max_epochs=10` reached.\n"
     ]
    },
    {
     "name": "stdout",
     "output_type": "stream",
     "text": [
      "val/accuracy: 0.7936382293701172\n",
      "val/f1: 0.7940824627876282\n",
      "val/taskclf_loss: 0.6333332657814026\n",
      "val/loss: 0.8599380850791931\n",
      "val/mlm_loss: 1.59312903881073\n"
     ]
    },
    {
     "name": "stdout",
     "output_type": "stream",
     "text": [
      "Best checkpoint path: ./lightning_logs/il1lgpe6/checkpoints/task-TEG-epoch=02-val_loss=0.81.ckpt\n",
      "Saved epoch checkpoint path: ./lightning_logs/il1lgpe6/checkpoints/TEG-epoch=05.ckpt\n"
     ]
    },
    {
     "name": "stdout",
     "output_type": "stream",
     "text": [
      "Source genre: telephone\n"
     ]
    },
    {
     "name": "stderr",
     "output_type": "stream",
     "text": [
      "LOCAL_RANK: 0 - CUDA_VISIBLE_DEVICES: [0]\n"
     ]
    },
    {
     "name": "stdout",
     "output_type": "stream",
     "text": [
      "Target genre: government\n",
      "Number of target samples: 69615\n"
     ]
    },
    {
     "data": {
      "application/vnd.jupyter.widget-view+json": {
       "model_id": "84625c8a01cf4136a62c229c6e6d6fe8",
       "version_major": 2,
       "version_minor": 0
      },
      "text/plain": [
       "Testing: |                                                                                                    …"
      ]
     },
     "metadata": {},
     "output_type": "display_data"
    },
    {
     "data": {
      "text/html": [
       "<pre style=\"white-space:pre;overflow-x:auto;line-height:normal;font-family:Menlo,'DejaVu Sans Mono',consolas,'Courier New',monospace\">┏━━━━━━━━━━━━━━━━━━━━━━━━━━━┳━━━━━━━━━━━━━━━━━━━━━━━━━━━┓\n",
       "┃<span style=\"font-weight: bold\">        Test metric        </span>┃<span style=\"font-weight: bold\">       DataLoader 0        </span>┃\n",
       "┡━━━━━━━━━━━━━━━━━━━━━━━━━━━╇━━━━━━━━━━━━━━━━━━━━━━━━━━━┩\n",
       "│<span style=\"color: #008080; text-decoration-color: #008080\">   source_test/accuracy    </span>│<span style=\"color: #800080; text-decoration-color: #800080\">    0.7993951439857483     </span>│\n",
       "│<span style=\"color: #008080; text-decoration-color: #008080\">      source_test/f1       </span>│<span style=\"color: #800080; text-decoration-color: #800080\">     0.799457848072052     </span>│\n",
       "│<span style=\"color: #008080; text-decoration-color: #008080\">   source_test/f1_macro    </span>│<span style=\"color: #800080; text-decoration-color: #800080\">     0.790584921836853     </span>│\n",
       "│<span style=\"color: #008080; text-decoration-color: #008080\">     source_test/loss      </span>│<span style=\"color: #800080; text-decoration-color: #800080\">     0.644098699092865     </span>│\n",
       "│<span style=\"color: #008080; text-decoration-color: #008080\">   target_test/accuracy    </span>│<span style=\"color: #800080; text-decoration-color: #800080\">    0.8003312349319458     </span>│\n",
       "│<span style=\"color: #008080; text-decoration-color: #008080\">      target_test/f1       </span>│<span style=\"color: #800080; text-decoration-color: #800080\">    0.7996582388877869     </span>│\n",
       "│<span style=\"color: #008080; text-decoration-color: #008080\">   target_test/f1_macro    </span>│<span style=\"color: #800080; text-decoration-color: #800080\">     0.794001042842865     </span>│\n",
       "│<span style=\"color: #008080; text-decoration-color: #008080\">     target_test/loss      </span>│<span style=\"color: #800080; text-decoration-color: #800080\">    0.6167800426483154     </span>│\n",
       "└───────────────────────────┴───────────────────────────┘\n",
       "</pre>\n"
      ],
      "text/plain": [
       "┏━━━━━━━━━━━━━━━━━━━━━━━━━━━┳━━━━━━━━━━━━━━━━━━━━━━━━━━━┓\n",
       "┃\u001b[1m \u001b[0m\u001b[1m       Test metric       \u001b[0m\u001b[1m \u001b[0m┃\u001b[1m \u001b[0m\u001b[1m      DataLoader 0       \u001b[0m\u001b[1m \u001b[0m┃\n",
       "┡━━━━━━━━━━━━━━━━━━━━━━━━━━━╇━━━━━━━━━━━━━━━━━━━━━━━━━━━┩\n",
       "│\u001b[36m \u001b[0m\u001b[36m  source_test/accuracy   \u001b[0m\u001b[36m \u001b[0m│\u001b[35m \u001b[0m\u001b[35m   0.7993951439857483    \u001b[0m\u001b[35m \u001b[0m│\n",
       "│\u001b[36m \u001b[0m\u001b[36m     source_test/f1      \u001b[0m\u001b[36m \u001b[0m│\u001b[35m \u001b[0m\u001b[35m    0.799457848072052    \u001b[0m\u001b[35m \u001b[0m│\n",
       "│\u001b[36m \u001b[0m\u001b[36m  source_test/f1_macro   \u001b[0m\u001b[36m \u001b[0m│\u001b[35m \u001b[0m\u001b[35m    0.790584921836853    \u001b[0m\u001b[35m \u001b[0m│\n",
       "│\u001b[36m \u001b[0m\u001b[36m    source_test/loss     \u001b[0m\u001b[36m \u001b[0m│\u001b[35m \u001b[0m\u001b[35m    0.644098699092865    \u001b[0m\u001b[35m \u001b[0m│\n",
       "│\u001b[36m \u001b[0m\u001b[36m  target_test/accuracy   \u001b[0m\u001b[36m \u001b[0m│\u001b[35m \u001b[0m\u001b[35m   0.8003312349319458    \u001b[0m\u001b[35m \u001b[0m│\n",
       "│\u001b[36m \u001b[0m\u001b[36m     target_test/f1      \u001b[0m\u001b[36m \u001b[0m│\u001b[35m \u001b[0m\u001b[35m   0.7996582388877869    \u001b[0m\u001b[35m \u001b[0m│\n",
       "│\u001b[36m \u001b[0m\u001b[36m  target_test/f1_macro   \u001b[0m\u001b[36m \u001b[0m│\u001b[35m \u001b[0m\u001b[35m    0.794001042842865    \u001b[0m\u001b[35m \u001b[0m│\n",
       "│\u001b[36m \u001b[0m\u001b[36m    target_test/loss     \u001b[0m\u001b[36m \u001b[0m│\u001b[35m \u001b[0m\u001b[35m   0.6167800426483154    \u001b[0m\u001b[35m \u001b[0m│\n",
       "└───────────────────────────┴───────────────────────────┘\n"
      ]
     },
     "metadata": {},
     "output_type": "display_data"
    },
    {
     "name": "stdout",
     "output_type": "stream",
     "text": [
      "Test Results Last Epoch: [{'source_test/loss': 0.644098699092865, 'source_test/accuracy': 0.7993951439857483, 'source_test/f1': 0.799457848072052, 'source_test/f1_macro': 0.790584921836853, 'target_test/loss': 0.6167800426483154, 'target_test/accuracy': 0.8003312349319458, 'target_test/f1': 0.7996582388877869, 'target_test/f1_macro': 0.794001042842865}]\n",
      "Best checkpoint path: ./lightning_logs/il1lgpe6/checkpoints/task-TEG-epoch=02-val_loss=0.81.ckpt\n",
      "Saved epoch checkpoint path: ./lightning_logs/il1lgpe6/checkpoints/TEG-epoch=05.ckpt\n"
     ]
    },
    {
     "name": "stderr",
     "output_type": "stream",
     "text": [
      "Some weights of BertAdapterModel were not initialized from the model checkpoint at bert-base-uncased and are newly initialized: ['heads.default.3.bias']\n",
      "You should probably TRAIN this model on a down-stream task to be able to use it for predictions and inference.\n"
     ]
    },
    {
     "name": "stderr",
     "output_type": "stream",
     "text": [
      "LOCAL_RANK: 0 - CUDA_VISIBLE_DEVICES: [0]\n"
     ]
    },
    {
     "data": {
      "application/vnd.jupyter.widget-view+json": {
       "model_id": "850bcc460a604376b434252e0ae5e3f0",
       "version_major": 2,
       "version_minor": 0
      },
      "text/plain": [
       "Testing: |                                                                                                    …"
      ]
     },
     "metadata": {},
     "output_type": "display_data"
    },
    {
     "data": {
      "text/html": [
       "<pre style=\"white-space:pre;overflow-x:auto;line-height:normal;font-family:Menlo,'DejaVu Sans Mono',consolas,'Courier New',monospace\">┏━━━━━━━━━━━━━━━━━━━━━━━━━━━┳━━━━━━━━━━━━━━━━━━━━━━━━━━━┓\n",
       "┃<span style=\"font-weight: bold\">        Test metric        </span>┃<span style=\"font-weight: bold\">       DataLoader 0        </span>┃\n",
       "┡━━━━━━━━━━━━━━━━━━━━━━━━━━━╇━━━━━━━━━━━━━━━━━━━━━━━━━━━┩\n",
       "│<span style=\"color: #008080; text-decoration-color: #008080\">   source_test/accuracy    </span>│<span style=\"color: #800080; text-decoration-color: #800080\">    0.7800979614257812     </span>│\n",
       "│<span style=\"color: #008080; text-decoration-color: #008080\">      source_test/f1       </span>│<span style=\"color: #800080; text-decoration-color: #800080\">    0.7799505591392517     </span>│\n",
       "│<span style=\"color: #008080; text-decoration-color: #008080\">   source_test/f1_macro    </span>│<span style=\"color: #800080; text-decoration-color: #800080\">    0.7711666226387024     </span>│\n",
       "│<span style=\"color: #008080; text-decoration-color: #008080\">     source_test/loss      </span>│<span style=\"color: #800080; text-decoration-color: #800080\">    0.5710353255271912     </span>│\n",
       "│<span style=\"color: #008080; text-decoration-color: #008080\">   target_test/accuracy    </span>│<span style=\"color: #800080; text-decoration-color: #800080\">    0.8013392686843872     </span>│\n",
       "│<span style=\"color: #008080; text-decoration-color: #008080\">      target_test/f1       </span>│<span style=\"color: #800080; text-decoration-color: #800080\">     0.801428496837616     </span>│\n",
       "│<span style=\"color: #008080; text-decoration-color: #008080\">   target_test/f1_macro    </span>│<span style=\"color: #800080; text-decoration-color: #800080\">    0.7948158383369446     </span>│\n",
       "│<span style=\"color: #008080; text-decoration-color: #008080\">     target_test/loss      </span>│<span style=\"color: #800080; text-decoration-color: #800080\">     0.531136155128479     </span>│\n",
       "└───────────────────────────┴───────────────────────────┘\n",
       "</pre>\n"
      ],
      "text/plain": [
       "┏━━━━━━━━━━━━━━━━━━━━━━━━━━━┳━━━━━━━━━━━━━━━━━━━━━━━━━━━┓\n",
       "┃\u001b[1m \u001b[0m\u001b[1m       Test metric       \u001b[0m\u001b[1m \u001b[0m┃\u001b[1m \u001b[0m\u001b[1m      DataLoader 0       \u001b[0m\u001b[1m \u001b[0m┃\n",
       "┡━━━━━━━━━━━━━━━━━━━━━━━━━━━╇━━━━━━━━━━━━━━━━━━━━━━━━━━━┩\n",
       "│\u001b[36m \u001b[0m\u001b[36m  source_test/accuracy   \u001b[0m\u001b[36m \u001b[0m│\u001b[35m \u001b[0m\u001b[35m   0.7800979614257812    \u001b[0m\u001b[35m \u001b[0m│\n",
       "│\u001b[36m \u001b[0m\u001b[36m     source_test/f1      \u001b[0m\u001b[36m \u001b[0m│\u001b[35m \u001b[0m\u001b[35m   0.7799505591392517    \u001b[0m\u001b[35m \u001b[0m│\n",
       "│\u001b[36m \u001b[0m\u001b[36m  source_test/f1_macro   \u001b[0m\u001b[36m \u001b[0m│\u001b[35m \u001b[0m\u001b[35m   0.7711666226387024    \u001b[0m\u001b[35m \u001b[0m│\n",
       "│\u001b[36m \u001b[0m\u001b[36m    source_test/loss     \u001b[0m\u001b[36m \u001b[0m│\u001b[35m \u001b[0m\u001b[35m   0.5710353255271912    \u001b[0m\u001b[35m \u001b[0m│\n",
       "│\u001b[36m \u001b[0m\u001b[36m  target_test/accuracy   \u001b[0m\u001b[36m \u001b[0m│\u001b[35m \u001b[0m\u001b[35m   0.8013392686843872    \u001b[0m\u001b[35m \u001b[0m│\n",
       "│\u001b[36m \u001b[0m\u001b[36m     target_test/f1      \u001b[0m\u001b[36m \u001b[0m│\u001b[35m \u001b[0m\u001b[35m    0.801428496837616    \u001b[0m\u001b[35m \u001b[0m│\n",
       "│\u001b[36m \u001b[0m\u001b[36m  target_test/f1_macro   \u001b[0m\u001b[36m \u001b[0m│\u001b[35m \u001b[0m\u001b[35m   0.7948158383369446    \u001b[0m\u001b[35m \u001b[0m│\n",
       "│\u001b[36m \u001b[0m\u001b[36m    target_test/loss     \u001b[0m\u001b[36m \u001b[0m│\u001b[35m \u001b[0m\u001b[35m    0.531136155128479    \u001b[0m\u001b[35m \u001b[0m│\n",
       "└───────────────────────────┴───────────────────────────┘\n"
      ]
     },
     "metadata": {},
     "output_type": "display_data"
    },
    {
     "name": "stdout",
     "output_type": "stream",
     "text": [
      "Test Results on Best Model: [{'source_test/loss': 0.5710353255271912, 'source_test/accuracy': 0.7800979614257812, 'source_test/f1': 0.7799505591392517, 'source_test/f1_macro': 0.7711666226387024, 'target_test/loss': 0.531136155128479, 'target_test/accuracy': 0.8013392686843872, 'target_test/f1': 0.801428496837616, 'target_test/f1_macro': 0.7948158383369446}]\n"
     ]
    },
    {
     "name": "stderr",
     "output_type": "stream",
     "text": [
      "Some weights of BertAdapterModel were not initialized from the model checkpoint at bert-base-uncased and are newly initialized: ['heads.default.3.bias']\n",
      "You should probably TRAIN this model on a down-stream task to be able to use it for predictions and inference.\n"
     ]
    },
    {
     "name": "stderr",
     "output_type": "stream",
     "text": [
      "LOCAL_RANK: 0 - CUDA_VISIBLE_DEVICES: [0]\n"
     ]
    },
    {
     "data": {
      "application/vnd.jupyter.widget-view+json": {
       "model_id": "f68ce6f3e066438db989a9be7732de71",
       "version_major": 2,
       "version_minor": 0
      },
      "text/plain": [
       "Testing: |                                                                                                    …"
      ]
     },
     "metadata": {},
     "output_type": "display_data"
    },
    {
     "data": {
      "text/html": [
       "<pre style=\"white-space:pre;overflow-x:auto;line-height:normal;font-family:Menlo,'DejaVu Sans Mono',consolas,'Courier New',monospace\">┏━━━━━━━━━━━━━━━━━━━━━━━━━━━┳━━━━━━━━━━━━━━━━━━━━━━━━━━━┓\n",
       "┃<span style=\"font-weight: bold\">        Test metric        </span>┃<span style=\"font-weight: bold\">       DataLoader 0        </span>┃\n",
       "┡━━━━━━━━━━━━━━━━━━━━━━━━━━━╇━━━━━━━━━━━━━━━━━━━━━━━━━━━┩\n",
       "│<span style=\"color: #008080; text-decoration-color: #008080\">   source_test/accuracy    </span>│<span style=\"color: #800080; text-decoration-color: #800080\">    0.7993951439857483     </span>│\n",
       "│<span style=\"color: #008080; text-decoration-color: #008080\">      source_test/f1       </span>│<span style=\"color: #800080; text-decoration-color: #800080\">    0.7994659543037415     </span>│\n",
       "│<span style=\"color: #008080; text-decoration-color: #008080\">   source_test/f1_macro    </span>│<span style=\"color: #800080; text-decoration-color: #800080\">    0.7906160354614258     </span>│\n",
       "│<span style=\"color: #008080; text-decoration-color: #008080\">     source_test/loss      </span>│<span style=\"color: #800080; text-decoration-color: #800080\">    0.6472182273864746     </span>│\n",
       "│<span style=\"color: #008080; text-decoration-color: #008080\">   target_test/accuracy    </span>│<span style=\"color: #800080; text-decoration-color: #800080\">    0.8013392686843872     </span>│\n",
       "│<span style=\"color: #008080; text-decoration-color: #008080\">      target_test/f1       </span>│<span style=\"color: #800080; text-decoration-color: #800080\">    0.8006250858306885     </span>│\n",
       "│<span style=\"color: #008080; text-decoration-color: #008080\">   target_test/f1_macro    </span>│<span style=\"color: #800080; text-decoration-color: #800080\">      0.795166015625       </span>│\n",
       "│<span style=\"color: #008080; text-decoration-color: #008080\">     target_test/loss      </span>│<span style=\"color: #800080; text-decoration-color: #800080\">    0.6206895112991333     </span>│\n",
       "└───────────────────────────┴───────────────────────────┘\n",
       "</pre>\n"
      ],
      "text/plain": [
       "┏━━━━━━━━━━━━━━━━━━━━━━━━━━━┳━━━━━━━━━━━━━━━━━━━━━━━━━━━┓\n",
       "┃\u001b[1m \u001b[0m\u001b[1m       Test metric       \u001b[0m\u001b[1m \u001b[0m┃\u001b[1m \u001b[0m\u001b[1m      DataLoader 0       \u001b[0m\u001b[1m \u001b[0m┃\n",
       "┡━━━━━━━━━━━━━━━━━━━━━━━━━━━╇━━━━━━━━━━━━━━━━━━━━━━━━━━━┩\n",
       "│\u001b[36m \u001b[0m\u001b[36m  source_test/accuracy   \u001b[0m\u001b[36m \u001b[0m│\u001b[35m \u001b[0m\u001b[35m   0.7993951439857483    \u001b[0m\u001b[35m \u001b[0m│\n",
       "│\u001b[36m \u001b[0m\u001b[36m     source_test/f1      \u001b[0m\u001b[36m \u001b[0m│\u001b[35m \u001b[0m\u001b[35m   0.7994659543037415    \u001b[0m\u001b[35m \u001b[0m│\n",
       "│\u001b[36m \u001b[0m\u001b[36m  source_test/f1_macro   \u001b[0m\u001b[36m \u001b[0m│\u001b[35m \u001b[0m\u001b[35m   0.7906160354614258    \u001b[0m\u001b[35m \u001b[0m│\n",
       "│\u001b[36m \u001b[0m\u001b[36m    source_test/loss     \u001b[0m\u001b[36m \u001b[0m│\u001b[35m \u001b[0m\u001b[35m   0.6472182273864746    \u001b[0m\u001b[35m \u001b[0m│\n",
       "│\u001b[36m \u001b[0m\u001b[36m  target_test/accuracy   \u001b[0m\u001b[36m \u001b[0m│\u001b[35m \u001b[0m\u001b[35m   0.8013392686843872    \u001b[0m\u001b[35m \u001b[0m│\n",
       "│\u001b[36m \u001b[0m\u001b[36m     target_test/f1      \u001b[0m\u001b[36m \u001b[0m│\u001b[35m \u001b[0m\u001b[35m   0.8006250858306885    \u001b[0m\u001b[35m \u001b[0m│\n",
       "│\u001b[36m \u001b[0m\u001b[36m  target_test/f1_macro   \u001b[0m\u001b[36m \u001b[0m│\u001b[35m \u001b[0m\u001b[35m     0.795166015625      \u001b[0m\u001b[35m \u001b[0m│\n",
       "│\u001b[36m \u001b[0m\u001b[36m    target_test/loss     \u001b[0m\u001b[36m \u001b[0m│\u001b[35m \u001b[0m\u001b[35m   0.6206895112991333    \u001b[0m\u001b[35m \u001b[0m│\n",
       "└───────────────────────────┴───────────────────────────┘\n"
      ]
     },
     "metadata": {},
     "output_type": "display_data"
    },
    {
     "name": "stdout",
     "output_type": "stream",
     "text": [
      "Test Results on saved epoch: [{'source_test/loss': 0.6472182273864746, 'source_test/accuracy': 0.7993951439857483, 'source_test/f1': 0.7994659543037415, 'source_test/f1_macro': 0.7906160354614258, 'target_test/loss': 0.6206895112991333, 'target_test/accuracy': 0.8013392686843872, 'target_test/f1': 0.8006250858306885, 'target_test/f1_macro': 0.795166015625}]\n"
     ]
    },
    {
     "name": "stderr",
     "output_type": "stream",
     "text": [
      "\u001b[34m\u001b[1mwandb\u001b[0m: - 0.002 MB of 0.002 MB uploaded\r"
     ]
    },
    {
     "name": "stderr",
     "output_type": "stream",
     "text": [
      "\u001b[34m\u001b[1mwandb\u001b[0m: \\ 0.002 MB of 0.005 MB uploaded\r"
     ]
    },
    {
     "name": "stderr",
     "output_type": "stream",
     "text": [
      "\u001b[34m\u001b[1mwandb\u001b[0m: | 0.002 MB of 0.005 MB uploaded\r"
     ]
    },
    {
     "name": "stderr",
     "output_type": "stream",
     "text": [
      "\u001b[34m\u001b[1mwandb\u001b[0m: / 0.016 MB of 0.016 MB uploaded\r"
     ]
    },
    {
     "name": "stderr",
     "output_type": "stream",
     "text": [
      "\u001b[34m\u001b[1mwandb\u001b[0m:                                                                                \n"
     ]
    },
    {
     "name": "stderr",
     "output_type": "stream",
     "text": [
      "\u001b[34m\u001b[1mwandb\u001b[0m: \n",
      "\u001b[34m\u001b[1mwandb\u001b[0m: Run history:\n",
      "\u001b[34m\u001b[1mwandb\u001b[0m:                epoch ▁▁▁▁▂▂▂▂▂▂▂▂▃▃▃▃▄▄▄▄▅▅▅▅▅▅▅▅▆▆▆▆▇▇▇▇▇▇▇█\n",
      "\u001b[34m\u001b[1mwandb\u001b[0m: source_test/accuracy █▁█\n",
      "\u001b[34m\u001b[1mwandb\u001b[0m:       source_test/f1 █▁█\n",
      "\u001b[34m\u001b[1mwandb\u001b[0m: source_test/f1_macro █▁█\n",
      "\u001b[34m\u001b[1mwandb\u001b[0m:     source_test/loss █▁█\n",
      "\u001b[34m\u001b[1mwandb\u001b[0m: target_test/accuracy ▁██\n",
      "\u001b[34m\u001b[1mwandb\u001b[0m:       target_test/f1 ▁█▅\n",
      "\u001b[34m\u001b[1mwandb\u001b[0m: target_test/f1_macro ▁▆█\n",
      "\u001b[34m\u001b[1mwandb\u001b[0m:     target_test/loss █▁█\n",
      "\u001b[34m\u001b[1mwandb\u001b[0m:       train/accuracy ▁▁▃▃▁▁▃▄▃▂▂▆▃▅▅▅▆▅▅▇▅▄▆▇▆▅▅▇▅▅▆▇▅▇▇▆▄▇██\n",
      "\u001b[34m\u001b[1mwandb\u001b[0m:             train/f1 ▂▁▃▃▁▁▃▄▃▂▃▆▃▅▅▅▆▆▆▇▅▄▆▇▆▅▆▇▅▆▆▇▅▇▇▆▄▇██\n",
      "\u001b[34m\u001b[1mwandb\u001b[0m:           train/loss ▇▇▆▅█▆▅▄▅▇▆▃▅▃▄▃▄▄▄▂▄▄▂▂▃▄▅▂▃▃▃▂▃▂▂▃▄▂▁▁\n",
      "\u001b[34m\u001b[1mwandb\u001b[0m:       train/mlm_loss ▆▅▇▅▆▆▆▅▄█▃▃▄▆▅█▆▃▅▅▄▅▄▅▅█▅▄▄▆▇▃▂▄▆▇▅▅▅▁\n",
      "\u001b[34m\u001b[1mwandb\u001b[0m:   train/taskclf_loss ▇▇▅▅█▆▅▄▅▆▆▄▅▃▃▃▃▄▄▂▄▄▂▂▃▃▅▂▃▃▃▂▃▂▂▃▄▂▁▁\n",
      "\u001b[34m\u001b[1mwandb\u001b[0m:  trainer/global_step ▁▁▁▂▂▂▂▂▂▃▃▃▃▃▃▄▄▄▄▄▅▅▅▅▅▅▆▆▆▆▆▇▇▇▇▇▇███\n",
      "\u001b[34m\u001b[1mwandb\u001b[0m:         val/accuracy ▁▅▆▅██████\n",
      "\u001b[34m\u001b[1mwandb\u001b[0m:     val/avg_accuracy ▁▅▆▅██████\n",
      "\u001b[34m\u001b[1mwandb\u001b[0m:           val/avg_f1 ▁▅▆▅██████\n",
      "\u001b[34m\u001b[1mwandb\u001b[0m:         val/avg_loss ▃▁▁▄█▇▆▆▆▆\n",
      "\u001b[34m\u001b[1mwandb\u001b[0m:     val/avg_mlm_loss █▆▂▅▂▂▂▃▂▁\n",
      "\u001b[34m\u001b[1mwandb\u001b[0m: val/avg_taskclf_loss ▃▁▁▄█▇▇▇▇▇\n",
      "\u001b[34m\u001b[1mwandb\u001b[0m:               val/f1 ▁▅▆▆██████\n",
      "\u001b[34m\u001b[1mwandb\u001b[0m:             val/loss ▃▁▁▄█▇▆▇▆▆\n",
      "\u001b[34m\u001b[1mwandb\u001b[0m:         val/mlm_loss █▆▂▄▃▁▂▃▂▁\n",
      "\u001b[34m\u001b[1mwandb\u001b[0m:     val/taskclf_loss ▃▁▁▄█▇▇▇▇▇\n",
      "\u001b[34m\u001b[1mwandb\u001b[0m:             val_loss ▃▁▁▄█▇▆▆▆▆\n",
      "\u001b[34m\u001b[1mwandb\u001b[0m: \n",
      "\u001b[34m\u001b[1mwandb\u001b[0m: Run summary:\n",
      "\u001b[34m\u001b[1mwandb\u001b[0m:                epoch 10\n",
      "\u001b[34m\u001b[1mwandb\u001b[0m: source_test/accuracy 0.7994\n",
      "\u001b[34m\u001b[1mwandb\u001b[0m:       source_test/f1 0.79947\n",
      "\u001b[34m\u001b[1mwandb\u001b[0m: source_test/f1_macro 0.79062\n",
      "\u001b[34m\u001b[1mwandb\u001b[0m:     source_test/loss 0.64722\n",
      "\u001b[34m\u001b[1mwandb\u001b[0m: target_test/accuracy 0.80134\n",
      "\u001b[34m\u001b[1mwandb\u001b[0m:       target_test/f1 0.80063\n",
      "\u001b[34m\u001b[1mwandb\u001b[0m: target_test/f1_macro 0.79517\n",
      "\u001b[34m\u001b[1mwandb\u001b[0m:     target_test/loss 0.62069\n",
      "\u001b[34m\u001b[1mwandb\u001b[0m:       train/accuracy 1.0\n",
      "\u001b[34m\u001b[1mwandb\u001b[0m:             train/f1 1.0\n",
      "\u001b[34m\u001b[1mwandb\u001b[0m:           train/loss 0.26861\n",
      "\u001b[34m\u001b[1mwandb\u001b[0m:       train/mlm_loss 1.10349\n",
      "\u001b[34m\u001b[1mwandb\u001b[0m:   train/taskclf_loss 0.01058\n",
      "\u001b[34m\u001b[1mwandb\u001b[0m:  trainer/global_step 23450\n",
      "\u001b[34m\u001b[1mwandb\u001b[0m:         val/accuracy 0.79376\n",
      "\u001b[34m\u001b[1mwandb\u001b[0m:     val/avg_accuracy 0.79364\n",
      "\u001b[34m\u001b[1mwandb\u001b[0m:           val/avg_f1 0.79408\n",
      "\u001b[34m\u001b[1mwandb\u001b[0m:         val/avg_loss 0.85994\n",
      "\u001b[34m\u001b[1mwandb\u001b[0m:     val/avg_mlm_loss 1.59313\n",
      "\u001b[34m\u001b[1mwandb\u001b[0m: val/avg_taskclf_loss 0.63333\n",
      "\u001b[34m\u001b[1mwandb\u001b[0m:               val/f1 0.79421\n",
      "\u001b[34m\u001b[1mwandb\u001b[0m:             val/loss 0.85963\n",
      "\u001b[34m\u001b[1mwandb\u001b[0m:         val/mlm_loss 1.5931\n",
      "\u001b[34m\u001b[1mwandb\u001b[0m:     val/taskclf_loss 0.63294\n",
      "\u001b[34m\u001b[1mwandb\u001b[0m:             val_loss 0.85994\n",
      "\u001b[34m\u001b[1mwandb\u001b[0m: \n"
     ]
    },
    {
     "name": "stderr",
     "output_type": "stream",
     "text": [
      "\u001b[34m\u001b[1mwandb\u001b[0m: 🚀 View run \u001b[33mTEG_inv_run_with_seed_10\u001b[0m at: \u001b[34m\u001b[4mhttps://wandb.ai/mrawhani/mixed_edited/runs/il1lgpe6\u001b[0m\n",
      "\u001b[34m\u001b[1mwandb\u001b[0m: ⭐️ View project at: \u001b[34m\u001b[4mhttps://wandb.ai/mrawhani/mixed_edited\u001b[0m\n",
      "\u001b[34m\u001b[1mwandb\u001b[0m: Synced 5 W&B file(s), 0 media file(s), 0 artifact file(s) and 0 other file(s)\n"
     ]
    },
    {
     "name": "stderr",
     "output_type": "stream",
     "text": [
      "\u001b[34m\u001b[1mwandb\u001b[0m: Find logs at: \u001b[35m\u001b[1m./wandb/run-20240829_193528-il1lgpe6/logs\u001b[0m\n"
     ]
    },
    {
     "name": "stderr",
     "output_type": "stream",
     "text": [
      "\u001b[34m\u001b[1mwandb\u001b[0m: - Waiting for wandb.init()...\r"
     ]
    },
    {
     "name": "stderr",
     "output_type": "stream",
     "text": [
      "\u001b[34m\u001b[1mwandb\u001b[0m: \\ Waiting for wandb.init()...\r"
     ]
    },
    {
     "name": "stderr",
     "output_type": "stream",
     "text": [
      "\u001b[34m\u001b[1mwandb\u001b[0m: wandb version 0.17.8 is available!  To upgrade, please run:\n",
      "\u001b[34m\u001b[1mwandb\u001b[0m:  $ pip install wandb --upgrade\n"
     ]
    },
    {
     "name": "stderr",
     "output_type": "stream",
     "text": [
      "\u001b[34m\u001b[1mwandb\u001b[0m: Tracking run with wandb version 0.17.0\n"
     ]
    },
    {
     "name": "stderr",
     "output_type": "stream",
     "text": [
      "\u001b[34m\u001b[1mwandb\u001b[0m: Run data is saved locally in \u001b[35m\u001b[1m/home/guest/Desktop/projects/third-experiments/domain_adaptation_project/mixed/mixed/wandb/run-20240829_204536-i9u7v5uj\u001b[0m\n",
      "\u001b[34m\u001b[1mwandb\u001b[0m: Run \u001b[1m`wandb offline`\u001b[0m to turn off syncing.\n"
     ]
    },
    {
     "name": "stderr",
     "output_type": "stream",
     "text": [
      "\u001b[34m\u001b[1mwandb\u001b[0m: Syncing run \u001b[33mTEG_inv_run_with_seed_100\u001b[0m\n"
     ]
    },
    {
     "name": "stderr",
     "output_type": "stream",
     "text": [
      "\u001b[34m\u001b[1mwandb\u001b[0m: ⭐️ View project at \u001b[34m\u001b[4mhttps://wandb.ai/mrawhani/mixed_edited\u001b[0m\n"
     ]
    },
    {
     "name": "stderr",
     "output_type": "stream",
     "text": [
      "\u001b[34m\u001b[1mwandb\u001b[0m: 🚀 View run at \u001b[34m\u001b[4mhttps://wandb.ai/mrawhani/mixed_edited/runs/i9u7v5uj\u001b[0m\n"
     ]
    },
    {
     "name": "stderr",
     "output_type": "stream",
     "text": [
      "Seed set to 100\n"
     ]
    },
    {
     "name": "stderr",
     "output_type": "stream",
     "text": [
      "/home/guest/.cache/pypoetry/virtualenvs/third-experments-xuKQSur9-py3.8/lib/python3.8/site-packages/huggingface_hub/file_download.py:1132: FutureWarning: `resume_download` is deprecated and will be removed in version 1.0.0. Downloads always resume when possible. If you want to force a new download, use `force_download=True`.\n",
      "  warnings.warn(\n"
     ]
    },
    {
     "name": "stdout",
     "output_type": "stream",
     "text": [
      "Batch size: 32\n"
     ]
    },
    {
     "name": "stdout",
     "output_type": "stream",
     "text": [
      "Source genre: telephone\n"
     ]
    },
    {
     "name": "stdout",
     "output_type": "stream",
     "text": [
      "Target genre: government\n",
      "Number of target samples: 69615\n"
     ]
    },
    {
     "name": "stdout",
     "output_type": "stream",
     "text": [
      "Source genre: telephone\n",
      "Target genre: government\n",
      "Number of target samples: 69615\n"
     ]
    },
    {
     "name": "stdout",
     "output_type": "stream",
     "text": [
      "Source dataset length: 75013\n",
      "Target dataset length: 23184\n"
     ]
    },
    {
     "name": "stderr",
     "output_type": "stream",
     "text": [
      "Some weights of BertAdapterModel were not initialized from the model checkpoint at bert-base-uncased and are newly initialized: ['heads.default.3.bias']\n",
      "You should probably TRAIN this model on a down-stream task to be able to use it for predictions and inference.\n"
     ]
    },
    {
     "name": "stderr",
     "output_type": "stream",
     "text": [
      "/home/guest/.cache/pypoetry/virtualenvs/third-experments-xuKQSur9-py3.8/lib/python3.8/site-packages/torch/utils/data/dataloader.py:558: UserWarning: This DataLoader will create 16 worker processes in total. Our suggested max number of worker in current system is 12, which is smaller than what this DataLoader is going to create. Please be aware that excessive worker creation might get DataLoader running slow or even freeze, lower the worker number to avoid potential slowness/freeze if necessary.\n",
      "  warnings.warn(_create_warning_msg(\n",
      "/home/guest/.cache/pypoetry/virtualenvs/third-experments-xuKQSur9-py3.8/lib/python3.8/site-packages/lightning_fabric/connector.py:563: `precision=16` is supported for historical reasons but its usage is discouraged. Please set your precision to 16-mixed instead!\n",
      "Using 16bit Automatic Mixed Precision (AMP)\n"
     ]
    },
    {
     "name": "stderr",
     "output_type": "stream",
     "text": [
      "GPU available: True (cuda), used: True\n"
     ]
    },
    {
     "name": "stderr",
     "output_type": "stream",
     "text": [
      "TPU available: False, using: 0 TPU cores\n"
     ]
    },
    {
     "name": "stderr",
     "output_type": "stream",
     "text": [
      "IPU available: False, using: 0 IPUs\n"
     ]
    },
    {
     "name": "stderr",
     "output_type": "stream",
     "text": [
      "HPU available: False, using: 0 HPUs\n"
     ]
    },
    {
     "name": "stderr",
     "output_type": "stream",
     "text": [
      "`Trainer(limit_train_batches=1.0)` was configured so 100% of the batches per epoch will be used..\n"
     ]
    },
    {
     "name": "stderr",
     "output_type": "stream",
     "text": [
      "`Trainer(limit_val_batches=1.0)` was configured so 100% of the batches will be used..\n"
     ]
    },
    {
     "name": "stderr",
     "output_type": "stream",
     "text": [
      "`Trainer(limit_test_batches=1.0)` was configured so 100% of the batches will be used..\n"
     ]
    },
    {
     "name": "stderr",
     "output_type": "stream",
     "text": [
      "/home/guest/.cache/pypoetry/virtualenvs/third-experments-xuKQSur9-py3.8/lib/python3.8/site-packages/pytorch_lightning/loggers/wandb.py:396: There is a wandb run already in progress and newly created instances of `WandbLogger` will reuse this run. If this is not desired, call `wandb.finish()` before instantiating `WandbLogger`.\n",
      "LOCAL_RANK: 0 - CUDA_VISIBLE_DEVICES: [0]\n"
     ]
    },
    {
     "name": "stderr",
     "output_type": "stream",
     "text": [
      "/home/guest/.cache/pypoetry/virtualenvs/third-experments-xuKQSur9-py3.8/lib/python3.8/site-packages/pytorch_lightning/core/optimizer.py:257: Found unsupported keys in the lr scheduler dict: {'reduce_lr_on_plateau'}. HINT: remove them from the output of `configure_optimizers`.\n",
      "\n",
      "  | Name          | Type               | Params\n",
      "-----------------------------------------------------\n",
      "0 | model         | BertAdapterModel   | 118 M \n",
      "1 | criterion     | CrossEntropyLoss   | 0     \n",
      "2 | mlm_criterion | CrossEntropyLoss   | 0     \n",
      "3 | accuracy      | MulticlassAccuracy | 0     \n",
      "4 | f1            | MulticlassF1Score  | 0     \n",
      "5 | f1_macro      | MulticlassF1Score  | 0     \n",
      "6 | softmax       | Softmax            | 0     \n",
      "-----------------------------------------------------\n",
      "9.2 M     Trainable params\n",
      "109 M     Non-trainable params\n",
      "118 M     Total params\n",
      "474.833   Total estimated model params size (MB)\n"
     ]
    },
    {
     "name": "stdout",
     "output_type": "stream",
     "text": [
      "eee\n"
     ]
    },
    {
     "data": {
      "application/vnd.jupyter.widget-view+json": {
       "model_id": "af0e0c925b004ecb978a6b7fa9543277",
       "version_major": 2,
       "version_minor": 0
      },
      "text/plain": [
       "Sanity Checking: |                                                                                            …"
      ]
     },
     "metadata": {},
     "output_type": "display_data"
    },
    {
     "name": "stdout",
     "output_type": "stream",
     "text": [
      "val/accuracy: 0.328125\n",
      "val/f1: 0.4406413435935974\n",
      "val/taskclf_loss: 1.1151657104492188\n",
      "val/loss: 1.252110481262207\n",
      "val/mlm_loss: 1.6952016353607178\n"
     ]
    },
    {
     "data": {
      "application/vnd.jupyter.widget-view+json": {
       "model_id": "c4c6ad4ba5394a999ff6885262c5f2c0",
       "version_major": 2,
       "version_minor": 0
      },
      "text/plain": [
       "Training: |                                                                                                   …"
      ]
     },
     "metadata": {},
     "output_type": "display_data"
    },
    {
     "data": {
      "application/vnd.jupyter.widget-view+json": {
       "model_id": "c1eefab0c3f543598ea8bbf545b7dbb5",
       "version_major": 2,
       "version_minor": 0
      },
      "text/plain": [
       "Validation: |                                                                                                 …"
      ]
     },
     "metadata": {},
     "output_type": "display_data"
    },
    {
     "name": "stdout",
     "output_type": "stream",
     "text": [
      "val/accuracy: 0.762507975101471\n",
      "val/f1: 0.7618508338928223\n",
      "val/taskclf_loss: 0.5767050981521606\n",
      "val/loss: 0.8293492197990417\n",
      "val/mlm_loss: 1.6467918157577515\n"
     ]
    },
    {
     "data": {
      "application/vnd.jupyter.widget-view+json": {
       "model_id": "868bd985a7b043bdbd1b9c5587eaefe3",
       "version_major": 2,
       "version_minor": 0
      },
      "text/plain": [
       "Validation: |                                                                                                 …"
      ]
     },
     "metadata": {},
     "output_type": "display_data"
    },
    {
     "name": "stdout",
     "output_type": "stream",
     "text": [
      "val/accuracy: 0.7785360813140869\n",
      "val/f1: 0.7782381176948547\n",
      "val/taskclf_loss: 0.5655495524406433\n",
      "val/loss: 0.8193967342376709\n",
      "val/mlm_loss: 1.6407320499420166\n"
     ]
    },
    {
     "data": {
      "application/vnd.jupyter.widget-view+json": {
       "model_id": "cfd45146d2d14aef9c066dd252973e94",
       "version_major": 2,
       "version_minor": 0
      },
      "text/plain": [
       "Validation: |                                                                                                 …"
      ]
     },
     "metadata": {},
     "output_type": "display_data"
    },
    {
     "name": "stdout",
     "output_type": "stream",
     "text": [
      "val/accuracy: 0.7885057330131531\n",
      "val/f1: 0.7891703844070435\n",
      "val/taskclf_loss: 0.5689126253128052\n",
      "val/loss: 0.8169810771942139\n",
      "val/mlm_loss: 1.6196187734603882\n"
     ]
    }
   ],
   "source": [
    "reload(processed)\n",
    "for seed in seeds:\n",
    "    wandb.init(project=project_name, name=f'{domain}_{type}_run_with_seed_{seed}', config={'seed': seed})\n",
    "\n",
    "    try:\n",
    "        seed_everything(seed)\n",
    "\n",
    "        hparams = {\n",
    "            \"source_target\": \"telephone_government\",\n",
    "            \"source_domain\": \"telephone\",\n",
    "            \"target_domain\": \"government\",\n",
    "            \"domain_adapter_name\": \"mlm_inv_G\",\n",
    "            \"task_adapter_name\": \"task_TEG\",\n",
    "            \"pretrained_model_name\": \"bert-base-uncased\",\n",
    "            \"padding\": \"max_length\",\n",
    "            \"max_seq_length\": 128,\n",
    "            \"bsz\": 32,\n",
    "            \"num_classes\": 3,\n",
    "            \"learning_rate\": 1e-4,\n",
    "            \"reduction_factor\": 16,\n",
    "            \"mode\": \"domain\",\n",
    "            \"saved_adapter_dir\": \"../../saved/adapters\",\n",
    "        }\n",
    "\n",
    "        save_dir = \"checkpoints\"\n",
    "        save_epoch_3 = 6  # Save model at the 3rd epoch\n",
    "        \n",
    "        dm = processed.DataModuleSourceTargetMixed(hparams)\n",
    "        dm.setup('fit')\n",
    "        dm.setup(\"test\")\n",
    "        source_length, target_length = dm.get_dataset_lengths()\n",
    "        print(f\"Source dataset length: {source_length}\")\n",
    "        print(f\"Target dataset length: {target_length}\")\n",
    "        model = JointDomainTaskAdapter(hparams,source_length,target_length)\n",
    "\n",
    "        checkpoint_callback = ModelCheckpoint(\n",
    "            filename=\"task-TEG-{epoch:02d}-{val_loss:.2f}\",\n",
    "            save_top_k=1,\n",
    "            monitor=\"val_loss\",\n",
    "            mode=\"min\",\n",
    "        )\n",
    "        save_model_callback_epoch = ModelCheckpoint(\n",
    "            filename=\"TEG-{epoch:02d}\",\n",
    "            every_n_epochs=save_epoch_3,\n",
    "            save_top_k=-1,\n",
    "        )\n",
    "\n",
    "        wandb_logger = WandbLogger()\n",
    "\n",
    "    except Exception as e:\n",
    "        print(f\"Error during preprocessing : {e}\")\n",
    "\n",
    "    try:\n",
    "        train_loader = dm.train_dataloader()\n",
    "        val_loader = dm.val_dataloader()\n",
    "        trainer = Trainer(\n",
    "            max_epochs=10,\n",
    "            accelerator=\"auto\",\n",
    "            precision=16,\n",
    "            \n",
    "            default_root_dir=\"checkpoints\",\n",
    "            logger=wandb_logger,\n",
    "            callbacks=[checkpoint_callback, save_model_callback_epoch],\n",
    "            limit_train_batches=1.0,\n",
    "            limit_val_batches=1.0,\n",
    "            limit_test_batches=1.0,\n",
    "        )\n",
    "\n",
    "        trainer.fit(model, train_loader, val_loader)\n",
    "        print(f\"Best checkpoint path: {checkpoint_callback.best_model_path}\")\n",
    "        print(f\"Saved epoch checkpoint path: {save_model_callback_epoch.best_model_path}\")\n",
    "    except Exception as e:\n",
    "        print(f\"Error during training : {e}\")\n",
    "\n",
    "    try:\n",
    "        dm.setup(\"test\")\n",
    "        test_loader = dm.test_dataloader()\n",
    "        test_results_last = trainer.test(model, test_loader)\n",
    "        print(\"Test Results Last Epoch:\", test_results_last)\n",
    "\n",
    "        # Collect results for last epoch model\n",
    "        for key, value in test_results_last[0].items():\n",
    "            results[\"last_epoch\"][key].append(value)\n",
    "\n",
    "        # Paths to the saved checkpoints\n",
    "        best_checkpoint_path = checkpoint_callback.best_model_path\n",
    "        saved_epoch_checkpoint_path = save_model_callback_epoch.best_model_path\n",
    "        print(f\"Best checkpoint path: {best_checkpoint_path}\")\n",
    "        print(f\"Saved epoch checkpoint path: {saved_epoch_checkpoint_path}\")\n",
    "\n",
    "        best_model = JointDomainTaskAdapter.load_from_checkpoint(best_checkpoint_path,source_dataset_length=source_length, target_dataset_length=target_length)\n",
    "        test_results_best = trainer.test(best_model, test_loader)\n",
    "        print(\"Test Results on Best Model:\", test_results_best)\n",
    "        for key, value in test_results_best[0].items():\n",
    "            results[\"best_model\"][key].append(value)\n",
    "\n",
    "        saved_epoch_model = JointDomainTaskAdapter.load_from_checkpoint(saved_epoch_checkpoint_path,source_dataset_length=source_length, target_dataset_length=target_length)\n",
    "        test_results_saved_epoch = trainer.test(saved_epoch_model, test_loader)\n",
    "        print(\"Test Results on saved epoch:\", test_results_saved_epoch)\n",
    "        for key, value in test_results_saved_epoch[0].items():\n",
    "            results[\"epoch_saved\"][key].append(value)\n",
    "\n",
    "    except Exception as e:\n",
    "        print(f\"Error during testing: {e}\")\n",
    "\n",
    "    wandb.finish()"
   ]
  },
  {
   "cell_type": "code",
   "execution_count": null,
   "id": "14210a4f",
   "metadata": {
    "papermill": {
     "duration": null,
     "end_time": null,
     "exception": null,
     "start_time": null,
     "status": "pending"
    },
    "tags": []
   },
   "outputs": [],
   "source": [
    "results.items()"
   ]
  },
  {
   "cell_type": "code",
   "execution_count": null,
   "id": "34db55cb",
   "metadata": {
    "papermill": {
     "duration": null,
     "end_time": null,
     "exception": null,
     "start_time": null,
     "status": "pending"
    },
    "tags": []
   },
   "outputs": [],
   "source": [
    "# Calculate mean and standard deviation for each scenario\n",
    "mean_results = {scenario: {key: np.mean(values) for key, values in metrics.items()} for scenario, metrics in results.items()}\n",
    "std_results = {scenario: {key: np.std(values) for key, values in metrics.items()} for scenario, metrics in results.items()}\n",
    "\n",
    "# Log mean and standard deviation results to wandb\n",
    "wandb.init(project=project_name, name=f'{domain}_mean_results')\n",
    "for scenario in mean_results:\n",
    "    for key, value in mean_results[scenario].items():\n",
    "        wandb.log({f\"{scenario}/{key}\": value})\n",
    "        wandb.log({f\"{scenario}/{key}_std\": std_results[scenario][key]})\n",
    "wandb.finish()\n",
    "\n",
    "print(\"Mean Results:\", mean_results)\n",
    "print(\"Standard Deviation Results:\", std_results)\n",
    "\n",
    "# # Save the best model's adapter\n",
    "# if model:\n",
    "#     adapter_save_path = f\"../../saved/adapter_after_run/{hparams['task_adapter_name']}\"\n",
    "#     model.save_adapter(adapter_save_path, hparams['task_adapter_name'])\n",
    "#     print(f\"Adapter saved to {adapter_save_path}\")\n",
    "# else:\n",
    "#     print(\"No best model to save.\")"
   ]
  },
  {
   "cell_type": "code",
   "execution_count": null,
   "id": "2a2f3ab0",
   "metadata": {
    "papermill": {
     "duration": null,
     "end_time": null,
     "exception": null,
     "start_time": null,
     "status": "pending"
    },
    "tags": []
   },
   "outputs": [],
   "source": [
    "print('dones')"
   ]
  },
  {
   "cell_type": "code",
   "execution_count": null,
   "id": "83012af2",
   "metadata": {
    "papermill": {
     "duration": null,
     "end_time": null,
     "exception": null,
     "start_time": null,
     "status": "pending"
    },
    "tags": []
   },
   "outputs": [],
   "source": [
    "best_val_loss"
   ]
  },
  {
   "cell_type": "code",
   "execution_count": null,
   "id": "e59d86ac",
   "metadata": {
    "papermill": {
     "duration": null,
     "end_time": null,
     "exception": null,
     "start_time": null,
     "status": "pending"
    },
    "tags": []
   },
   "outputs": [],
   "source": []
  }
 ],
 "metadata": {
  "kernelspec": {
   "display_name": ".venv",
   "language": "python",
   "name": "python3"
  },
  "language_info": {
   "codemirror_mode": {
    "name": "ipython",
    "version": 3
   },
   "file_extension": ".py",
   "mimetype": "text/x-python",
   "name": "python",
   "nbconvert_exporter": "python",
   "pygments_lexer": "ipython3",
   "version": "3.8.10"
  },
  "papermill": {
   "default_parameters": {},
   "duration": null,
   "end_time": null,
   "environment_variables": {},
   "exception": null,
   "input_path": "TEG_inv_mixed.ipynb",
   "output_path": "TEG_inv_mixed.ipynb",
   "parameters": {},
   "start_time": "2024-08-29T15:25:28.046759",
   "version": "2.6.0"
  }
 },
 "nbformat": 4,
 "nbformat_minor": 5
}