{
 "cells": [
  {
   "cell_type": "code",
   "execution_count": 1,
   "metadata": {},
   "outputs": [
    {
     "data": {
      "text/plain": [
       "0"
      ]
     },
     "execution_count": 1,
     "metadata": {},
     "output_type": "execute_result"
    }
   ],
   "source": [
    "\n",
    "import torch\n",
    "import gc\n",
    "torch.cuda.empty_cache()\n",
    "gc.collect()\n"
   ]
  },
  {
   "cell_type": "code",
   "execution_count": 2,
   "metadata": {},
   "outputs": [
    {
     "name": "stdout",
     "output_type": "stream",
     "text": [
      "['/home/guest/Desktop/projects/third-experiments/domain_adaptation_project/mixed/government', '/usr/lib/python38.zip', '/usr/lib/python3.8', '/usr/lib/python3.8/lib-dynload', '', '/home/guest/.cache/pypoetry/virtualenvs/third-experments-xuKQSur9-py3.8/lib/python3.8/site-packages', '/tmp/tmpk_v5fhyt', '/home/guest/Desktop/projects/third-experiments/domain_adaptation_project/modules']\n"
     ]
    },
    {
     "name": "stderr",
     "output_type": "stream",
     "text": [
      "2024-06-14 14:24:32.433134: I tensorflow/core/util/port.cc:110] oneDNN custom operations are on. You may see slightly different numerical results due to floating-point round-off errors from different computation orders. To turn them off, set the environment variable `TF_ENABLE_ONEDNN_OPTS=0`.\n",
      "2024-06-14 14:24:32.609219: I tensorflow/core/platform/cpu_feature_guard.cc:182] This TensorFlow binary is optimized to use available CPU instructions in performance-critical operations.\n",
      "To enable the following instructions: AVX2 AVX512F AVX512_VNNI FMA, in other operations, rebuild TensorFlow with the appropriate compiler flags.\n",
      "2024-06-14 14:24:33.341926: W tensorflow/compiler/tf2tensorrt/utils/py_utils.cc:38] TF-TRT Warning: Could not find TensorRT\n"
     ]
    },
    {
     "name": "stdout",
     "output_type": "stream",
     "text": [
      "./text-files/\n",
      "./hp-model-\n"
     ]
    }
   ],
   "source": [
    "import os\n",
    "os.environ[\"TOKENIZERS_PARALLELISM\"] = \"false\"\n",
    "# Initialize the console\n",
    "\n",
    "# Step 2: Import necessary libraries\n",
    "from typing import Optional, Dict, Any\n",
    "import os\n",
    "import torch\n",
    "import pytorch_lightning as pl\n",
    "import pandas as pd\n",
    "from transformers import AutoTokenizer\n",
    "from torch.utils.data import Dataset, DataLoader\n",
    "from rich.traceback import install\n",
    "from pytorch_lightning.loggers import WandbLogger\n",
    "import torch.nn as nn\n",
    "import torch.optim as optim\n",
    "from transformers import AutoConfig\n",
    "from adapters import AutoAdapterModel, AdapterConfig\n",
    "from adapters.composition import Stack\n",
    "from pytorch_lightning import seed_everything, Trainer\n",
    "from pytorch_lightning.callbacks import ModelCheckpoint,EarlyStopping\n",
    "import torchmetrics\n",
    "\n",
    "install(show_locals=True)\n",
    "\n",
    "from setup import setup_src_path\n",
    "print(setup_src_path())\n",
    "import data.processed as processed\n",
    "import config.config as config\n",
    "import utils.setup as setup\n",
    "import utils.functions as fn\n",
    "from importlib import reload\n",
    "\n",
    "from datasets import load_from_disk\n",
    "\n",
    "print(config.Config.TXT_SAVE_PATH)\n",
    "print(config.Config.MODEL_SAVE_PATH)\n",
    "\n",
    "dataset = load_from_disk(f\"../{config.Config.DATASETS_SAVE_PATH}/datasets\")\n"
   ]
  },
  {
   "cell_type": "code",
   "execution_count": 3,
   "metadata": {},
   "outputs": [],
   "source": [
    "# Step 4: Define the DomainTaskAdapter class\n",
    "\n",
    "\n",
    "\n",
    "class DomainTaskAdapter(pl.LightningModule):\n",
    "    def __init__(self, hparams):\n",
    "        super(DomainTaskAdapter, self).__init__()\n",
    "        self.save_hyperparameters(hparams)\n",
    "        self.config = AutoConfig.from_pretrained(self.hparams[\"pretrained_model_name\"])\n",
    "        self.config.output_hidden_states = True\n",
    "        self.model = AutoAdapterModel.from_pretrained(self.hparams[\"pretrained_model_name\"], config=self.config)\n",
    "              # Define the tokenizer\n",
    "        self.tokenizer = AutoTokenizer.from_pretrained(self.hparams[\"pretrained_model_name\"])\n",
    "        self.n = self.hparams[\"source_len\"]  # Number of labeled source samples\n",
    "        self.m = self.hparams[\"target_len\"]  # Number of unlabeled target samples\n",
    "        self.lambda_factor = self.n / (self.n + self.m)\n",
    "        \n",
    "        self.reduction_factor = self.hparams.get(\"reduction_factor\", 16)\n",
    "        if self.reduction_factor == \"None\":\n",
    "            self.reduction_factor = 16\n",
    "        self.leave_out = self.hparams.get(\"leave_out\", [])\n",
    "       \n",
    "        self.saved_adapter_dir = self.hparams[\"saved_adapter_dir\"]\n",
    "        self.domain_adapter_name = self.hparams[\"domain_adapter_name\"]\n",
    "        self.task_adapter_name = self.hparams[\"task_adapter_name\"]\n",
    "        \n",
    "        adapter_config = AdapterConfig.load(\"lora\", r=8, alpha=16)\n",
    "        self.model.add_adapter(self.task_adapter_name, config=adapter_config)\n",
    "        self.model.load_adapter(f\"{self.saved_adapter_dir}/{self.domain_adapter_name}\")\n",
    "        self.model.add_classification_head(self.task_adapter_name, num_labels=self.hparams[\"num_classes\"])\n",
    "\n",
    "        #self.model.add_classification_head(self.task_adapter_name, num_labels=self.hparams[\"num_classes\"])\n",
    "        self.model.active_adapters = Stack(self.domain_adapter_name, self.task_adapter_name)\n",
    "\n",
    "        self.model.train_adapter(Stack(self.domain_adapter_name, self.task_adapter_name))\n",
    "        print(self.model.adapter_summary())\n",
    "        print(fn.print_trainable_parameters(self.model))\n",
    "        print(self.model.active_head)\n",
    "\n",
    "\n",
    "        self.training_outputs = []\n",
    "        self.validation_outputs = []\n",
    "        self.test_outputs = []\n",
    "        self.criterion = nn.CrossEntropyLoss()\n",
    "        self.accuracy = torchmetrics.Accuracy(task='multiclass',                                           \n",
    "                                     num_classes=self.hparams[\"num_classes\"])\n",
    "        self.f1 = torchmetrics.F1Score(task='multiclass',num_classes=self.hparams[\"num_classes\"], average=\"macro\")\n",
    "        self.softmax = nn.Softmax(dim=1)\n",
    "    def forward(self, input_ids, attention_mask):\n",
    "        outputs = self.model(input_ids=input_ids, attention_mask=attention_mask)\n",
    "        return outputs.logits\n",
    "\n",
    "    def compute_mlm_loss(self, input_ids, attention_mask):\n",
    "        labels = input_ids.clone()\n",
    "        probability_matrix = torch.full(labels.shape, 0.15)\n",
    "        special_tokens_mask = [\n",
    "            self.tokenizer.get_special_tokens_mask(val, already_has_special_tokens=True) for val in labels\n",
    "        ]\n",
    "        probability_matrix.masked_fill_(torch.tensor(special_tokens_mask, dtype=torch.bool), value=0.0)\n",
    "        masked_indices = torch.bernoulli(probability_matrix).bool()\n",
    "        labels[~masked_indices] = -100  # We only compute loss on masked tokens\n",
    "        input_ids[masked_indices] = self.tokenizer.convert_tokens_to_ids(self.tokenizer.mask_token)\n",
    "        self.model.active_head = self.domain_adapter_name\n",
    "        outputs = self.model(input_ids=input_ids, attention_mask=attention_mask, labels=labels)\n",
    "        return outputs.loss\n",
    "    \n",
    "    def training_step(self, batch, batch_idx):\n",
    "        input_ids, attention_mask = batch[\"source_input_ids\"], batch[\"source_attention_mask\"]\n",
    "        labels = batch[\"label_source\"]\n",
    "        self.model.active_head = self.task_adapter_name\n",
    "\n",
    "        logits = self(input_ids=input_ids, attention_mask=attention_mask)\n",
    "        loss = self.criterion(logits, labels)\n",
    "        accuracy = self.accuracy(labels, torch.argmax(self.softmax(logits), dim=1))\n",
    "        f1 = self.f1(labels, torch.argmax(self.softmax(logits), dim=1))\n",
    "                # Target domain data for MLM\n",
    "        target_input_ids, target_attention_mask = batch[\"target_input_ids\"], batch[\"target_attention_mask\"]\n",
    "                # Forward pass for MLM task\n",
    "        mlm_loss = self.compute_mlm_loss(target_input_ids, target_attention_mask)\n",
    "                # Mixed loss\n",
    "        mixed_loss = self.lambda_factor * loss + (1 - self.lambda_factor) * mlm_loss\n",
    "\n",
    "        self.log(\"train_classification_loss\", loss)\n",
    "        self.log(\"train_mlm_loss\", mlm_loss)\n",
    "        self.log(\"train_mixed_loss\", mixed_loss)\n",
    "\n",
    "        self.log(\"train_accuracy\", accuracy)\n",
    "        self.log(\"train_f1\", f1)\n",
    "        return mixed_loss\n",
    "\n",
    "\n",
    "    def validation_step(self, batch, batch_idx):\n",
    "        \"\"\"validation step of DomainTaskAdapter\"\"\"\n",
    "        # get the input ids and attention mask for source data\n",
    "        input_ids, attention_mask = batch[\"source_input_ids\"], batch[\"source_attention_mask\"]\n",
    "        self.model.active_head = self.task_adapter_name\n",
    "\n",
    "        logits = self(input_ids=input_ids, attention_mask=attention_mask)\n",
    "        labels = batch[\"label_source\"]\n",
    "        source_loss = self.criterion(logits, labels)\n",
    "        source_accuracy = self.accuracy(labels, torch.argmax(self.softmax(logits), dim=1))\n",
    "        source_f1 = self.f1(labels, torch.argmax(self.softmax(logits), dim=1))\n",
    "\n",
    "        # get the input ids and attention mask for target data\n",
    "        input_ids, attention_mask = batch[\"target_input_ids\"], batch[\"target_attention_mask\"]\n",
    "\n",
    "        logits = self(input_ids=input_ids, attention_mask=attention_mask)\n",
    "        labels = batch[\"label_target\"]\n",
    "        target_loss = self.criterion(logits, labels)\n",
    "        target_accuracy = self.accuracy(labels, torch.argmax(self.softmax(logits), dim=1))\n",
    "        target_f1 = self.f1(labels, torch.argmax(self.softmax(logits), dim=1))\n",
    "        # Target domain data for MLM\n",
    "        mlm_loss = self.compute_mlm_loss(input_ids, attention_mask)\n",
    "             # Mixed validation loss\n",
    "        mixed_val_loss = self.lambda_factor * source_loss + (1 - self.lambda_factor) * mlm_loss\n",
    "        # this will log the mean div value across epoch\n",
    "        self.log(\"target_val/mlm_loss\", mlm_loss)\n",
    "        self.log(\"source_val/mixed_val_loss\", mixed_val_loss)\n",
    "        self.log(name=\"source_val/loss\", value=source_loss, prog_bar=True, logger=True)\n",
    "        self.log(name=\"source_val/accuracy\", value=source_accuracy, prog_bar=True, logger=True)\n",
    "        self.log(name=\"target_val/loss\", value=target_loss, prog_bar=True, logger=True)\n",
    "        self.log(name=\"target_val/accuracy\", value=target_accuracy, prog_bar=True, logger=True)\n",
    "        self.log(name=\"target_val/f1\", value=target_f1, prog_bar=True, logger=True)\n",
    "        self.log(name=\"source_val/f1\", value=source_f1, prog_bar=True, logger=True)\n",
    "        self.validation_outputs.append({\n",
    "            \"source_val/loss\": source_loss,\n",
    "            \"source_val/accuracy\": source_accuracy,\n",
    "            \"source_val/f1\": source_f1,\n",
    "            \"target_val/loss\": target_loss,\n",
    "            \"target_val/accuracy\": target_accuracy,\n",
    "            \"target_val/f1\": target_f1,\n",
    "            \"target_val/mlm_loss\": mlm_loss,\n",
    "            \"source_val/mixed_val_loss\": mixed_val_loss,\n",
    "            \n",
    "            })\n",
    "        return {\n",
    "            \"source_val/loss\": source_loss,\n",
    "            \"source_val/accuracy\": source_accuracy,\n",
    "            \"source_val/f1\": source_f1,\n",
    "            \"target_val/loss\": target_loss,\n",
    "            \"target_val/accuracy\": target_accuracy,\n",
    "            \"target_val/f1\": target_f1,\n",
    "             \"target_val/mlm_loss\": mlm_loss,\n",
    "            \"source_val/mixed_val_loss\": mixed_val_loss,\n",
    "        }    \n",
    "    def on_validation_epoch_start(self):\n",
    "        self.validation_outputs = []\n",
    "    \n",
    "    def on_validation_epoch_end(self):\n",
    "        outputs= self.validation_outputs\n",
    "        mean_source_loss = torch.stack([x[\"source_val/loss\"] for x in outputs]).mean()\n",
    "        mean_source_accuracy = torch.stack([x[\"source_val/accuracy\"] for x in outputs]).mean()\n",
    "        mean_source_f1 = torch.stack([x[\"source_val/f1\"] for x in outputs]).mean()\n",
    "\n",
    "        mean_target_loss = torch.stack([x[\"target_val/loss\"] for x in outputs]).mean()\n",
    "        mean_target_accuracy = torch.stack([x[\"target_val/accuracy\"] for x in outputs]).mean()\n",
    "        mean_target_f1 = torch.stack([x[\"target_val/f1\"] for x in outputs]).mean()\n",
    "        mean_mixed_loss= torch.stack([x[\"source_val/mixed_val_loss\"] for x in outputs]).mean()\n",
    "        print(f\"target_val/loss: {mean_target_loss}\")\n",
    "        print(f\"target_val/accuracy: {mean_target_accuracy}\")\n",
    "        print(f\"target_val/f1: {mean_target_accuracy}\")\n",
    "        print(f\"source_val/loss: {mean_target_loss}\")\n",
    "        print(f\"source_val/accuracy: {mean_target_accuracy}\")\n",
    "        print(f\"source_val/f1: {mean_target_accuracy}\")\n",
    "        print(f\"mean_mixed_loss: {mean_mixed_loss}\")\n",
    "        # this will log the mean div value across epoch\n",
    "        self.log(name=\"source_val/loss\", value=mean_source_loss, prog_bar=True, logger=True)\n",
    "        self.log(name=\"source_val/accuracy\", value=mean_source_accuracy, prog_bar=True, logger=True)\n",
    "\n",
    "        self.log(name=\"source_val/f1\", value=mean_source_f1, prog_bar=True, logger=True)\n",
    "        self.log(name=\"source_val/mixed_val_loss\", value=mean_mixed_loss, prog_bar=True, logger=True)\n",
    "\n",
    "        self.log(name=\"target_val/loss\", value=mean_target_loss, prog_bar=True, logger=True)\n",
    "        self.log(name=\"target_val/accuracy\", value=mean_target_accuracy, prog_bar=True, logger=True)\n",
    "        self.log(name=\"target_val/f1\", value=mean_target_f1, prog_bar=True, logger=True)\n",
    "                     # Log `val_loss` as `mean_source_loss`\n",
    "        self.log(\"val_loss\", mean_mixed_loss)\n",
    "\n",
    "\n",
    "\n",
    "    def test_step(self, batch, batch_idx):\n",
    "        \"\"\"validation step of DomainTaskAdapter\"\"\"\n",
    "        # get the input ids and attention mask for source data\n",
    "        input_ids, attention_mask = batch[\"source_input_ids\"], batch[\"source_attention_mask\"]\n",
    "        self.model.active_head = self.task_adapter_name\n",
    "\n",
    "        logits = self(input_ids=input_ids, attention_mask=attention_mask)\n",
    "        labels = batch[\"label_source\"]\n",
    "        source_loss = self.criterion(logits, labels)\n",
    "        source_accuracy = self.accuracy(labels, torch.argmax(self.softmax(logits), dim=1))\n",
    "        source_f1 = self.f1(labels, torch.argmax(self.softmax(logits), dim=1))\n",
    "\n",
    "        # get the input ids and attention mask for target data\n",
    "        input_ids, attention_mask = batch[\"target_input_ids\"], batch[\"target_attention_mask\"]\n",
    "        logits = self(input_ids=input_ids, attention_mask=attention_mask)\n",
    "        labels = batch[\"label_target\"]\n",
    "        target_loss = self.criterion(logits, labels)\n",
    "        target_accuracy = self.accuracy(labels, torch.argmax(self.softmax(logits), dim=1))\n",
    "        target_f1 = self.f1(labels, torch.argmax(self.softmax(logits), dim=1))\n",
    "\n",
    "        # this will log the mean div value across epoch\n",
    "        self.log(name=\"source_test/loss\", value=source_loss)\n",
    "        self.log(name=\"source_test/accuracy\", value=source_accuracy)\n",
    "        self.log(name=\"target_test/loss\", value=target_loss)\n",
    "        self.log(name=\"target_test/accuracy\", value=target_accuracy)\n",
    "        self.log(name=\"target_test/f1\", value=target_f1)\n",
    "        self.log(name=\"source_test/f1\", value=source_f1)\n",
    "        self.test_outputs.append({\n",
    "            \"source_test/loss\": source_loss,\n",
    "            \"source_test/accuracy\": source_accuracy,\n",
    "            \"source_test/f1\": source_f1,\n",
    "            \"target_test/loss\": target_loss,\n",
    "            \"target_test/accuracy\": target_accuracy,\n",
    "            \"target_test/f1\": target_f1,\n",
    "         })\n",
    "        # need not to log here (or we can do it but let's log at the end of each epoch)\n",
    "        return {\n",
    "            \"source_test/loss\": source_loss,\n",
    "            \"source_test/accuracy\": source_accuracy,\n",
    "            \"source_test/f1\": source_f1,\n",
    "            \"target_test/loss\": target_loss,\n",
    "            \"target_test/accuracy\": target_accuracy,\n",
    "            \"target_test/f1\": target_f1,\n",
    "        }\n",
    "    def on_test_epoch_start(self):\n",
    "        self.test_outputs = []\n",
    "    def on_test_epoch_end(self):\n",
    "        outputs=  self.test_outputs\n",
    "        mean_source_loss = torch.stack([x[\"source_test/loss\"] for x in outputs]).mean()\n",
    "        mean_source_accuracy = torch.stack([x[\"source_test/accuracy\"] for x in outputs]).mean()\n",
    "        mean_source_f1 = torch.stack([x[\"source_test/f1\"] for x in outputs]).mean()\n",
    "\n",
    "        mean_target_loss = torch.stack([x[\"target_test/loss\"] for x in outputs]).mean()\n",
    "        mean_target_accuracy = torch.stack([x[\"target_test/accuracy\"] for x in outputs]).mean()\n",
    "        mean_target_f1 = torch.stack([x[\"target_test/f1\"] for x in outputs]).mean()\n",
    "\n",
    "        # this will log the mean div value across epoch\n",
    "        self.log(name=\"source_test/loss\", value=mean_source_loss)\n",
    "        self.log(name=\"source_test/accuracy\", value=mean_source_accuracy)\n",
    "        self.log(name=\"target_test/loss\", value=mean_target_loss)\n",
    "        self.log(name=\"target_test/accuracy\", value=mean_target_accuracy)\n",
    "        self.log(name=\"target_test/f1\", value=mean_target_f1)\n",
    "        self.log(name=\"source_test/f1\", value=mean_source_f1)\n",
    "    def save_adapter(self, location, adapter_name):\n",
    "        self.model.save_adapter(location, adapter_name)\n",
    "    def configure_optimizers(self):\n",
    "        optimizer = optim.AdamW(self.parameters(), lr=self.hparams[\"learning_rate\"])\n",
    "        lr_scheduler = {\n",
    "            'scheduler': optim.lr_scheduler.ReduceLROnPlateau(optimizer, mode='min', factor=0.1, patience=2, threshold=0.0001, cooldown=0, min_lr=1e-8),\n",
    "            'monitor': 'val_loss'\n",
    "        }\n",
    "        return [optimizer], [lr_scheduler]\n"
   ]
  },
  {
   "cell_type": "code",
   "execution_count": 4,
   "metadata": {},
   "outputs": [
    {
     "name": "stderr",
     "output_type": "stream",
     "text": [
      "Failed to detect the name of this notebook, you can set it manually with the WANDB_NOTEBOOK_NAME environment variable to enable code saving.\n",
      "\u001b[34m\u001b[1mwandb\u001b[0m: Currently logged in as: \u001b[33mmrawhani5\u001b[0m (\u001b[33mmrawhani\u001b[0m). Use \u001b[1m`wandb login --relogin`\u001b[0m to force relogin\n"
     ]
    }
   ],
   "source": [
    "# Step 5: Training and Evaluation Loop with Wandb logging\n",
    "import wandb\n",
    "wandb.login()\n",
    "# Wandb setup and training loop\n",
    "seeds = [42,10,100]  # List of seeds\n",
    "project_name = 'mix'  # Replace with your wandb project name\n",
    "domain = 'telephone_government_f1'  # Replace with the specific domain for this notebook\n",
    "type = 'invLora_stack'  # Replace with the specific type for this notebook\n",
    "domain_aprev ='TEG'\n",
    "results = {\n",
    "    \"source_val/loss\": [],\n",
    "    \"source_val/accuracy\": [],\n",
    "    \"source_val/f1\": [],\n",
    "    \"target_val/loss\": [],\n",
    "    \"target_val/accuracy\": [],\n",
    "    \"target_val/f1\": [],\n",
    "    \"source_test/loss\": [],\n",
    "    \"source_test/accuracy\": [],\n",
    "    \"source_test/f1\": [],\n",
    "    \"target_test/loss\": [],\n",
    "    \"target_test/accuracy\": [],\n",
    "    \"target_test/f1\": [],\n",
    "}\n",
    "\n",
    "best_val_loss = float('inf')\n",
    "best_model = None\n",
    "best_model_path = \"\"\n"
   ]
  },
  {
   "cell_type": "code",
   "execution_count": 5,
   "metadata": {},
   "outputs": [
    {
     "name": "stderr",
     "output_type": "stream",
     "text": [
      "Seed set to 42\n"
     ]
    },
    {
     "name": "stderr",
     "output_type": "stream",
     "text": [
      "/home/guest/.cache/pypoetry/virtualenvs/third-experments-xuKQSur9-py3.8/lib/python3.8/site-packages/huggingface_hub/file_download.py:1132: FutureWarning: `resume_download` is deprecated and will be removed in version 1.0.0. Downloads always resume when possible. If you want to force a new download, use `force_download=True`.\n",
      "  warnings.warn(\n"
     ]
    },
    {
     "name": "stdout",
     "output_type": "stream",
     "text": [
      "prinssst: telephone\n",
      "print: government\n",
      "print: 69615\n",
      "prinssst: telephone\n",
      "print: government\n",
      "print: 69615\n"
     ]
    },
    {
     "name": "stderr",
     "output_type": "stream",
     "text": [
      "/home/guest/.cache/pypoetry/virtualenvs/third-experments-xuKQSur9-py3.8/lib/python3.8/site-packages/torch/utils/data/dataloader.py:558: UserWarning: This DataLoader will create 16 worker processes in total. Our suggested max number of worker in current system is 12, which is smaller than what this DataLoader is going to create. Please be aware that excessive worker creation might get DataLoader running slow or even freeze, lower the worker number to avoid potential slowness/freeze if necessary.\n",
      "  warnings.warn(_create_warning_msg(\n",
      "Some weights of BertAdapterModel were not initialized from the model checkpoint at bert-base-uncased and are newly initialized: ['heads.default.3.bias']\n",
      "You should probably TRAIN this model on a down-stream task to be able to use it for predictions and inference.\n",
      "GPU available: True (cuda), used: True\n",
      "TPU available: False, using: 0 TPU cores\n",
      "IPU available: False, using: 0 IPUs\n",
      "HPU available: False, using: 0 HPUs\n",
      "`Trainer(limit_train_batches=1.0)` was configured so 100% of the batches per epoch will be used..\n",
      "`Trainer(limit_val_batches=1.0)` was configured so 100% of the batches will be used..\n",
      "`Trainer(limit_test_batches=1.0)` was configured so 100% of the batches will be used..\n"
     ]
    },
    {
     "name": "stdout",
     "output_type": "stream",
     "text": [
      "================================================================================\n",
      "Name                     Architecture         #Param      %Param  Active   Train\n",
      "--------------------------------------------------------------------------------\n",
      "mixed_aug_TEG_task_invLora_f1lora                294,912       0.269       1       1\n",
      "mlm_inv_G_aug            bottleneck        7,387,776       6.748       1       1\n",
      "--------------------------------------------------------------------------------\n",
      "Full model                               109,482,240     100.000               0\n",
      "================================================================================\n",
      "trainable params: 9520887 || all params: 119003127 || trainable%: 8.000535145601678\n",
      "None\n",
      "mixed_aug_TEG_task_invLora_f1\n"
     ]
    },
    {
     "data": {
      "text/html": [
       "wandb version 0.17.1 is available!  To upgrade, please run:\n",
       " $ pip install wandb --upgrade"
      ],
      "text/plain": [
       "<IPython.core.display.HTML object>"
      ]
     },
     "metadata": {},
     "output_type": "display_data"
    },
    {
     "data": {
      "text/html": [
       "Tracking run with wandb version 0.17.0"
      ],
      "text/plain": [
       "<IPython.core.display.HTML object>"
      ]
     },
     "metadata": {},
     "output_type": "display_data"
    },
    {
     "data": {
      "text/html": [
       "Run data is saved locally in <code>./wandb/run-20240614_142603-r6qpkyo1</code>"
      ],
      "text/plain": [
       "<IPython.core.display.HTML object>"
      ]
     },
     "metadata": {},
     "output_type": "display_data"
    },
    {
     "data": {
      "text/html": [
       "Syncing run <strong><a href='https://wandb.ai/mrawhani/lightning_logs/runs/r6qpkyo1' target=\"_blank\">volcanic-dawn-2</a></strong> to <a href='https://wandb.ai/mrawhani/lightning_logs' target=\"_blank\">Weights & Biases</a> (<a href='https://wandb.me/run' target=\"_blank\">docs</a>)<br/>"
      ],
      "text/plain": [
       "<IPython.core.display.HTML object>"
      ]
     },
     "metadata": {},
     "output_type": "display_data"
    },
    {
     "data": {
      "text/html": [
       " View project at <a href='https://wandb.ai/mrawhani/lightning_logs' target=\"_blank\">https://wandb.ai/mrawhani/lightning_logs</a>"
      ],
      "text/plain": [
       "<IPython.core.display.HTML object>"
      ]
     },
     "metadata": {},
     "output_type": "display_data"
    },
    {
     "data": {
      "text/html": [
       " View run at <a href='https://wandb.ai/mrawhani/lightning_logs/runs/r6qpkyo1' target=\"_blank\">https://wandb.ai/mrawhani/lightning_logs/runs/r6qpkyo1</a>"
      ],
      "text/plain": [
       "<IPython.core.display.HTML object>"
      ]
     },
     "metadata": {},
     "output_type": "display_data"
    },
    {
     "name": "stderr",
     "output_type": "stream",
     "text": [
      "/home/guest/.cache/pypoetry/virtualenvs/third-experments-xuKQSur9-py3.8/lib/python3.8/site-packages/pytorch_lightning/callbacks/model_checkpoint.py:653: Checkpoint directory /home/guest/Desktop/projects/third-experiments/domain_adaptation_project/mixed/government/checkpoints exists and is not empty.\n",
      "LOCAL_RANK: 0 - CUDA_VISIBLE_DEVICES: [0]\n",
      "\n",
      "  | Name      | Type               | Params\n",
      "-------------------------------------------------\n",
      "0 | model     | BertAdapterModel   | 119 M \n",
      "1 | criterion | CrossEntropyLoss   | 0     \n",
      "2 | accuracy  | MulticlassAccuracy | 0     \n",
      "3 | f1        | MulticlassF1Score  | 0     \n",
      "4 | softmax   | Softmax            | 0     \n",
      "-------------------------------------------------\n",
      "9.5 M     Trainable params\n",
      "109 M     Non-trainable params\n",
      "119 M     Total params\n",
      "476.013   Total estimated model params size (MB)\n"
     ]
    },
    {
     "data": {
      "application/vnd.jupyter.widget-view+json": {
       "model_id": "287aac1c21074bf0a898be236b8a0cc8",
       "version_major": 2,
       "version_minor": 0
      },
      "text/plain": [
       "Sanity Checking: |          | 0/? [00:00<?, ?it/s]"
      ]
     },
     "metadata": {},
     "output_type": "display_data"
    },
    {
     "name": "stderr",
     "output_type": "stream",
     "text": [
      "/home/guest/.cache/pypoetry/virtualenvs/third-experments-xuKQSur9-py3.8/lib/python3.8/site-packages/torch/utils/data/dataloader.py:558: UserWarning: This DataLoader will create 16 worker processes in total. Our suggested max number of worker in current system is 12, which is smaller than what this DataLoader is going to create. Please be aware that excessive worker creation might get DataLoader running slow or even freeze, lower the worker number to avoid potential slowness/freeze if necessary.\n",
      "  warnings.warn(_create_warning_msg(\n"
     ]
    },
    {
     "name": "stdout",
     "output_type": "stream",
     "text": [
      "target_val/loss: 1.0972578525543213\n",
      "target_val/accuracy: 0.296875\n",
      "target_val/f1: 0.296875\n",
      "source_val/loss: 1.0972578525543213\n",
      "source_val/accuracy: 0.296875\n",
      "source_val/f1: 0.296875\n",
      "mean_mixed_loss: 1.3605866432189941\n"
     ]
    },
    {
     "data": {
      "application/vnd.jupyter.widget-view+json": {
       "model_id": "0ce829d66210463fa36b46e81a61bc2e",
       "version_major": 2,
       "version_minor": 0
      },
      "text/plain": [
       "Training: |          | 0/? [00:00<?, ?it/s]"
      ]
     },
     "metadata": {},
     "output_type": "display_data"
    },
    {
     "data": {
      "application/vnd.jupyter.widget-view+json": {
       "model_id": "a84d61edd0224fbc8dea4a78fbb7ae2e",
       "version_major": 2,
       "version_minor": 0
      },
      "text/plain": [
       "Validation: |          | 0/? [00:00<?, ?it/s]"
      ]
     },
     "metadata": {},
     "output_type": "display_data"
    },
    {
     "name": "stdout",
     "output_type": "stream",
     "text": [
      "target_val/loss: 0.6367574334144592\n",
      "target_val/accuracy: 0.7481191158294678\n",
      "target_val/f1: 0.7481191158294678\n",
      "source_val/loss: 0.6367574334144592\n",
      "source_val/accuracy: 0.7481191158294678\n",
      "source_val/f1: 0.7481191158294678\n",
      "mean_mixed_loss: 1.0437288284301758\n"
     ]
    },
    {
     "data": {
      "application/vnd.jupyter.widget-view+json": {
       "model_id": "930d0c7b99034524a5c931db9a2d2c81",
       "version_major": 2,
       "version_minor": 0
      },
      "text/plain": [
       "Validation: |          | 0/? [00:00<?, ?it/s]"
      ]
     },
     "metadata": {},
     "output_type": "display_data"
    },
    {
     "name": "stdout",
     "output_type": "stream",
     "text": [
      "target_val/loss: 0.6028122901916504\n",
      "target_val/accuracy: 0.763306200504303\n",
      "target_val/f1: 0.763306200504303\n",
      "source_val/loss: 0.6028122901916504\n",
      "source_val/accuracy: 0.763306200504303\n",
      "source_val/f1: 0.763306200504303\n",
      "mean_mixed_loss: 1.0176743268966675\n"
     ]
    },
    {
     "data": {
      "application/vnd.jupyter.widget-view+json": {
       "model_id": "b64491e2e8de4e249238d8b2c0614e67",
       "version_major": 2,
       "version_minor": 0
      },
      "text/plain": [
       "Validation: |          | 0/? [00:00<?, ?it/s]"
      ]
     },
     "metadata": {},
     "output_type": "display_data"
    },
    {
     "name": "stdout",
     "output_type": "stream",
     "text": [
      "target_val/loss: 0.5607179403305054\n",
      "target_val/accuracy: 0.7877122163772583\n",
      "target_val/f1: 0.7877122163772583\n",
      "source_val/loss: 0.5607179403305054\n",
      "source_val/accuracy: 0.7877122163772583\n",
      "source_val/f1: 0.7877122163772583\n",
      "mean_mixed_loss: 1.007904291152954\n"
     ]
    },
    {
     "data": {
      "application/vnd.jupyter.widget-view+json": {
       "model_id": "49178580c25544cbbc3bcb73f0eafb28",
       "version_major": 2,
       "version_minor": 0
      },
      "text/plain": [
       "Validation: |          | 0/? [00:00<?, ?it/s]"
      ]
     },
     "metadata": {},
     "output_type": "display_data"
    },
    {
     "name": "stdout",
     "output_type": "stream",
     "text": [
      "target_val/loss: 0.629503607749939\n",
      "target_val/accuracy: 0.775214433670044\n",
      "target_val/f1: 0.775214433670044\n",
      "source_val/loss: 0.629503607749939\n",
      "source_val/accuracy: 0.775214433670044\n",
      "source_val/f1: 0.775214433670044\n",
      "mean_mixed_loss: 1.0258396863937378\n"
     ]
    },
    {
     "data": {
      "application/vnd.jupyter.widget-view+json": {
       "model_id": "f7d5ea4e82cd401b9911a2e32a53e870",
       "version_major": 2,
       "version_minor": 0
      },
      "text/plain": [
       "Validation: |          | 0/? [00:00<?, ?it/s]"
      ]
     },
     "metadata": {},
     "output_type": "display_data"
    },
    {
     "name": "stdout",
     "output_type": "stream",
     "text": [
      "target_val/loss: 0.6302186250686646\n",
      "target_val/accuracy: 0.793910562992096\n",
      "target_val/f1: 0.793910562992096\n",
      "source_val/loss: 0.6302186250686646\n",
      "source_val/accuracy: 0.793910562992096\n",
      "source_val/f1: 0.793910562992096\n",
      "mean_mixed_loss: 1.0432969331741333\n"
     ]
    },
    {
     "data": {
      "application/vnd.jupyter.widget-view+json": {
       "model_id": "4d3d593613b84c739985fa97716da622",
       "version_major": 2,
       "version_minor": 0
      },
      "text/plain": [
       "Validation: |          | 0/? [00:00<?, ?it/s]"
      ]
     },
     "metadata": {},
     "output_type": "display_data"
    },
    {
     "name": "stdout",
     "output_type": "stream",
     "text": [
      "target_val/loss: 0.6764618754386902\n",
      "target_val/accuracy: 0.7855169177055359\n",
      "target_val/f1: 0.7855169177055359\n",
      "source_val/loss: 0.6764618754386902\n",
      "source_val/accuracy: 0.7855169177055359\n",
      "source_val/f1: 0.7855169177055359\n",
      "mean_mixed_loss: 1.0651284456253052\n"
     ]
    },
    {
     "data": {
      "application/vnd.jupyter.widget-view+json": {
       "model_id": "d6071a86706b4d49be19da5973271977",
       "version_major": 2,
       "version_minor": 0
      },
      "text/plain": [
       "Validation: |          | 0/? [00:00<?, ?it/s]"
      ]
     },
     "metadata": {},
     "output_type": "display_data"
    },
    {
     "name": "stdout",
     "output_type": "stream",
     "text": [
      "target_val/loss: 0.7177055478096008\n",
      "target_val/accuracy: 0.7944775819778442\n",
      "target_val/f1: 0.7944775819778442\n",
      "source_val/loss: 0.7177055478096008\n",
      "source_val/accuracy: 0.7944775819778442\n",
      "source_val/f1: 0.7944775819778442\n",
      "mean_mixed_loss: 1.0801336765289307\n"
     ]
    },
    {
     "data": {
      "application/vnd.jupyter.widget-view+json": {
       "model_id": "058e63f79a0d4bcf80757393a18626df",
       "version_major": 2,
       "version_minor": 0
      },
      "text/plain": [
       "Validation: |          | 0/? [00:00<?, ?it/s]"
      ]
     },
     "metadata": {},
     "output_type": "display_data"
    },
    {
     "name": "stdout",
     "output_type": "stream",
     "text": [
      "target_val/loss: 0.7435723543167114\n",
      "target_val/accuracy: 0.7938318848609924\n",
      "target_val/f1: 0.7938318848609924\n",
      "source_val/loss: 0.7435723543167114\n",
      "source_val/accuracy: 0.7938318848609924\n",
      "source_val/f1: 0.7938318848609924\n",
      "mean_mixed_loss: 1.0800482034683228\n"
     ]
    },
    {
     "data": {
      "application/vnd.jupyter.widget-view+json": {
       "model_id": "7ca164f15107449b8a31e5dfe623b3b8",
       "version_major": 2,
       "version_minor": 0
      },
      "text/plain": [
       "Validation: |          | 0/? [00:00<?, ?it/s]"
      ]
     },
     "metadata": {},
     "output_type": "display_data"
    },
    {
     "name": "stdout",
     "output_type": "stream",
     "text": [
      "target_val/loss: 0.7672902941703796\n",
      "target_val/accuracy: 0.7927988767623901\n",
      "target_val/f1: 0.7927988767623901\n",
      "source_val/loss: 0.7672902941703796\n",
      "source_val/accuracy: 0.7927988767623901\n",
      "source_val/f1: 0.7927988767623901\n",
      "mean_mixed_loss: 1.0923244953155518\n"
     ]
    },
    {
     "data": {
      "application/vnd.jupyter.widget-view+json": {
       "model_id": "19c3e89e4bda4c84bb787d466133fa9f",
       "version_major": 2,
       "version_minor": 0
      },
      "text/plain": [
       "Validation: |          | 0/? [00:00<?, ?it/s]"
      ]
     },
     "metadata": {},
     "output_type": "display_data"
    },
    {
     "name": "stderr",
     "output_type": "stream",
     "text": [
      "`Trainer.fit` stopped: `max_epochs=10` reached.\n"
     ]
    },
    {
     "name": "stdout",
     "output_type": "stream",
     "text": [
      "target_val/loss: 0.7674987316131592\n",
      "target_val/accuracy: 0.7929279804229736\n",
      "target_val/f1: 0.7929279804229736\n",
      "source_val/loss: 0.7674987316131592\n",
      "source_val/accuracy: 0.7929279804229736\n",
      "source_val/f1: 0.7929279804229736\n",
      "mean_mixed_loss: 1.0934253931045532\n"
     ]
    },
    {
     "name": "stderr",
     "output_type": "stream",
     "text": [
      "/home/guest/.cache/pypoetry/virtualenvs/third-experments-xuKQSur9-py3.8/lib/python3.8/site-packages/huggingface_hub/file_download.py:1132: FutureWarning: `resume_download` is deprecated and will be removed in version 1.0.0. Downloads always resume when possible. If you want to force a new download, use `force_download=True`.\n",
      "  warnings.warn(\n",
      "Some weights of BertAdapterModel were not initialized from the model checkpoint at bert-base-uncased and are newly initialized: ['heads.default.3.bias']\n",
      "You should probably TRAIN this model on a down-stream task to be able to use it for predictions and inference.\n"
     ]
    },
    {
     "name": "stdout",
     "output_type": "stream",
     "text": [
      "================================================================================\n",
      "Name                     Architecture         #Param      %Param  Active   Train\n",
      "--------------------------------------------------------------------------------\n",
      "mixed_aug_TEG_task_invLora_f1lora                294,912       0.269       1       1\n",
      "mlm_inv_G_aug            bottleneck        7,387,776       6.748       1       1\n",
      "--------------------------------------------------------------------------------\n",
      "Full model                               109,482,240     100.000               0\n",
      "================================================================================\n",
      "trainable params: 9520887 || all params: 119003127 || trainable%: 8.000535145601678\n",
      "None\n",
      "mixed_aug_TEG_task_invLora_f1\n"
     ]
    },
    {
     "name": "stderr",
     "output_type": "stream",
     "text": [
      "LOCAL_RANK: 0 - CUDA_VISIBLE_DEVICES: [0]\n"
     ]
    },
    {
     "name": "stdout",
     "output_type": "stream",
     "text": [
      "prinssst: telephone\n",
      "print: government\n",
      "print: 69615\n"
     ]
    },
    {
     "data": {
      "application/vnd.jupyter.widget-view+json": {
       "model_id": "7e3429ea0652403788d20170af571301",
       "version_major": 2,
       "version_minor": 0
      },
      "text/plain": [
       "Testing: |          | 0/? [00:00<?, ?it/s]"
      ]
     },
     "metadata": {},
     "output_type": "display_data"
    },
    {
     "data": {
      "text/html": [
       "<pre style=\"white-space:pre;overflow-x:auto;line-height:normal;font-family:Menlo,'DejaVu Sans Mono',consolas,'Courier New',monospace\">┏━━━━━━━━━━━━━━━━━━━━━━━━━━━┳━━━━━━━━━━━━━━━━━━━━━━━━━━━┓\n",
       "┃<span style=\"font-weight: bold\">        Test metric        </span>┃<span style=\"font-weight: bold\">       DataLoader 0        </span>┃\n",
       "┡━━━━━━━━━━━━━━━━━━━━━━━━━━━╇━━━━━━━━━━━━━━━━━━━━━━━━━━━┩\n",
       "│<span style=\"color: #008080; text-decoration-color: #008080\">   source_test/accuracy    </span>│<span style=\"color: #800080; text-decoration-color: #800080\">    0.8059220910072327     </span>│\n",
       "│<span style=\"color: #008080; text-decoration-color: #008080\">      source_test/f1       </span>│<span style=\"color: #800080; text-decoration-color: #800080\">    0.7954322695732117     </span>│\n",
       "│<span style=\"color: #008080; text-decoration-color: #008080\">     source_test/loss      </span>│<span style=\"color: #800080; text-decoration-color: #800080\">    0.7147660851478577     </span>│\n",
       "│<span style=\"color: #008080; text-decoration-color: #008080\">   target_test/accuracy    </span>│<span style=\"color: #800080; text-decoration-color: #800080\">    0.7921721339225769     </span>│\n",
       "│<span style=\"color: #008080; text-decoration-color: #008080\">      target_test/f1       </span>│<span style=\"color: #800080; text-decoration-color: #800080\">    0.7862245440483093     </span>│\n",
       "│<span style=\"color: #008080; text-decoration-color: #008080\">     target_test/loss      </span>│<span style=\"color: #800080; text-decoration-color: #800080\">    0.7368437647819519     </span>│\n",
       "└───────────────────────────┴───────────────────────────┘\n",
       "</pre>\n"
      ],
      "text/plain": [
       "┏━━━━━━━━━━━━━━━━━━━━━━━━━━━┳━━━━━━━━━━━━━━━━━━━━━━━━━━━┓\n",
       "┃\u001b[1m \u001b[0m\u001b[1m       Test metric       \u001b[0m\u001b[1m \u001b[0m┃\u001b[1m \u001b[0m\u001b[1m      DataLoader 0       \u001b[0m\u001b[1m \u001b[0m┃\n",
       "┡━━━━━━━━━━━━━━━━━━━━━━━━━━━╇━━━━━━━━━━━━━━━━━━━━━━━━━━━┩\n",
       "│\u001b[36m \u001b[0m\u001b[36m  source_test/accuracy   \u001b[0m\u001b[36m \u001b[0m│\u001b[35m \u001b[0m\u001b[35m   0.8059220910072327    \u001b[0m\u001b[35m \u001b[0m│\n",
       "│\u001b[36m \u001b[0m\u001b[36m     source_test/f1      \u001b[0m\u001b[36m \u001b[0m│\u001b[35m \u001b[0m\u001b[35m   0.7954322695732117    \u001b[0m\u001b[35m \u001b[0m│\n",
       "│\u001b[36m \u001b[0m\u001b[36m    source_test/loss     \u001b[0m\u001b[36m \u001b[0m│\u001b[35m \u001b[0m\u001b[35m   0.7147660851478577    \u001b[0m\u001b[35m \u001b[0m│\n",
       "│\u001b[36m \u001b[0m\u001b[36m  target_test/accuracy   \u001b[0m\u001b[36m \u001b[0m│\u001b[35m \u001b[0m\u001b[35m   0.7921721339225769    \u001b[0m\u001b[35m \u001b[0m│\n",
       "│\u001b[36m \u001b[0m\u001b[36m     target_test/f1      \u001b[0m\u001b[36m \u001b[0m│\u001b[35m \u001b[0m\u001b[35m   0.7862245440483093    \u001b[0m\u001b[35m \u001b[0m│\n",
       "│\u001b[36m \u001b[0m\u001b[36m    target_test/loss     \u001b[0m\u001b[36m \u001b[0m│\u001b[35m \u001b[0m\u001b[35m   0.7368437647819519    \u001b[0m\u001b[35m \u001b[0m│\n",
       "└───────────────────────────┴───────────────────────────┘\n"
      ]
     },
     "metadata": {},
     "output_type": "display_data"
    },
    {
     "name": "stdout",
     "output_type": "stream",
     "text": [
      "Test Results: [{'source_test/loss': 0.7147660851478577, 'source_test/accuracy': 0.8059220910072327, 'target_test/loss': 0.7368437647819519, 'target_test/accuracy': 0.7921721339225769, 'target_test/f1': 0.7862245440483093, 'source_test/f1': 0.7954322695732117}]\n"
     ]
    },
    {
     "name": "stderr",
     "output_type": "stream",
     "text": [
      "LOCAL_RANK: 0 - CUDA_VISIBLE_DEVICES: [0]\n"
     ]
    },
    {
     "name": "stdout",
     "output_type": "stream",
     "text": [
      "prinssst: telephone\n",
      "print: government\n",
      "print: 69615\n"
     ]
    },
    {
     "data": {
      "application/vnd.jupyter.widget-view+json": {
       "model_id": "4228fa9fd3604e51a3550e19a60ce60b",
       "version_major": 2,
       "version_minor": 0
      },
      "text/plain": [
       "Validation: |          | 0/? [00:00<?, ?it/s]"
      ]
     },
     "metadata": {},
     "output_type": "display_data"
    },
    {
     "name": "stdout",
     "output_type": "stream",
     "text": [
      "target_val/loss: 0.7177055478096008\n",
      "target_val/accuracy: 0.7944775819778442\n",
      "target_val/f1: 0.7944775819778442\n",
      "source_val/loss: 0.7177055478096008\n",
      "source_val/accuracy: 0.7944775819778442\n",
      "source_val/f1: 0.7944775819778442\n",
      "mean_mixed_loss: 1.075671672821045\n"
     ]
    },
    {
     "name": "stderr",
     "output_type": "stream",
     "text": [
      "Seed set to 10\n"
     ]
    },
    {
     "name": "stdout",
     "output_type": "stream",
     "text": [
      "prinssst: telephone\n",
      "print: government\n",
      "print: 69615\n",
      "prinssst: telephone\n",
      "print: government\n",
      "print: 69615\n"
     ]
    },
    {
     "name": "stderr",
     "output_type": "stream",
     "text": [
      "Some weights of BertAdapterModel were not initialized from the model checkpoint at bert-base-uncased and are newly initialized: ['heads.default.3.bias']\n",
      "You should probably TRAIN this model on a down-stream task to be able to use it for predictions and inference.\n",
      "GPU available: True (cuda), used: True\n",
      "TPU available: False, using: 0 TPU cores\n",
      "IPU available: False, using: 0 IPUs\n",
      "HPU available: False, using: 0 HPUs\n",
      "`Trainer(limit_train_batches=1.0)` was configured so 100% of the batches per epoch will be used..\n",
      "`Trainer(limit_val_batches=1.0)` was configured so 100% of the batches will be used..\n",
      "`Trainer(limit_test_batches=1.0)` was configured so 100% of the batches will be used..\n",
      "/home/guest/.cache/pypoetry/virtualenvs/third-experments-xuKQSur9-py3.8/lib/python3.8/site-packages/pytorch_lightning/loggers/wandb.py:396: There is a wandb run already in progress and newly created instances of `WandbLogger` will reuse this run. If this is not desired, call `wandb.finish()` before instantiating `WandbLogger`.\n",
      "LOCAL_RANK: 0 - CUDA_VISIBLE_DEVICES: [0]\n",
      "\n",
      "  | Name      | Type               | Params\n",
      "-------------------------------------------------\n",
      "0 | model     | BertAdapterModel   | 119 M \n",
      "1 | criterion | CrossEntropyLoss   | 0     \n",
      "2 | accuracy  | MulticlassAccuracy | 0     \n",
      "3 | f1        | MulticlassF1Score  | 0     \n",
      "4 | softmax   | Softmax            | 0     \n",
      "-------------------------------------------------\n",
      "9.5 M     Trainable params\n",
      "109 M     Non-trainable params\n",
      "119 M     Total params\n",
      "476.013   Total estimated model params size (MB)\n"
     ]
    },
    {
     "name": "stdout",
     "output_type": "stream",
     "text": [
      "================================================================================\n",
      "Name                     Architecture         #Param      %Param  Active   Train\n",
      "--------------------------------------------------------------------------------\n",
      "mixed_aug_TEG_task_invLora_f1lora                294,912       0.269       1       1\n",
      "mlm_inv_G_aug            bottleneck        7,387,776       6.748       1       1\n",
      "--------------------------------------------------------------------------------\n",
      "Full model                               109,482,240     100.000               0\n",
      "================================================================================\n",
      "trainable params: 9520887 || all params: 119003127 || trainable%: 8.000535145601678\n",
      "None\n",
      "mixed_aug_TEG_task_invLora_f1\n"
     ]
    },
    {
     "data": {
      "application/vnd.jupyter.widget-view+json": {
       "model_id": "25b940e0e4734d9eb810fe66b8ca0731",
       "version_major": 2,
       "version_minor": 0
      },
      "text/plain": [
       "Sanity Checking: |          | 0/? [00:00<?, ?it/s]"
      ]
     },
     "metadata": {},
     "output_type": "display_data"
    },
    {
     "name": "stdout",
     "output_type": "stream",
     "text": [
      "target_val/loss: 1.1008328199386597\n",
      "target_val/accuracy: 0.359375\n",
      "target_val/f1: 0.359375\n",
      "source_val/loss: 1.1008328199386597\n",
      "source_val/accuracy: 0.359375\n",
      "source_val/f1: 0.359375\n",
      "mean_mixed_loss: 1.427965760231018\n"
     ]
    },
    {
     "data": {
      "application/vnd.jupyter.widget-view+json": {
       "model_id": "8bc647cb87f3461ba2138cc1645aad06",
       "version_major": 2,
       "version_minor": 0
      },
      "text/plain": [
       "Training: |          | 0/? [00:00<?, ?it/s]"
      ]
     },
     "metadata": {},
     "output_type": "display_data"
    }
   ],
   "source": [
    "reload(processed)\n",
    "for seed in seeds:\n",
    "    #wandb.init(project=project_name, name=f'{domain}_{type}_run_with_seed_{seed}', config={'seed': seed})\n",
    "\n",
    "    try:\n",
    "    \n",
    "\n",
    "        seed_everything(seed)\n",
    "\n",
    "        # Hyperparameters\n",
    "        hparams = {\n",
    "            \"source_target\": \"aug_telephone_government_f1\",\n",
    "            \"source_domain\": \"telephone\",\n",
    "            \"target_domain\": \"government\",\n",
    "            \"domain_adapter_name\": \"mlm_inv_G_aug\",\n",
    "            \"task_adapter_name\": \"mixed_aug_TEG_task_invLora_f1\",\n",
    "            \"pretrained_model_name\": \"bert-base-uncased\",\n",
    "            \"padding\": \"max_length\",\n",
    "            \"max_seq_length\": 128,\n",
    "            \"bsz\": 32,\n",
    "            \"num_classes\": 3,\n",
    "            \"learning_rate\": 1e-4,\n",
    "            \"reduction_factor\": 16,\n",
    "           \n",
    "            \"mode\": \"domain\",\n",
    "            \"saved_adapter_dir\": \"../../saved/adapters\",\n",
    "        }\n",
    "        dm = processed.DataModuleSourceTarget(hparams)\n",
    "        dm.setup('fit')\n",
    "        dm.setup(\"test\")\n",
    "\n",
    "        \n",
    "\n",
    "        train_loader = dm.train_dataloader()\n",
    "        val_loader = dm.val_dataloader()\n",
    "\n",
    "\n",
    "        hparams['source_len'] = len(train_loader.dataset.source_df)\n",
    "        hparams['target_len'] = len(train_loader.dataset.target_df)\n",
    "\n",
    "\n",
    "        model = DomainTaskAdapter(hparams)\n",
    "\n",
    "        checkpoint_callback = ModelCheckpoint(\n",
    "            dirpath=\"checkpoints\",\n",
    "            filename=\"mixed_aug_TEG_task_invLora-{epoch:02d}-{val_loss:.2f}\",\n",
    "            save_top_k=1,\n",
    "            monitor=\"target_val/f1\",\n",
    "            mode=\"max\",\n",
    "        )\n",
    "\n",
    "        early_stopping_callback = EarlyStopping(\n",
    "            monitor=\"target_val/f1\",\n",
    "            patience=3,\n",
    "            mode=\"max\",\n",
    "        )\n",
    "        wandb_logger = WandbLogger()\n",
    "        \n",
    "\n",
    "    except Exception as e:\n",
    "        print(f\"Error during preprocessing : {e}\")   \n",
    "\n",
    "    try:\n",
    "      \n",
    "        trainer = Trainer(\n",
    "            max_epochs=10,\n",
    "            accelerator=\"auto\",\n",
    "            logger=wandb_logger,\n",
    "            callbacks=[checkpoint_callback, early_stopping_callback],\n",
    "            limit_train_batches=1.0,\n",
    "            limit_val_batches=1.0,\n",
    "            limit_test_batches=1.0,\n",
    "            log_every_n_steps=5,\n",
    "        )\n",
    "        trainer.fit(model, train_loader, val_loader)\n",
    "    except Exception as e:\n",
    "        print(f\"Error during training : {e}\")\n",
    "\n",
    "    try:\n",
    "        best_ckpt_path = checkpoint_callback.best_model_path\n",
    "        model = DomainTaskAdapter.load_from_checkpoint(best_ckpt_path)\n",
    "        dm.setup(\"test\")\n",
    "        test_loader = dm.test_dataloader()\n",
    "        test_results = trainer.test(model, test_loader)\n",
    "        print(\"Test Results:\", test_results)\n",
    "\n",
    "        # Collect the results for averaging later\n",
    "        for key in results.keys():\n",
    "            results[key].append(wandb.run.summary[key])\n",
    "\n",
    "        dm.setup(\"fit\")\n",
    "        val_loader = dm.val_dataloader()\n",
    "\n",
    "        # Get the metrics for the best epoch\n",
    "        best_metrics = trainer.validate(model, dataloaders=val_loader, verbose=False)[0]\n",
    "          # Log the best metrics to wandb summary\n",
    "        for key, value in best_metrics.items():\n",
    "            wandb.run.summary[key] = value\n",
    "\n",
    "      \n",
    "        # Append validation metrics to results dictionary\n",
    "        for key in best_metrics.keys(): \n",
    "            if key not in results:\n",
    "                results[key] = []\n",
    "            results[key].append(best_metrics[key])\n",
    "\n",
    "        # Save the best model based on validation loss\n",
    "        current_val_loss = wandb.run.summary[\"source_val/loss\"]\n",
    "        if current_val_loss < best_val_loss:\n",
    "            best_val_loss = current_val_loss\n",
    "            best_model = model\n",
    "            best_model_path = best_ckpt_path\n",
    "\n",
    "    except Exception as e:\n",
    "        print(f\"Error during testing: {e}\")\n",
    "\n",
    "    # Finish the wandb run\n",
    "    #wandb.finish()\n"
   ]
  },
  {
   "cell_type": "code",
   "execution_count": null,
   "metadata": {},
   "outputs": [
    {
     "data": {
      "text/plain": [
       "dict_items([('source_val/loss', [0.6322579979896545, 0.5255373120307922, 0.6442208290100098, 0.5512304306030273, 0.6343231201171875, 0.5374744534492493]), ('source_val/accuracy', [0.8053246736526489, 0.8013215661048889, 0.8026129007339478, 0.790266752243042, 0.7953029274940491, 0.795381486415863]), ('source_val/f1', [0.796276867389679, 0.7928647994995117, 0.7956877946853638, 0.7841280698776245, 0.7883199453353882, 0.7892138957977295]), ('target_val/loss', [0.6660032272338867, 0.5581586360931396, 0.650418221950531, 0.5775623321533203, 0.6419711709022522, 0.5709582567214966]), ('target_val/accuracy', [0.7856460809707642, 0.7883578538894653, 0.786083996295929, 0.778285562992096, 0.7870160341262817, 0.7833722233772278]), ('target_val/f1', [0.77858966588974, 0.781687319278717, 0.7799392938613892, 0.7721776962280273, 0.7806777358055115, 0.7769826650619507]), ('source_test/loss', [0.5530766844749451, 0.5752528309822083, 0.5713858008384705]), ('source_test/accuracy', [0.7916598320007324, 0.7930532693862915, 0.790778636932373]), ('source_test/f1', [0.7830121517181396, 0.7846179008483887, 0.7829768061637878]), ('target_test/loss', [0.571536660194397, 0.6009111404418945, 0.5841285586357117]), ('target_test/accuracy', [0.7842622399330139, 0.7756352424621582, 0.7757786512374878]), ('target_test/f1', [0.7773221731185913, 0.7712933421134949, 0.7711372375488281]), ('target_val/mlm_loss', [1.5514615774154663, 1.5517913103103638, 1.5714343786239624, 1.5354385375976562, 1.5685839653015137]), ('source_val/mixed_val_loss', [1.0193736553192139, 1.0811867713928223, 1.0422598123550415, 1.068120002746582, 1.0336757898330688]), ('val_loss', [1.0193736553192139, 1.0811867713928223, 1.0422598123550415, 1.068120002746582, 1.0336757898330688])])"
      ]
     },
     "execution_count": 7,
     "metadata": {},
     "output_type": "execute_result"
    }
   ],
   "source": [
    "results.items()"
   ]
  },
  {
   "cell_type": "code",
   "execution_count": null,
   "metadata": {},
   "outputs": [
    {
     "data": {
      "text/html": [
       "wandb version 0.17.1 is available!  To upgrade, please run:\n",
       " $ pip install wandb --upgrade"
      ],
      "text/plain": [
       "<IPython.core.display.HTML object>"
      ]
     },
     "metadata": {},
     "output_type": "display_data"
    },
    {
     "data": {
      "text/html": [
       "Tracking run with wandb version 0.17.0"
      ],
      "text/plain": [
       "<IPython.core.display.HTML object>"
      ]
     },
     "metadata": {},
     "output_type": "display_data"
    },
    {
     "data": {
      "text/html": [
       "Run data is saved locally in <code>/home/guest/Desktop/projects/third-experiments/domain_adaptation_project/mixed/government/wandb/run-20240609_055826-sdc094tx</code>"
      ],
      "text/plain": [
       "<IPython.core.display.HTML object>"
      ]
     },
     "metadata": {},
     "output_type": "display_data"
    },
    {
     "data": {
      "text/html": [
       "Syncing run <strong><a href='https://wandb.ai/mrawhani/mix/runs/sdc094tx' target=\"_blank\">telephone_government_mean_results</a></strong> to <a href='https://wandb.ai/mrawhani/mix' target=\"_blank\">Weights & Biases</a> (<a href='https://wandb.me/run' target=\"_blank\">docs</a>)<br/>"
      ],
      "text/plain": [
       "<IPython.core.display.HTML object>"
      ]
     },
     "metadata": {},
     "output_type": "display_data"
    },
    {
     "data": {
      "text/html": [
       " View project at <a href='https://wandb.ai/mrawhani/mix' target=\"_blank\">https://wandb.ai/mrawhani/mix</a>"
      ],
      "text/plain": [
       "<IPython.core.display.HTML object>"
      ]
     },
     "metadata": {},
     "output_type": "display_data"
    },
    {
     "data": {
      "text/html": [
       " View run at <a href='https://wandb.ai/mrawhani/mix/runs/sdc094tx' target=\"_blank\">https://wandb.ai/mrawhani/mix/runs/sdc094tx</a>"
      ],
      "text/plain": [
       "<IPython.core.display.HTML object>"
      ]
     },
     "metadata": {},
     "output_type": "display_data"
    },
    {
     "data": {
      "application/vnd.jupyter.widget-view+json": {
       "model_id": "d0d84e398d3f46f985a5c7abcc44f500",
       "version_major": 2,
       "version_minor": 0
      },
      "text/plain": [
       "VBox(children=(Label(value='0.002 MB of 0.004 MB uploaded\\r'), FloatProgress(value=0.6494871794871795, max=1.0…"
      ]
     },
     "metadata": {},
     "output_type": "display_data"
    },
    {
     "data": {
      "text/html": [
       "<style>\n",
       "    table.wandb td:nth-child(1) { padding: 0 10px; text-align: left ; width: auto;} td:nth-child(2) {text-align: left ; width: 100%}\n",
       "    .wandb-row { display: flex; flex-direction: row; flex-wrap: wrap; justify-content: flex-start; width: 100% }\n",
       "    .wandb-col { display: flex; flex-direction: column; flex-basis: 100%; flex: 1; padding: 10px; }\n",
       "    </style>\n",
       "<div class=\"wandb-row\"><div class=\"wandb-col\"><h3>Run history:</h3><br/><table class=\"wandb\"><tr><td>source_test/accuracy</td><td>▁</td></tr><tr><td>source_test/f1</td><td>▁</td></tr><tr><td>source_test/loss</td><td>▁</td></tr><tr><td>source_val/accuracy</td><td>▁</td></tr><tr><td>source_val/f1</td><td>▁</td></tr><tr><td>source_val/loss</td><td>▁</td></tr><tr><td>source_val/mixed_val_loss</td><td>▁</td></tr><tr><td>target_test/accuracy</td><td>▁</td></tr><tr><td>target_test/f1</td><td>▁</td></tr><tr><td>target_test/loss</td><td>▁</td></tr><tr><td>target_val/accuracy</td><td>▁</td></tr><tr><td>target_val/f1</td><td>▁</td></tr><tr><td>target_val/loss</td><td>▁</td></tr><tr><td>target_val/mlm_loss</td><td>▁</td></tr><tr><td>val_loss</td><td>▁</td></tr></table><br/></div><div class=\"wandb-col\"><h3>Run summary:</h3><br/><table class=\"wandb\"><tr><td>source_test/accuracy</td><td>0.79183</td></tr><tr><td>source_test/f1</td><td>0.78354</td></tr><tr><td>source_test/loss</td><td>0.56657</td></tr><tr><td>source_val/accuracy</td><td>0.79837</td></tr><tr><td>source_val/f1</td><td>0.79108</td></tr><tr><td>source_val/loss</td><td>0.58751</td></tr><tr><td>source_val/mixed_val_loss</td><td>1.04892</td></tr><tr><td>target_test/accuracy</td><td>0.77856</td></tr><tr><td>target_test/f1</td><td>0.77325</td></tr><tr><td>target_test/loss</td><td>0.58553</td></tr><tr><td>target_val/accuracy</td><td>0.78479</td></tr><tr><td>target_val/f1</td><td>0.77834</td></tr><tr><td>target_val/loss</td><td>0.61085</td></tr><tr><td>target_val/mlm_loss</td><td>1.55574</td></tr><tr><td>val_loss</td><td>1.04892</td></tr></table><br/></div></div>"
      ],
      "text/plain": [
       "<IPython.core.display.HTML object>"
      ]
     },
     "metadata": {},
     "output_type": "display_data"
    },
    {
     "data": {
      "text/html": [
       " View run <strong style=\"color:#cdcd00\">telephone_government_mean_results</strong> at: <a href='https://wandb.ai/mrawhani/mix/runs/sdc094tx' target=\"_blank\">https://wandb.ai/mrawhani/mix/runs/sdc094tx</a><br/> View project at: <a href='https://wandb.ai/mrawhani/mix' target=\"_blank\">https://wandb.ai/mrawhani/mix</a><br/>Synced 4 W&B file(s), 0 media file(s), 0 artifact file(s) and 0 other file(s)"
      ],
      "text/plain": [
       "<IPython.core.display.HTML object>"
      ]
     },
     "metadata": {},
     "output_type": "display_data"
    },
    {
     "data": {
      "text/html": [
       "Find logs at: <code>./wandb/run-20240609_055826-sdc094tx/logs</code>"
      ],
      "text/plain": [
       "<IPython.core.display.HTML object>"
      ]
     },
     "metadata": {},
     "output_type": "display_data"
    },
    {
     "name": "stdout",
     "output_type": "stream",
     "text": [
      "Mean Results: {'source_val/loss': 0.5875073571999868, 'source_val/accuracy': 0.79836838444074, 'source_val/f1': 0.7910818954308828, 'target_val/loss': 0.6108453075091044, 'target_val/accuracy': 0.784793625275294, 'target_val/f1': 0.7783423960208893, 'source_test/loss': 0.5665717720985413, 'source_test/accuracy': 0.791830579439799, 'source_test/f1': 0.7835356195767721, 'target_test/loss': 0.5855254530906677, 'target_test/accuracy': 0.7785587112108866, 'target_test/f1': 0.7732509175936381, 'target_val/mlm_loss': 1.5557419538497925, 'source_val/mixed_val_loss': 1.0489232063293457, 'val_loss': 1.0489232063293457}\n",
      "Adapter saved to ../../saved/adapter_after_run\n"
     ]
    }
   ],
   "source": [
    "\n",
    "# Calculate mean results\n",
    "mean_results = {key: sum(values) / len(values) for key, values in results.items()}\n",
    "\n",
    "# Log mean results to wandb\n",
    "wandb.init(project=project_name, name=f'{domain}_mean_results')\n",
    "for key, value in mean_results.items():\n",
    "    wandb.log({key: value})\n",
    "wandb.finish()\n",
    "\n",
    "print(\"Mean Results:\", mean_results)\n",
    "\n",
    "# Save the best model's adapter\n",
    "if model:\n",
    "    adapter_save_path = \"../../saved/adapter_after_run\"\n",
    "    model.save_adapter(adapter_save_path, hparams['task_adapter_name'])\n",
    "    print(f\"Adapter saved to {adapter_save_path}\")\n",
    "else:\n",
    "    print(\"No best model to save.\")"
   ]
  },
  {
   "cell_type": "code",
   "execution_count": null,
   "metadata": {},
   "outputs": [],
   "source": []
  },
  {
   "cell_type": "code",
   "execution_count": null,
   "metadata": {},
   "outputs": [
    {
     "name": "stdout",
     "output_type": "stream",
     "text": [
      "dones\n"
     ]
    }
   ],
   "source": [
    "print('dones')"
   ]
  },
  {
   "cell_type": "code",
   "execution_count": null,
   "metadata": {},
   "outputs": [
    {
     "data": {
      "text/plain": [
       "0.6173854470252991"
      ]
     },
     "execution_count": 10,
     "metadata": {},
     "output_type": "execute_result"
    }
   ],
   "source": [
    "best_val_loss"
   ]
  },
  {
   "cell_type": "code",
   "execution_count": null,
   "metadata": {},
   "outputs": [],
   "source": []
  }
 ],
 "metadata": {
  "kernelspec": {
   "display_name": ".venv",
   "language": "python",
   "name": "python3"
  },
  "language_info": {
   "codemirror_mode": {
    "name": "ipython",
    "version": 3
   },
   "file_extension": ".py",
   "mimetype": "text/x-python",
   "name": "python",
   "nbconvert_exporter": "python",
   "pygments_lexer": "ipython3",
   "version": "3.8.10"
  }
 },
 "nbformat": 4,
 "nbformat_minor": 2
}
