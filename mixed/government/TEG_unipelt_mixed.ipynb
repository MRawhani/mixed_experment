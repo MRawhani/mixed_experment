{
 "cells": [
  {
   "cell_type": "code",
   "execution_count": 1,
   "metadata": {},
   "outputs": [
    {
     "data": {
      "text/plain": [
       "0"
      ]
     },
     "execution_count": 1,
     "metadata": {},
     "output_type": "execute_result"
    }
   ],
   "source": [
    "\n",
    "import torch\n",
    "import gc\n",
    "torch.cuda.empty_cache()\n",
    "gc.collect()\n"
   ]
  },
  {
   "cell_type": "code",
   "execution_count": 2,
   "metadata": {},
   "outputs": [
    {
     "name": "stdout",
     "output_type": "stream",
     "text": [
      "['/home/guest/Desktop/projects/third-experiments/domain_adaptation_project/mixed/government', '/usr/lib/python38.zip', '/usr/lib/python3.8', '/usr/lib/python3.8/lib-dynload', '', '/home/guest/.cache/pypoetry/virtualenvs/third-experments-xuKQSur9-py3.8/lib/python3.8/site-packages', '/tmp/tmpkdhy8v1z', '/home/guest/Desktop/projects/third-experiments/domain_adaptation_project/modules']\n"
     ]
    },
    {
     "name": "stderr",
     "output_type": "stream",
     "text": [
      "2024-08-14 13:01:17.226051: I tensorflow/core/util/port.cc:110] oneDNN custom operations are on. You may see slightly different numerical results due to floating-point round-off errors from different computation orders. To turn them off, set the environment variable `TF_ENABLE_ONEDNN_OPTS=0`.\n",
      "2024-08-14 13:01:17.418687: I tensorflow/core/platform/cpu_feature_guard.cc:182] This TensorFlow binary is optimized to use available CPU instructions in performance-critical operations.\n",
      "To enable the following instructions: AVX2 AVX512F AVX512_VNNI FMA, in other operations, rebuild TensorFlow with the appropriate compiler flags.\n",
      "2024-08-14 13:01:18.261393: W tensorflow/compiler/tf2tensorrt/utils/py_utils.cc:38] TF-TRT Warning: Could not find TensorRT\n"
     ]
    },
    {
     "name": "stdout",
     "output_type": "stream",
     "text": [
      "./text-files/\n",
      "./hp-model-\n"
     ]
    }
   ],
   "source": [
    "import os\n",
    "os.environ[\"TOKENIZERS_PARALLELISM\"] = \"false\"\n",
    "# Initialize the console\n",
    "\n",
    "# Step 2: Import necessary libraries\n",
    "from typing import Optional, Dict, Any\n",
    "import os\n",
    "import torch\n",
    "import pytorch_lightning as pl\n",
    "import pandas as pd\n",
    "from transformers import AutoTokenizer\n",
    "from torch.utils.data import Dataset, DataLoader\n",
    "from rich.traceback import install\n",
    "from pytorch_lightning.loggers import WandbLogger\n",
    "import torch.nn as nn\n",
    "import torch.optim as optim\n",
    "from transformers import AutoConfig\n",
    "from adapters import AutoAdapterModel, AdapterConfig\n",
    "from adapters.composition import Stack\n",
    "from pytorch_lightning import seed_everything, Trainer\n",
    "from pytorch_lightning.callbacks import ModelCheckpoint,EarlyStopping\n",
    "import torchmetrics\n",
    "\n",
    "install(show_locals=True)\n",
    "\n",
    "from setup import setup_src_path\n",
    "print(setup_src_path())\n",
    "import data.processed as processed\n",
    "import config.config as config\n",
    "import utils.setup as setup\n",
    "import utils.functions as fn\n",
    "from importlib import reload\n",
    "\n",
    "from datasets import load_from_disk\n",
    "\n",
    "print(config.Config.TXT_SAVE_PATH)\n",
    "print(config.Config.MODEL_SAVE_PATH)\n",
    "\n",
    "dataset = load_from_disk(f\"../{config.Config.DATASETS_SAVE_PATH}/datasets\")\n"
   ]
  },
  {
   "cell_type": "code",
   "execution_count": 3,
   "metadata": {},
   "outputs": [],
   "source": [
    "import torch\n",
    "import os\n",
    "import pytorch_lightning as pl\n",
    "from transformers import  AutoConfig, DataCollatorForLanguageModeling\n",
    "from collections import defaultdict\n",
    "import torch.nn as nn\n",
    "import torch.optim as optim\n",
    "from torch.optim.lr_scheduler import ReduceLROnPlateau\n",
    "import numpy as np\n",
    "import torchmetrics\n",
    "\n",
    "class JointDomainTaskAdapter(pl.LightningModule):\n",
    "    def __init__(self, hparams,source_dataset_length,target_dataset_length):\n",
    "        super(JointDomainTaskAdapter, self).__init__()\n",
    "        self.save_hyperparameters(hparams)\n",
    "\n",
    "        # Load config with hidden states output\n",
    "        self.config = AutoConfig.from_pretrained(self.hparams[\"pretrained_model_name\"])\n",
    "        self.config.output_hidden_states = True\n",
    "        self.model = AutoAdapterModel.from_pretrained(self.hparams[\"pretrained_model_name\"], config=self.config)\n",
    "\n",
    "        # Set reduction factor and leave_out layers\n",
    "        self.reduction_factor = self.hparams.get(\"reduction_factor\", 16)\n",
    "        self.leave_out = self.hparams.get(\"leave_out\", [])\n",
    "        # if self.leave_out != \"None\":\n",
    "        #     self.leave_out = self.leave_out.split(\",\")\n",
    "        #     self.leave_out = [int(i) for i in self.leave_out]\n",
    "        # else:\n",
    "        #     self.leave_out = []\n",
    "\n",
    "        # Load MLM adapter with head\n",
    "        self.model.load_adapter(f\"{self.hparams['saved_adapter_dir']}/{self.hparams['domain_adapter_name']}\", with_head=True)\n",
    "\n",
    "        # Add classification head for the task\n",
    "        self.model.add_classification_head(f\"{self.hparams['task_adapter_name']}\", num_labels=self.hparams[\"num_classes\"])\n",
    "\n",
    "        # Set active adapters\n",
    "        self.model.train_adapter(self.hparams['domain_adapter_name'])\n",
    "        # Calculate alpha based on dataset lengths\n",
    "        self.alpha = source_dataset_length / (source_dataset_length + target_dataset_length)\n",
    "\n",
    "        # Initialize loss functions and metrics\n",
    "        self.criterion = nn.CrossEntropyLoss()\n",
    "        self.mlm_criterion = nn.CrossEntropyLoss()\n",
    "        self.accuracy = torchmetrics.Accuracy(task='multiclass', num_classes=self.hparams[\"num_classes\"])\n",
    "        self.f1 = torchmetrics.F1Score(task='multiclass', num_classes=self.hparams[\"num_classes\"], average=\"weighted\")\n",
    "        self.f1_macro = torchmetrics.F1Score(task='multiclass', num_classes=self.hparams[\"num_classes\"], average=\"macro\")\n",
    "        self.softmax = nn.Softmax(dim=1)\n",
    "        self.validation_outputs = []\n",
    "        self.test_outputs = []\n",
    "        # Optimizer related variables\n",
    "        self.learning_rate = self.hparams.get(\"learning_rate\", 1e-4)\n",
    "        self.scheduler_factor = self.hparams.get(\"scheduler_factor\", 0.1)\n",
    "        self.scheduler_patience = self.hparams.get(\"scheduler_patience\", 0.05)\n",
    "        self.scheduler_threshold = self.hparams.get(\"scheduler_threshold\", 0.0001)\n",
    "        self.scheduler_cooldown = self.hparams.get(\"scheduler_cooldown\", 0)\n",
    "        self.scheduler_eps = self.hparams.get(\"scheduler_eps\", 1e-8)\n",
    "\n",
    "    def forward(self, input_ids, attention_mask=None, labels=None, task=None):\n",
    "        if task == \"mlm\":\n",
    "            self.model.active_head= self.hparams['domain_adapter_name']\n",
    "            outputs = self.model(input_ids=input_ids, attention_mask=attention_mask, labels=labels)\n",
    "        elif task == \"classification\":\n",
    "            self.model.active_head= self.hparams['task_adapter_name']\n",
    "            outputs = self.model(input_ids=input_ids, attention_mask=attention_mask, labels=labels)\n",
    "        else:\n",
    "            raise ValueError(\"Task must be either 'mlm' or 'classification'.\")\n",
    "        return outputs\n",
    "\n",
    "    def training_step(self, batch, batch_idx):\n",
    "        # Separate source and target data processing\n",
    "        source_input_ids = batch[\"source_input_ids\"]\n",
    "        source_attention_mask = batch[\"source_attention_mask\"]\n",
    "        source_labels = batch[\"label_source\"]\n",
    "\n",
    "        target_input_ids = batch[\"target_input_ids\"]\n",
    "        target_attention_mask = batch[\"target_attention_mask\"]\n",
    "        mlm_labels = batch[\"mlm_labels\"]\n",
    "\n",
    "        # Calculate dynamic alpha based on the lengths of source and target data\n",
    "        alpha = self.alpha\n",
    "\n",
    "        # Classification task\n",
    "        cls_outputs = self(input_ids=source_input_ids, attention_mask=source_attention_mask, task=\"classification\")\n",
    "        cls_logits = cls_outputs.logits\n",
    "        task_loss = self.criterion(cls_logits, source_labels)\n",
    "\n",
    "        # MLM task\n",
    "        mlm_outputs = self(input_ids=target_input_ids, attention_mask=target_attention_mask, labels=mlm_labels, task=\"mlm\")\n",
    "        mlm_loss = mlm_outputs.loss\n",
    "\n",
    "        # Combine losses\n",
    "        loss = alpha * task_loss + (1 - alpha) * mlm_loss\n",
    "\n",
    "        accuracy = self.accuracy(source_labels, torch.argmax(self.softmax(cls_logits), dim=1))\n",
    "        f1 = self.f1(source_labels, torch.argmax(self.softmax(cls_logits), dim=1))\n",
    "\n",
    "        metrics = {\n",
    "            \"train/accuracy\": accuracy,\n",
    "            \"train/f1\": f1,\n",
    "            \"train/taskclf_loss\": task_loss,\n",
    "            \"train/loss\": loss,\n",
    "            \"train/mlm_loss\": mlm_loss\n",
    "        }\n",
    "\n",
    "        for key, val in metrics.items():\n",
    "            self.log(name=key, value=val)\n",
    "\n",
    "        return loss\n",
    "\n",
    "    def validation_step(self, batch, batch_idx):\n",
    "        # Separate source and target data processing\n",
    "        source_input_ids = batch[\"source_input_ids\"]\n",
    "        source_attention_mask = batch[\"source_attention_mask\"]\n",
    "        source_labels = batch[\"label_source\"]\n",
    "\n",
    "        target_input_ids = batch[\"target_input_ids\"]\n",
    "        target_attention_mask = batch[\"target_attention_mask\"]\n",
    "        mlm_labels = batch[\"mlm_labels\"]\n",
    "\n",
    "        # Calculate dynamic alpha based on the lengths of source and target data\n",
    "        alpha = self.alpha\n",
    "        # Classification task\n",
    "        cls_outputs = self(input_ids=source_input_ids, attention_mask=source_attention_mask, task=\"classification\")\n",
    "        cls_logits = cls_outputs.logits\n",
    "        task_loss = self.criterion(cls_logits, source_labels)\n",
    "\n",
    "        # MLM task\n",
    "        mlm_outputs = self(input_ids=target_input_ids, attention_mask=target_attention_mask, labels=mlm_labels, task=\"mlm\")\n",
    "        mlm_loss = mlm_outputs.loss\n",
    "\n",
    "        # Combine losses\n",
    "        loss = alpha * task_loss + (1 - alpha) * mlm_loss\n",
    "\n",
    "        accuracy = self.accuracy(source_labels, torch.argmax(self.softmax(cls_logits), dim=1))\n",
    "        f1 = self.f1(source_labels, torch.argmax(self.softmax(cls_logits), dim=1))\n",
    "        self.validation_outputs.append({\n",
    "            \"val/accuracy\": accuracy,\n",
    "            \"val/f1\": f1,\n",
    "            \"val/taskclf_loss\": task_loss,\n",
    "            \"val/loss\": loss,\n",
    "            \"val/mlm_loss\": mlm_loss\n",
    "                })\n",
    "        \n",
    "        metrics = {\n",
    "            \"val/accuracy\": accuracy,\n",
    "            \"val/f1\": f1,\n",
    "            \"val/taskclf_loss\": task_loss,\n",
    "            \"val/loss\": loss,\n",
    "            \"val/mlm_loss\": mlm_loss\n",
    "        }\n",
    "\n",
    "        for key, val in metrics.items():\n",
    "            self.log(name=key, value=val)\n",
    "\n",
    "        return metrics\n",
    "    def on_validation_epoch_start(self):\n",
    "        self.validation_outputs = []\n",
    "    \n",
    "    def on_validation_epoch_end(self):\n",
    "        outputs= self.validation_outputs\n",
    "\n",
    "        avg_loss = torch.stack([x[\"val/loss\"] for x in outputs]).mean()\n",
    "        avg_task_loss = torch.stack([x[\"val/taskclf_loss\"] for x in outputs]).mean()\n",
    "        avg_mlm_loss = torch.stack([x[\"val/mlm_loss\"] for x in outputs]).mean()\n",
    "        avg_accuracy = torch.stack([x[\"val/accuracy\"] for x in outputs]).mean()\n",
    "        avg_f1 = torch.stack([x[\"val/f1\"] for x in outputs]).mean()\n",
    "        print(f\"val/accuracy: {avg_accuracy}\")\n",
    "        print(f\"val/f1: {avg_f1}\")\n",
    "        print(f\"val/taskclf_loss: {avg_task_loss}\")\n",
    "        print(f\"val/loss: {avg_loss}\")\n",
    "        print(f\"val/mlm_loss: {avg_mlm_loss}\")\n",
    "        metrics = {\n",
    "            \"val/avg_loss\": avg_loss,\n",
    "            \"val/avg_taskclf_loss\": avg_task_loss,\n",
    "            \"val/avg_mlm_loss\": avg_mlm_loss,\n",
    "            \"val/avg_accuracy\": avg_accuracy,\n",
    "            \"val/avg_f1\": avg_f1,\n",
    "        }\n",
    "\n",
    "        for key, val in metrics.items():\n",
    "            self.log(name=key, value=val)\n",
    "        self.log(\"val_loss\", avg_loss)\n",
    "\n",
    "    def test_step(self, batch, batch_idx):\n",
    "        # Separate source and target data processing\n",
    "        source_input_ids = batch[\"source_input_ids\"]\n",
    "        source_attention_mask = batch[\"source_attention_mask\"]\n",
    "        source_labels = batch[\"label_source\"]\n",
    "\n",
    "        target_input_ids = batch[\"target_input_ids\"]\n",
    "        target_attention_mask = batch[\"target_attention_mask\"]\n",
    "        target_labels = batch[\"label_target\"]\n",
    "\n",
    "        # Classification task for source data\n",
    "        cls_outputs_source = self(input_ids=source_input_ids, attention_mask=source_attention_mask, task=\"classification\")\n",
    "        cls_logits_source = cls_outputs_source.logits\n",
    "        task_loss_source = self.criterion(cls_logits_source, source_labels)\n",
    "\n",
    "        # Classification task for target data\n",
    "        cls_outputs_target = self(input_ids=target_input_ids, attention_mask=target_attention_mask, task=\"classification\")\n",
    "        cls_logits_target = cls_outputs_target.logits\n",
    "        task_loss_target = self.criterion(cls_logits_target, target_labels)\n",
    "\n",
    "        # Combine losses (though typically you would evaluate them separately)\n",
    "        loss = task_loss_source + task_loss_target\n",
    "\n",
    "        accuracy_source = self.accuracy(source_labels, torch.argmax(self.softmax(cls_logits_source), dim=1))\n",
    "        f1_source = self.f1(source_labels, torch.argmax(self.softmax(cls_logits_source), dim=1))\n",
    "        f1_macro_source = self.f1_macro(source_labels, torch.argmax(self.softmax(cls_logits_source), dim=1))\n",
    "\n",
    "        accuracy_target = self.accuracy(target_labels, torch.argmax(self.softmax(cls_logits_target), dim=1))\n",
    "        f1_target = self.f1(target_labels, torch.argmax(self.softmax(cls_logits_target), dim=1))\n",
    "        f1_macro_target = self.f1_macro(target_labels, torch.argmax(self.softmax(cls_logits_target), dim=1))\n",
    "\n",
    "        metrics = {\n",
    "            \"source_test/loss\": task_loss_source,\n",
    "            \"source_test/accuracy\": accuracy_source,\n",
    "            \"source_test/f1\": f1_source,\n",
    "            \"source_test/f1_macro\": f1_macro_source,\n",
    "            \"target_test/loss\": task_loss_target,\n",
    "            \"target_test/accuracy\": accuracy_target,\n",
    "            \"target_test/f1\": f1_target,\n",
    "            \"target_test/f1_macro\": f1_macro_target,\n",
    "        }\n",
    "\n",
    "        for key, val in metrics.items():\n",
    "            self.log(name=key, value=val)\n",
    "\n",
    "        self.test_outputs.append({\n",
    "            \"source_test/loss\": task_loss_source,\n",
    "            \"source_test/accuracy\": accuracy_source,\n",
    "            \"source_test/f1\": f1_source,\n",
    "            \"source_test/f1_macro\": f1_macro_source,\n",
    "            \"target_test/loss\": task_loss_target,\n",
    "            \"target_test/accuracy\": accuracy_target,\n",
    "            \"target_test/f1\": f1_target,\n",
    "            \"target_test/f1_macro\": f1_macro_target,\n",
    "        })\n",
    "        return metrics\n",
    "    def on_test_epoch_start(self):\n",
    "        self.test_outputs = []\n",
    "\n",
    "    def on_test_epoch_end(self):\n",
    "        outputs=  self.test_outputs\n",
    "\n",
    "        avg_loss_source = torch.stack([x[\"source_test/loss\"] for x in outputs]).mean()\n",
    "        avg_task_loss_target = torch.stack([x[\"target_test/loss\"] for x in outputs]).mean()\n",
    "        avg_accuracy_source = torch.stack([x[\"source_test/accuracy\"] for x in outputs]).mean()\n",
    "        avg_f1_source = torch.stack([x[\"source_test/f1\"] for x in outputs]).mean()\n",
    "        avg_f1_macro_source = torch.stack([x[\"source_test/f1_macro\"] for x in outputs]).mean()\n",
    "\n",
    "        avg_accuracy_target = torch.stack([x[\"target_test/accuracy\"] for x in outputs]).mean()\n",
    "        avg_f1_target = torch.stack([x[\"target_test/f1\"] for x in outputs]).mean()\n",
    "        avg_f1_macro_target = torch.stack([x[\"target_test/f1_macro\"] for x in outputs]).mean()\n",
    "\n",
    "        metrics = {\n",
    "            \"source_test/loss\": avg_loss_source,\n",
    "            \"target_test/loss\": avg_task_loss_target,\n",
    "            \"source_test/accuracy\": avg_accuracy_source,\n",
    "            \"source_test/f1\": avg_f1_source,\n",
    "            \"source_test/f1_macro\": avg_f1_macro_source,\n",
    "            \"target_test/accuracy\": avg_accuracy_target,\n",
    "            \"target_test/f1\": avg_f1_target,\n",
    "            \"target_test/f1_macro\": avg_f1_macro_target,\n",
    "        }\n",
    "\n",
    "        for key, val in metrics.items():\n",
    "            self.log(name=key, value=val)\n",
    "    def save_adapter(self, location, adapter_name):\n",
    "        self.model.save_adapter(location, adapter_name)\n",
    "\n",
    "    def configure_optimizers(self):\n",
    "        optimizer = optim.AdamW(self.parameters(), lr=self.learning_rate)\n",
    "        lr_scheduler = ReduceLROnPlateau(\n",
    "            optimizer=optimizer,\n",
    "            mode=\"min\",\n",
    "            factor=self.scheduler_factor,\n",
    "            patience=self.scheduler_patience,\n",
    "            threshold=self.scheduler_threshold,\n",
    "            cooldown=self.scheduler_cooldown,\n",
    "            eps=self.scheduler_eps,\n",
    "            verbose=True,\n",
    "        )\n",
    "        return [optimizer], [{\"scheduler\": lr_scheduler, \"reduce_lr_on_plateau\": True, \"monitor\": \"val_loss\", \"interval\": \"epoch\"}]\n"
   ]
  },
  {
   "cell_type": "code",
   "execution_count": 4,
   "metadata": {},
   "outputs": [
    {
     "name": "stderr",
     "output_type": "stream",
     "text": [
      "Failed to detect the name of this notebook, you can set it manually with the WANDB_NOTEBOOK_NAME environment variable to enable code saving.\n",
      "\u001b[34m\u001b[1mwandb\u001b[0m: Currently logged in as: \u001b[33mmrawhani5\u001b[0m (\u001b[33mmrawhani\u001b[0m). Use \u001b[1m`wandb login --relogin`\u001b[0m to force relogin\n"
     ]
    }
   ],
   "source": [
    "import wandb\n",
    "\n",
    "wandb.login()\n",
    "# Wandb setup and training loop\n",
    "seeds = [42, 10, 100]  # List of seeds\n",
    "project_name = 'mixed_edited'  # Replace with your wandb project name\n",
    "domain = 'TEG'  # Replace with the specific domain for this notebook\n",
    "type = 'unipelt'  # Replace with the specific type for this notebook\n",
    "\n",
    "# Initialize results dictionary\n",
    "results = {\n",
    "    \"last_epoch\": {\n",
    "        \"source_test/loss\": [],\n",
    "        \"source_test/accuracy\": [],\n",
    "        \"source_test/f1\": [],\n",
    "        \"source_test/f1_macro\": [],\n",
    "        \"target_test/loss\": [],\n",
    "        \"target_test/accuracy\": [],\n",
    "        \"target_test/f1\": [],\n",
    "        \"target_test/f1_macro\": [],\n",
    "    },\n",
    "    \"best_model\": {\n",
    "        \"source_test/loss\": [],\n",
    "        \"source_test/accuracy\": [],\n",
    "        \"source_test/f1\": [],\n",
    "        \"source_test/f1_macro\": [],\n",
    "        \"target_test/loss\": [],\n",
    "        \"target_test/accuracy\": [],\n",
    "        \"target_test/f1\": [],\n",
    "        \"target_test/f1_macro\": [],\n",
    "    },\n",
    "    \"epoch_saved\": {\n",
    "        \"source_test/loss\": [],\n",
    "        \"source_test/accuracy\": [],\n",
    "        \"source_test/f1\": [],\n",
    "        \"source_test/f1_macro\": [],\n",
    "        \"target_test/loss\": [],\n",
    "        \"target_test/accuracy\": [],\n",
    "        \"target_test/f1\": [],\n",
    "        \"target_test/f1_macro\": [],\n",
    "    }\n",
    "}\n",
    "\n",
    "best_val_loss = float('inf')\n",
    "best_model = None\n",
    "best_model_path = \"\""
   ]
  },
  {
   "cell_type": "code",
   "execution_count": 5,
   "metadata": {},
   "outputs": [
    {
     "data": {
      "application/vnd.jupyter.widget-view+json": {
       "model_id": "688436dd722c477db2679b482f760b0d",
       "version_major": 2,
       "version_minor": 0
      },
      "text/plain": [
       "VBox(children=(Label(value='Waiting for wandb.init()...\\r'), FloatProgress(value=0.01111281892258881, max=1.0)…"
      ]
     },
     "metadata": {},
     "output_type": "display_data"
    },
    {
     "data": {
      "text/html": [
       "wandb version 0.17.6 is available!  To upgrade, please run:\n",
       " $ pip install wandb --upgrade"
      ],
      "text/plain": [
       "<IPython.core.display.HTML object>"
      ]
     },
     "metadata": {},
     "output_type": "display_data"
    },
    {
     "data": {
      "text/html": [
       "Tracking run with wandb version 0.17.0"
      ],
      "text/plain": [
       "<IPython.core.display.HTML object>"
      ]
     },
     "metadata": {},
     "output_type": "display_data"
    },
    {
     "data": {
      "text/html": [
       "Run data is saved locally in <code>/home/guest/Desktop/projects/third-experiments/domain_adaptation_project/mixed/government/wandb/run-20240814_130121-bdv6ktea</code>"
      ],
      "text/plain": [
       "<IPython.core.display.HTML object>"
      ]
     },
     "metadata": {},
     "output_type": "display_data"
    },
    {
     "data": {
      "text/html": [
       "Syncing run <strong><a href='https://wandb.ai/mrawhani/mixed_edited/runs/bdv6ktea' target=\"_blank\">TEG_unipelt_run_with_seed_42</a></strong> to <a href='https://wandb.ai/mrawhani/mixed_edited' target=\"_blank\">Weights & Biases</a> (<a href='https://wandb.me/run' target=\"_blank\">docs</a>)<br/>"
      ],
      "text/plain": [
       "<IPython.core.display.HTML object>"
      ]
     },
     "metadata": {},
     "output_type": "display_data"
    },
    {
     "data": {
      "text/html": [
       " View project at <a href='https://wandb.ai/mrawhani/mixed_edited' target=\"_blank\">https://wandb.ai/mrawhani/mixed_edited</a>"
      ],
      "text/plain": [
       "<IPython.core.display.HTML object>"
      ]
     },
     "metadata": {},
     "output_type": "display_data"
    },
    {
     "data": {
      "text/html": [
       " View run at <a href='https://wandb.ai/mrawhani/mixed_edited/runs/bdv6ktea' target=\"_blank\">https://wandb.ai/mrawhani/mixed_edited/runs/bdv6ktea</a>"
      ],
      "text/plain": [
       "<IPython.core.display.HTML object>"
      ]
     },
     "metadata": {},
     "output_type": "display_data"
    },
    {
     "name": "stderr",
     "output_type": "stream",
     "text": [
      "Seed set to 42\n",
      "/home/guest/.cache/pypoetry/virtualenvs/third-experments-xuKQSur9-py3.8/lib/python3.8/site-packages/huggingface_hub/file_download.py:1132: FutureWarning: `resume_download` is deprecated and will be removed in version 1.0.0. Downloads always resume when possible. If you want to force a new download, use `force_download=True`.\n",
      "  warnings.warn(\n"
     ]
    },
    {
     "name": "stdout",
     "output_type": "stream",
     "text": [
      "Batch size: 32\n"
     ]
    },
    {
     "data": {
      "application/vnd.jupyter.widget-view+json": {
       "model_id": "28646273f0a74418a4513539365bd699",
       "version_major": 2,
       "version_minor": 0
      },
      "text/plain": [
       "Filter:   0%|          | 0/392702 [00:00<?, ? examples/s]"
      ]
     },
     "metadata": {},
     "output_type": "display_data"
    },
    {
     "data": {
      "application/vnd.jupyter.widget-view+json": {
       "model_id": "ac95dd402ccd42499ffbb245e24a828b",
       "version_major": 2,
       "version_minor": 0
      },
      "text/plain": [
       "Filter:   0%|          | 0/392702 [00:00<?, ? examples/s]"
      ]
     },
     "metadata": {},
     "output_type": "display_data"
    },
    {
     "data": {
      "application/vnd.jupyter.widget-view+json": {
       "model_id": "acb8d4bf2305424dabb19e1407fd9f67",
       "version_major": 2,
       "version_minor": 0
      },
      "text/plain": [
       "Filter:   0%|          | 0/9815 [00:00<?, ? examples/s]"
      ]
     },
     "metadata": {},
     "output_type": "display_data"
    },
    {
     "data": {
      "application/vnd.jupyter.widget-view+json": {
       "model_id": "f1540532487f4243a4fb2ca7b8a8ca94",
       "version_major": 2,
       "version_minor": 0
      },
      "text/plain": [
       "Filter:   0%|          | 0/9815 [00:00<?, ? examples/s]"
      ]
     },
     "metadata": {},
     "output_type": "display_data"
    },
    {
     "name": "stdout",
     "output_type": "stream",
     "text": [
      "Source genre: telephone\n",
      "Target genre: government\n",
      "Number of target samples: 69615\n"
     ]
    },
    {
     "data": {
      "application/vnd.jupyter.widget-view+json": {
       "model_id": "717e31875f3d43e5a36164b1a50f1aaa",
       "version_major": 2,
       "version_minor": 0
      },
      "text/plain": [
       "Map:   0%|          | 0/69615 [00:00<?, ? examples/s]"
      ]
     },
     "metadata": {},
     "output_type": "display_data"
    },
    {
     "data": {
      "application/vnd.jupyter.widget-view+json": {
       "model_id": "37d19248b61d4549b623d9d8a594f7be",
       "version_major": 2,
       "version_minor": 0
      },
      "text/plain": [
       "Map:   0%|          | 0/69615 [00:00<?, ? examples/s]"
      ]
     },
     "metadata": {},
     "output_type": "display_data"
    },
    {
     "data": {
      "application/vnd.jupyter.widget-view+json": {
       "model_id": "2103d841355948f3995cbe9a91edf323",
       "version_major": 2,
       "version_minor": 0
      },
      "text/plain": [
       "Map:   0%|          | 0/7735 [00:00<?, ? examples/s]"
      ]
     },
     "metadata": {},
     "output_type": "display_data"
    },
    {
     "data": {
      "application/vnd.jupyter.widget-view+json": {
       "model_id": "bb8d15977b4a46f590d970aedea2e116",
       "version_major": 2,
       "version_minor": 0
      },
      "text/plain": [
       "Map:   0%|          | 0/7735 [00:00<?, ? examples/s]"
      ]
     },
     "metadata": {},
     "output_type": "display_data"
    },
    {
     "data": {
      "application/vnd.jupyter.widget-view+json": {
       "model_id": "7f19710da0bf4aa7a34b847b1d1b2f2f",
       "version_major": 2,
       "version_minor": 0
      },
      "text/plain": [
       "Filter:   0%|          | 0/392702 [00:00<?, ? examples/s]"
      ]
     },
     "metadata": {},
     "output_type": "display_data"
    },
    {
     "data": {
      "application/vnd.jupyter.widget-view+json": {
       "model_id": "fdf20e8ce9ed4cf88c9682ef72e4a30e",
       "version_major": 2,
       "version_minor": 0
      },
      "text/plain": [
       "Filter:   0%|          | 0/392702 [00:00<?, ? examples/s]"
      ]
     },
     "metadata": {},
     "output_type": "display_data"
    },
    {
     "data": {
      "application/vnd.jupyter.widget-view+json": {
       "model_id": "c0c4024e21784e39b389e0a3db8c1060",
       "version_major": 2,
       "version_minor": 0
      },
      "text/plain": [
       "Filter:   0%|          | 0/9815 [00:00<?, ? examples/s]"
      ]
     },
     "metadata": {},
     "output_type": "display_data"
    },
    {
     "data": {
      "application/vnd.jupyter.widget-view+json": {
       "model_id": "14b4954c5a664bfcb78d5d6acdbcf4a0",
       "version_major": 2,
       "version_minor": 0
      },
      "text/plain": [
       "Filter:   0%|          | 0/9815 [00:00<?, ? examples/s]"
      ]
     },
     "metadata": {},
     "output_type": "display_data"
    },
    {
     "name": "stdout",
     "output_type": "stream",
     "text": [
      "Source genre: telephone\n",
      "Target genre: government\n",
      "Number of target samples: 69615\n"
     ]
    },
    {
     "data": {
      "application/vnd.jupyter.widget-view+json": {
       "model_id": "59aa990380b84e15a2afa920c55779bc",
       "version_major": 2,
       "version_minor": 0
      },
      "text/plain": [
       "Map:   0%|          | 0/69615 [00:00<?, ? examples/s]"
      ]
     },
     "metadata": {},
     "output_type": "display_data"
    },
    {
     "data": {
      "application/vnd.jupyter.widget-view+json": {
       "model_id": "5fe523096cae413fbebad0dffb12b06d",
       "version_major": 2,
       "version_minor": 0
      },
      "text/plain": [
       "Map:   0%|          | 0/69615 [00:00<?, ? examples/s]"
      ]
     },
     "metadata": {},
     "output_type": "display_data"
    },
    {
     "data": {
      "application/vnd.jupyter.widget-view+json": {
       "model_id": "591c62343af541d2bac405ae7e035a4f",
       "version_major": 2,
       "version_minor": 0
      },
      "text/plain": [
       "Map:   0%|          | 0/7735 [00:00<?, ? examples/s]"
      ]
     },
     "metadata": {},
     "output_type": "display_data"
    },
    {
     "data": {
      "application/vnd.jupyter.widget-view+json": {
       "model_id": "afe24ec9fcae4863b6814c4bd458eb46",
       "version_major": 2,
       "version_minor": 0
      },
      "text/plain": [
       "Map:   0%|          | 0/7735 [00:00<?, ? examples/s]"
      ]
     },
     "metadata": {},
     "output_type": "display_data"
    },
    {
     "name": "stdout",
     "output_type": "stream",
     "text": [
      "Source dataset length: 75013\n",
      "Target dataset length: 23184\n"
     ]
    },
    {
     "name": "stderr",
     "output_type": "stream",
     "text": [
      "Some weights of BertAdapterModel were not initialized from the model checkpoint at bert-base-uncased and are newly initialized: ['heads.default.3.bias']\n",
      "You should probably TRAIN this model on a down-stream task to be able to use it for predictions and inference.\n",
      "/home/guest/.cache/pypoetry/virtualenvs/third-experments-xuKQSur9-py3.8/lib/python3.8/site-packages/torch/utils/data/dataloader.py:558: UserWarning: This DataLoader will create 16 worker processes in total. Our suggested max number of worker in current system is 12, which is smaller than what this DataLoader is going to create. Please be aware that excessive worker creation might get DataLoader running slow or even freeze, lower the worker number to avoid potential slowness/freeze if necessary.\n",
      "  warnings.warn(_create_warning_msg(\n",
      "/home/guest/.cache/pypoetry/virtualenvs/third-experments-xuKQSur9-py3.8/lib/python3.8/site-packages/lightning_fabric/connector.py:563: `precision=16` is supported for historical reasons but its usage is discouraged. Please set your precision to 16-mixed instead!\n",
      "Using 16bit Automatic Mixed Precision (AMP)\n",
      "GPU available: True (cuda), used: True\n",
      "TPU available: False, using: 0 TPU cores\n",
      "IPU available: False, using: 0 IPUs\n",
      "HPU available: False, using: 0 HPUs\n",
      "`Trainer(limit_train_batches=1.0)` was configured so 100% of the batches per epoch will be used..\n",
      "`Trainer(limit_val_batches=1.0)` was configured so 100% of the batches will be used..\n",
      "`Trainer(limit_test_batches=1.0)` was configured so 100% of the batches will be used..\n",
      "/home/guest/.cache/pypoetry/virtualenvs/third-experments-xuKQSur9-py3.8/lib/python3.8/site-packages/pytorch_lightning/loggers/wandb.py:396: There is a wandb run already in progress and newly created instances of `WandbLogger` will reuse this run. If this is not desired, call `wandb.finish()` before instantiating `WandbLogger`.\n",
      "LOCAL_RANK: 0 - CUDA_VISIBLE_DEVICES: [0]\n"
     ]
    },
    {
     "name": "stdout",
     "output_type": "stream",
     "text": [
      "eee\n"
     ]
    },
    {
     "name": "stderr",
     "output_type": "stream",
     "text": [
      "/home/guest/.cache/pypoetry/virtualenvs/third-experments-xuKQSur9-py3.8/lib/python3.8/site-packages/pytorch_lightning/core/optimizer.py:257: Found unsupported keys in the lr scheduler dict: {'reduce_lr_on_plateau'}. HINT: remove them from the output of `configure_optimizers`.\n",
      "\n",
      "  | Name          | Type               | Params\n",
      "-----------------------------------------------------\n",
      "0 | model         | BertAdapterModel   | 122 M \n",
      "1 | criterion     | CrossEntropyLoss   | 0     \n",
      "2 | mlm_criterion | CrossEntropyLoss   | 0     \n",
      "3 | accuracy      | MulticlassAccuracy | 0     \n",
      "4 | f1            | MulticlassF1Score  | 0     \n",
      "5 | f1_macro      | MulticlassF1Score  | 0     \n",
      "6 | softmax       | Softmax            | 0     \n",
      "-----------------------------------------------------\n",
      "12.9 M    Trainable params\n",
      "109 M     Non-trainable params\n",
      "122 M     Total params\n",
      "489.615   Total estimated model params size (MB)\n"
     ]
    },
    {
     "data": {
      "application/vnd.jupyter.widget-view+json": {
       "model_id": "01dc4a6861c845c4986b9c46b8701d34",
       "version_major": 2,
       "version_minor": 0
      },
      "text/plain": [
       "Sanity Checking: |          | 0/? [00:00<?, ?it/s]"
      ]
     },
     "metadata": {},
     "output_type": "display_data"
    },
    {
     "name": "stdout",
     "output_type": "stream",
     "text": [
      "val/accuracy: 0.34375\n",
      "val/f1: 0.47486889362335205\n",
      "val/taskclf_loss: 1.0983200073242188\n",
      "val/loss: 1.240812063217163\n",
      "val/mlm_loss: 1.7018516063690186\n"
     ]
    },
    {
     "data": {
      "application/vnd.jupyter.widget-view+json": {
       "model_id": "d876c4118b2d480e945571fd0ab87c5d",
       "version_major": 2,
       "version_minor": 0
      },
      "text/plain": [
       "Training: |          | 0/? [00:00<?, ?it/s]"
      ]
     },
     "metadata": {},
     "output_type": "display_data"
    },
    {
     "data": {
      "application/vnd.jupyter.widget-view+json": {
       "model_id": "15c8c77bb09a4f6fb66d822a4651a02a",
       "version_major": 2,
       "version_minor": 0
      },
      "text/plain": [
       "Validation: |          | 0/? [00:00<?, ?it/s]"
      ]
     },
     "metadata": {},
     "output_type": "display_data"
    },
    {
     "name": "stdout",
     "output_type": "stream",
     "text": [
      "val/accuracy: 0.7517321109771729\n",
      "val/f1: 0.7515305280685425\n",
      "val/taskclf_loss: 0.6001912951469421\n",
      "val/loss: 0.871006429195404\n",
      "val/mlm_loss: 1.7472425699234009\n"
     ]
    },
    {
     "data": {
      "application/vnd.jupyter.widget-view+json": {
       "model_id": "07d375530af44f9ca2bb11738007f423",
       "version_major": 2,
       "version_minor": 0
      },
      "text/plain": [
       "Validation: |          | 0/? [00:00<?, ?it/s]"
      ]
     },
     "metadata": {},
     "output_type": "display_data"
    },
    {
     "name": "stdout",
     "output_type": "stream",
     "text": [
      "val/accuracy: 0.7729246616363525\n",
      "val/f1: 0.7723633050918579\n",
      "val/taskclf_loss: 0.554837167263031\n",
      "val/loss: 0.8351944088935852\n",
      "val/mlm_loss: 1.7423043251037598\n"
     ]
    },
    {
     "data": {
      "application/vnd.jupyter.widget-view+json": {
       "model_id": "b92633d629f44aa2bf4770f7aee7a0ce",
       "version_major": 2,
       "version_minor": 0
      },
      "text/plain": [
       "Validation: |          | 0/? [00:00<?, ?it/s]"
      ]
     },
     "metadata": {},
     "output_type": "display_data"
    },
    {
     "name": "stdout",
     "output_type": "stream",
     "text": [
      "val/accuracy: 0.7850175499916077\n",
      "val/f1: 0.7845859527587891\n",
      "val/taskclf_loss: 0.5367842316627502\n",
      "val/loss: 0.8154411315917969\n",
      "val/mlm_loss: 1.7170493602752686\n"
     ]
    },
    {
     "data": {
      "application/vnd.jupyter.widget-view+json": {
       "model_id": "a921b7105b7344dcaf3c5ab4f665f2de",
       "version_major": 2,
       "version_minor": 0
      },
      "text/plain": [
       "Validation: |          | 0/? [00:00<?, ?it/s]"
      ]
     },
     "metadata": {},
     "output_type": "display_data"
    },
    {
     "name": "stdout",
     "output_type": "stream",
     "text": [
      "val/accuracy: 0.7828304767608643\n",
      "val/f1: 0.7823184132575989\n",
      "val/taskclf_loss: 0.5454487800598145\n",
      "val/loss: 0.817070484161377\n",
      "val/mlm_loss: 1.6959160566329956\n"
     ]
    },
    {
     "data": {
      "application/vnd.jupyter.widget-view+json": {
       "model_id": "b8980e53a8f74f37886de3dda776a02d",
       "version_major": 2,
       "version_minor": 0
      },
      "text/plain": [
       "Validation: |          | 0/? [00:00<?, ?it/s]"
      ]
     },
     "metadata": {},
     "output_type": "display_data"
    },
    {
     "name": "stdout",
     "output_type": "stream",
     "text": [
      "val/accuracy: 0.7972301840782166\n",
      "val/f1: 0.7969096899032593\n",
      "val/taskclf_loss: 0.5310410857200623\n",
      "val/loss: 0.8052599430084229\n",
      "val/mlm_loss: 1.6925088167190552\n"
     ]
    },
    {
     "data": {
      "application/vnd.jupyter.widget-view+json": {
       "model_id": "5590131f8ee145208908ccea6432adf8",
       "version_major": 2,
       "version_minor": 0
      },
      "text/plain": [
       "Validation: |          | 0/? [00:00<?, ?it/s]"
      ]
     },
     "metadata": {},
     "output_type": "display_data"
    },
    {
     "name": "stdout",
     "output_type": "stream",
     "text": [
      "val/accuracy: 0.8002394437789917\n",
      "val/f1: 0.8000317215919495\n",
      "val/taskclf_loss: 0.5300993323326111\n",
      "val/loss: 0.8061046004295349\n",
      "val/mlm_loss: 1.6991335153579712\n"
     ]
    },
    {
     "data": {
      "application/vnd.jupyter.widget-view+json": {
       "model_id": "e0b76230232e4a158e91c23399691b6a",
       "version_major": 2,
       "version_minor": 0
      },
      "text/plain": [
       "Validation: |          | 0/? [00:00<?, ?it/s]"
      ]
     },
     "metadata": {},
     "output_type": "display_data"
    },
    {
     "name": "stdout",
     "output_type": "stream",
     "text": [
      "val/accuracy: 0.7994173169136047\n",
      "val/f1: 0.7997579574584961\n",
      "val/taskclf_loss: 0.5239814519882202\n",
      "val/loss: 0.799540638923645\n",
      "val/mlm_loss: 1.6911263465881348\n"
     ]
    },
    {
     "data": {
      "application/vnd.jupyter.widget-view+json": {
       "model_id": "959131e5f05f42d68bcf45cb5d902c28",
       "version_major": 2,
       "version_minor": 0
      },
      "text/plain": [
       "Validation: |          | 0/? [00:00<?, ?it/s]"
      ]
     },
     "metadata": {},
     "output_type": "display_data"
    },
    {
     "name": "stdout",
     "output_type": "stream",
     "text": [
      "val/accuracy: 0.799896240234375\n",
      "val/f1: 0.8004497289657593\n",
      "val/taskclf_loss: 0.5231160521507263\n",
      "val/loss: 0.7996849417686462\n",
      "val/mlm_loss: 1.6945375204086304\n"
     ]
    },
    {
     "data": {
      "application/vnd.jupyter.widget-view+json": {
       "model_id": "63b2f6d9f20c4ef3912e5df010764f06",
       "version_major": 2,
       "version_minor": 0
      },
      "text/plain": [
       "Validation: |          | 0/? [00:00<?, ?it/s]"
      ]
     },
     "metadata": {},
     "output_type": "display_data"
    },
    {
     "name": "stdout",
     "output_type": "stream",
     "text": [
      "val/accuracy: 0.7994173169136047\n",
      "val/f1: 0.7997663021087646\n",
      "val/taskclf_loss: 0.5228517055511475\n",
      "val/loss: 0.7993043661117554\n",
      "val/mlm_loss: 1.693780779838562\n"
     ]
    },
    {
     "data": {
      "application/vnd.jupyter.widget-view+json": {
       "model_id": "0218aab4cfb2401697c464ddecab4be3",
       "version_major": 2,
       "version_minor": 0
      },
      "text/plain": [
       "Validation: |          | 0/? [00:00<?, ?it/s]"
      ]
     },
     "metadata": {},
     "output_type": "display_data"
    },
    {
     "name": "stderr",
     "output_type": "stream",
     "text": [
      "`Trainer.fit` stopped: `max_epochs=10` reached.\n"
     ]
    },
    {
     "name": "stdout",
     "output_type": "stream",
     "text": [
      "val/accuracy: 0.798698902130127\n",
      "val/f1: 0.7990145087242126\n",
      "val/taskclf_loss: 0.5226364135742188\n",
      "val/loss: 0.8000360131263733\n",
      "val/mlm_loss: 1.6975761651992798\n",
      "Best checkpoint path: ./lightning_logs/bdv6ktea/checkpoints/task-TEG-epoch=08-val_loss=0.80.ckpt\n",
      "Saved epoch checkpoint path: ./lightning_logs/bdv6ktea/checkpoints/TEG-epoch=05.ckpt\n"
     ]
    },
    {
     "data": {
      "application/vnd.jupyter.widget-view+json": {
       "model_id": "29f672627d804a478cd78f9aadc6b7e3",
       "version_major": 2,
       "version_minor": 0
      },
      "text/plain": [
       "Filter:   0%|          | 0/392702 [00:00<?, ? examples/s]"
      ]
     },
     "metadata": {},
     "output_type": "display_data"
    },
    {
     "data": {
      "application/vnd.jupyter.widget-view+json": {
       "model_id": "780ee8b2b93f4eb1ae39e2d34c2b312b",
       "version_major": 2,
       "version_minor": 0
      },
      "text/plain": [
       "Filter:   0%|          | 0/392702 [00:00<?, ? examples/s]"
      ]
     },
     "metadata": {},
     "output_type": "display_data"
    },
    {
     "data": {
      "application/vnd.jupyter.widget-view+json": {
       "model_id": "d112313f62c2470abf2ba62059421262",
       "version_major": 2,
       "version_minor": 0
      },
      "text/plain": [
       "Filter:   0%|          | 0/9815 [00:00<?, ? examples/s]"
      ]
     },
     "metadata": {},
     "output_type": "display_data"
    },
    {
     "data": {
      "application/vnd.jupyter.widget-view+json": {
       "model_id": "76cb181c26ca4c57869145a6d4c778c2",
       "version_major": 2,
       "version_minor": 0
      },
      "text/plain": [
       "Filter:   0%|          | 0/9815 [00:00<?, ? examples/s]"
      ]
     },
     "metadata": {},
     "output_type": "display_data"
    },
    {
     "name": "stdout",
     "output_type": "stream",
     "text": [
      "Source genre: telephone\n",
      "Target genre: government\n",
      "Number of target samples: 69615\n"
     ]
    },
    {
     "data": {
      "application/vnd.jupyter.widget-view+json": {
       "model_id": "67f97c30c1dc4841ab09c24c25674ac7",
       "version_major": 2,
       "version_minor": 0
      },
      "text/plain": [
       "Map:   0%|          | 0/69615 [00:00<?, ? examples/s]"
      ]
     },
     "metadata": {},
     "output_type": "display_data"
    },
    {
     "data": {
      "application/vnd.jupyter.widget-view+json": {
       "model_id": "370fe26a52c54e1ab53f4a94c409217d",
       "version_major": 2,
       "version_minor": 0
      },
      "text/plain": [
       "Map:   0%|          | 0/69615 [00:00<?, ? examples/s]"
      ]
     },
     "metadata": {},
     "output_type": "display_data"
    },
    {
     "data": {
      "application/vnd.jupyter.widget-view+json": {
       "model_id": "8791ad14583943d1ba65f2ab426027c5",
       "version_major": 2,
       "version_minor": 0
      },
      "text/plain": [
       "Map:   0%|          | 0/7735 [00:00<?, ? examples/s]"
      ]
     },
     "metadata": {},
     "output_type": "display_data"
    },
    {
     "data": {
      "application/vnd.jupyter.widget-view+json": {
       "model_id": "9c05784a314e47c9b8fd696b9d0309e5",
       "version_major": 2,
       "version_minor": 0
      },
      "text/plain": [
       "Map:   0%|          | 0/7735 [00:00<?, ? examples/s]"
      ]
     },
     "metadata": {},
     "output_type": "display_data"
    },
    {
     "name": "stderr",
     "output_type": "stream",
     "text": [
      "LOCAL_RANK: 0 - CUDA_VISIBLE_DEVICES: [0]\n"
     ]
    },
    {
     "data": {
      "application/vnd.jupyter.widget-view+json": {
       "model_id": "b289ff514592466386fc17a50ad1021f",
       "version_major": 2,
       "version_minor": 0
      },
      "text/plain": [
       "Testing: |          | 0/? [00:00<?, ?it/s]"
      ]
     },
     "metadata": {},
     "output_type": "display_data"
    },
    {
     "data": {
      "text/html": [
       "<pre style=\"white-space:pre;overflow-x:auto;line-height:normal;font-family:Menlo,'DejaVu Sans Mono',consolas,'Courier New',monospace\">┏━━━━━━━━━━━━━━━━━━━━━━━━━━━┳━━━━━━━━━━━━━━━━━━━━━━━━━━━┓\n",
       "┃<span style=\"font-weight: bold\">        Test metric        </span>┃<span style=\"font-weight: bold\">       DataLoader 0        </span>┃\n",
       "┡━━━━━━━━━━━━━━━━━━━━━━━━━━━╇━━━━━━━━━━━━━━━━━━━━━━━━━━━┩\n",
       "│<span style=\"color: #008080; text-decoration-color: #008080\">   source_test/accuracy    </span>│<span style=\"color: #800080; text-decoration-color: #800080\">    0.8002592325210571     </span>│\n",
       "│<span style=\"color: #008080; text-decoration-color: #008080\">      source_test/f1       </span>│<span style=\"color: #800080; text-decoration-color: #800080\">    0.8002256155014038     </span>│\n",
       "│<span style=\"color: #008080; text-decoration-color: #008080\">   source_test/f1_macro    </span>│<span style=\"color: #800080; text-decoration-color: #800080\">    0.7897464036941528     </span>│\n",
       "│<span style=\"color: #008080; text-decoration-color: #008080\">     source_test/loss      </span>│<span style=\"color: #800080; text-decoration-color: #800080\">    0.5302215218544006     </span>│\n",
       "│<span style=\"color: #008080; text-decoration-color: #008080\">   target_test/accuracy    </span>│<span style=\"color: #800080; text-decoration-color: #800080\">    0.8109158873558044     </span>│\n",
       "│<span style=\"color: #008080; text-decoration-color: #008080\">      target_test/f1       </span>│<span style=\"color: #800080; text-decoration-color: #800080\">    0.8117556571960449     </span>│\n",
       "│<span style=\"color: #008080; text-decoration-color: #008080\">   target_test/f1_macro    </span>│<span style=\"color: #800080; text-decoration-color: #800080\">    0.8035316467285156     </span>│\n",
       "│<span style=\"color: #008080; text-decoration-color: #008080\">     target_test/loss      </span>│<span style=\"color: #800080; text-decoration-color: #800080\">    0.5161494612693787     </span>│\n",
       "└───────────────────────────┴───────────────────────────┘\n",
       "</pre>\n"
      ],
      "text/plain": [
       "┏━━━━━━━━━━━━━━━━━━━━━━━━━━━┳━━━━━━━━━━━━━━━━━━━━━━━━━━━┓\n",
       "┃\u001b[1m \u001b[0m\u001b[1m       Test metric       \u001b[0m\u001b[1m \u001b[0m┃\u001b[1m \u001b[0m\u001b[1m      DataLoader 0       \u001b[0m\u001b[1m \u001b[0m┃\n",
       "┡━━━━━━━━━━━━━━━━━━━━━━━━━━━╇━━━━━━━━━━━━━━━━━━━━━━━━━━━┩\n",
       "│\u001b[36m \u001b[0m\u001b[36m  source_test/accuracy   \u001b[0m\u001b[36m \u001b[0m│\u001b[35m \u001b[0m\u001b[35m   0.8002592325210571    \u001b[0m\u001b[35m \u001b[0m│\n",
       "│\u001b[36m \u001b[0m\u001b[36m     source_test/f1      \u001b[0m\u001b[36m \u001b[0m│\u001b[35m \u001b[0m\u001b[35m   0.8002256155014038    \u001b[0m\u001b[35m \u001b[0m│\n",
       "│\u001b[36m \u001b[0m\u001b[36m  source_test/f1_macro   \u001b[0m\u001b[36m \u001b[0m│\u001b[35m \u001b[0m\u001b[35m   0.7897464036941528    \u001b[0m\u001b[35m \u001b[0m│\n",
       "│\u001b[36m \u001b[0m\u001b[36m    source_test/loss     \u001b[0m\u001b[36m \u001b[0m│\u001b[35m \u001b[0m\u001b[35m   0.5302215218544006    \u001b[0m\u001b[35m \u001b[0m│\n",
       "│\u001b[36m \u001b[0m\u001b[36m  target_test/accuracy   \u001b[0m\u001b[36m \u001b[0m│\u001b[35m \u001b[0m\u001b[35m   0.8109158873558044    \u001b[0m\u001b[35m \u001b[0m│\n",
       "│\u001b[36m \u001b[0m\u001b[36m     target_test/f1      \u001b[0m\u001b[36m \u001b[0m│\u001b[35m \u001b[0m\u001b[35m   0.8117556571960449    \u001b[0m\u001b[35m \u001b[0m│\n",
       "│\u001b[36m \u001b[0m\u001b[36m  target_test/f1_macro   \u001b[0m\u001b[36m \u001b[0m│\u001b[35m \u001b[0m\u001b[35m   0.8035316467285156    \u001b[0m\u001b[35m \u001b[0m│\n",
       "│\u001b[36m \u001b[0m\u001b[36m    target_test/loss     \u001b[0m\u001b[36m \u001b[0m│\u001b[35m \u001b[0m\u001b[35m   0.5161494612693787    \u001b[0m\u001b[35m \u001b[0m│\n",
       "└───────────────────────────┴───────────────────────────┘\n"
      ]
     },
     "metadata": {},
     "output_type": "display_data"
    },
    {
     "name": "stdout",
     "output_type": "stream",
     "text": [
      "Test Results Last Epoch: [{'source_test/loss': 0.5302215218544006, 'source_test/accuracy': 0.8002592325210571, 'source_test/f1': 0.8002256155014038, 'source_test/f1_macro': 0.7897464036941528, 'target_test/loss': 0.5161494612693787, 'target_test/accuracy': 0.8109158873558044, 'target_test/f1': 0.8117556571960449, 'target_test/f1_macro': 0.8035316467285156}]\n",
      "Best checkpoint path: ./lightning_logs/bdv6ktea/checkpoints/task-TEG-epoch=08-val_loss=0.80.ckpt\n",
      "Saved epoch checkpoint path: ./lightning_logs/bdv6ktea/checkpoints/TEG-epoch=05.ckpt\n"
     ]
    },
    {
     "name": "stderr",
     "output_type": "stream",
     "text": [
      "Some weights of BertAdapterModel were not initialized from the model checkpoint at bert-base-uncased and are newly initialized: ['heads.default.3.bias']\n",
      "You should probably TRAIN this model on a down-stream task to be able to use it for predictions and inference.\n",
      "LOCAL_RANK: 0 - CUDA_VISIBLE_DEVICES: [0]\n"
     ]
    },
    {
     "data": {
      "application/vnd.jupyter.widget-view+json": {
       "model_id": "f9bd9a568be145829381f88278b1ee32",
       "version_major": 2,
       "version_minor": 0
      },
      "text/plain": [
       "Testing: |          | 0/? [00:00<?, ?it/s]"
      ]
     },
     "metadata": {},
     "output_type": "display_data"
    },
    {
     "data": {
      "text/html": [
       "<pre style=\"white-space:pre;overflow-x:auto;line-height:normal;font-family:Menlo,'DejaVu Sans Mono',consolas,'Courier New',monospace\">┏━━━━━━━━━━━━━━━━━━━━━━━━━━━┳━━━━━━━━━━━━━━━━━━━━━━━━━━━┓\n",
       "┃<span style=\"font-weight: bold\">        Test metric        </span>┃<span style=\"font-weight: bold\">       DataLoader 0        </span>┃\n",
       "┡━━━━━━━━━━━━━━━━━━━━━━━━━━━╇━━━━━━━━━━━━━━━━━━━━━━━━━━━┩\n",
       "│<span style=\"color: #008080; text-decoration-color: #008080\">   source_test/accuracy    </span>│<span style=\"color: #800080; text-decoration-color: #800080\">    0.7997552156448364     </span>│\n",
       "│<span style=\"color: #008080; text-decoration-color: #008080\">      source_test/f1       </span>│<span style=\"color: #800080; text-decoration-color: #800080\">    0.7996701598167419     </span>│\n",
       "│<span style=\"color: #008080; text-decoration-color: #008080\">   source_test/f1_macro    </span>│<span style=\"color: #800080; text-decoration-color: #800080\">     0.789304256439209     </span>│\n",
       "│<span style=\"color: #008080; text-decoration-color: #008080\">     source_test/loss      </span>│<span style=\"color: #800080; text-decoration-color: #800080\">    0.5302311778068542     </span>│\n",
       "│<span style=\"color: #008080; text-decoration-color: #008080\">   target_test/accuracy    </span>│<span style=\"color: #800080; text-decoration-color: #800080\">    0.8124279975891113     </span>│\n",
       "│<span style=\"color: #008080; text-decoration-color: #008080\">      target_test/f1       </span>│<span style=\"color: #800080; text-decoration-color: #800080\">    0.8132643699645996     </span>│\n",
       "│<span style=\"color: #008080; text-decoration-color: #008080\">   target_test/f1_macro    </span>│<span style=\"color: #800080; text-decoration-color: #800080\">    0.8051518797874451     </span>│\n",
       "│<span style=\"color: #008080; text-decoration-color: #008080\">     target_test/loss      </span>│<span style=\"color: #800080; text-decoration-color: #800080\">     0.516003429889679     </span>│\n",
       "└───────────────────────────┴───────────────────────────┘\n",
       "</pre>\n"
      ],
      "text/plain": [
       "┏━━━━━━━━━━━━━━━━━━━━━━━━━━━┳━━━━━━━━━━━━━━━━━━━━━━━━━━━┓\n",
       "┃\u001b[1m \u001b[0m\u001b[1m       Test metric       \u001b[0m\u001b[1m \u001b[0m┃\u001b[1m \u001b[0m\u001b[1m      DataLoader 0       \u001b[0m\u001b[1m \u001b[0m┃\n",
       "┡━━━━━━━━━━━━━━━━━━━━━━━━━━━╇━━━━━━━━━━━━━━━━━━━━━━━━━━━┩\n",
       "│\u001b[36m \u001b[0m\u001b[36m  source_test/accuracy   \u001b[0m\u001b[36m \u001b[0m│\u001b[35m \u001b[0m\u001b[35m   0.7997552156448364    \u001b[0m\u001b[35m \u001b[0m│\n",
       "│\u001b[36m \u001b[0m\u001b[36m     source_test/f1      \u001b[0m\u001b[36m \u001b[0m│\u001b[35m \u001b[0m\u001b[35m   0.7996701598167419    \u001b[0m\u001b[35m \u001b[0m│\n",
       "│\u001b[36m \u001b[0m\u001b[36m  source_test/f1_macro   \u001b[0m\u001b[36m \u001b[0m│\u001b[35m \u001b[0m\u001b[35m    0.789304256439209    \u001b[0m\u001b[35m \u001b[0m│\n",
       "│\u001b[36m \u001b[0m\u001b[36m    source_test/loss     \u001b[0m\u001b[36m \u001b[0m│\u001b[35m \u001b[0m\u001b[35m   0.5302311778068542    \u001b[0m\u001b[35m \u001b[0m│\n",
       "│\u001b[36m \u001b[0m\u001b[36m  target_test/accuracy   \u001b[0m\u001b[36m \u001b[0m│\u001b[35m \u001b[0m\u001b[35m   0.8124279975891113    \u001b[0m\u001b[35m \u001b[0m│\n",
       "│\u001b[36m \u001b[0m\u001b[36m     target_test/f1      \u001b[0m\u001b[36m \u001b[0m│\u001b[35m \u001b[0m\u001b[35m   0.8132643699645996    \u001b[0m\u001b[35m \u001b[0m│\n",
       "│\u001b[36m \u001b[0m\u001b[36m  target_test/f1_macro   \u001b[0m\u001b[36m \u001b[0m│\u001b[35m \u001b[0m\u001b[35m   0.8051518797874451    \u001b[0m\u001b[35m \u001b[0m│\n",
       "│\u001b[36m \u001b[0m\u001b[36m    target_test/loss     \u001b[0m\u001b[36m \u001b[0m│\u001b[35m \u001b[0m\u001b[35m    0.516003429889679    \u001b[0m\u001b[35m \u001b[0m│\n",
       "└───────────────────────────┴───────────────────────────┘\n"
      ]
     },
     "metadata": {},
     "output_type": "display_data"
    },
    {
     "name": "stdout",
     "output_type": "stream",
     "text": [
      "Test Results on Best Model: [{'source_test/loss': 0.5302311778068542, 'source_test/accuracy': 0.7997552156448364, 'source_test/f1': 0.7996701598167419, 'source_test/f1_macro': 0.789304256439209, 'target_test/loss': 0.516003429889679, 'target_test/accuracy': 0.8124279975891113, 'target_test/f1': 0.8132643699645996, 'target_test/f1_macro': 0.8051518797874451}]\n"
     ]
    },
    {
     "name": "stderr",
     "output_type": "stream",
     "text": [
      "Some weights of BertAdapterModel were not initialized from the model checkpoint at bert-base-uncased and are newly initialized: ['heads.default.3.bias']\n",
      "You should probably TRAIN this model on a down-stream task to be able to use it for predictions and inference.\n",
      "LOCAL_RANK: 0 - CUDA_VISIBLE_DEVICES: [0]\n"
     ]
    },
    {
     "data": {
      "application/vnd.jupyter.widget-view+json": {
       "model_id": "3bf2f21807474543b1c74ef0c49acdad",
       "version_major": 2,
       "version_minor": 0
      },
      "text/plain": [
       "Testing: |          | 0/? [00:00<?, ?it/s]"
      ]
     },
     "metadata": {},
     "output_type": "display_data"
    },
    {
     "data": {
      "text/html": [
       "<pre style=\"white-space:pre;overflow-x:auto;line-height:normal;font-family:Menlo,'DejaVu Sans Mono',consolas,'Courier New',monospace\">┏━━━━━━━━━━━━━━━━━━━━━━━━━━━┳━━━━━━━━━━━━━━━━━━━━━━━━━━━┓\n",
       "┃<span style=\"font-weight: bold\">        Test metric        </span>┃<span style=\"font-weight: bold\">       DataLoader 0        </span>┃\n",
       "┡━━━━━━━━━━━━━━━━━━━━━━━━━━━╇━━━━━━━━━━━━━━━━━━━━━━━━━━━┩\n",
       "│<span style=\"color: #008080; text-decoration-color: #008080\">   source_test/accuracy    </span>│<span style=\"color: #800080; text-decoration-color: #800080\">     0.799251139163971     </span>│\n",
       "│<span style=\"color: #008080; text-decoration-color: #008080\">      source_test/f1       </span>│<span style=\"color: #800080; text-decoration-color: #800080\">    0.7989853620529175     </span>│\n",
       "│<span style=\"color: #008080; text-decoration-color: #008080\">   source_test/f1_macro    </span>│<span style=\"color: #800080; text-decoration-color: #800080\">    0.7885787487030029     </span>│\n",
       "│<span style=\"color: #008080; text-decoration-color: #008080\">     source_test/loss      </span>│<span style=\"color: #800080; text-decoration-color: #800080\">     0.540400505065918     </span>│\n",
       "│<span style=\"color: #008080; text-decoration-color: #008080\">   target_test/accuracy    </span>│<span style=\"color: #800080; text-decoration-color: #800080\">    0.8078917264938354     </span>│\n",
       "│<span style=\"color: #008080; text-decoration-color: #008080\">      target_test/f1       </span>│<span style=\"color: #800080; text-decoration-color: #800080\">    0.8079904317855835     </span>│\n",
       "│<span style=\"color: #008080; text-decoration-color: #008080\">   target_test/f1_macro    </span>│<span style=\"color: #800080; text-decoration-color: #800080\">    0.8012862205505371     </span>│\n",
       "│<span style=\"color: #008080; text-decoration-color: #008080\">     target_test/loss      </span>│<span style=\"color: #800080; text-decoration-color: #800080\">     0.526016116142273     </span>│\n",
       "└───────────────────────────┴───────────────────────────┘\n",
       "</pre>\n"
      ],
      "text/plain": [
       "┏━━━━━━━━━━━━━━━━━━━━━━━━━━━┳━━━━━━━━━━━━━━━━━━━━━━━━━━━┓\n",
       "┃\u001b[1m \u001b[0m\u001b[1m       Test metric       \u001b[0m\u001b[1m \u001b[0m┃\u001b[1m \u001b[0m\u001b[1m      DataLoader 0       \u001b[0m\u001b[1m \u001b[0m┃\n",
       "┡━━━━━━━━━━━━━━━━━━━━━━━━━━━╇━━━━━━━━━━━━━━━━━━━━━━━━━━━┩\n",
       "│\u001b[36m \u001b[0m\u001b[36m  source_test/accuracy   \u001b[0m\u001b[36m \u001b[0m│\u001b[35m \u001b[0m\u001b[35m    0.799251139163971    \u001b[0m\u001b[35m \u001b[0m│\n",
       "│\u001b[36m \u001b[0m\u001b[36m     source_test/f1      \u001b[0m\u001b[36m \u001b[0m│\u001b[35m \u001b[0m\u001b[35m   0.7989853620529175    \u001b[0m\u001b[35m \u001b[0m│\n",
       "│\u001b[36m \u001b[0m\u001b[36m  source_test/f1_macro   \u001b[0m\u001b[36m \u001b[0m│\u001b[35m \u001b[0m\u001b[35m   0.7885787487030029    \u001b[0m\u001b[35m \u001b[0m│\n",
       "│\u001b[36m \u001b[0m\u001b[36m    source_test/loss     \u001b[0m\u001b[36m \u001b[0m│\u001b[35m \u001b[0m\u001b[35m    0.540400505065918    \u001b[0m\u001b[35m \u001b[0m│\n",
       "│\u001b[36m \u001b[0m\u001b[36m  target_test/accuracy   \u001b[0m\u001b[36m \u001b[0m│\u001b[35m \u001b[0m\u001b[35m   0.8078917264938354    \u001b[0m\u001b[35m \u001b[0m│\n",
       "│\u001b[36m \u001b[0m\u001b[36m     target_test/f1      \u001b[0m\u001b[36m \u001b[0m│\u001b[35m \u001b[0m\u001b[35m   0.8079904317855835    \u001b[0m\u001b[35m \u001b[0m│\n",
       "│\u001b[36m \u001b[0m\u001b[36m  target_test/f1_macro   \u001b[0m\u001b[36m \u001b[0m│\u001b[35m \u001b[0m\u001b[35m   0.8012862205505371    \u001b[0m\u001b[35m \u001b[0m│\n",
       "│\u001b[36m \u001b[0m\u001b[36m    target_test/loss     \u001b[0m\u001b[36m \u001b[0m│\u001b[35m \u001b[0m\u001b[35m    0.526016116142273    \u001b[0m\u001b[35m \u001b[0m│\n",
       "└───────────────────────────┴───────────────────────────┘\n"
      ]
     },
     "metadata": {},
     "output_type": "display_data"
    },
    {
     "name": "stdout",
     "output_type": "stream",
     "text": [
      "Test Results on saved epoch: [{'source_test/loss': 0.540400505065918, 'source_test/accuracy': 0.799251139163971, 'source_test/f1': 0.7989853620529175, 'source_test/f1_macro': 0.7885787487030029, 'target_test/loss': 0.526016116142273, 'target_test/accuracy': 0.8078917264938354, 'target_test/f1': 0.8079904317855835, 'target_test/f1_macro': 0.8012862205505371}]\n"
     ]
    },
    {
     "data": {
      "application/vnd.jupyter.widget-view+json": {
       "model_id": "5133c7042c1446b188d8a9ea111d7e4f",
       "version_major": 2,
       "version_minor": 0
      },
      "text/plain": [
       "VBox(children=(Label(value='0.002 MB of 0.002 MB uploaded\\r'), FloatProgress(value=1.0, max=1.0)))"
      ]
     },
     "metadata": {},
     "output_type": "display_data"
    },
    {
     "data": {
      "text/html": [
       "<style>\n",
       "    table.wandb td:nth-child(1) { padding: 0 10px; text-align: left ; width: auto;} td:nth-child(2) {text-align: left ; width: 100%}\n",
       "    .wandb-row { display: flex; flex-direction: row; flex-wrap: wrap; justify-content: flex-start; width: 100% }\n",
       "    .wandb-col { display: flex; flex-direction: column; flex-basis: 100%; flex: 1; padding: 10px; }\n",
       "    </style>\n",
       "<div class=\"wandb-row\"><div class=\"wandb-col\"><h3>Run history:</h3><br/><table class=\"wandb\"><tr><td>epoch</td><td>▁▁▁▁▂▂▂▂▂▂▂▂▃▃▃▃▄▄▄▄▅▅▅▅▅▅▅▅▆▆▆▆▇▇▇▇▇▇▇█</td></tr><tr><td>source_test/accuracy</td><td>█▅▁</td></tr><tr><td>source_test/f1</td><td>█▅▁</td></tr><tr><td>source_test/f1_macro</td><td>█▅▁</td></tr><tr><td>source_test/loss</td><td>▁▁█</td></tr><tr><td>target_test/accuracy</td><td>▆█▁</td></tr><tr><td>target_test/f1</td><td>▆█▁</td></tr><tr><td>target_test/f1_macro</td><td>▅█▁</td></tr><tr><td>target_test/loss</td><td>▁▁█</td></tr><tr><td>train/accuracy</td><td>▁▃▄▅▃▃▆▄▅▅▅▇▅▄▆▆▆▇▆▇▆▆▇▆▆▆▇▆▆▆▇▇▅▇▇▆▅▇█▇</td></tr><tr><td>train/f1</td><td>▁▃▄▅▃▄▆▄▅▅▅▇▅▄▆▆▆▇▆▇▆▆▇▆▆▆▇▆▆▆▇▇▅▇▇▆▅▇█▇</td></tr><tr><td>train/loss</td><td>█▇▅▅▇▆▃▃▄▅▅▂▄▅▃▃▃▃▃▂▄▃▂▄▄▂▃▃▄▄▁▂▅▂▃▃▅▂▁▁</td></tr><tr><td>train/mlm_loss</td><td>▇▆▆█▂▄▄▃▃▁▃▄▂▆▃▅▃▄▃▄▄▂▃█▄▂▄▂▂▆▃▂▄▅▄▃▄▆▄▂</td></tr><tr><td>train/taskclf_loss</td><td>█▇▅▄█▆▃▄▄▆▆▂▅▅▄▃▄▃▄▂▄▃▂▃▄▃▃▃▄▄▂▂▅▂▃▃▅▂▁▂</td></tr><tr><td>trainer/global_step</td><td>▁▁▁▂▂▂▂▂▂▃▃▃▃▃▃▄▄▄▄▄▅▅▅▅▅▅▆▆▆▆▆▇▇▇▇▇▇███</td></tr><tr><td>val/accuracy</td><td>▁▄▆▆██████</td></tr><tr><td>val/avg_accuracy</td><td>▁▄▆▅██████</td></tr><tr><td>val/avg_f1</td><td>▁▄▆▅▇█████</td></tr><tr><td>val/avg_loss</td><td>█▅▃▃▂▂▁▁▁▁</td></tr><tr><td>val/avg_mlm_loss</td><td>█▇▄▂▁▂▁▁▁▂</td></tr><tr><td>val/avg_taskclf_loss</td><td>█▄▂▃▂▂▁▁▁▁</td></tr><tr><td>val/f1</td><td>▁▄▆▅██████</td></tr><tr><td>val/loss</td><td>█▄▃▃▂▂▁▁▁▁</td></tr><tr><td>val/mlm_loss</td><td>█▇▄▂▁▂▁▁▁▂</td></tr><tr><td>val/taskclf_loss</td><td>█▄▂▃▂▂▁▁▁▁</td></tr><tr><td>val_loss</td><td>█▅▃▃▂▂▁▁▁▁</td></tr></table><br/></div><div class=\"wandb-col\"><h3>Run summary:</h3><br/><table class=\"wandb\"><tr><td>epoch</td><td>10</td></tr><tr><td>source_test/accuracy</td><td>0.79925</td></tr><tr><td>source_test/f1</td><td>0.79899</td></tr><tr><td>source_test/f1_macro</td><td>0.78858</td></tr><tr><td>source_test/loss</td><td>0.5404</td></tr><tr><td>target_test/accuracy</td><td>0.80789</td></tr><tr><td>target_test/f1</td><td>0.80799</td></tr><tr><td>target_test/f1_macro</td><td>0.80129</td></tr><tr><td>target_test/loss</td><td>0.52602</td></tr><tr><td>train/accuracy</td><td>1.0</td></tr><tr><td>train/f1</td><td>1.0</td></tr><tr><td>train/loss</td><td>0.36468</td></tr><tr><td>train/mlm_loss</td><td>1.28295</td></tr><tr><td>train/taskclf_loss</td><td>0.08088</td></tr><tr><td>trainer/global_step</td><td>23450</td></tr><tr><td>val/accuracy</td><td>0.79856</td></tr><tr><td>val/avg_accuracy</td><td>0.7987</td></tr><tr><td>val/avg_f1</td><td>0.79901</td></tr><tr><td>val/avg_loss</td><td>0.80004</td></tr><tr><td>val/avg_mlm_loss</td><td>1.69758</td></tr><tr><td>val/avg_taskclf_loss</td><td>0.52264</td></tr><tr><td>val/f1</td><td>0.79888</td></tr><tr><td>val/loss</td><td>0.79982</td></tr><tr><td>val/mlm_loss</td><td>1.69692</td></tr><tr><td>val/taskclf_loss</td><td>0.52256</td></tr><tr><td>val_loss</td><td>0.80004</td></tr></table><br/></div></div>"
      ],
      "text/plain": [
       "<IPython.core.display.HTML object>"
      ]
     },
     "metadata": {},
     "output_type": "display_data"
    },
    {
     "data": {
      "text/html": [
       " View run <strong style=\"color:#cdcd00\">TEG_unipelt_run_with_seed_42</strong> at: <a href='https://wandb.ai/mrawhani/mixed_edited/runs/bdv6ktea' target=\"_blank\">https://wandb.ai/mrawhani/mixed_edited/runs/bdv6ktea</a><br/> View project at: <a href='https://wandb.ai/mrawhani/mixed_edited' target=\"_blank\">https://wandb.ai/mrawhani/mixed_edited</a><br/>Synced 5 W&B file(s), 0 media file(s), 0 artifact file(s) and 0 other file(s)"
      ],
      "text/plain": [
       "<IPython.core.display.HTML object>"
      ]
     },
     "metadata": {},
     "output_type": "display_data"
    },
    {
     "data": {
      "text/html": [
       "Find logs at: <code>./wandb/run-20240814_130121-bdv6ktea/logs</code>"
      ],
      "text/plain": [
       "<IPython.core.display.HTML object>"
      ]
     },
     "metadata": {},
     "output_type": "display_data"
    },
    {
     "data": {
      "application/vnd.jupyter.widget-view+json": {
       "model_id": "7219a5aac25e43f28c15d2e522fb3c9f",
       "version_major": 2,
       "version_minor": 0
      },
      "text/plain": [
       "VBox(children=(Label(value='Waiting for wandb.init()...\\r'), FloatProgress(value=0.011112391755967918, max=1.0…"
      ]
     },
     "metadata": {},
     "output_type": "display_data"
    },
    {
     "data": {
      "text/html": [
       "wandb version 0.17.6 is available!  To upgrade, please run:\n",
       " $ pip install wandb --upgrade"
      ],
      "text/plain": [
       "<IPython.core.display.HTML object>"
      ]
     },
     "metadata": {},
     "output_type": "display_data"
    },
    {
     "data": {
      "text/html": [
       "Tracking run with wandb version 0.17.0"
      ],
      "text/plain": [
       "<IPython.core.display.HTML object>"
      ]
     },
     "metadata": {},
     "output_type": "display_data"
    },
    {
     "data": {
      "text/html": [
       "Run data is saved locally in <code>/home/guest/Desktop/projects/third-experiments/domain_adaptation_project/mixed/government/wandb/run-20240814_143943-9pka1y39</code>"
      ],
      "text/plain": [
       "<IPython.core.display.HTML object>"
      ]
     },
     "metadata": {},
     "output_type": "display_data"
    },
    {
     "data": {
      "text/html": [
       "Syncing run <strong><a href='https://wandb.ai/mrawhani/mixed_edited/runs/9pka1y39' target=\"_blank\">TEG_unipelt_run_with_seed_10</a></strong> to <a href='https://wandb.ai/mrawhani/mixed_edited' target=\"_blank\">Weights & Biases</a> (<a href='https://wandb.me/run' target=\"_blank\">docs</a>)<br/>"
      ],
      "text/plain": [
       "<IPython.core.display.HTML object>"
      ]
     },
     "metadata": {},
     "output_type": "display_data"
    },
    {
     "data": {
      "text/html": [
       " View project at <a href='https://wandb.ai/mrawhani/mixed_edited' target=\"_blank\">https://wandb.ai/mrawhani/mixed_edited</a>"
      ],
      "text/plain": [
       "<IPython.core.display.HTML object>"
      ]
     },
     "metadata": {},
     "output_type": "display_data"
    },
    {
     "data": {
      "text/html": [
       " View run at <a href='https://wandb.ai/mrawhani/mixed_edited/runs/9pka1y39' target=\"_blank\">https://wandb.ai/mrawhani/mixed_edited/runs/9pka1y39</a>"
      ],
      "text/plain": [
       "<IPython.core.display.HTML object>"
      ]
     },
     "metadata": {},
     "output_type": "display_data"
    },
    {
     "name": "stderr",
     "output_type": "stream",
     "text": [
      "Seed set to 10\n",
      "/home/guest/.cache/pypoetry/virtualenvs/third-experments-xuKQSur9-py3.8/lib/python3.8/site-packages/huggingface_hub/file_download.py:1132: FutureWarning: `resume_download` is deprecated and will be removed in version 1.0.0. Downloads always resume when possible. If you want to force a new download, use `force_download=True`.\n",
      "  warnings.warn(\n"
     ]
    },
    {
     "name": "stdout",
     "output_type": "stream",
     "text": [
      "Batch size: 32\n",
      "Source genre: telephone\n",
      "Target genre: government\n",
      "Number of target samples: 69615\n",
      "Source genre: telephone\n",
      "Target genre: government\n",
      "Number of target samples: 69615\n",
      "Source dataset length: 75013\n",
      "Target dataset length: 23184\n"
     ]
    },
    {
     "name": "stderr",
     "output_type": "stream",
     "text": [
      "Some weights of BertAdapterModel were not initialized from the model checkpoint at bert-base-uncased and are newly initialized: ['heads.default.3.bias']\n",
      "You should probably TRAIN this model on a down-stream task to be able to use it for predictions and inference.\n",
      "/home/guest/.cache/pypoetry/virtualenvs/third-experments-xuKQSur9-py3.8/lib/python3.8/site-packages/torch/utils/data/dataloader.py:558: UserWarning: This DataLoader will create 16 worker processes in total. Our suggested max number of worker in current system is 12, which is smaller than what this DataLoader is going to create. Please be aware that excessive worker creation might get DataLoader running slow or even freeze, lower the worker number to avoid potential slowness/freeze if necessary.\n",
      "  warnings.warn(_create_warning_msg(\n",
      "/home/guest/.cache/pypoetry/virtualenvs/third-experments-xuKQSur9-py3.8/lib/python3.8/site-packages/lightning_fabric/connector.py:563: `precision=16` is supported for historical reasons but its usage is discouraged. Please set your precision to 16-mixed instead!\n",
      "Using 16bit Automatic Mixed Precision (AMP)\n",
      "GPU available: True (cuda), used: True\n",
      "TPU available: False, using: 0 TPU cores\n",
      "IPU available: False, using: 0 IPUs\n",
      "HPU available: False, using: 0 HPUs\n",
      "`Trainer(limit_train_batches=1.0)` was configured so 100% of the batches per epoch will be used..\n",
      "`Trainer(limit_val_batches=1.0)` was configured so 100% of the batches will be used..\n",
      "`Trainer(limit_test_batches=1.0)` was configured so 100% of the batches will be used..\n",
      "/home/guest/.cache/pypoetry/virtualenvs/third-experments-xuKQSur9-py3.8/lib/python3.8/site-packages/pytorch_lightning/loggers/wandb.py:396: There is a wandb run already in progress and newly created instances of `WandbLogger` will reuse this run. If this is not desired, call `wandb.finish()` before instantiating `WandbLogger`.\n",
      "LOCAL_RANK: 0 - CUDA_VISIBLE_DEVICES: [0]\n",
      "/home/guest/.cache/pypoetry/virtualenvs/third-experments-xuKQSur9-py3.8/lib/python3.8/site-packages/pytorch_lightning/core/optimizer.py:257: Found unsupported keys in the lr scheduler dict: {'reduce_lr_on_plateau'}. HINT: remove them from the output of `configure_optimizers`.\n",
      "\n",
      "  | Name          | Type               | Params\n",
      "-----------------------------------------------------\n",
      "0 | model         | BertAdapterModel   | 122 M \n",
      "1 | criterion     | CrossEntropyLoss   | 0     \n",
      "2 | mlm_criterion | CrossEntropyLoss   | 0     \n",
      "3 | accuracy      | MulticlassAccuracy | 0     \n",
      "4 | f1            | MulticlassF1Score  | 0     \n",
      "5 | f1_macro      | MulticlassF1Score  | 0     \n",
      "6 | softmax       | Softmax            | 0     \n",
      "-----------------------------------------------------\n",
      "12.9 M    Trainable params\n",
      "109 M     Non-trainable params\n",
      "122 M     Total params\n",
      "489.615   Total estimated model params size (MB)\n"
     ]
    },
    {
     "name": "stdout",
     "output_type": "stream",
     "text": [
      "eee\n"
     ]
    },
    {
     "data": {
      "application/vnd.jupyter.widget-view+json": {
       "model_id": "6fef74f1d5a342d4a54fe5d82ca7f0d2",
       "version_major": 2,
       "version_minor": 0
      },
      "text/plain": [
       "Sanity Checking: |          | 0/? [00:00<?, ?it/s]"
      ]
     },
     "metadata": {},
     "output_type": "display_data"
    },
    {
     "name": "stdout",
     "output_type": "stream",
     "text": [
      "val/accuracy: 0.34375\n",
      "val/f1: 0.47815173864364624\n",
      "val/taskclf_loss: 1.094635009765625\n",
      "val/loss: 1.2532899379730225\n",
      "val/mlm_loss: 1.7666254043579102\n"
     ]
    },
    {
     "data": {
      "application/vnd.jupyter.widget-view+json": {
       "model_id": "5a2a11dd628c4e6bbb77692c710d9f21",
       "version_major": 2,
       "version_minor": 0
      },
      "text/plain": [
       "Training: |          | 0/? [00:00<?, ?it/s]"
      ]
     },
     "metadata": {},
     "output_type": "display_data"
    },
    {
     "data": {
      "application/vnd.jupyter.widget-view+json": {
       "model_id": "bee341b4197f4cf597ba243d6a16fff3",
       "version_major": 2,
       "version_minor": 0
      },
      "text/plain": [
       "Validation: |          | 0/? [00:00<?, ?it/s]"
      ]
     },
     "metadata": {},
     "output_type": "display_data"
    },
    {
     "name": "stdout",
     "output_type": "stream",
     "text": [
      "val/accuracy: 0.744979202747345\n",
      "val/f1: 0.7449905276298523\n",
      "val/taskclf_loss: 0.6212496161460876\n",
      "val/loss: 0.88654625415802\n",
      "val/mlm_loss: 1.7449268102645874\n"
     ]
    },
    {
     "data": {
      "application/vnd.jupyter.widget-view+json": {
       "model_id": "3edf6980a7ab4fd6afcae0b9e56600a9",
       "version_major": 2,
       "version_minor": 0
      },
      "text/plain": [
       "Validation: |          | 0/? [00:00<?, ?it/s]"
      ]
     },
     "metadata": {},
     "output_type": "display_data"
    },
    {
     "name": "stdout",
     "output_type": "stream",
     "text": [
      "val/accuracy: 0.7707375288009644\n",
      "val/f1: 0.7702791094779968\n",
      "val/taskclf_loss: 0.5658952593803406\n",
      "val/loss: 0.8413601517677307\n",
      "val/mlm_loss: 1.732640027999878\n"
     ]
    },
    {
     "data": {
      "application/vnd.jupyter.widget-view+json": {
       "model_id": "5614a7801030434f960380fc35939996",
       "version_major": 2,
       "version_minor": 0
      },
      "text/plain": [
       "Validation: |          | 0/? [00:00<?, ?it/s]"
      ]
     },
     "metadata": {},
     "output_type": "display_data"
    },
    {
     "name": "stdout",
     "output_type": "stream",
     "text": [
      "val/accuracy: 0.7811701893806458\n",
      "val/f1: 0.7806452512741089\n",
      "val/taskclf_loss: 0.5508708953857422\n",
      "val/loss: 0.8268646597862244\n",
      "val/mlm_loss: 1.7198560237884521\n"
     ]
    },
    {
     "data": {
      "application/vnd.jupyter.widget-view+json": {
       "model_id": "f4f01922629c472e81108446e10b1a31",
       "version_major": 2,
       "version_minor": 0
      },
      "text/plain": [
       "Validation: |          | 0/? [00:00<?, ?it/s]"
      ]
     },
     "metadata": {},
     "output_type": "display_data"
    },
    {
     "name": "stdout",
     "output_type": "stream",
     "text": [
      "val/accuracy: 0.7868294715881348\n",
      "val/f1: 0.7865388989448547\n",
      "val/taskclf_loss: 0.5384645462036133\n",
      "val/loss: 0.8150749802589417\n",
      "val/mlm_loss: 1.7100619077682495\n"
     ]
    },
    {
     "data": {
      "application/vnd.jupyter.widget-view+json": {
       "model_id": "21af87e004884ffb927b55b504f7adec",
       "version_major": 2,
       "version_minor": 0
      },
      "text/plain": [
       "Validation: |          | 0/? [00:00<?, ?it/s]"
      ]
     },
     "metadata": {},
     "output_type": "display_data"
    },
    {
     "name": "stdout",
     "output_type": "stream",
     "text": [
      "val/accuracy: 0.7926803827285767\n",
      "val/f1: 0.7923643589019775\n",
      "val/taskclf_loss: 0.5434674024581909\n",
      "val/loss: 0.8138666152954102\n",
      "val/mlm_loss: 1.6887567043304443\n"
     ]
    },
    {
     "data": {
      "application/vnd.jupyter.widget-view+json": {
       "model_id": "1de5abe584b544c383a4c66ef6378169",
       "version_major": 2,
       "version_minor": 0
      },
      "text/plain": [
       "Validation: |          | 0/? [00:00<?, ?it/s]"
      ]
     },
     "metadata": {},
     "output_type": "display_data"
    },
    {
     "name": "stdout",
     "output_type": "stream",
     "text": [
      "val/accuracy: 0.7901500463485718\n",
      "val/f1: 0.7900815010070801\n",
      "val/taskclf_loss: 0.549354076385498\n",
      "val/loss: 0.8185141086578369\n",
      "val/mlm_loss: 1.6893945932388306\n"
     ]
    },
    {
     "data": {
      "application/vnd.jupyter.widget-view+json": {
       "model_id": "d73b30b4a7c34bda8df1becc412d7091",
       "version_major": 2,
       "version_minor": 0
      },
      "text/plain": [
       "Validation: |          | 0/? [00:00<?, ?it/s]"
      ]
     },
     "metadata": {},
     "output_type": "display_data"
    },
    {
     "name": "stdout",
     "output_type": "stream",
     "text": [
      "val/accuracy: 0.8016602993011475\n",
      "val/f1: 0.8014110922813416\n",
      "val/taskclf_loss: 0.5488715171813965\n",
      "val/loss: 0.8176516890525818\n",
      "val/mlm_loss: 1.6873034238815308\n"
     ]
    },
    {
     "data": {
      "application/vnd.jupyter.widget-view+json": {
       "model_id": "4c5141bfc89a464a82a6850efa53dc13",
       "version_major": 2,
       "version_minor": 0
      },
      "text/plain": [
       "Validation: |          | 0/? [00:00<?, ?it/s]"
      ]
     },
     "metadata": {},
     "output_type": "display_data"
    },
    {
     "name": "stdout",
     "output_type": "stream",
     "text": [
      "val/accuracy: 0.8028895258903503\n",
      "val/f1: 0.8031172752380371\n",
      "val/taskclf_loss: 0.5391437411308289\n",
      "val/loss: 0.8092693090438843\n",
      "val/mlm_loss: 1.6832740306854248\n"
     ]
    },
    {
     "data": {
      "application/vnd.jupyter.widget-view+json": {
       "model_id": "dac958972f2b41b88177acd82722d1e3",
       "version_major": 2,
       "version_minor": 0
      },
      "text/plain": [
       "Validation: |          | 0/? [00:00<?, ?it/s]"
      ]
     },
     "metadata": {},
     "output_type": "display_data"
    },
    {
     "name": "stdout",
     "output_type": "stream",
     "text": [
      "val/accuracy: 0.8036078810691833\n",
      "val/f1: 0.8037816882133484\n",
      "val/taskclf_loss: 0.5378316044807434\n",
      "val/loss: 0.8096879720687866\n",
      "val/mlm_loss: 1.6892929077148438\n"
     ]
    },
    {
     "data": {
      "application/vnd.jupyter.widget-view+json": {
       "model_id": "5388f03b900f43be9a17db3fa321d19d",
       "version_major": 2,
       "version_minor": 0
      },
      "text/plain": [
       "Validation: |          | 0/? [00:00<?, ?it/s]"
      ]
     },
     "metadata": {},
     "output_type": "display_data"
    },
    {
     "name": "stdout",
     "output_type": "stream",
     "text": [
      "val/accuracy: 0.8032487034797668\n",
      "val/f1: 0.8033742308616638\n",
      "val/taskclf_loss: 0.5373408794403076\n",
      "val/loss: 0.8087044358253479\n",
      "val/mlm_loss: 1.686715006828308\n"
     ]
    },
    {
     "name": "stderr",
     "output_type": "stream",
     "text": [
      "`Trainer.fit` stopped: `max_epochs=10` reached.\n"
     ]
    },
    {
     "name": "stdout",
     "output_type": "stream",
     "text": [
      "Best checkpoint path: ./lightning_logs/9pka1y39/checkpoints/task-TEG-epoch=09-val_loss=0.81.ckpt\n",
      "Saved epoch checkpoint path: ./lightning_logs/9pka1y39/checkpoints/TEG-epoch=05.ckpt\n",
      "Source genre: telephone\n"
     ]
    },
    {
     "name": "stderr",
     "output_type": "stream",
     "text": [
      "LOCAL_RANK: 0 - CUDA_VISIBLE_DEVICES: [0]\n"
     ]
    },
    {
     "name": "stdout",
     "output_type": "stream",
     "text": [
      "Target genre: government\n",
      "Number of target samples: 69615\n"
     ]
    },
    {
     "data": {
      "application/vnd.jupyter.widget-view+json": {
       "model_id": "5271bc61b443493aba599aac0de12c51",
       "version_major": 2,
       "version_minor": 0
      },
      "text/plain": [
       "Testing: |          | 0/? [00:00<?, ?it/s]"
      ]
     },
     "metadata": {},
     "output_type": "display_data"
    },
    {
     "data": {
      "text/html": [
       "<pre style=\"white-space:pre;overflow-x:auto;line-height:normal;font-family:Menlo,'DejaVu Sans Mono',consolas,'Courier New',monospace\">┏━━━━━━━━━━━━━━━━━━━━━━━━━━━┳━━━━━━━━━━━━━━━━━━━━━━━━━━━┓\n",
       "┃<span style=\"font-weight: bold\">        Test metric        </span>┃<span style=\"font-weight: bold\">       DataLoader 0        </span>┃\n",
       "┡━━━━━━━━━━━━━━━━━━━━━━━━━━━╇━━━━━━━━━━━━━━━━━━━━━━━━━━━┩\n",
       "│<span style=\"color: #008080; text-decoration-color: #008080\">   source_test/accuracy    </span>│<span style=\"color: #800080; text-decoration-color: #800080\">    0.8058035969734192     </span>│\n",
       "│<span style=\"color: #008080; text-decoration-color: #008080\">      source_test/f1       </span>│<span style=\"color: #800080; text-decoration-color: #800080\">    0.8060824871063232     </span>│\n",
       "│<span style=\"color: #008080; text-decoration-color: #008080\">   source_test/f1_macro    </span>│<span style=\"color: #800080; text-decoration-color: #800080\">     0.794981062412262     </span>│\n",
       "│<span style=\"color: #008080; text-decoration-color: #008080\">     source_test/loss      </span>│<span style=\"color: #800080; text-decoration-color: #800080\">    0.5408584475517273     </span>│\n",
       "│<span style=\"color: #008080; text-decoration-color: #008080\">   target_test/accuracy    </span>│<span style=\"color: #800080; text-decoration-color: #800080\">    0.8109158873558044     </span>│\n",
       "│<span style=\"color: #008080; text-decoration-color: #008080\">      target_test/f1       </span>│<span style=\"color: #800080; text-decoration-color: #800080\">    0.8108507990837097     </span>│\n",
       "│<span style=\"color: #008080; text-decoration-color: #008080\">   target_test/f1_macro    </span>│<span style=\"color: #800080; text-decoration-color: #800080\">     0.803502082824707     </span>│\n",
       "│<span style=\"color: #008080; text-decoration-color: #008080\">     target_test/loss      </span>│<span style=\"color: #800080; text-decoration-color: #800080\">    0.5306716561317444     </span>│\n",
       "└───────────────────────────┴───────────────────────────┘\n",
       "</pre>\n"
      ],
      "text/plain": [
       "┏━━━━━━━━━━━━━━━━━━━━━━━━━━━┳━━━━━━━━━━━━━━━━━━━━━━━━━━━┓\n",
       "┃\u001b[1m \u001b[0m\u001b[1m       Test metric       \u001b[0m\u001b[1m \u001b[0m┃\u001b[1m \u001b[0m\u001b[1m      DataLoader 0       \u001b[0m\u001b[1m \u001b[0m┃\n",
       "┡━━━━━━━━━━━━━━━━━━━━━━━━━━━╇━━━━━━━━━━━━━━━━━━━━━━━━━━━┩\n",
       "│\u001b[36m \u001b[0m\u001b[36m  source_test/accuracy   \u001b[0m\u001b[36m \u001b[0m│\u001b[35m \u001b[0m\u001b[35m   0.8058035969734192    \u001b[0m\u001b[35m \u001b[0m│\n",
       "│\u001b[36m \u001b[0m\u001b[36m     source_test/f1      \u001b[0m\u001b[36m \u001b[0m│\u001b[35m \u001b[0m\u001b[35m   0.8060824871063232    \u001b[0m\u001b[35m \u001b[0m│\n",
       "│\u001b[36m \u001b[0m\u001b[36m  source_test/f1_macro   \u001b[0m\u001b[36m \u001b[0m│\u001b[35m \u001b[0m\u001b[35m    0.794981062412262    \u001b[0m\u001b[35m \u001b[0m│\n",
       "│\u001b[36m \u001b[0m\u001b[36m    source_test/loss     \u001b[0m\u001b[36m \u001b[0m│\u001b[35m \u001b[0m\u001b[35m   0.5408584475517273    \u001b[0m\u001b[35m \u001b[0m│\n",
       "│\u001b[36m \u001b[0m\u001b[36m  target_test/accuracy   \u001b[0m\u001b[36m \u001b[0m│\u001b[35m \u001b[0m\u001b[35m   0.8109158873558044    \u001b[0m\u001b[35m \u001b[0m│\n",
       "│\u001b[36m \u001b[0m\u001b[36m     target_test/f1      \u001b[0m\u001b[36m \u001b[0m│\u001b[35m \u001b[0m\u001b[35m   0.8108507990837097    \u001b[0m\u001b[35m \u001b[0m│\n",
       "│\u001b[36m \u001b[0m\u001b[36m  target_test/f1_macro   \u001b[0m\u001b[36m \u001b[0m│\u001b[35m \u001b[0m\u001b[35m    0.803502082824707    \u001b[0m\u001b[35m \u001b[0m│\n",
       "│\u001b[36m \u001b[0m\u001b[36m    target_test/loss     \u001b[0m\u001b[36m \u001b[0m│\u001b[35m \u001b[0m\u001b[35m   0.5306716561317444    \u001b[0m\u001b[35m \u001b[0m│\n",
       "└───────────────────────────┴───────────────────────────┘\n"
      ]
     },
     "metadata": {},
     "output_type": "display_data"
    },
    {
     "name": "stdout",
     "output_type": "stream",
     "text": [
      "Test Results Last Epoch: [{'source_test/loss': 0.5408584475517273, 'source_test/accuracy': 0.8058035969734192, 'source_test/f1': 0.8060824871063232, 'source_test/f1_macro': 0.794981062412262, 'target_test/loss': 0.5306716561317444, 'target_test/accuracy': 0.8109158873558044, 'target_test/f1': 0.8108507990837097, 'target_test/f1_macro': 0.803502082824707}]\n",
      "Best checkpoint path: ./lightning_logs/9pka1y39/checkpoints/task-TEG-epoch=09-val_loss=0.81.ckpt\n",
      "Saved epoch checkpoint path: ./lightning_logs/9pka1y39/checkpoints/TEG-epoch=05.ckpt\n"
     ]
    },
    {
     "name": "stderr",
     "output_type": "stream",
     "text": [
      "Some weights of BertAdapterModel were not initialized from the model checkpoint at bert-base-uncased and are newly initialized: ['heads.default.3.bias']\n",
      "You should probably TRAIN this model on a down-stream task to be able to use it for predictions and inference.\n",
      "LOCAL_RANK: 0 - CUDA_VISIBLE_DEVICES: [0]\n"
     ]
    },
    {
     "data": {
      "application/vnd.jupyter.widget-view+json": {
       "model_id": "01615d264d4c489d9c97a913010b1ade",
       "version_major": 2,
       "version_minor": 0
      },
      "text/plain": [
       "Testing: |          | 0/? [00:00<?, ?it/s]"
      ]
     },
     "metadata": {},
     "output_type": "display_data"
    },
    {
     "data": {
      "text/html": [
       "<pre style=\"white-space:pre;overflow-x:auto;line-height:normal;font-family:Menlo,'DejaVu Sans Mono',consolas,'Courier New',monospace\">┏━━━━━━━━━━━━━━━━━━━━━━━━━━━┳━━━━━━━━━━━━━━━━━━━━━━━━━━━┓\n",
       "┃<span style=\"font-weight: bold\">        Test metric        </span>┃<span style=\"font-weight: bold\">       DataLoader 0        </span>┃\n",
       "┡━━━━━━━━━━━━━━━━━━━━━━━━━━━╇━━━━━━━━━━━━━━━━━━━━━━━━━━━┩\n",
       "│<span style=\"color: #008080; text-decoration-color: #008080\">   source_test/accuracy    </span>│<span style=\"color: #800080; text-decoration-color: #800080\">    0.8058035969734192     </span>│\n",
       "│<span style=\"color: #008080; text-decoration-color: #008080\">      source_test/f1       </span>│<span style=\"color: #800080; text-decoration-color: #800080\">    0.8060824871063232     </span>│\n",
       "│<span style=\"color: #008080; text-decoration-color: #008080\">   source_test/f1_macro    </span>│<span style=\"color: #800080; text-decoration-color: #800080\">     0.794981062412262     </span>│\n",
       "│<span style=\"color: #008080; text-decoration-color: #008080\">     source_test/loss      </span>│<span style=\"color: #800080; text-decoration-color: #800080\">    0.5408584475517273     </span>│\n",
       "│<span style=\"color: #008080; text-decoration-color: #008080\">   target_test/accuracy    </span>│<span style=\"color: #800080; text-decoration-color: #800080\">    0.8109158873558044     </span>│\n",
       "│<span style=\"color: #008080; text-decoration-color: #008080\">      target_test/f1       </span>│<span style=\"color: #800080; text-decoration-color: #800080\">    0.8108507990837097     </span>│\n",
       "│<span style=\"color: #008080; text-decoration-color: #008080\">   target_test/f1_macro    </span>│<span style=\"color: #800080; text-decoration-color: #800080\">     0.803502082824707     </span>│\n",
       "│<span style=\"color: #008080; text-decoration-color: #008080\">     target_test/loss      </span>│<span style=\"color: #800080; text-decoration-color: #800080\">    0.5306716561317444     </span>│\n",
       "└───────────────────────────┴───────────────────────────┘\n",
       "</pre>\n"
      ],
      "text/plain": [
       "┏━━━━━━━━━━━━━━━━━━━━━━━━━━━┳━━━━━━━━━━━━━━━━━━━━━━━━━━━┓\n",
       "┃\u001b[1m \u001b[0m\u001b[1m       Test metric       \u001b[0m\u001b[1m \u001b[0m┃\u001b[1m \u001b[0m\u001b[1m      DataLoader 0       \u001b[0m\u001b[1m \u001b[0m┃\n",
       "┡━━━━━━━━━━━━━━━━━━━━━━━━━━━╇━━━━━━━━━━━━━━━━━━━━━━━━━━━┩\n",
       "│\u001b[36m \u001b[0m\u001b[36m  source_test/accuracy   \u001b[0m\u001b[36m \u001b[0m│\u001b[35m \u001b[0m\u001b[35m   0.8058035969734192    \u001b[0m\u001b[35m \u001b[0m│\n",
       "│\u001b[36m \u001b[0m\u001b[36m     source_test/f1      \u001b[0m\u001b[36m \u001b[0m│\u001b[35m \u001b[0m\u001b[35m   0.8060824871063232    \u001b[0m\u001b[35m \u001b[0m│\n",
       "│\u001b[36m \u001b[0m\u001b[36m  source_test/f1_macro   \u001b[0m\u001b[36m \u001b[0m│\u001b[35m \u001b[0m\u001b[35m    0.794981062412262    \u001b[0m\u001b[35m \u001b[0m│\n",
       "│\u001b[36m \u001b[0m\u001b[36m    source_test/loss     \u001b[0m\u001b[36m \u001b[0m│\u001b[35m \u001b[0m\u001b[35m   0.5408584475517273    \u001b[0m\u001b[35m \u001b[0m│\n",
       "│\u001b[36m \u001b[0m\u001b[36m  target_test/accuracy   \u001b[0m\u001b[36m \u001b[0m│\u001b[35m \u001b[0m\u001b[35m   0.8109158873558044    \u001b[0m\u001b[35m \u001b[0m│\n",
       "│\u001b[36m \u001b[0m\u001b[36m     target_test/f1      \u001b[0m\u001b[36m \u001b[0m│\u001b[35m \u001b[0m\u001b[35m   0.8108507990837097    \u001b[0m\u001b[35m \u001b[0m│\n",
       "│\u001b[36m \u001b[0m\u001b[36m  target_test/f1_macro   \u001b[0m\u001b[36m \u001b[0m│\u001b[35m \u001b[0m\u001b[35m    0.803502082824707    \u001b[0m\u001b[35m \u001b[0m│\n",
       "│\u001b[36m \u001b[0m\u001b[36m    target_test/loss     \u001b[0m\u001b[36m \u001b[0m│\u001b[35m \u001b[0m\u001b[35m   0.5306716561317444    \u001b[0m\u001b[35m \u001b[0m│\n",
       "└───────────────────────────┴───────────────────────────┘\n"
      ]
     },
     "metadata": {},
     "output_type": "display_data"
    },
    {
     "name": "stdout",
     "output_type": "stream",
     "text": [
      "Test Results on Best Model: [{'source_test/loss': 0.5408584475517273, 'source_test/accuracy': 0.8058035969734192, 'source_test/f1': 0.8060824871063232, 'source_test/f1_macro': 0.794981062412262, 'target_test/loss': 0.5306716561317444, 'target_test/accuracy': 0.8109158873558044, 'target_test/f1': 0.8108507990837097, 'target_test/f1_macro': 0.803502082824707}]\n"
     ]
    },
    {
     "name": "stderr",
     "output_type": "stream",
     "text": [
      "Some weights of BertAdapterModel were not initialized from the model checkpoint at bert-base-uncased and are newly initialized: ['heads.default.3.bias']\n",
      "You should probably TRAIN this model on a down-stream task to be able to use it for predictions and inference.\n",
      "LOCAL_RANK: 0 - CUDA_VISIBLE_DEVICES: [0]\n"
     ]
    },
    {
     "data": {
      "application/vnd.jupyter.widget-view+json": {
       "model_id": "f1c4bacd78944477947a79f8367c2bcc",
       "version_major": 2,
       "version_minor": 0
      },
      "text/plain": [
       "Testing: |          | 0/? [00:00<?, ?it/s]"
      ]
     },
     "metadata": {},
     "output_type": "display_data"
    },
    {
     "data": {
      "text/html": [
       "<pre style=\"white-space:pre;overflow-x:auto;line-height:normal;font-family:Menlo,'DejaVu Sans Mono',consolas,'Courier New',monospace\">┏━━━━━━━━━━━━━━━━━━━━━━━━━━━┳━━━━━━━━━━━━━━━━━━━━━━━━━━━┓\n",
       "┃<span style=\"font-weight: bold\">        Test metric        </span>┃<span style=\"font-weight: bold\">       DataLoader 0        </span>┃\n",
       "┡━━━━━━━━━━━━━━━━━━━━━━━━━━━╇━━━━━━━━━━━━━━━━━━━━━━━━━━━┩\n",
       "│<span style=\"color: #008080; text-decoration-color: #008080\">   source_test/accuracy    </span>│<span style=\"color: #800080; text-decoration-color: #800080\">    0.8059475421905518     </span>│\n",
       "│<span style=\"color: #008080; text-decoration-color: #008080\">      source_test/f1       </span>│<span style=\"color: #800080; text-decoration-color: #800080\">    0.8052394986152649     </span>│\n",
       "│<span style=\"color: #008080; text-decoration-color: #008080\">   source_test/f1_macro    </span>│<span style=\"color: #800080; text-decoration-color: #800080\">    0.7967360615730286     </span>│\n",
       "│<span style=\"color: #008080; text-decoration-color: #008080\">     source_test/loss      </span>│<span style=\"color: #800080; text-decoration-color: #800080\">     0.541374683380127     </span>│\n",
       "│<span style=\"color: #008080; text-decoration-color: #008080\">   target_test/accuracy    </span>│<span style=\"color: #800080; text-decoration-color: #800080\">     0.802491307258606     </span>│\n",
       "│<span style=\"color: #008080; text-decoration-color: #008080\">      target_test/f1       </span>│<span style=\"color: #800080; text-decoration-color: #800080\">    0.8032143712043762     </span>│\n",
       "│<span style=\"color: #008080; text-decoration-color: #008080\">   target_test/f1_macro    </span>│<span style=\"color: #800080; text-decoration-color: #800080\">    0.7946235537528992     </span>│\n",
       "│<span style=\"color: #008080; text-decoration-color: #008080\">     target_test/loss      </span>│<span style=\"color: #800080; text-decoration-color: #800080\">    0.5413613319396973     </span>│\n",
       "└───────────────────────────┴───────────────────────────┘\n",
       "</pre>\n"
      ],
      "text/plain": [
       "┏━━━━━━━━━━━━━━━━━━━━━━━━━━━┳━━━━━━━━━━━━━━━━━━━━━━━━━━━┓\n",
       "┃\u001b[1m \u001b[0m\u001b[1m       Test metric       \u001b[0m\u001b[1m \u001b[0m┃\u001b[1m \u001b[0m\u001b[1m      DataLoader 0       \u001b[0m\u001b[1m \u001b[0m┃\n",
       "┡━━━━━━━━━━━━━━━━━━━━━━━━━━━╇━━━━━━━━━━━━━━━━━━━━━━━━━━━┩\n",
       "│\u001b[36m \u001b[0m\u001b[36m  source_test/accuracy   \u001b[0m\u001b[36m \u001b[0m│\u001b[35m \u001b[0m\u001b[35m   0.8059475421905518    \u001b[0m\u001b[35m \u001b[0m│\n",
       "│\u001b[36m \u001b[0m\u001b[36m     source_test/f1      \u001b[0m\u001b[36m \u001b[0m│\u001b[35m \u001b[0m\u001b[35m   0.8052394986152649    \u001b[0m\u001b[35m \u001b[0m│\n",
       "│\u001b[36m \u001b[0m\u001b[36m  source_test/f1_macro   \u001b[0m\u001b[36m \u001b[0m│\u001b[35m \u001b[0m\u001b[35m   0.7967360615730286    \u001b[0m\u001b[35m \u001b[0m│\n",
       "│\u001b[36m \u001b[0m\u001b[36m    source_test/loss     \u001b[0m\u001b[36m \u001b[0m│\u001b[35m \u001b[0m\u001b[35m    0.541374683380127    \u001b[0m\u001b[35m \u001b[0m│\n",
       "│\u001b[36m \u001b[0m\u001b[36m  target_test/accuracy   \u001b[0m\u001b[36m \u001b[0m│\u001b[35m \u001b[0m\u001b[35m    0.802491307258606    \u001b[0m\u001b[35m \u001b[0m│\n",
       "│\u001b[36m \u001b[0m\u001b[36m     target_test/f1      \u001b[0m\u001b[36m \u001b[0m│\u001b[35m \u001b[0m\u001b[35m   0.8032143712043762    \u001b[0m\u001b[35m \u001b[0m│\n",
       "│\u001b[36m \u001b[0m\u001b[36m  target_test/f1_macro   \u001b[0m\u001b[36m \u001b[0m│\u001b[35m \u001b[0m\u001b[35m   0.7946235537528992    \u001b[0m\u001b[35m \u001b[0m│\n",
       "│\u001b[36m \u001b[0m\u001b[36m    target_test/loss     \u001b[0m\u001b[36m \u001b[0m│\u001b[35m \u001b[0m\u001b[35m   0.5413613319396973    \u001b[0m\u001b[35m \u001b[0m│\n",
       "└───────────────────────────┴───────────────────────────┘\n"
      ]
     },
     "metadata": {},
     "output_type": "display_data"
    },
    {
     "name": "stdout",
     "output_type": "stream",
     "text": [
      "Test Results on saved epoch: [{'source_test/loss': 0.541374683380127, 'source_test/accuracy': 0.8059475421905518, 'source_test/f1': 0.8052394986152649, 'source_test/f1_macro': 0.7967360615730286, 'target_test/loss': 0.5413613319396973, 'target_test/accuracy': 0.802491307258606, 'target_test/f1': 0.8032143712043762, 'target_test/f1_macro': 0.7946235537528992}]\n"
     ]
    },
    {
     "data": {
      "application/vnd.jupyter.widget-view+json": {
       "model_id": "9a3c3c53e72b4232a7b152a2cb7eabff",
       "version_major": 2,
       "version_minor": 0
      },
      "text/plain": [
       "VBox(children=(Label(value='0.002 MB of 0.002 MB uploaded\\r'), FloatProgress(value=1.0, max=1.0)))"
      ]
     },
     "metadata": {},
     "output_type": "display_data"
    },
    {
     "data": {
      "text/html": [
       "<style>\n",
       "    table.wandb td:nth-child(1) { padding: 0 10px; text-align: left ; width: auto;} td:nth-child(2) {text-align: left ; width: 100%}\n",
       "    .wandb-row { display: flex; flex-direction: row; flex-wrap: wrap; justify-content: flex-start; width: 100% }\n",
       "    .wandb-col { display: flex; flex-direction: column; flex-basis: 100%; flex: 1; padding: 10px; }\n",
       "    </style>\n",
       "<div class=\"wandb-row\"><div class=\"wandb-col\"><h3>Run history:</h3><br/><table class=\"wandb\"><tr><td>epoch</td><td>▁▁▁▁▂▂▂▂▂▂▂▂▃▃▃▃▄▄▄▄▅▅▅▅▅▅▅▅▆▆▆▆▇▇▇▇▇▇▇█</td></tr><tr><td>source_test/accuracy</td><td>▁▁█</td></tr><tr><td>source_test/f1</td><td>██▁</td></tr><tr><td>source_test/f1_macro</td><td>▁▁█</td></tr><tr><td>source_test/loss</td><td>▁▁█</td></tr><tr><td>target_test/accuracy</td><td>██▁</td></tr><tr><td>target_test/f1</td><td>██▁</td></tr><tr><td>target_test/f1_macro</td><td>██▁</td></tr><tr><td>target_test/loss</td><td>▁▁█</td></tr><tr><td>train/accuracy</td><td>▁▁▄▅▃▅▅▅▅▅▅▆▄▆▅▇▆▇▆▇▅▅▇█▆▇██▆▇▇█▆█▇▇▇██▇</td></tr><tr><td>train/f1</td><td>▃▁▄▅▃▅▅▅▅▅▅▆▄▆▅▇▆▇▆▇▅▅▇█▆▇██▆▇▇█▆█▇▇▇██▇</td></tr><tr><td>train/loss</td><td>██▆▅▇▅▅▅▄▅▅▃▅▅▄▃▄▄▃▄▆▄▃▃▄▂▃▃▄▃▃▂▄▂▃▃▄▃▁▃</td></tr><tr><td>train/mlm_loss</td><td>▆▄█▅▄▅▆▆▁▂▃▂▂▆▁▃▄▅▃▅▄▄▂▄▃▂▂▅▄▅▄▄▄▄▂▄▅▆▃▁</td></tr><tr><td>train/taskclf_loss</td><td>██▆▅█▅▅▄▅▆▅▃▅▅▅▃▄▃▄▃▆▅▃▃▄▂▃▂▄▃▂▂▄▂▃▃▄▂▁▃</td></tr><tr><td>trainer/global_step</td><td>▁▁▁▂▂▂▂▂▂▃▃▃▃▃▃▄▄▄▄▄▅▅▅▅▅▅▆▆▆▆▆▇▇▇▇▇▇███</td></tr><tr><td>val/accuracy</td><td>▁▄▅▆▇▆████</td></tr><tr><td>val/avg_accuracy</td><td>▁▄▅▆▇▆████</td></tr><tr><td>val/avg_f1</td><td>▁▄▅▆▇▆████</td></tr><tr><td>val/avg_loss</td><td>█▄▃▂▁▂▂▁▁▁</td></tr><tr><td>val/avg_mlm_loss</td><td>█▇▅▄▂▂▁▁▂▁</td></tr><tr><td>val/avg_taskclf_loss</td><td>█▃▂▁▂▂▂▁▁▁</td></tr><tr><td>val/f1</td><td>▁▄▅▆▇▆████</td></tr><tr><td>val/loss</td><td>█▄▃▂▁▂▂▁▁▁</td></tr><tr><td>val/mlm_loss</td><td>█▇▅▄▂▂▁▁▂▁</td></tr><tr><td>val/taskclf_loss</td><td>█▃▂▁▁▂▂▁▁▁</td></tr><tr><td>val_loss</td><td>█▄▃▂▁▂▂▁▁▁</td></tr></table><br/></div><div class=\"wandb-col\"><h3>Run summary:</h3><br/><table class=\"wandb\"><tr><td>epoch</td><td>10</td></tr><tr><td>source_test/accuracy</td><td>0.80595</td></tr><tr><td>source_test/f1</td><td>0.80524</td></tr><tr><td>source_test/f1_macro</td><td>0.79674</td></tr><tr><td>source_test/loss</td><td>0.54137</td></tr><tr><td>target_test/accuracy</td><td>0.80249</td></tr><tr><td>target_test/f1</td><td>0.80321</td></tr><tr><td>target_test/f1_macro</td><td>0.79462</td></tr><tr><td>target_test/loss</td><td>0.54136</td></tr><tr><td>train/accuracy</td><td>1.0</td></tr><tr><td>train/f1</td><td>1.0</td></tr><tr><td>train/loss</td><td>0.39399</td></tr><tr><td>train/mlm_loss</td><td>1.46758</td></tr><tr><td>train/taskclf_loss</td><td>0.06217</td></tr><tr><td>trainer/global_step</td><td>23450</td></tr><tr><td>val/accuracy</td><td>0.80312</td></tr><tr><td>val/avg_accuracy</td><td>0.80325</td></tr><tr><td>val/avg_f1</td><td>0.80337</td></tr><tr><td>val/avg_loss</td><td>0.8087</td></tr><tr><td>val/avg_mlm_loss</td><td>1.68672</td></tr><tr><td>val/avg_taskclf_loss</td><td>0.53734</td></tr><tr><td>val/f1</td><td>0.80325</td></tr><tr><td>val/loss</td><td>0.80866</td></tr><tr><td>val/mlm_loss</td><td>1.68658</td></tr><tr><td>val/taskclf_loss</td><td>0.53732</td></tr><tr><td>val_loss</td><td>0.8087</td></tr></table><br/></div></div>"
      ],
      "text/plain": [
       "<IPython.core.display.HTML object>"
      ]
     },
     "metadata": {},
     "output_type": "display_data"
    },
    {
     "data": {
      "text/html": [
       " View run <strong style=\"color:#cdcd00\">TEG_unipelt_run_with_seed_10</strong> at: <a href='https://wandb.ai/mrawhani/mixed_edited/runs/9pka1y39' target=\"_blank\">https://wandb.ai/mrawhani/mixed_edited/runs/9pka1y39</a><br/> View project at: <a href='https://wandb.ai/mrawhani/mixed_edited' target=\"_blank\">https://wandb.ai/mrawhani/mixed_edited</a><br/>Synced 5 W&B file(s), 0 media file(s), 0 artifact file(s) and 0 other file(s)"
      ],
      "text/plain": [
       "<IPython.core.display.HTML object>"
      ]
     },
     "metadata": {},
     "output_type": "display_data"
    },
    {
     "data": {
      "text/html": [
       "Find logs at: <code>./wandb/run-20240814_143943-9pka1y39/logs</code>"
      ],
      "text/plain": [
       "<IPython.core.display.HTML object>"
      ]
     },
     "metadata": {},
     "output_type": "display_data"
    },
    {
     "data": {
      "application/vnd.jupyter.widget-view+json": {
       "model_id": "0ab3c022c0ad4a75a81282325437275b",
       "version_major": 2,
       "version_minor": 0
      },
      "text/plain": [
       "VBox(children=(Label(value='Waiting for wandb.init()...\\r'), FloatProgress(value=0.011113006233548125, max=1.0…"
      ]
     },
     "metadata": {},
     "output_type": "display_data"
    },
    {
     "data": {
      "text/html": [
       "wandb version 0.17.6 is available!  To upgrade, please run:\n",
       " $ pip install wandb --upgrade"
      ],
      "text/plain": [
       "<IPython.core.display.HTML object>"
      ]
     },
     "metadata": {},
     "output_type": "display_data"
    },
    {
     "data": {
      "text/html": [
       "Tracking run with wandb version 0.17.0"
      ],
      "text/plain": [
       "<IPython.core.display.HTML object>"
      ]
     },
     "metadata": {},
     "output_type": "display_data"
    },
    {
     "data": {
      "text/html": [
       "Run data is saved locally in <code>/home/guest/Desktop/projects/third-experiments/domain_adaptation_project/mixed/government/wandb/run-20240814_161655-6ijc4yep</code>"
      ],
      "text/plain": [
       "<IPython.core.display.HTML object>"
      ]
     },
     "metadata": {},
     "output_type": "display_data"
    },
    {
     "data": {
      "text/html": [
       "Syncing run <strong><a href='https://wandb.ai/mrawhani/mixed_edited/runs/6ijc4yep' target=\"_blank\">TEG_unipelt_run_with_seed_100</a></strong> to <a href='https://wandb.ai/mrawhani/mixed_edited' target=\"_blank\">Weights & Biases</a> (<a href='https://wandb.me/run' target=\"_blank\">docs</a>)<br/>"
      ],
      "text/plain": [
       "<IPython.core.display.HTML object>"
      ]
     },
     "metadata": {},
     "output_type": "display_data"
    },
    {
     "data": {
      "text/html": [
       " View project at <a href='https://wandb.ai/mrawhani/mixed_edited' target=\"_blank\">https://wandb.ai/mrawhani/mixed_edited</a>"
      ],
      "text/plain": [
       "<IPython.core.display.HTML object>"
      ]
     },
     "metadata": {},
     "output_type": "display_data"
    },
    {
     "data": {
      "text/html": [
       " View run at <a href='https://wandb.ai/mrawhani/mixed_edited/runs/6ijc4yep' target=\"_blank\">https://wandb.ai/mrawhani/mixed_edited/runs/6ijc4yep</a>"
      ],
      "text/plain": [
       "<IPython.core.display.HTML object>"
      ]
     },
     "metadata": {},
     "output_type": "display_data"
    },
    {
     "name": "stderr",
     "output_type": "stream",
     "text": [
      "Seed set to 100\n",
      "/home/guest/.cache/pypoetry/virtualenvs/third-experments-xuKQSur9-py3.8/lib/python3.8/site-packages/huggingface_hub/file_download.py:1132: FutureWarning: `resume_download` is deprecated and will be removed in version 1.0.0. Downloads always resume when possible. If you want to force a new download, use `force_download=True`.\n",
      "  warnings.warn(\n"
     ]
    },
    {
     "name": "stdout",
     "output_type": "stream",
     "text": [
      "Batch size: 32\n",
      "Source genre: telephone\n",
      "Target genre: government\n",
      "Number of target samples: 69615\n",
      "Source genre: telephone\n",
      "Target genre: government\n",
      "Number of target samples: 69615\n",
      "Source dataset length: 75013\n",
      "Target dataset length: 23184\n"
     ]
    },
    {
     "name": "stderr",
     "output_type": "stream",
     "text": [
      "Some weights of BertAdapterModel were not initialized from the model checkpoint at bert-base-uncased and are newly initialized: ['heads.default.3.bias']\n",
      "You should probably TRAIN this model on a down-stream task to be able to use it for predictions and inference.\n",
      "/home/guest/.cache/pypoetry/virtualenvs/third-experments-xuKQSur9-py3.8/lib/python3.8/site-packages/torch/utils/data/dataloader.py:558: UserWarning: This DataLoader will create 16 worker processes in total. Our suggested max number of worker in current system is 12, which is smaller than what this DataLoader is going to create. Please be aware that excessive worker creation might get DataLoader running slow or even freeze, lower the worker number to avoid potential slowness/freeze if necessary.\n",
      "  warnings.warn(_create_warning_msg(\n",
      "/home/guest/.cache/pypoetry/virtualenvs/third-experments-xuKQSur9-py3.8/lib/python3.8/site-packages/lightning_fabric/connector.py:563: `precision=16` is supported for historical reasons but its usage is discouraged. Please set your precision to 16-mixed instead!\n",
      "Using 16bit Automatic Mixed Precision (AMP)\n",
      "GPU available: True (cuda), used: True\n",
      "TPU available: False, using: 0 TPU cores\n",
      "IPU available: False, using: 0 IPUs\n",
      "HPU available: False, using: 0 HPUs\n",
      "`Trainer(limit_train_batches=1.0)` was configured so 100% of the batches per epoch will be used..\n",
      "`Trainer(limit_val_batches=1.0)` was configured so 100% of the batches will be used..\n",
      "`Trainer(limit_test_batches=1.0)` was configured so 100% of the batches will be used..\n",
      "/home/guest/.cache/pypoetry/virtualenvs/third-experments-xuKQSur9-py3.8/lib/python3.8/site-packages/pytorch_lightning/loggers/wandb.py:396: There is a wandb run already in progress and newly created instances of `WandbLogger` will reuse this run. If this is not desired, call `wandb.finish()` before instantiating `WandbLogger`.\n",
      "LOCAL_RANK: 0 - CUDA_VISIBLE_DEVICES: [0]\n",
      "/home/guest/.cache/pypoetry/virtualenvs/third-experments-xuKQSur9-py3.8/lib/python3.8/site-packages/pytorch_lightning/core/optimizer.py:257: Found unsupported keys in the lr scheduler dict: {'reduce_lr_on_plateau'}. HINT: remove them from the output of `configure_optimizers`.\n",
      "\n",
      "  | Name          | Type               | Params\n",
      "-----------------------------------------------------\n",
      "0 | model         | BertAdapterModel   | 122 M \n",
      "1 | criterion     | CrossEntropyLoss   | 0     \n",
      "2 | mlm_criterion | CrossEntropyLoss   | 0     \n",
      "3 | accuracy      | MulticlassAccuracy | 0     \n",
      "4 | f1            | MulticlassF1Score  | 0     \n",
      "5 | f1_macro      | MulticlassF1Score  | 0     \n",
      "6 | softmax       | Softmax            | 0     \n",
      "-----------------------------------------------------\n",
      "12.9 M    Trainable params\n",
      "109 M     Non-trainable params\n",
      "122 M     Total params\n",
      "489.615   Total estimated model params size (MB)\n"
     ]
    },
    {
     "name": "stdout",
     "output_type": "stream",
     "text": [
      "eee\n"
     ]
    },
    {
     "data": {
      "application/vnd.jupyter.widget-view+json": {
       "model_id": "1d3394e234c44604a1b52bccbfe1ef0b",
       "version_major": 2,
       "version_minor": 0
      },
      "text/plain": [
       "Sanity Checking: |          | 0/? [00:00<?, ?it/s]"
      ]
     },
     "metadata": {},
     "output_type": "display_data"
    },
    {
     "name": "stdout",
     "output_type": "stream",
     "text": [
      "val/accuracy: 0.328125\n",
      "val/f1: 0.3664509654045105\n",
      "val/taskclf_loss: 1.098114013671875\n",
      "val/loss: 1.2456327676773071\n",
      "val/mlm_loss: 1.7229368686676025\n"
     ]
    },
    {
     "data": {
      "application/vnd.jupyter.widget-view+json": {
       "model_id": "b470296ef5574089b4b50556d6e3fd28",
       "version_major": 2,
       "version_minor": 0
      },
      "text/plain": [
       "Training: |          | 0/? [00:00<?, ?it/s]"
      ]
     },
     "metadata": {},
     "output_type": "display_data"
    },
    {
     "data": {
      "application/vnd.jupyter.widget-view+json": {
       "model_id": "94fb65d710b9448ea62c6c6d8659e5ac",
       "version_major": 2,
       "version_minor": 0
      },
      "text/plain": [
       "Validation: |          | 0/? [00:00<?, ?it/s]"
      ]
     },
     "metadata": {},
     "output_type": "display_data"
    },
    {
     "name": "stdout",
     "output_type": "stream",
     "text": [
      "val/accuracy: 0.7507582902908325\n",
      "val/f1: 0.7503678202629089\n",
      "val/taskclf_loss: 0.6052822470664978\n",
      "val/loss: 0.8702924251556396\n",
      "val/mlm_loss: 1.7277463674545288\n"
     ]
    },
    {
     "data": {
      "application/vnd.jupyter.widget-view+json": {
       "model_id": "763fb907007843ee876a32c2f4c496bc",
       "version_major": 2,
       "version_minor": 0
      },
      "text/plain": [
       "Validation: |          | 0/? [00:00<?, ?it/s]"
      ]
     },
     "metadata": {},
     "output_type": "display_data"
    },
    {
     "name": "stdout",
     "output_type": "stream",
     "text": [
      "val/accuracy: 0.7749601006507874\n",
      "val/f1: 0.7746244072914124\n",
      "val/taskclf_loss: 0.5520699620246887\n",
      "val/loss: 0.8269540667533875\n",
      "val/mlm_loss: 1.7163554430007935\n"
     ]
    },
    {
     "data": {
      "application/vnd.jupyter.widget-view+json": {
       "model_id": "36d41340f1d94a088f6c2956ae0723e9",
       "version_major": 2,
       "version_minor": 0
      },
      "text/plain": [
       "Validation: |          | 0/? [00:00<?, ?it/s]"
      ]
     },
     "metadata": {},
     "output_type": "display_data"
    },
    {
     "name": "stdout",
     "output_type": "stream",
     "text": [
      "val/accuracy: 0.7840437293052673\n",
      "val/f1: 0.7834533452987671\n",
      "val/taskclf_loss: 0.54169762134552\n",
      "val/loss: 0.8178391456604004\n",
      "val/mlm_loss: 1.711308479309082\n"
     ]
    },
    {
     "data": {
      "application/vnd.jupyter.widget-view+json": {
       "model_id": "6efe64bc8fa14d6cb605bc3bd429a740",
       "version_major": 2,
       "version_minor": 0
      },
      "text/plain": [
       "Validation: |          | 0/? [00:00<?, ?it/s]"
      ]
     },
     "metadata": {},
     "output_type": "display_data"
    },
    {
     "name": "stdout",
     "output_type": "stream",
     "text": [
      "val/accuracy: 0.787994921207428\n",
      "val/f1: 0.7884178161621094\n",
      "val/taskclf_loss: 0.5305920243263245\n",
      "val/loss: 0.8067691326141357\n",
      "val/mlm_loss: 1.7003536224365234\n"
     ]
    },
    {
     "data": {
      "application/vnd.jupyter.widget-view+json": {
       "model_id": "caeba5484a054923973804aba846c2f9",
       "version_major": 2,
       "version_minor": 0
      },
      "text/plain": [
       "Validation: |          | 0/? [00:00<?, ?it/s]"
      ]
     },
     "metadata": {},
     "output_type": "display_data"
    },
    {
     "name": "stdout",
     "output_type": "stream",
     "text": [
      "val/accuracy: 0.7930236458778381\n",
      "val/f1: 0.7931570410728455\n",
      "val/taskclf_loss: 0.5329999327659607\n",
      "val/loss: 0.8136451244354248\n",
      "val/mlm_loss: 1.721686840057373\n"
     ]
    },
    {
     "data": {
      "application/vnd.jupyter.widget-view+json": {
       "model_id": "c038d1ab8abe4ae5b8996cb07b996bf8",
       "version_major": 2,
       "version_minor": 0
      },
      "text/plain": [
       "Validation: |          | 0/? [00:00<?, ?it/s]"
      ]
     },
     "metadata": {},
     "output_type": "display_data"
    },
    {
     "name": "stdout",
     "output_type": "stream",
     "text": [
      "val/accuracy: 0.7991299629211426\n",
      "val/f1: 0.7990913987159729\n",
      "val/taskclf_loss: 0.536074161529541\n",
      "val/loss: 0.808586835861206\n",
      "val/mlm_loss: 1.6903148889541626\n"
     ]
    },
    {
     "data": {
      "application/vnd.jupyter.widget-view+json": {
       "model_id": "1d32a0b914d74c119bd46b3f44fb58db",
       "version_major": 2,
       "version_minor": 0
      },
      "text/plain": [
       "Validation: |          | 0/? [00:00<?, ?it/s]"
      ]
     },
     "metadata": {},
     "output_type": "display_data"
    },
    {
     "name": "stdout",
     "output_type": "stream",
     "text": [
      "val/accuracy: 0.8001037836074829\n",
      "val/f1: 0.8002989292144775\n",
      "val/taskclf_loss: 0.5300617218017578\n",
      "val/loss: 0.8044354915618896\n",
      "val/mlm_loss: 1.692185640335083\n"
     ]
    },
    {
     "data": {
      "application/vnd.jupyter.widget-view+json": {
       "model_id": "be662ac0560d4974afaef6121023c855",
       "version_major": 2,
       "version_minor": 0
      },
      "text/plain": [
       "Validation: |          | 0/? [00:00<?, ?it/s]"
      ]
     },
     "metadata": {},
     "output_type": "display_data"
    },
    {
     "name": "stdout",
     "output_type": "stream",
     "text": [
      "val/accuracy: 0.8010616302490234\n",
      "val/f1: 0.8012199401855469\n",
      "val/taskclf_loss: 0.5303651094436646\n",
      "val/loss: 0.8053489327430725\n",
      "val/mlm_loss: 1.6950732469558716\n"
     ]
    },
    {
     "data": {
      "application/vnd.jupyter.widget-view+json": {
       "model_id": "3373c5f3c6de428b962839855c810e92",
       "version_major": 2,
       "version_minor": 0
      },
      "text/plain": [
       "Validation: |          | 0/? [00:00<?, ?it/s]"
      ]
     },
     "metadata": {},
     "output_type": "display_data"
    },
    {
     "name": "stdout",
     "output_type": "stream",
     "text": [
      "val/accuracy: 0.8013010621070862\n",
      "val/f1: 0.8014479279518127\n",
      "val/taskclf_loss: 0.5298481583595276\n",
      "val/loss: 0.8061122298240662\n",
      "val/mlm_loss: 1.699978232383728\n"
     ]
    },
    {
     "data": {
      "application/vnd.jupyter.widget-view+json": {
       "model_id": "9d0423244a634fde8950a7d8b19814a2",
       "version_major": 2,
       "version_minor": 0
      },
      "text/plain": [
       "Validation: |          | 0/? [00:00<?, ?it/s]"
      ]
     },
     "metadata": {},
     "output_type": "display_data"
    },
    {
     "name": "stderr",
     "output_type": "stream",
     "text": [
      "`Trainer.fit` stopped: `max_epochs=10` reached.\n"
     ]
    },
    {
     "name": "stdout",
     "output_type": "stream",
     "text": [
      "val/accuracy: 0.8009418845176697\n",
      "val/f1: 0.8011124730110168\n",
      "val/taskclf_loss: 0.5298007726669312\n",
      "val/loss: 0.8048186302185059\n",
      "val/mlm_loss: 1.6946525573730469\n",
      "Best checkpoint path: ./lightning_logs/6ijc4yep/checkpoints/task-TEG-epoch=06-val_loss=0.80.ckpt\n",
      "Saved epoch checkpoint path: ./lightning_logs/6ijc4yep/checkpoints/TEG-epoch=05.ckpt\n",
      "Source genre: telephone\n",
      "Target genre: government\n",
      "Number of target samples: 69615\n"
     ]
    },
    {
     "name": "stderr",
     "output_type": "stream",
     "text": [
      "LOCAL_RANK: 0 - CUDA_VISIBLE_DEVICES: [0]\n"
     ]
    },
    {
     "data": {
      "application/vnd.jupyter.widget-view+json": {
       "model_id": "0408a4aae130499cb0e752dac811835f",
       "version_major": 2,
       "version_minor": 0
      },
      "text/plain": [
       "Testing: |          | 0/? [00:00<?, ?it/s]"
      ]
     },
     "metadata": {},
     "output_type": "display_data"
    },
    {
     "data": {
      "text/html": [
       "<pre style=\"white-space:pre;overflow-x:auto;line-height:normal;font-family:Menlo,'DejaVu Sans Mono',consolas,'Courier New',monospace\">┏━━━━━━━━━━━━━━━━━━━━━━━━━━━┳━━━━━━━━━━━━━━━━━━━━━━━━━━━┓\n",
       "┃<span style=\"font-weight: bold\">        Test metric        </span>┃<span style=\"font-weight: bold\">       DataLoader 0        </span>┃\n",
       "┡━━━━━━━━━━━━━━━━━━━━━━━━━━━╇━━━━━━━━━━━━━━━━━━━━━━━━━━━┩\n",
       "│<span style=\"color: #008080; text-decoration-color: #008080\">   source_test/accuracy    </span>│<span style=\"color: #800080; text-decoration-color: #800080\">    0.8022753596305847     </span>│\n",
       "│<span style=\"color: #008080; text-decoration-color: #008080\">      source_test/f1       </span>│<span style=\"color: #800080; text-decoration-color: #800080\">    0.8024975657463074     </span>│\n",
       "│<span style=\"color: #008080; text-decoration-color: #008080\">   source_test/f1_macro    </span>│<span style=\"color: #800080; text-decoration-color: #800080\">    0.7899870872497559     </span>│\n",
       "│<span style=\"color: #008080; text-decoration-color: #008080\">     source_test/loss      </span>│<span style=\"color: #800080; text-decoration-color: #800080\">    0.5390768647193909     </span>│\n",
       "│<span style=\"color: #008080; text-decoration-color: #008080\">   target_test/accuracy    </span>│<span style=\"color: #800080; text-decoration-color: #800080\">    0.8104118704795837     </span>│\n",
       "│<span style=\"color: #008080; text-decoration-color: #008080\">      target_test/f1       </span>│<span style=\"color: #800080; text-decoration-color: #800080\">    0.8097500801086426     </span>│\n",
       "│<span style=\"color: #008080; text-decoration-color: #008080\">   target_test/f1_macro    </span>│<span style=\"color: #800080; text-decoration-color: #800080\">    0.8046078681945801     </span>│\n",
       "│<span style=\"color: #008080; text-decoration-color: #008080\">     target_test/loss      </span>│<span style=\"color: #800080; text-decoration-color: #800080\">    0.5239688754081726     </span>│\n",
       "└───────────────────────────┴───────────────────────────┘\n",
       "</pre>\n"
      ],
      "text/plain": [
       "┏━━━━━━━━━━━━━━━━━━━━━━━━━━━┳━━━━━━━━━━━━━━━━━━━━━━━━━━━┓\n",
       "┃\u001b[1m \u001b[0m\u001b[1m       Test metric       \u001b[0m\u001b[1m \u001b[0m┃\u001b[1m \u001b[0m\u001b[1m      DataLoader 0       \u001b[0m\u001b[1m \u001b[0m┃\n",
       "┡━━━━━━━━━━━━━━━━━━━━━━━━━━━╇━━━━━━━━━━━━━━━━━━━━━━━━━━━┩\n",
       "│\u001b[36m \u001b[0m\u001b[36m  source_test/accuracy   \u001b[0m\u001b[36m \u001b[0m│\u001b[35m \u001b[0m\u001b[35m   0.8022753596305847    \u001b[0m\u001b[35m \u001b[0m│\n",
       "│\u001b[36m \u001b[0m\u001b[36m     source_test/f1      \u001b[0m\u001b[36m \u001b[0m│\u001b[35m \u001b[0m\u001b[35m   0.8024975657463074    \u001b[0m\u001b[35m \u001b[0m│\n",
       "│\u001b[36m \u001b[0m\u001b[36m  source_test/f1_macro   \u001b[0m\u001b[36m \u001b[0m│\u001b[35m \u001b[0m\u001b[35m   0.7899870872497559    \u001b[0m\u001b[35m \u001b[0m│\n",
       "│\u001b[36m \u001b[0m\u001b[36m    source_test/loss     \u001b[0m\u001b[36m \u001b[0m│\u001b[35m \u001b[0m\u001b[35m   0.5390768647193909    \u001b[0m\u001b[35m \u001b[0m│\n",
       "│\u001b[36m \u001b[0m\u001b[36m  target_test/accuracy   \u001b[0m\u001b[36m \u001b[0m│\u001b[35m \u001b[0m\u001b[35m   0.8104118704795837    \u001b[0m\u001b[35m \u001b[0m│\n",
       "│\u001b[36m \u001b[0m\u001b[36m     target_test/f1      \u001b[0m\u001b[36m \u001b[0m│\u001b[35m \u001b[0m\u001b[35m   0.8097500801086426    \u001b[0m\u001b[35m \u001b[0m│\n",
       "│\u001b[36m \u001b[0m\u001b[36m  target_test/f1_macro   \u001b[0m\u001b[36m \u001b[0m│\u001b[35m \u001b[0m\u001b[35m   0.8046078681945801    \u001b[0m\u001b[35m \u001b[0m│\n",
       "│\u001b[36m \u001b[0m\u001b[36m    target_test/loss     \u001b[0m\u001b[36m \u001b[0m│\u001b[35m \u001b[0m\u001b[35m   0.5239688754081726    \u001b[0m\u001b[35m \u001b[0m│\n",
       "└───────────────────────────┴───────────────────────────┘\n"
      ]
     },
     "metadata": {},
     "output_type": "display_data"
    },
    {
     "name": "stdout",
     "output_type": "stream",
     "text": [
      "Test Results Last Epoch: [{'source_test/loss': 0.5390768647193909, 'source_test/accuracy': 0.8022753596305847, 'source_test/f1': 0.8024975657463074, 'source_test/f1_macro': 0.7899870872497559, 'target_test/loss': 0.5239688754081726, 'target_test/accuracy': 0.8104118704795837, 'target_test/f1': 0.8097500801086426, 'target_test/f1_macro': 0.8046078681945801}]\n",
      "Best checkpoint path: ./lightning_logs/6ijc4yep/checkpoints/task-TEG-epoch=06-val_loss=0.80.ckpt\n",
      "Saved epoch checkpoint path: ./lightning_logs/6ijc4yep/checkpoints/TEG-epoch=05.ckpt\n"
     ]
    },
    {
     "name": "stderr",
     "output_type": "stream",
     "text": [
      "Some weights of BertAdapterModel were not initialized from the model checkpoint at bert-base-uncased and are newly initialized: ['heads.default.3.bias']\n",
      "You should probably TRAIN this model on a down-stream task to be able to use it for predictions and inference.\n",
      "LOCAL_RANK: 0 - CUDA_VISIBLE_DEVICES: [0]\n"
     ]
    },
    {
     "data": {
      "application/vnd.jupyter.widget-view+json": {
       "model_id": "bbb568638cbf4561baad1d9f0b9ca83b",
       "version_major": 2,
       "version_minor": 0
      },
      "text/plain": [
       "Testing: |          | 0/? [00:00<?, ?it/s]"
      ]
     },
     "metadata": {},
     "output_type": "display_data"
    },
    {
     "data": {
      "text/html": [
       "<pre style=\"white-space:pre;overflow-x:auto;line-height:normal;font-family:Menlo,'DejaVu Sans Mono',consolas,'Courier New',monospace\">┏━━━━━━━━━━━━━━━━━━━━━━━━━━━┳━━━━━━━━━━━━━━━━━━━━━━━━━━━┓\n",
       "┃<span style=\"font-weight: bold\">        Test metric        </span>┃<span style=\"font-weight: bold\">       DataLoader 0        </span>┃\n",
       "┡━━━━━━━━━━━━━━━━━━━━━━━━━━━╇━━━━━━━━━━━━━━━━━━━━━━━━━━━┩\n",
       "│<span style=\"color: #008080; text-decoration-color: #008080\">   source_test/accuracy    </span>│<span style=\"color: #800080; text-decoration-color: #800080\">    0.8042914867401123     </span>│\n",
       "│<span style=\"color: #008080; text-decoration-color: #008080\">      source_test/f1       </span>│<span style=\"color: #800080; text-decoration-color: #800080\">    0.8045884370803833     </span>│\n",
       "│<span style=\"color: #008080; text-decoration-color: #008080\">   source_test/f1_macro    </span>│<span style=\"color: #800080; text-decoration-color: #800080\">     0.792024552822113     </span>│\n",
       "│<span style=\"color: #008080; text-decoration-color: #008080\">     source_test/loss      </span>│<span style=\"color: #800080; text-decoration-color: #800080\">    0.5391980409622192     </span>│\n",
       "│<span style=\"color: #008080; text-decoration-color: #008080\">   target_test/accuracy    </span>│<span style=\"color: #800080; text-decoration-color: #800080\">    0.8114199042320251     </span>│\n",
       "│<span style=\"color: #008080; text-decoration-color: #008080\">      target_test/f1       </span>│<span style=\"color: #800080; text-decoration-color: #800080\">    0.8108606338500977     </span>│\n",
       "│<span style=\"color: #008080; text-decoration-color: #008080\">   target_test/f1_macro    </span>│<span style=\"color: #800080; text-decoration-color: #800080\">    0.8055017590522766     </span>│\n",
       "│<span style=\"color: #008080; text-decoration-color: #008080\">     target_test/loss      </span>│<span style=\"color: #800080; text-decoration-color: #800080\">    0.5231607556343079     </span>│\n",
       "└───────────────────────────┴───────────────────────────┘\n",
       "</pre>\n"
      ],
      "text/plain": [
       "┏━━━━━━━━━━━━━━━━━━━━━━━━━━━┳━━━━━━━━━━━━━━━━━━━━━━━━━━━┓\n",
       "┃\u001b[1m \u001b[0m\u001b[1m       Test metric       \u001b[0m\u001b[1m \u001b[0m┃\u001b[1m \u001b[0m\u001b[1m      DataLoader 0       \u001b[0m\u001b[1m \u001b[0m┃\n",
       "┡━━━━━━━━━━━━━━━━━━━━━━━━━━━╇━━━━━━━━━━━━━━━━━━━━━━━━━━━┩\n",
       "│\u001b[36m \u001b[0m\u001b[36m  source_test/accuracy   \u001b[0m\u001b[36m \u001b[0m│\u001b[35m \u001b[0m\u001b[35m   0.8042914867401123    \u001b[0m\u001b[35m \u001b[0m│\n",
       "│\u001b[36m \u001b[0m\u001b[36m     source_test/f1      \u001b[0m\u001b[36m \u001b[0m│\u001b[35m \u001b[0m\u001b[35m   0.8045884370803833    \u001b[0m\u001b[35m \u001b[0m│\n",
       "│\u001b[36m \u001b[0m\u001b[36m  source_test/f1_macro   \u001b[0m\u001b[36m \u001b[0m│\u001b[35m \u001b[0m\u001b[35m    0.792024552822113    \u001b[0m\u001b[35m \u001b[0m│\n",
       "│\u001b[36m \u001b[0m\u001b[36m    source_test/loss     \u001b[0m\u001b[36m \u001b[0m│\u001b[35m \u001b[0m\u001b[35m   0.5391980409622192    \u001b[0m\u001b[35m \u001b[0m│\n",
       "│\u001b[36m \u001b[0m\u001b[36m  target_test/accuracy   \u001b[0m\u001b[36m \u001b[0m│\u001b[35m \u001b[0m\u001b[35m   0.8114199042320251    \u001b[0m\u001b[35m \u001b[0m│\n",
       "│\u001b[36m \u001b[0m\u001b[36m     target_test/f1      \u001b[0m\u001b[36m \u001b[0m│\u001b[35m \u001b[0m\u001b[35m   0.8108606338500977    \u001b[0m\u001b[35m \u001b[0m│\n",
       "│\u001b[36m \u001b[0m\u001b[36m  target_test/f1_macro   \u001b[0m\u001b[36m \u001b[0m│\u001b[35m \u001b[0m\u001b[35m   0.8055017590522766    \u001b[0m\u001b[35m \u001b[0m│\n",
       "│\u001b[36m \u001b[0m\u001b[36m    target_test/loss     \u001b[0m\u001b[36m \u001b[0m│\u001b[35m \u001b[0m\u001b[35m   0.5231607556343079    \u001b[0m\u001b[35m \u001b[0m│\n",
       "└───────────────────────────┴───────────────────────────┘\n"
      ]
     },
     "metadata": {},
     "output_type": "display_data"
    },
    {
     "name": "stdout",
     "output_type": "stream",
     "text": [
      "Test Results on Best Model: [{'source_test/loss': 0.5391980409622192, 'source_test/accuracy': 0.8042914867401123, 'source_test/f1': 0.8045884370803833, 'source_test/f1_macro': 0.792024552822113, 'target_test/loss': 0.5231607556343079, 'target_test/accuracy': 0.8114199042320251, 'target_test/f1': 0.8108606338500977, 'target_test/f1_macro': 0.8055017590522766}]\n"
     ]
    },
    {
     "name": "stderr",
     "output_type": "stream",
     "text": [
      "Some weights of BertAdapterModel were not initialized from the model checkpoint at bert-base-uncased and are newly initialized: ['heads.default.3.bias']\n",
      "You should probably TRAIN this model on a down-stream task to be able to use it for predictions and inference.\n",
      "LOCAL_RANK: 0 - CUDA_VISIBLE_DEVICES: [0]\n"
     ]
    },
    {
     "data": {
      "application/vnd.jupyter.widget-view+json": {
       "model_id": "58df9ce769454bd983ee9d0759672ac7",
       "version_major": 2,
       "version_minor": 0
      },
      "text/plain": [
       "Testing: |          | 0/? [00:00<?, ?it/s]"
      ]
     },
     "metadata": {},
     "output_type": "display_data"
    },
    {
     "data": {
      "text/html": [
       "<pre style=\"white-space:pre;overflow-x:auto;line-height:normal;font-family:Menlo,'DejaVu Sans Mono',consolas,'Courier New',monospace\">┏━━━━━━━━━━━━━━━━━━━━━━━━━━━┳━━━━━━━━━━━━━━━━━━━━━━━━━━━┓\n",
       "┃<span style=\"font-weight: bold\">        Test metric        </span>┃<span style=\"font-weight: bold\">       DataLoader 0        </span>┃\n",
       "┡━━━━━━━━━━━━━━━━━━━━━━━━━━━╇━━━━━━━━━━━━━━━━━━━━━━━━━━━┩\n",
       "│<span style=\"color: #008080; text-decoration-color: #008080\">   source_test/accuracy    </span>│<span style=\"color: #800080; text-decoration-color: #800080\">     0.801771342754364     </span>│\n",
       "│<span style=\"color: #008080; text-decoration-color: #008080\">      source_test/f1       </span>│<span style=\"color: #800080; text-decoration-color: #800080\">    0.8023123741149902     </span>│\n",
       "│<span style=\"color: #008080; text-decoration-color: #008080\">   source_test/f1_macro    </span>│<span style=\"color: #800080; text-decoration-color: #800080\">    0.7901575565338135     </span>│\n",
       "│<span style=\"color: #008080; text-decoration-color: #008080\">     source_test/loss      </span>│<span style=\"color: #800080; text-decoration-color: #800080\">    0.5459260940551758     </span>│\n",
       "│<span style=\"color: #008080; text-decoration-color: #008080\">   target_test/accuracy    </span>│<span style=\"color: #800080; text-decoration-color: #800080\">    0.8109158873558044     </span>│\n",
       "│<span style=\"color: #008080; text-decoration-color: #008080\">      target_test/f1       </span>│<span style=\"color: #800080; text-decoration-color: #800080\">     0.810396134853363     </span>│\n",
       "│<span style=\"color: #008080; text-decoration-color: #008080\">   target_test/f1_macro    </span>│<span style=\"color: #800080; text-decoration-color: #800080\">    0.8054907917976379     </span>│\n",
       "│<span style=\"color: #008080; text-decoration-color: #008080\">     target_test/loss      </span>│<span style=\"color: #800080; text-decoration-color: #800080\">    0.5276084542274475     </span>│\n",
       "└───────────────────────────┴───────────────────────────┘\n",
       "</pre>\n"
      ],
      "text/plain": [
       "┏━━━━━━━━━━━━━━━━━━━━━━━━━━━┳━━━━━━━━━━━━━━━━━━━━━━━━━━━┓\n",
       "┃\u001b[1m \u001b[0m\u001b[1m       Test metric       \u001b[0m\u001b[1m \u001b[0m┃\u001b[1m \u001b[0m\u001b[1m      DataLoader 0       \u001b[0m\u001b[1m \u001b[0m┃\n",
       "┡━━━━━━━━━━━━━━━━━━━━━━━━━━━╇━━━━━━━━━━━━━━━━━━━━━━━━━━━┩\n",
       "│\u001b[36m \u001b[0m\u001b[36m  source_test/accuracy   \u001b[0m\u001b[36m \u001b[0m│\u001b[35m \u001b[0m\u001b[35m    0.801771342754364    \u001b[0m\u001b[35m \u001b[0m│\n",
       "│\u001b[36m \u001b[0m\u001b[36m     source_test/f1      \u001b[0m\u001b[36m \u001b[0m│\u001b[35m \u001b[0m\u001b[35m   0.8023123741149902    \u001b[0m\u001b[35m \u001b[0m│\n",
       "│\u001b[36m \u001b[0m\u001b[36m  source_test/f1_macro   \u001b[0m\u001b[36m \u001b[0m│\u001b[35m \u001b[0m\u001b[35m   0.7901575565338135    \u001b[0m\u001b[35m \u001b[0m│\n",
       "│\u001b[36m \u001b[0m\u001b[36m    source_test/loss     \u001b[0m\u001b[36m \u001b[0m│\u001b[35m \u001b[0m\u001b[35m   0.5459260940551758    \u001b[0m\u001b[35m \u001b[0m│\n",
       "│\u001b[36m \u001b[0m\u001b[36m  target_test/accuracy   \u001b[0m\u001b[36m \u001b[0m│\u001b[35m \u001b[0m\u001b[35m   0.8109158873558044    \u001b[0m\u001b[35m \u001b[0m│\n",
       "│\u001b[36m \u001b[0m\u001b[36m     target_test/f1      \u001b[0m\u001b[36m \u001b[0m│\u001b[35m \u001b[0m\u001b[35m    0.810396134853363    \u001b[0m\u001b[35m \u001b[0m│\n",
       "│\u001b[36m \u001b[0m\u001b[36m  target_test/f1_macro   \u001b[0m\u001b[36m \u001b[0m│\u001b[35m \u001b[0m\u001b[35m   0.8054907917976379    \u001b[0m\u001b[35m \u001b[0m│\n",
       "│\u001b[36m \u001b[0m\u001b[36m    target_test/loss     \u001b[0m\u001b[36m \u001b[0m│\u001b[35m \u001b[0m\u001b[35m   0.5276084542274475    \u001b[0m\u001b[35m \u001b[0m│\n",
       "└───────────────────────────┴───────────────────────────┘\n"
      ]
     },
     "metadata": {},
     "output_type": "display_data"
    },
    {
     "name": "stdout",
     "output_type": "stream",
     "text": [
      "Test Results on saved epoch: [{'source_test/loss': 0.5459260940551758, 'source_test/accuracy': 0.801771342754364, 'source_test/f1': 0.8023123741149902, 'source_test/f1_macro': 0.7901575565338135, 'target_test/loss': 0.5276084542274475, 'target_test/accuracy': 0.8109158873558044, 'target_test/f1': 0.810396134853363, 'target_test/f1_macro': 0.8054907917976379}]\n"
     ]
    },
    {
     "data": {
      "application/vnd.jupyter.widget-view+json": {
       "model_id": "6d471f4a83a542bca01bb6a56507b215",
       "version_major": 2,
       "version_minor": 0
      },
      "text/plain": [
       "VBox(children=(Label(value='0.002 MB of 0.002 MB uploaded\\r'), FloatProgress(value=1.0, max=1.0)))"
      ]
     },
     "metadata": {},
     "output_type": "display_data"
    },
    {
     "data": {
      "text/html": [
       "<style>\n",
       "    table.wandb td:nth-child(1) { padding: 0 10px; text-align: left ; width: auto;} td:nth-child(2) {text-align: left ; width: 100%}\n",
       "    .wandb-row { display: flex; flex-direction: row; flex-wrap: wrap; justify-content: flex-start; width: 100% }\n",
       "    .wandb-col { display: flex; flex-direction: column; flex-basis: 100%; flex: 1; padding: 10px; }\n",
       "    </style>\n",
       "<div class=\"wandb-row\"><div class=\"wandb-col\"><h3>Run history:</h3><br/><table class=\"wandb\"><tr><td>epoch</td><td>▁▁▁▁▂▂▂▂▂▂▂▂▃▃▃▃▄▄▄▄▅▅▅▅▅▅▅▅▆▆▆▆▇▇▇▇▇▇▇█</td></tr><tr><td>source_test/accuracy</td><td>▂█▁</td></tr><tr><td>source_test/f1</td><td>▂█▁</td></tr><tr><td>source_test/f1_macro</td><td>▁█▂</td></tr><tr><td>source_test/loss</td><td>▁▁█</td></tr><tr><td>target_test/accuracy</td><td>▁█▅</td></tr><tr><td>target_test/f1</td><td>▁█▅</td></tr><tr><td>target_test/f1_macro</td><td>▁██</td></tr><tr><td>target_test/loss</td><td>▂▁█</td></tr><tr><td>train/accuracy</td><td>▁▃▄▅▃▅▅▅▅▅▅▆▅▅▅▇▅▅▇▇▅▆▇▇▆▆▇▇▇▇▅█▅█▆▆▇▇▇▇</td></tr><tr><td>train/f1</td><td>▁▂▄▅▃▅▅▅▄▅▅▆▅▅▄▆▅▅▇▇▅▆▇▇▆▆▇▇▇▇▅█▅█▆▆▆▇▇▇</td></tr><tr><td>train/loss</td><td>█▇▆▄▆▅▄▄▄▅▆▂▄▄▅▂▄▄▃▄▄▃▂▅▄▃▂▃▂▃▂▂▄▂▃▃▄▂▁▁</td></tr><tr><td>train/mlm_loss</td><td>▅▄▆▃▄▇▃▆▃▄▆▄▄▇▇▃▅▆▃█▄▄▂▆█▄▃▅▂▄▅▇▅▇▅▂▆▅▁▂</td></tr><tr><td>train/taskclf_loss</td><td>█▇▅▄▆▄▄▄▄▅▅▂▄▃▄▂▃▃▂▂▄▂▁▄▃▂▂▂▂▃▂▁▃▁▃▃▃▁▁▁</td></tr><tr><td>trainer/global_step</td><td>▁▁▁▂▂▂▂▂▂▃▃▃▃▃▃▄▄▄▄▄▅▅▅▅▅▅▆▆▆▆▆▇▇▇▇▇▇███</td></tr><tr><td>val/accuracy</td><td>▁▄▆▆▇█████</td></tr><tr><td>val/avg_accuracy</td><td>▁▄▆▆▇█████</td></tr><tr><td>val/avg_f1</td><td>▁▄▆▆▇█████</td></tr><tr><td>val/avg_loss</td><td>█▃▂▁▂▁▁▁▁▁</td></tr><tr><td>val/avg_mlm_loss</td><td>█▆▅▃▇▁▁▂▃▂</td></tr><tr><td>val/avg_taskclf_loss</td><td>█▃▂▁▁▂▁▁▁▁</td></tr><tr><td>val/f1</td><td>▁▄▆▆▇█████</td></tr><tr><td>val/loss</td><td>█▃▂▁▂▁▁▁▁▁</td></tr><tr><td>val/mlm_loss</td><td>█▆▅▃▇▁▁▂▃▂</td></tr><tr><td>val/taskclf_loss</td><td>█▃▂▁▁▂▁▁▁▁</td></tr><tr><td>val_loss</td><td>█▃▂▁▂▁▁▁▁▁</td></tr></table><br/></div><div class=\"wandb-col\"><h3>Run summary:</h3><br/><table class=\"wandb\"><tr><td>epoch</td><td>10</td></tr><tr><td>source_test/accuracy</td><td>0.80177</td></tr><tr><td>source_test/f1</td><td>0.80231</td></tr><tr><td>source_test/f1_macro</td><td>0.79016</td></tr><tr><td>source_test/loss</td><td>0.54593</td></tr><tr><td>target_test/accuracy</td><td>0.81092</td></tr><tr><td>target_test/f1</td><td>0.8104</td></tr><tr><td>target_test/f1_macro</td><td>0.80549</td></tr><tr><td>target_test/loss</td><td>0.52761</td></tr><tr><td>train/accuracy</td><td>1.0</td></tr><tr><td>train/f1</td><td>1.0</td></tr><tr><td>train/loss</td><td>0.37458</td></tr><tr><td>train/mlm_loss</td><td>1.49119</td></tr><tr><td>train/taskclf_loss</td><td>0.02947</td></tr><tr><td>trainer/global_step</td><td>23450</td></tr><tr><td>val/accuracy</td><td>0.80108</td></tr><tr><td>val/avg_accuracy</td><td>0.80094</td></tr><tr><td>val/avg_f1</td><td>0.80111</td></tr><tr><td>val/avg_loss</td><td>0.80482</td></tr><tr><td>val/avg_mlm_loss</td><td>1.69465</td></tr><tr><td>val/avg_taskclf_loss</td><td>0.5298</td></tr><tr><td>val/f1</td><td>0.80118</td></tr><tr><td>val/loss</td><td>0.80453</td></tr><tr><td>val/mlm_loss</td><td>1.69457</td></tr><tr><td>val/taskclf_loss</td><td>0.52945</td></tr><tr><td>val_loss</td><td>0.80482</td></tr></table><br/></div></div>"
      ],
      "text/plain": [
       "<IPython.core.display.HTML object>"
      ]
     },
     "metadata": {},
     "output_type": "display_data"
    },
    {
     "data": {
      "text/html": [
       " View run <strong style=\"color:#cdcd00\">TEG_unipelt_run_with_seed_100</strong> at: <a href='https://wandb.ai/mrawhani/mixed_edited/runs/6ijc4yep' target=\"_blank\">https://wandb.ai/mrawhani/mixed_edited/runs/6ijc4yep</a><br/> View project at: <a href='https://wandb.ai/mrawhani/mixed_edited' target=\"_blank\">https://wandb.ai/mrawhani/mixed_edited</a><br/>Synced 5 W&B file(s), 0 media file(s), 0 artifact file(s) and 0 other file(s)"
      ],
      "text/plain": [
       "<IPython.core.display.HTML object>"
      ]
     },
     "metadata": {},
     "output_type": "display_data"
    },
    {
     "data": {
      "text/html": [
       "Find logs at: <code>./wandb/run-20240814_161655-6ijc4yep/logs</code>"
      ],
      "text/plain": [
       "<IPython.core.display.HTML object>"
      ]
     },
     "metadata": {},
     "output_type": "display_data"
    }
   ],
   "source": [
    "reload(processed)\n",
    "for seed in seeds:\n",
    "    wandb.init(project=project_name, name=f'{domain}_{type}_run_with_seed_{seed}', config={'seed': seed})\n",
    "\n",
    "    try:\n",
    "        seed_everything(seed)\n",
    "\n",
    "        hparams = {\n",
    "            \"source_target\": \"telephone_government\",\n",
    "            \"source_domain\": \"telephone\",\n",
    "            \"target_domain\": \"government\",\n",
    "            \"domain_adapter_name\": \"mlm_unipelt_G\",\n",
    "            \"task_adapter_name\": \"task_TEG\",\n",
    "            \"pretrained_model_name\": \"bert-base-uncased\",\n",
    "            \"padding\": \"max_length\",\n",
    "            \"max_seq_length\": 128,\n",
    "            \"bsz\": 32,\n",
    "            \"num_classes\": 3,\n",
    "            \"learning_rate\": 1e-4,\n",
    "            \"reduction_factor\": 16,\n",
    "            \"mode\": \"domain\",\n",
    "            \"saved_adapter_dir\": \"../../saved/adapters\",\n",
    "        }\n",
    "\n",
    "        save_dir = \"checkpoints\"\n",
    "        save_epoch_3 = 6  # Save model at the 3rd epoch\n",
    "        \n",
    "        dm = processed.DataModuleSourceTargetMixed(hparams)\n",
    "        dm.setup('fit')\n",
    "        dm.setup(\"test\")\n",
    "        source_length, target_length = dm.get_dataset_lengths()\n",
    "        print(f\"Source dataset length: {source_length}\")\n",
    "        print(f\"Target dataset length: {target_length}\")\n",
    "        model = JointDomainTaskAdapter(hparams,source_length,target_length)\n",
    "\n",
    "        checkpoint_callback = ModelCheckpoint(\n",
    "            filename=\"task-TEG-{epoch:02d}-{val_loss:.2f}\",\n",
    "            save_top_k=1,\n",
    "            monitor=\"val_loss\",\n",
    "            mode=\"min\",\n",
    "        )\n",
    "        save_model_callback_epoch = ModelCheckpoint(\n",
    "            filename=\"TEG-{epoch:02d}\",\n",
    "            every_n_epochs=save_epoch_3,\n",
    "            save_top_k=-1,\n",
    "        )\n",
    "\n",
    "        wandb_logger = WandbLogger()\n",
    "\n",
    "    except Exception as e:\n",
    "        print(f\"Error during preprocessing : {e}\")\n",
    "\n",
    "    try:\n",
    "        train_loader = dm.train_dataloader()\n",
    "        val_loader = dm.val_dataloader()\n",
    "        trainer = Trainer(\n",
    "            max_epochs=10,\n",
    "            accelerator=\"auto\",\n",
    "            precision=16,\n",
    "            \n",
    "            default_root_dir=\"checkpoints\",\n",
    "            logger=wandb_logger,\n",
    "            callbacks=[checkpoint_callback, save_model_callback_epoch],\n",
    "            limit_train_batches=1.0,\n",
    "            limit_val_batches=1.0,\n",
    "            limit_test_batches=1.0,\n",
    "        )\n",
    "\n",
    "        trainer.fit(model, train_loader, val_loader)\n",
    "        print(f\"Best checkpoint path: {checkpoint_callback.best_model_path}\")\n",
    "        print(f\"Saved epoch checkpoint path: {save_model_callback_epoch.best_model_path}\")\n",
    "    except Exception as e:\n",
    "        print(f\"Error during training : {e}\")\n",
    "\n",
    "    try:\n",
    "        dm.setup(\"test\")\n",
    "        test_loader = dm.test_dataloader()\n",
    "        test_results_last = trainer.test(model, test_loader)\n",
    "        print(\"Test Results Last Epoch:\", test_results_last)\n",
    "\n",
    "        # Collect results for last epoch model\n",
    "        for key, value in test_results_last[0].items():\n",
    "            results[\"last_epoch\"][key].append(value)\n",
    "\n",
    "        # Paths to the saved checkpoints\n",
    "        best_checkpoint_path = checkpoint_callback.best_model_path\n",
    "        saved_epoch_checkpoint_path = save_model_callback_epoch.best_model_path\n",
    "        print(f\"Best checkpoint path: {best_checkpoint_path}\")\n",
    "        print(f\"Saved epoch checkpoint path: {saved_epoch_checkpoint_path}\")\n",
    "\n",
    "        best_model = JointDomainTaskAdapter.load_from_checkpoint(best_checkpoint_path,source_dataset_length=source_length, target_dataset_length=target_length)\n",
    "        test_results_best = trainer.test(best_model, test_loader)\n",
    "        print(\"Test Results on Best Model:\", test_results_best)\n",
    "        for key, value in test_results_best[0].items():\n",
    "            results[\"best_model\"][key].append(value)\n",
    "\n",
    "        saved_epoch_model = JointDomainTaskAdapter.load_from_checkpoint(saved_epoch_checkpoint_path,source_dataset_length=source_length, target_dataset_length=target_length)\n",
    "        test_results_saved_epoch = trainer.test(saved_epoch_model, test_loader)\n",
    "        print(\"Test Results on saved epoch:\", test_results_saved_epoch)\n",
    "        for key, value in test_results_saved_epoch[0].items():\n",
    "            results[\"epoch_saved\"][key].append(value)\n",
    "\n",
    "    except Exception as e:\n",
    "        print(f\"Error during testing: {e}\")\n",
    "\n",
    "    wandb.finish()"
   ]
  },
  {
   "cell_type": "code",
   "execution_count": 6,
   "metadata": {},
   "outputs": [
    {
     "data": {
      "text/plain": [
       "dict_items([('last_epoch', {'source_test/loss': [0.5302215218544006, 0.5408584475517273, 0.5390768647193909], 'source_test/accuracy': [0.8002592325210571, 0.8058035969734192, 0.8022753596305847], 'source_test/f1': [0.8002256155014038, 0.8060824871063232, 0.8024975657463074], 'source_test/f1_macro': [0.7897464036941528, 0.794981062412262, 0.7899870872497559], 'target_test/loss': [0.5161494612693787, 0.5306716561317444, 0.5239688754081726], 'target_test/accuracy': [0.8109158873558044, 0.8109158873558044, 0.8104118704795837], 'target_test/f1': [0.8117556571960449, 0.8108507990837097, 0.8097500801086426], 'target_test/f1_macro': [0.8035316467285156, 0.803502082824707, 0.8046078681945801]}), ('best_model', {'source_test/loss': [0.5302311778068542, 0.5408584475517273, 0.5391980409622192], 'source_test/accuracy': [0.7997552156448364, 0.8058035969734192, 0.8042914867401123], 'source_test/f1': [0.7996701598167419, 0.8060824871063232, 0.8045884370803833], 'source_test/f1_macro': [0.789304256439209, 0.794981062412262, 0.792024552822113], 'target_test/loss': [0.516003429889679, 0.5306716561317444, 0.5231607556343079], 'target_test/accuracy': [0.8124279975891113, 0.8109158873558044, 0.8114199042320251], 'target_test/f1': [0.8132643699645996, 0.8108507990837097, 0.8108606338500977], 'target_test/f1_macro': [0.8051518797874451, 0.803502082824707, 0.8055017590522766]}), ('epoch_saved', {'source_test/loss': [0.540400505065918, 0.541374683380127, 0.5459260940551758], 'source_test/accuracy': [0.799251139163971, 0.8059475421905518, 0.801771342754364], 'source_test/f1': [0.7989853620529175, 0.8052394986152649, 0.8023123741149902], 'source_test/f1_macro': [0.7885787487030029, 0.7967360615730286, 0.7901575565338135], 'target_test/loss': [0.526016116142273, 0.5413613319396973, 0.5276084542274475], 'target_test/accuracy': [0.8078917264938354, 0.802491307258606, 0.8109158873558044], 'target_test/f1': [0.8079904317855835, 0.8032143712043762, 0.810396134853363], 'target_test/f1_macro': [0.8012862205505371, 0.7946235537528992, 0.8054907917976379]})])"
      ]
     },
     "execution_count": 6,
     "metadata": {},
     "output_type": "execute_result"
    }
   ],
   "source": [
    "results.items()"
   ]
  },
  {
   "cell_type": "code",
   "execution_count": 7,
   "metadata": {},
   "outputs": [
    {
     "data": {
      "text/html": [
       "wandb version 0.17.6 is available!  To upgrade, please run:\n",
       " $ pip install wandb --upgrade"
      ],
      "text/plain": [
       "<IPython.core.display.HTML object>"
      ]
     },
     "metadata": {},
     "output_type": "display_data"
    },
    {
     "data": {
      "text/html": [
       "Tracking run with wandb version 0.17.0"
      ],
      "text/plain": [
       "<IPython.core.display.HTML object>"
      ]
     },
     "metadata": {},
     "output_type": "display_data"
    },
    {
     "data": {
      "text/html": [
       "Run data is saved locally in <code>/home/guest/Desktop/projects/third-experiments/domain_adaptation_project/mixed/government/wandb/run-20240814_175427-onyo3atm</code>"
      ],
      "text/plain": [
       "<IPython.core.display.HTML object>"
      ]
     },
     "metadata": {},
     "output_type": "display_data"
    },
    {
     "data": {
      "text/html": [
       "Syncing run <strong><a href='https://wandb.ai/mrawhani/mixed_edited/runs/onyo3atm' target=\"_blank\">TEG_mean_results</a></strong> to <a href='https://wandb.ai/mrawhani/mixed_edited' target=\"_blank\">Weights & Biases</a> (<a href='https://wandb.me/run' target=\"_blank\">docs</a>)<br/>"
      ],
      "text/plain": [
       "<IPython.core.display.HTML object>"
      ]
     },
     "metadata": {},
     "output_type": "display_data"
    },
    {
     "data": {
      "text/html": [
       " View project at <a href='https://wandb.ai/mrawhani/mixed_edited' target=\"_blank\">https://wandb.ai/mrawhani/mixed_edited</a>"
      ],
      "text/plain": [
       "<IPython.core.display.HTML object>"
      ]
     },
     "metadata": {},
     "output_type": "display_data"
    },
    {
     "data": {
      "text/html": [
       " View run at <a href='https://wandb.ai/mrawhani/mixed_edited/runs/onyo3atm' target=\"_blank\">https://wandb.ai/mrawhani/mixed_edited/runs/onyo3atm</a>"
      ],
      "text/plain": [
       "<IPython.core.display.HTML object>"
      ]
     },
     "metadata": {},
     "output_type": "display_data"
    },
    {
     "data": {
      "application/vnd.jupyter.widget-view+json": {
       "model_id": "7027120f28924281bb61cddb2fb196e5",
       "version_major": 2,
       "version_minor": 0
      },
      "text/plain": [
       "VBox(children=(Label(value='0.006 MB of 0.010 MB uploaded\\r'), FloatProgress(value=0.5955736403334657, max=1.0…"
      ]
     },
     "metadata": {},
     "output_type": "display_data"
    },
    {
     "data": {
      "text/html": [
       "<style>\n",
       "    table.wandb td:nth-child(1) { padding: 0 10px; text-align: left ; width: auto;} td:nth-child(2) {text-align: left ; width: 100%}\n",
       "    .wandb-row { display: flex; flex-direction: row; flex-wrap: wrap; justify-content: flex-start; width: 100% }\n",
       "    .wandb-col { display: flex; flex-direction: column; flex-basis: 100%; flex: 1; padding: 10px; }\n",
       "    </style>\n",
       "<div class=\"wandb-row\"><div class=\"wandb-col\"><h3>Run history:</h3><br/><table class=\"wandb\"><tr><td>best_model/source_test/accuracy</td><td>▁</td></tr><tr><td>best_model/source_test/accuracy_std</td><td>▁</td></tr><tr><td>best_model/source_test/f1</td><td>▁</td></tr><tr><td>best_model/source_test/f1_macro</td><td>▁</td></tr><tr><td>best_model/source_test/f1_macro_std</td><td>▁</td></tr><tr><td>best_model/source_test/f1_std</td><td>▁</td></tr><tr><td>best_model/source_test/loss</td><td>▁</td></tr><tr><td>best_model/source_test/loss_std</td><td>▁</td></tr><tr><td>best_model/target_test/accuracy</td><td>▁</td></tr><tr><td>best_model/target_test/accuracy_std</td><td>▁</td></tr><tr><td>best_model/target_test/f1</td><td>▁</td></tr><tr><td>best_model/target_test/f1_macro</td><td>▁</td></tr><tr><td>best_model/target_test/f1_macro_std</td><td>▁</td></tr><tr><td>best_model/target_test/f1_std</td><td>▁</td></tr><tr><td>best_model/target_test/loss</td><td>▁</td></tr><tr><td>best_model/target_test/loss_std</td><td>▁</td></tr><tr><td>epoch_saved/source_test/accuracy</td><td>▁</td></tr><tr><td>epoch_saved/source_test/accuracy_std</td><td>▁</td></tr><tr><td>epoch_saved/source_test/f1</td><td>▁</td></tr><tr><td>epoch_saved/source_test/f1_macro</td><td>▁</td></tr><tr><td>epoch_saved/source_test/f1_macro_std</td><td>▁</td></tr><tr><td>epoch_saved/source_test/f1_std</td><td>▁</td></tr><tr><td>epoch_saved/source_test/loss</td><td>▁</td></tr><tr><td>epoch_saved/source_test/loss_std</td><td>▁</td></tr><tr><td>epoch_saved/target_test/accuracy</td><td>▁</td></tr><tr><td>epoch_saved/target_test/accuracy_std</td><td>▁</td></tr><tr><td>epoch_saved/target_test/f1</td><td>▁</td></tr><tr><td>epoch_saved/target_test/f1_macro</td><td>▁</td></tr><tr><td>epoch_saved/target_test/f1_macro_std</td><td>▁</td></tr><tr><td>epoch_saved/target_test/f1_std</td><td>▁</td></tr><tr><td>epoch_saved/target_test/loss</td><td>▁</td></tr><tr><td>epoch_saved/target_test/loss_std</td><td>▁</td></tr><tr><td>last_epoch/source_test/accuracy</td><td>▁</td></tr><tr><td>last_epoch/source_test/accuracy_std</td><td>▁</td></tr><tr><td>last_epoch/source_test/f1</td><td>▁</td></tr><tr><td>last_epoch/source_test/f1_macro</td><td>▁</td></tr><tr><td>last_epoch/source_test/f1_macro_std</td><td>▁</td></tr><tr><td>last_epoch/source_test/f1_std</td><td>▁</td></tr><tr><td>last_epoch/source_test/loss</td><td>▁</td></tr><tr><td>last_epoch/source_test/loss_std</td><td>▁</td></tr><tr><td>last_epoch/target_test/accuracy</td><td>▁</td></tr><tr><td>last_epoch/target_test/accuracy_std</td><td>▁</td></tr><tr><td>last_epoch/target_test/f1</td><td>▁</td></tr><tr><td>last_epoch/target_test/f1_macro</td><td>▁</td></tr><tr><td>last_epoch/target_test/f1_macro_std</td><td>▁</td></tr><tr><td>last_epoch/target_test/f1_std</td><td>▁</td></tr><tr><td>last_epoch/target_test/loss</td><td>▁</td></tr><tr><td>last_epoch/target_test/loss_std</td><td>▁</td></tr></table><br/></div><div class=\"wandb-col\"><h3>Run summary:</h3><br/><table class=\"wandb\"><tr><td>best_model/source_test/accuracy</td><td>0.80328</td></tr><tr><td>best_model/source_test/accuracy_std</td><td>0.00257</td></tr><tr><td>best_model/source_test/f1</td><td>0.80345</td></tr><tr><td>best_model/source_test/f1_macro</td><td>0.7921</td></tr><tr><td>best_model/source_test/f1_macro_std</td><td>0.00232</td></tr><tr><td>best_model/source_test/f1_std</td><td>0.00274</td></tr><tr><td>best_model/source_test/loss</td><td>0.53676</td></tr><tr><td>best_model/source_test/loss_std</td><td>0.00467</td></tr><tr><td>best_model/target_test/accuracy</td><td>0.81159</td></tr><tr><td>best_model/target_test/accuracy_std</td><td>0.00063</td></tr><tr><td>best_model/target_test/f1</td><td>0.81166</td></tr><tr><td>best_model/target_test/f1_macro</td><td>0.80472</td></tr><tr><td>best_model/target_test/f1_macro_std</td><td>0.00087</td></tr><tr><td>best_model/target_test/f1_std</td><td>0.00114</td></tr><tr><td>best_model/target_test/loss</td><td>0.52328</td></tr><tr><td>best_model/target_test/loss_std</td><td>0.00599</td></tr><tr><td>epoch_saved/source_test/accuracy</td><td>0.80232</td></tr><tr><td>epoch_saved/source_test/accuracy_std</td><td>0.00276</td></tr><tr><td>epoch_saved/source_test/f1</td><td>0.80218</td></tr><tr><td>epoch_saved/source_test/f1_macro</td><td>0.79182</td></tr><tr><td>epoch_saved/source_test/f1_macro_std</td><td>0.00353</td></tr><tr><td>epoch_saved/source_test/f1_std</td><td>0.00255</td></tr><tr><td>epoch_saved/source_test/loss</td><td>0.54257</td></tr><tr><td>epoch_saved/source_test/loss_std</td><td>0.00241</td></tr><tr><td>epoch_saved/target_test/accuracy</td><td>0.8071</td></tr><tr><td>epoch_saved/target_test/accuracy_std</td><td>0.00348</td></tr><tr><td>epoch_saved/target_test/f1</td><td>0.8072</td></tr><tr><td>epoch_saved/target_test/f1_macro</td><td>0.80047</td></tr><tr><td>epoch_saved/target_test/f1_macro_std</td><td>0.00447</td></tr><tr><td>epoch_saved/target_test/f1_std</td><td>0.00298</td></tr><tr><td>epoch_saved/target_test/loss</td><td>0.53166</td></tr><tr><td>epoch_saved/target_test/loss_std</td><td>0.00689</td></tr><tr><td>last_epoch/source_test/accuracy</td><td>0.80278</td></tr><tr><td>last_epoch/source_test/accuracy_std</td><td>0.00229</td></tr><tr><td>last_epoch/source_test/f1</td><td>0.80294</td></tr><tr><td>last_epoch/source_test/f1_macro</td><td>0.79157</td></tr><tr><td>last_epoch/source_test/f1_macro_std</td><td>0.00241</td></tr><tr><td>last_epoch/source_test/f1_std</td><td>0.00241</td></tr><tr><td>last_epoch/source_test/loss</td><td>0.53672</td></tr><tr><td>last_epoch/source_test/loss_std</td><td>0.00465</td></tr><tr><td>last_epoch/target_test/accuracy</td><td>0.81075</td></tr><tr><td>last_epoch/target_test/accuracy_std</td><td>0.00024</td></tr><tr><td>last_epoch/target_test/f1</td><td>0.81079</td></tr><tr><td>last_epoch/target_test/f1_macro</td><td>0.80388</td></tr><tr><td>last_epoch/target_test/f1_macro_std</td><td>0.00051</td></tr><tr><td>last_epoch/target_test/f1_std</td><td>0.00082</td></tr><tr><td>last_epoch/target_test/loss</td><td>0.5236</td></tr><tr><td>last_epoch/target_test/loss_std</td><td>0.00593</td></tr></table><br/></div></div>"
      ],
      "text/plain": [
       "<IPython.core.display.HTML object>"
      ]
     },
     "metadata": {},
     "output_type": "display_data"
    },
    {
     "data": {
      "text/html": [
       " View run <strong style=\"color:#cdcd00\">TEG_mean_results</strong> at: <a href='https://wandb.ai/mrawhani/mixed_edited/runs/onyo3atm' target=\"_blank\">https://wandb.ai/mrawhani/mixed_edited/runs/onyo3atm</a><br/> View project at: <a href='https://wandb.ai/mrawhani/mixed_edited' target=\"_blank\">https://wandb.ai/mrawhani/mixed_edited</a><br/>Synced 4 W&B file(s), 0 media file(s), 0 artifact file(s) and 0 other file(s)"
      ],
      "text/plain": [
       "<IPython.core.display.HTML object>"
      ]
     },
     "metadata": {},
     "output_type": "display_data"
    },
    {
     "data": {
      "text/html": [
       "Find logs at: <code>./wandb/run-20240814_175427-onyo3atm/logs</code>"
      ],
      "text/plain": [
       "<IPython.core.display.HTML object>"
      ]
     },
     "metadata": {},
     "output_type": "display_data"
    },
    {
     "name": "stdout",
     "output_type": "stream",
     "text": [
      "Mean Results: {'last_epoch': {'source_test/loss': 0.5367189447085062, 'source_test/accuracy': 0.8027793963750204, 'source_test/f1': 0.8029352227846781, 'source_test/f1_macro': 0.7915715177853903, 'target_test/loss': 0.5235966642697653, 'target_test/accuracy': 0.8107478817303976, 'target_test/f1': 0.8107855121294657, 'target_test/f1_macro': 0.803880532582601}, 'best_model': {'source_test/loss': 0.536762555440267, 'source_test/accuracy': 0.8032834331194559, 'source_test/f1': 0.8034470280011495, 'source_test/f1_macro': 0.7921032905578613, 'target_test/loss': 0.5232786138852438, 'target_test/accuracy': 0.811587929725647, 'target_test/f1': 0.8116586009661356, 'target_test/f1_macro': 0.8047185738881429}, 'epoch_saved': {'source_test/loss': 0.5425670941670736, 'source_test/accuracy': 0.8023233413696289, 'source_test/f1': 0.8021790782610575, 'source_test/f1_macro': 0.7918241222699484, 'target_test/loss': 0.5316619674364725, 'target_test/accuracy': 0.8070996403694153, 'target_test/f1': 0.8072003126144409, 'target_test/f1_macro': 0.8004668553670248}}\n",
      "Standard Deviation Results: {'last_epoch': {'source_test/loss': 0.004651586622211794, 'source_test/accuracy': 0.002291365542634634, 'source_test/f1': 0.0024110017297870874, 'source_test/f1_macro': 0.0024129136005331697, 'target_test/loss': 0.005934500358288878, 'target_test/accuracy': 0.00023759583400541332, 'target_test/f1': 0.0008200738394291735, 'target_test/f1_macro': 0.0005144455432417394}, 'best_model': {'source_test/loss': 0.0046678623125440055, 'source_test/accuracy': 0.0025700659201112466, 'source_test/f1': 0.002739415549808059, 'source_test/f1_macro': 0.002318215008319342, 'target_test/loss': 0.005988858165938338, 'target_test/accuracy': 0.0006286460394095627, 'target_test/f1': 0.0011354572465100893, 'target_test/f1_macro': 0.0008719677958710287}, 'epoch_saved': {'source_test/loss': 0.0024082380880596473, 'source_test/accuracy': 0.002761518933128521, 'source_test/f1': 0.0025549796964137064, 'source_test/f1_macro': 0.0035325646330030044, 'target_test/loss': 0.0068892253540915, 'target_test/accuracy': 0.0034846269790708285, 'target_test/f1': 0.0029846997063839196, 'target_test/f1_macro': 0.004474202734061018}}\n"
     ]
    }
   ],
   "source": [
    "# Calculate mean and standard deviation for each scenario\n",
    "mean_results = {scenario: {key: np.mean(values) for key, values in metrics.items()} for scenario, metrics in results.items()}\n",
    "std_results = {scenario: {key: np.std(values) for key, values in metrics.items()} for scenario, metrics in results.items()}\n",
    "\n",
    "# Log mean and standard deviation results to wandb\n",
    "wandb.init(project=project_name, name=f'{domain}_mean_results')\n",
    "for scenario in mean_results:\n",
    "    for key, value in mean_results[scenario].items():\n",
    "        wandb.log({f\"{scenario}/{key}\": value})\n",
    "        wandb.log({f\"{scenario}/{key}_std\": std_results[scenario][key]})\n",
    "wandb.finish()\n",
    "\n",
    "print(\"Mean Results:\", mean_results)\n",
    "print(\"Standard Deviation Results:\", std_results)\n",
    "\n",
    "# # Save the best model's adapter\n",
    "# if model:\n",
    "#     adapter_save_path = f\"../../saved/adapter_after_run/{hparams['task_adapter_name']}\"\n",
    "#     model.save_adapter(adapter_save_path, hparams['task_adapter_name'])\n",
    "#     print(f\"Adapter saved to {adapter_save_path}\")\n",
    "# else:\n",
    "#     print(\"No best model to save.\")"
   ]
  },
  {
   "cell_type": "code",
   "execution_count": 8,
   "metadata": {},
   "outputs": [
    {
     "name": "stdout",
     "output_type": "stream",
     "text": [
      "dones\n"
     ]
    }
   ],
   "source": [
    "print('dones')"
   ]
  },
  {
   "cell_type": "code",
   "execution_count": 9,
   "metadata": {},
   "outputs": [
    {
     "data": {
      "text/plain": [
       "inf"
      ]
     },
     "execution_count": 9,
     "metadata": {},
     "output_type": "execute_result"
    }
   ],
   "source": [
    "best_val_loss"
   ]
  },
  {
   "cell_type": "code",
   "execution_count": null,
   "metadata": {},
   "outputs": [],
   "source": []
  }
 ],
 "metadata": {
  "kernelspec": {
   "display_name": ".venv",
   "language": "python",
   "name": "python3"
  },
  "language_info": {
   "codemirror_mode": {
    "name": "ipython",
    "version": 3
   },
   "file_extension": ".py",
   "mimetype": "text/x-python",
   "name": "python",
   "nbconvert_exporter": "python",
   "pygments_lexer": "ipython3",
   "version": "3.8.10"
  }
 },
 "nbformat": 4,
 "nbformat_minor": 2
}
