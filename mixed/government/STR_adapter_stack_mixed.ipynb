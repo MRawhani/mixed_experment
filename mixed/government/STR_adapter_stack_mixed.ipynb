{
 "cells": [
  {
   "cell_type": "code",
   "execution_count": 1,
   "metadata": {},
   "outputs": [
    {
     "data": {
      "text/plain": [
       "0"
      ]
     },
     "execution_count": 1,
     "metadata": {},
     "output_type": "execute_result"
    }
   ],
   "source": [
    "\n",
    "import torch\n",
    "import gc\n",
    "torch.cuda.empty_cache()\n",
    "gc.collect()\n"
   ]
  },
  {
   "cell_type": "code",
   "execution_count": 2,
   "metadata": {},
   "outputs": [
    {
     "name": "stdout",
     "output_type": "stream",
     "text": [
      "['/home/guest/Desktop/projects/third-experiments/domain_adaptation_project/mixed/government', '/usr/lib/python38.zip', '/usr/lib/python3.8', '/usr/lib/python3.8/lib-dynload', '', '/home/guest/.cache/pypoetry/virtualenvs/third-experments-xuKQSur9-py3.8/lib/python3.8/site-packages', '/tmp/tmpbgld7gb_', '/home/guest/Desktop/projects/third-experiments/domain_adaptation_project/modules']\n"
     ]
    },
    {
     "name": "stderr",
     "output_type": "stream",
     "text": [
      "2024-08-13 13:40:43.884588: I tensorflow/core/util/port.cc:110] oneDNN custom operations are on. You may see slightly different numerical results due to floating-point round-off errors from different computation orders. To turn them off, set the environment variable `TF_ENABLE_ONEDNN_OPTS=0`.\n",
      "2024-08-13 13:40:43.919663: I tensorflow/core/platform/cpu_feature_guard.cc:182] This TensorFlow binary is optimized to use available CPU instructions in performance-critical operations.\n",
      "To enable the following instructions: AVX2 AVX512F AVX512_VNNI FMA, in other operations, rebuild TensorFlow with the appropriate compiler flags.\n",
      "2024-08-13 13:40:44.630052: W tensorflow/compiler/tf2tensorrt/utils/py_utils.cc:38] TF-TRT Warning: Could not find TensorRT\n"
     ]
    },
    {
     "name": "stdout",
     "output_type": "stream",
     "text": [
      "./text-files/\n",
      "./hp-model-\n"
     ]
    }
   ],
   "source": [
    "import os\n",
    "os.environ[\"TOKENIZERS_PARALLELISM\"] = \"false\"\n",
    "# Initialize the console\n",
    "\n",
    "# Step 2: Import necessary libraries\n",
    "from typing import Optional, Dict, Any\n",
    "import os\n",
    "import torch\n",
    "import pytorch_lightning as pl\n",
    "import pandas as pd\n",
    "from transformers import AutoTokenizer\n",
    "from torch.utils.data import Dataset, DataLoader\n",
    "from rich.traceback import install\n",
    "from pytorch_lightning.loggers import WandbLogger\n",
    "import torch.nn as nn\n",
    "import torch.optim as optim\n",
    "from transformers import AutoConfig\n",
    "from adapters import AutoAdapterModel, AdapterConfig\n",
    "from adapters.composition import Stack\n",
    "from pytorch_lightning import seed_everything, Trainer\n",
    "from pytorch_lightning.callbacks import ModelCheckpoint,EarlyStopping\n",
    "import torchmetrics\n",
    "\n",
    "install(show_locals=True)\n",
    "\n",
    "from setup import setup_src_path\n",
    "print(setup_src_path())\n",
    "import data.processed as processed\n",
    "import config.config as config\n",
    "import utils.setup as setup\n",
    "import utils.functions as fn\n",
    "from importlib import reload\n",
    "\n",
    "from datasets import load_from_disk\n",
    "\n",
    "print(config.Config.TXT_SAVE_PATH)\n",
    "print(config.Config.MODEL_SAVE_PATH)\n",
    "\n",
    "dataset = load_from_disk(f\"../{config.Config.DATASETS_SAVE_PATH}/datasets\")\n"
   ]
  },
  {
   "cell_type": "code",
   "execution_count": 3,
   "metadata": {},
   "outputs": [],
   "source": [
    "import torch\n",
    "import os\n",
    "import pytorch_lightning as pl\n",
    "from transformers import  AutoConfig, DataCollatorForLanguageModeling\n",
    "from collections import defaultdict\n",
    "import torch.nn as nn\n",
    "import torch.optim as optim\n",
    "from torch.optim.lr_scheduler import ReduceLROnPlateau\n",
    "import numpy as np\n",
    "import torchmetrics\n",
    "\n",
    "class JointDomainTaskAdapter(pl.LightningModule):\n",
    "    def __init__(self, hparams,source_dataset_length,target_dataset_length):\n",
    "        super(JointDomainTaskAdapter, self).__init__()\n",
    "        self.save_hyperparameters(hparams)\n",
    "\n",
    "        # Load config with hidden states output\n",
    "        self.config = AutoConfig.from_pretrained(self.hparams[\"pretrained_model_name\"])\n",
    "        self.config.output_hidden_states = True\n",
    "        self.model = AutoAdapterModel.from_pretrained(self.hparams[\"pretrained_model_name\"], config=self.config)\n",
    "\n",
    "        # Set reduction factor and leave_out layers\n",
    "        self.reduction_factor = self.hparams.get(\"reduction_factor\", 16)\n",
    "        self.leave_out = self.hparams.get(\"leave_out\", [])\n",
    "        # if self.leave_out != \"None\":\n",
    "        #     self.leave_out = self.leave_out.split(\",\")\n",
    "        #     self.leave_out = [int(i) for i in self.leave_out]\n",
    "        # else:\n",
    "        #     self.leave_out = []\n",
    "\n",
    "        adapter_config = AdapterConfig.load(\"seq_bn\")\n",
    "        \n",
    "        self.task_adapter_name = self.hparams[\"task_adapter_name\"]\n",
    "        self.model.add_adapter(self.task_adapter_name, config=adapter_config)\n",
    "\n",
    "\n",
    "        # Load MLM adapter with head\n",
    "        self.model.load_adapter(f\"{self.hparams['saved_adapter_dir']}/{self.hparams['domain_adapter_name']}\", with_head=True)\n",
    "\n",
    "        # Add classification head for the task\n",
    "        self.model.add_classification_head(f\"{self.hparams['task_adapter_name']}\", num_labels=self.hparams[\"num_classes\"])\n",
    "\n",
    "        # Set active adapters\n",
    "        self.model.active_adapters = Stack(self.hparams['domain_adapter_name'], self.task_adapter_name)\n",
    "\n",
    "        self.model.train_adapter(Stack(self.hparams['domain_adapter_name'], self.task_adapter_name))\n",
    "        print(self.model.adapter_summary())\n",
    "        # Calculate alpha based on dataset lengths\n",
    "        self.alpha = source_dataset_length / (source_dataset_length + target_dataset_length)\n",
    "\n",
    "        # Initialize loss functions and metrics\n",
    "        self.criterion = nn.CrossEntropyLoss()\n",
    "        self.mlm_criterion = nn.CrossEntropyLoss()\n",
    "        self.accuracy = torchmetrics.Accuracy(task='multiclass', num_classes=self.hparams[\"num_classes\"])\n",
    "        self.f1 = torchmetrics.F1Score(task='multiclass', num_classes=self.hparams[\"num_classes\"], average=\"weighted\")\n",
    "        self.f1_macro = torchmetrics.F1Score(task='multiclass', num_classes=self.hparams[\"num_classes\"], average=\"macro\")\n",
    "        self.softmax = nn.Softmax(dim=1)\n",
    "        self.validation_outputs = []\n",
    "        self.test_outputs = []\n",
    "        # Optimizer related variables\n",
    "        self.learning_rate = self.hparams.get(\"learning_rate\", 1e-4)\n",
    "        self.scheduler_factor = self.hparams.get(\"scheduler_factor\", 0.1)\n",
    "        self.scheduler_patience = self.hparams.get(\"scheduler_patience\", 0.05)\n",
    "        self.scheduler_threshold = self.hparams.get(\"scheduler_threshold\", 0.0001)\n",
    "        self.scheduler_cooldown = self.hparams.get(\"scheduler_cooldown\", 0)\n",
    "        self.scheduler_eps = self.hparams.get(\"scheduler_eps\", 1e-8)\n",
    "\n",
    "    def forward(self, input_ids, attention_mask=None, labels=None, task=None):\n",
    "        if task == \"mlm\":\n",
    "            self.model.active_head= self.hparams['domain_adapter_name']\n",
    "            outputs = self.model(input_ids=input_ids, attention_mask=attention_mask, labels=labels)\n",
    "        elif task == \"classification\":\n",
    "            self.model.active_head= self.hparams['task_adapter_name']\n",
    "            outputs = self.model(input_ids=input_ids, attention_mask=attention_mask, labels=labels)\n",
    "        else:\n",
    "            raise ValueError(\"Task must be either 'mlm' or 'classification'.\")\n",
    "        return outputs\n",
    "\n",
    "    def training_step(self, batch, batch_idx):\n",
    "        # Separate source and target data processing\n",
    "        source_input_ids = batch[\"source_input_ids\"]\n",
    "        source_attention_mask = batch[\"source_attention_mask\"]\n",
    "        source_labels = batch[\"label_source\"]\n",
    "\n",
    "        target_input_ids = batch[\"target_input_ids\"]\n",
    "        target_attention_mask = batch[\"target_attention_mask\"]\n",
    "        mlm_labels = batch[\"mlm_labels\"]\n",
    "\n",
    "        # Calculate dynamic alpha based on the lengths of source and target data\n",
    "        alpha = self.alpha\n",
    "\n",
    "        # Classification task\n",
    "        cls_outputs = self(input_ids=source_input_ids, attention_mask=source_attention_mask, task=\"classification\")\n",
    "        cls_logits = cls_outputs.logits\n",
    "        task_loss = self.criterion(cls_logits, source_labels)\n",
    "\n",
    "        # MLM task\n",
    "        mlm_outputs = self(input_ids=target_input_ids, attention_mask=target_attention_mask, labels=mlm_labels, task=\"mlm\")\n",
    "        mlm_loss = mlm_outputs.loss\n",
    "\n",
    "        # Combine losses\n",
    "        loss = alpha * task_loss + (1 - alpha) * mlm_loss\n",
    "\n",
    "        accuracy = self.accuracy(source_labels, torch.argmax(self.softmax(cls_logits), dim=1))\n",
    "        f1 = self.f1(source_labels, torch.argmax(self.softmax(cls_logits), dim=1))\n",
    "\n",
    "        metrics = {\n",
    "            \"train/accuracy\": accuracy,\n",
    "            \"train/f1\": f1,\n",
    "            \"train/taskclf_loss\": task_loss,\n",
    "            \"train/loss\": loss,\n",
    "            \"train/mlm_loss\": mlm_loss\n",
    "        }\n",
    "\n",
    "        for key, val in metrics.items():\n",
    "            self.log(name=key, value=val)\n",
    "\n",
    "        return loss\n",
    "\n",
    "    def validation_step(self, batch, batch_idx):\n",
    "        # Separate source and target data processing\n",
    "        source_input_ids = batch[\"source_input_ids\"]\n",
    "        source_attention_mask = batch[\"source_attention_mask\"]\n",
    "        source_labels = batch[\"label_source\"]\n",
    "\n",
    "        target_input_ids = batch[\"target_input_ids\"]\n",
    "        target_attention_mask = batch[\"target_attention_mask\"]\n",
    "        mlm_labels = batch[\"mlm_labels\"]\n",
    "\n",
    "        # Calculate dynamic alpha based on the lengths of source and target data\n",
    "        alpha = self.alpha\n",
    "        # Classification task\n",
    "        cls_outputs = self(input_ids=source_input_ids, attention_mask=source_attention_mask, task=\"classification\")\n",
    "        cls_logits = cls_outputs.logits\n",
    "        task_loss = self.criterion(cls_logits, source_labels)\n",
    "\n",
    "        # MLM task\n",
    "        mlm_outputs = self(input_ids=target_input_ids, attention_mask=target_attention_mask, labels=mlm_labels, task=\"mlm\")\n",
    "        mlm_loss = mlm_outputs.loss\n",
    "\n",
    "        # Combine losses\n",
    "        loss = alpha * task_loss + (1 - alpha) * mlm_loss\n",
    "\n",
    "        accuracy = self.accuracy(source_labels, torch.argmax(self.softmax(cls_logits), dim=1))\n",
    "        f1 = self.f1(source_labels, torch.argmax(self.softmax(cls_logits), dim=1))\n",
    "        self.validation_outputs.append({\n",
    "            \"val/accuracy\": accuracy,\n",
    "            \"val/f1\": f1,\n",
    "            \"val/taskclf_loss\": task_loss,\n",
    "            \"val/loss\": loss,\n",
    "            \"val/mlm_loss\": mlm_loss\n",
    "                })\n",
    "        \n",
    "        metrics = {\n",
    "            \"val/accuracy\": accuracy,\n",
    "            \"val/f1\": f1,\n",
    "            \"val/taskclf_loss\": task_loss,\n",
    "            \"val/loss\": loss,\n",
    "            \"val/mlm_loss\": mlm_loss\n",
    "        }\n",
    "\n",
    "        for key, val in metrics.items():\n",
    "            self.log(name=key, value=val)\n",
    "\n",
    "        return metrics\n",
    "    def on_validation_epoch_start(self):\n",
    "        self.validation_outputs = []\n",
    "    \n",
    "    def on_validation_epoch_end(self):\n",
    "        outputs= self.validation_outputs\n",
    "\n",
    "        avg_loss = torch.stack([x[\"val/loss\"] for x in outputs]).mean()\n",
    "        avg_task_loss = torch.stack([x[\"val/taskclf_loss\"] for x in outputs]).mean()\n",
    "        avg_mlm_loss = torch.stack([x[\"val/mlm_loss\"] for x in outputs]).mean()\n",
    "        avg_accuracy = torch.stack([x[\"val/accuracy\"] for x in outputs]).mean()\n",
    "        avg_f1 = torch.stack([x[\"val/f1\"] for x in outputs]).mean()\n",
    "        print(f\"val/accuracy: {avg_accuracy}\")\n",
    "        print(f\"val/f1: {avg_f1}\")\n",
    "        print(f\"val/taskclf_loss: {avg_task_loss}\")\n",
    "        print(f\"val/loss: {avg_loss}\")\n",
    "        print(f\"val/mlm_loss: {avg_mlm_loss}\")\n",
    "        metrics = {\n",
    "            \"val/avg_loss\": avg_loss,\n",
    "            \"val/avg_taskclf_loss\": avg_task_loss,\n",
    "            \"val/avg_mlm_loss\": avg_mlm_loss,\n",
    "            \"val/avg_accuracy\": avg_accuracy,\n",
    "            \"val/avg_f1\": avg_f1,\n",
    "        }\n",
    "\n",
    "        for key, val in metrics.items():\n",
    "            self.log(name=key, value=val)\n",
    "        self.log(\"val_loss\", avg_loss)\n",
    "\n",
    "    def test_step(self, batch, batch_idx):\n",
    "        # Separate source and target data processing\n",
    "        source_input_ids = batch[\"source_input_ids\"]\n",
    "        source_attention_mask = batch[\"source_attention_mask\"]\n",
    "        source_labels = batch[\"label_source\"]\n",
    "\n",
    "        target_input_ids = batch[\"target_input_ids\"]\n",
    "        target_attention_mask = batch[\"target_attention_mask\"]\n",
    "        target_labels = batch[\"label_target\"]\n",
    "\n",
    "        # Classification task for source data\n",
    "        cls_outputs_source = self(input_ids=source_input_ids, attention_mask=source_attention_mask, task=\"classification\")\n",
    "        cls_logits_source = cls_outputs_source.logits\n",
    "        task_loss_source = self.criterion(cls_logits_source, source_labels)\n",
    "\n",
    "        # Classification task for target data\n",
    "        cls_outputs_target = self(input_ids=target_input_ids, attention_mask=target_attention_mask, task=\"classification\")\n",
    "        cls_logits_target = cls_outputs_target.logits\n",
    "        task_loss_target = self.criterion(cls_logits_target, target_labels)\n",
    "\n",
    "        # Combine losses (though typically you would evaluate them separately)\n",
    "        loss = task_loss_source + task_loss_target\n",
    "\n",
    "        accuracy_source = self.accuracy(source_labels, torch.argmax(self.softmax(cls_logits_source), dim=1))\n",
    "        f1_source = self.f1(source_labels, torch.argmax(self.softmax(cls_logits_source), dim=1))\n",
    "        f1_macro_source = self.f1_macro(source_labels, torch.argmax(self.softmax(cls_logits_source), dim=1))\n",
    "\n",
    "        accuracy_target = self.accuracy(target_labels, torch.argmax(self.softmax(cls_logits_target), dim=1))\n",
    "        f1_target = self.f1(target_labels, torch.argmax(self.softmax(cls_logits_target), dim=1))\n",
    "        f1_macro_target = self.f1_macro(target_labels, torch.argmax(self.softmax(cls_logits_target), dim=1))\n",
    "\n",
    "        metrics = {\n",
    "            \"source_test/loss\": task_loss_source,\n",
    "            \"source_test/accuracy\": accuracy_source,\n",
    "            \"source_test/f1\": f1_source,\n",
    "            \"source_test/f1_macro\": f1_macro_source,\n",
    "            \"target_test/loss\": task_loss_target,\n",
    "            \"target_test/accuracy\": accuracy_target,\n",
    "            \"target_test/f1\": f1_target,\n",
    "            \"target_test/f1_macro\": f1_macro_target,\n",
    "        }\n",
    "\n",
    "        for key, val in metrics.items():\n",
    "            self.log(name=key, value=val)\n",
    "\n",
    "        self.test_outputs.append({\n",
    "            \"source_test/loss\": task_loss_source,\n",
    "            \"source_test/accuracy\": accuracy_source,\n",
    "            \"source_test/f1\": f1_source,\n",
    "            \"source_test/f1_macro\": f1_macro_source,\n",
    "            \"target_test/loss\": task_loss_target,\n",
    "            \"target_test/accuracy\": accuracy_target,\n",
    "            \"target_test/f1\": f1_target,\n",
    "            \"target_test/f1_macro\": f1_macro_target,\n",
    "        })\n",
    "        return metrics\n",
    "    def on_test_epoch_start(self):\n",
    "        self.test_outputs = []\n",
    "\n",
    "    def on_test_epoch_end(self):\n",
    "        outputs=  self.test_outputs\n",
    "\n",
    "        avg_loss_source = torch.stack([x[\"source_test/loss\"] for x in outputs]).mean()\n",
    "        avg_task_loss_target = torch.stack([x[\"target_test/loss\"] for x in outputs]).mean()\n",
    "        avg_accuracy_source = torch.stack([x[\"source_test/accuracy\"] for x in outputs]).mean()\n",
    "        avg_f1_source = torch.stack([x[\"source_test/f1\"] for x in outputs]).mean()\n",
    "        avg_f1_macro_source = torch.stack([x[\"source_test/f1_macro\"] for x in outputs]).mean()\n",
    "\n",
    "        avg_accuracy_target = torch.stack([x[\"target_test/accuracy\"] for x in outputs]).mean()\n",
    "        avg_f1_target = torch.stack([x[\"target_test/f1\"] for x in outputs]).mean()\n",
    "        avg_f1_macro_target = torch.stack([x[\"target_test/f1_macro\"] for x in outputs]).mean()\n",
    "\n",
    "        metrics = {\n",
    "            \"source_test/loss\": avg_loss_source,\n",
    "            \"target_test/loss\": avg_task_loss_target,\n",
    "            \"source_test/accuracy\": avg_accuracy_source,\n",
    "            \"source_test/f1\": avg_f1_source,\n",
    "            \"source_test/f1_macro\": avg_f1_macro_source,\n",
    "            \"target_test/accuracy\": avg_accuracy_target,\n",
    "            \"target_test/f1\": avg_f1_target,\n",
    "            \"target_test/f1_macro\": avg_f1_macro_target,\n",
    "        }\n",
    "\n",
    "        for key, val in metrics.items():\n",
    "            self.log(name=key, value=val)\n",
    "    def save_adapter(self, location, adapter_name):\n",
    "        self.model.save_adapter(location, adapter_name)\n",
    "\n",
    "    def configure_optimizers(self):\n",
    "        optimizer = optim.AdamW(self.parameters(), lr=self.learning_rate)\n",
    "        lr_scheduler = ReduceLROnPlateau(\n",
    "            optimizer=optimizer,\n",
    "            mode=\"min\",\n",
    "            factor=self.scheduler_factor,\n",
    "            patience=self.scheduler_patience,\n",
    "            threshold=self.scheduler_threshold,\n",
    "            cooldown=self.scheduler_cooldown,\n",
    "            eps=self.scheduler_eps,\n",
    "            verbose=True,\n",
    "        )\n",
    "        return [optimizer], [{\"scheduler\": lr_scheduler, \"reduce_lr_on_plateau\": True, \"monitor\": \"val_loss\", \"interval\": \"epoch\"}]\n"
   ]
  },
  {
   "cell_type": "code",
   "execution_count": 4,
   "metadata": {},
   "outputs": [
    {
     "name": "stderr",
     "output_type": "stream",
     "text": [
      "Failed to detect the name of this notebook, you can set it manually with the WANDB_NOTEBOOK_NAME environment variable to enable code saving.\n",
      "\u001b[34m\u001b[1mwandb\u001b[0m: Currently logged in as: \u001b[33mmrawhani5\u001b[0m (\u001b[33mmrawhani\u001b[0m). Use \u001b[1m`wandb login --relogin`\u001b[0m to force relogin\n"
     ]
    }
   ],
   "source": [
    "import wandb\n",
    "\n",
    "wandb.login()\n",
    "# Wandb setup and training loop\n",
    "seeds = [42, 10, 100]  # List of seeds\n",
    "project_name = 'mixed_edited'  # Replace with your wandb project name\n",
    "domain = 'STR'  # Replace with the specific domain for this notebook\n",
    "type = 'adapter'  # Replace with the specific type for this notebook\n",
    "\n",
    "# Initialize results dictionary\n",
    "results = {\n",
    "    \"last_epoch\": {\n",
    "        \"source_test/loss\": [],\n",
    "        \"source_test/accuracy\": [],\n",
    "        \"source_test/f1\": [],\n",
    "        \"source_test/f1_macro\": [],\n",
    "        \"target_test/loss\": [],\n",
    "        \"target_test/accuracy\": [],\n",
    "        \"target_test/f1\": [],\n",
    "        \"target_test/f1_macro\": [],\n",
    "    },\n",
    "    \"best_model\": {\n",
    "        \"source_test/loss\": [],\n",
    "        \"source_test/accuracy\": [],\n",
    "        \"source_test/f1\": [],\n",
    "        \"source_test/f1_macro\": [],\n",
    "        \"target_test/loss\": [],\n",
    "        \"target_test/accuracy\": [],\n",
    "        \"target_test/f1\": [],\n",
    "        \"target_test/f1_macro\": [],\n",
    "    },\n",
    "    \"epoch_saved\": {\n",
    "        \"source_test/loss\": [],\n",
    "        \"source_test/accuracy\": [],\n",
    "        \"source_test/f1\": [],\n",
    "        \"source_test/f1_macro\": [],\n",
    "        \"target_test/loss\": [],\n",
    "        \"target_test/accuracy\": [],\n",
    "        \"target_test/f1\": [],\n",
    "        \"target_test/f1_macro\": [],\n",
    "    }\n",
    "}\n",
    "\n",
    "best_val_loss = float('inf')\n",
    "best_model = None\n",
    "best_model_path = \"\""
   ]
  },
  {
   "cell_type": "code",
   "execution_count": 5,
   "metadata": {},
   "outputs": [
    {
     "data": {
      "text/html": [
       "wandb version 0.17.6 is available!  To upgrade, please run:\n",
       " $ pip install wandb --upgrade"
      ],
      "text/plain": [
       "<IPython.core.display.HTML object>"
      ]
     },
     "metadata": {},
     "output_type": "display_data"
    },
    {
     "data": {
      "text/html": [
       "Tracking run with wandb version 0.17.0"
      ],
      "text/plain": [
       "<IPython.core.display.HTML object>"
      ]
     },
     "metadata": {},
     "output_type": "display_data"
    },
    {
     "data": {
      "text/html": [
       "Run data is saved locally in <code>/home/guest/Desktop/projects/third-experiments/domain_adaptation_project/mixed/government/wandb/run-20240813_134046-yr42u2kc</code>"
      ],
      "text/plain": [
       "<IPython.core.display.HTML object>"
      ]
     },
     "metadata": {},
     "output_type": "display_data"
    },
    {
     "data": {
      "text/html": [
       "Syncing run <strong><a href='https://wandb.ai/mrawhani/mixed_edited/runs/yr42u2kc' target=\"_blank\">STR_adapter_run_with_seed_42</a></strong> to <a href='https://wandb.ai/mrawhani/mixed_edited' target=\"_blank\">Weights & Biases</a> (<a href='https://wandb.me/run' target=\"_blank\">docs</a>)<br/>"
      ],
      "text/plain": [
       "<IPython.core.display.HTML object>"
      ]
     },
     "metadata": {},
     "output_type": "display_data"
    },
    {
     "data": {
      "text/html": [
       " View project at <a href='https://wandb.ai/mrawhani/mixed_edited' target=\"_blank\">https://wandb.ai/mrawhani/mixed_edited</a>"
      ],
      "text/plain": [
       "<IPython.core.display.HTML object>"
      ]
     },
     "metadata": {},
     "output_type": "display_data"
    },
    {
     "data": {
      "text/html": [
       " View run at <a href='https://wandb.ai/mrawhani/mixed_edited/runs/yr42u2kc' target=\"_blank\">https://wandb.ai/mrawhani/mixed_edited/runs/yr42u2kc</a>"
      ],
      "text/plain": [
       "<IPython.core.display.HTML object>"
      ]
     },
     "metadata": {},
     "output_type": "display_data"
    },
    {
     "name": "stderr",
     "output_type": "stream",
     "text": [
      "Seed set to 42\n",
      "/home/guest/.cache/pypoetry/virtualenvs/third-experments-xuKQSur9-py3.8/lib/python3.8/site-packages/huggingface_hub/file_download.py:1132: FutureWarning: `resume_download` is deprecated and will be removed in version 1.0.0. Downloads always resume when possible. If you want to force a new download, use `force_download=True`.\n",
      "  warnings.warn(\n"
     ]
    },
    {
     "name": "stdout",
     "output_type": "stream",
     "text": [
      "Batch size: 32\n",
      "Source genre: slate\n",
      "Target genre: travel\n",
      "Number of target samples: 69615\n",
      "Source genre: slate\n",
      "Target genre: travel\n",
      "Number of target samples: 69615\n",
      "Source dataset length: 69575\n",
      "Target dataset length: 24519\n"
     ]
    },
    {
     "name": "stderr",
     "output_type": "stream",
     "text": [
      "Some weights of BertAdapterModel were not initialized from the model checkpoint at bert-base-uncased and are newly initialized: ['heads.default.3.bias']\n",
      "You should probably TRAIN this model on a down-stream task to be able to use it for predictions and inference.\n",
      "/home/guest/.cache/pypoetry/virtualenvs/third-experments-xuKQSur9-py3.8/lib/python3.8/site-packages/torch/utils/data/dataloader.py:558: UserWarning: This DataLoader will create 16 worker processes in total. Our suggested max number of worker in current system is 12, which is smaller than what this DataLoader is going to create. Please be aware that excessive worker creation might get DataLoader running slow or even freeze, lower the worker number to avoid potential slowness/freeze if necessary.\n",
      "  warnings.warn(_create_warning_msg(\n",
      "/home/guest/.cache/pypoetry/virtualenvs/third-experments-xuKQSur9-py3.8/lib/python3.8/site-packages/lightning_fabric/connector.py:563: `precision=16` is supported for historical reasons but its usage is discouraged. Please set your precision to 16-mixed instead!\n",
      "Using 16bit Automatic Mixed Precision (AMP)\n",
      "GPU available: True (cuda), used: True\n",
      "TPU available: False, using: 0 TPU cores\n",
      "IPU available: False, using: 0 IPUs\n",
      "HPU available: False, using: 0 HPUs\n",
      "`Trainer(limit_train_batches=1.0)` was configured so 100% of the batches per epoch will be used..\n",
      "`Trainer(limit_val_batches=1.0)` was configured so 100% of the batches will be used..\n",
      "`Trainer(limit_test_batches=1.0)` was configured so 100% of the batches will be used..\n",
      "/home/guest/.cache/pypoetry/virtualenvs/third-experments-xuKQSur9-py3.8/lib/python3.8/site-packages/pytorch_lightning/loggers/wandb.py:396: There is a wandb run already in progress and newly created instances of `WandbLogger` will reuse this run. If this is not desired, call `wandb.finish()` before instantiating `WandbLogger`.\n",
      "LOCAL_RANK: 0 - CUDA_VISIBLE_DEVICES: [0]\n"
     ]
    },
    {
     "name": "stdout",
     "output_type": "stream",
     "text": [
      "================================================================================\n",
      "Name                     Architecture         #Param      %Param  Active   Train\n",
      "--------------------------------------------------------------------------------\n",
      "task_STR                 bottleneck          894,528       0.817       1       1\n",
      "mlm_adapter_TR           bottleneck        7,091,712       6.477       1       1\n",
      "--------------------------------------------------------------------------------\n",
      "Full model                               109,482,240     100.000               0\n",
      "================================================================================\n",
      "eee\n"
     ]
    },
    {
     "name": "stderr",
     "output_type": "stream",
     "text": [
      "/home/guest/.cache/pypoetry/virtualenvs/third-experments-xuKQSur9-py3.8/lib/python3.8/site-packages/pytorch_lightning/core/optimizer.py:257: Found unsupported keys in the lr scheduler dict: {'reduce_lr_on_plateau'}. HINT: remove them from the output of `configure_optimizers`.\n",
      "\n",
      "  | Name          | Type               | Params\n",
      "-----------------------------------------------------\n",
      "0 | model         | BertAdapterModel   | 119 M \n",
      "1 | criterion     | CrossEntropyLoss   | 0     \n",
      "2 | mlm_criterion | CrossEntropyLoss   | 0     \n",
      "3 | accuracy      | MulticlassAccuracy | 0     \n",
      "4 | f1            | MulticlassF1Score  | 0     \n",
      "5 | f1_macro      | MulticlassF1Score  | 0     \n",
      "6 | softmax       | Softmax            | 0     \n",
      "-----------------------------------------------------\n",
      "9.8 M     Trainable params\n",
      "109 M     Non-trainable params\n",
      "119 M     Total params\n",
      "477.227   Total estimated model params size (MB)\n"
     ]
    },
    {
     "data": {
      "application/vnd.jupyter.widget-view+json": {
       "model_id": "b805b1b251a94ae7818211c85358843f",
       "version_major": 2,
       "version_minor": 0
      },
      "text/plain": [
       "Sanity Checking: |          | 0/? [00:00<?, ?it/s]"
      ]
     },
     "metadata": {},
     "output_type": "display_data"
    },
    {
     "name": "stdout",
     "output_type": "stream",
     "text": [
      "val/accuracy: 0.25\n",
      "val/f1: 0.3948001265525818\n",
      "val/taskclf_loss: 1.1103515625\n",
      "val/loss: 1.2324225902557373\n",
      "val/mlm_loss: 1.578810453414917\n"
     ]
    },
    {
     "data": {
      "application/vnd.jupyter.widget-view+json": {
       "model_id": "ceacd3c20ea243d39fa1a8a139f63898",
       "version_major": 2,
       "version_minor": 0
      },
      "text/plain": [
       "Training: |          | 0/? [00:00<?, ?it/s]"
      ]
     },
     "metadata": {},
     "output_type": "display_data"
    },
    {
     "data": {
      "application/vnd.jupyter.widget-view+json": {
       "model_id": "eff1a5d575cd4a9196b580168896b83c",
       "version_major": 2,
       "version_minor": 0
      },
      "text/plain": [
       "Validation: |          | 0/? [00:00<?, ?it/s]"
      ]
     },
     "metadata": {},
     "output_type": "display_data"
    },
    {
     "name": "stdout",
     "output_type": "stream",
     "text": [
      "val/accuracy: 0.7222705483436584\n",
      "val/f1: 0.722049355506897\n",
      "val/taskclf_loss: 0.6547640562057495\n",
      "val/loss: 0.8998483419418335\n",
      "val/mlm_loss: 1.5952982902526855\n"
     ]
    },
    {
     "data": {
      "application/vnd.jupyter.widget-view+json": {
       "model_id": "25410a91df7a47ec87e30f1d8650adcc",
       "version_major": 2,
       "version_minor": 0
      },
      "text/plain": [
       "Validation: |          | 0/? [00:00<?, ?it/s]"
      ]
     },
     "metadata": {},
     "output_type": "display_data"
    },
    {
     "name": "stdout",
     "output_type": "stream",
     "text": [
      "val/accuracy: 0.7498571872711182\n",
      "val/f1: 0.7510141134262085\n",
      "val/taskclf_loss: 0.6160896420478821\n",
      "val/loss: 0.8674074411392212\n",
      "val/mlm_loss: 1.5805456638336182\n"
     ]
    },
    {
     "data": {
      "application/vnd.jupyter.widget-view+json": {
       "model_id": "f4830fa6b9a54ad5a5b17f1355fde3f8",
       "version_major": 2,
       "version_minor": 0
      },
      "text/plain": [
       "Validation: |          | 0/? [00:00<?, ?it/s]"
      ]
     },
     "metadata": {},
     "output_type": "display_data"
    },
    {
     "name": "stdout",
     "output_type": "stream",
     "text": [
      "val/accuracy: 0.754037082195282\n",
      "val/f1: 0.7541916370391846\n",
      "val/taskclf_loss: 0.6229245066642761\n",
      "val/loss: 0.8721663951873779\n",
      "val/mlm_loss: 1.579413652420044\n"
     ]
    },
    {
     "data": {
      "application/vnd.jupyter.widget-view+json": {
       "model_id": "7263c34c41c140cb91aa1ee666b227ab",
       "version_major": 2,
       "version_minor": 0
      },
      "text/plain": [
       "Validation: |          | 0/? [00:00<?, ?it/s]"
      ]
     },
     "metadata": {},
     "output_type": "display_data"
    },
    {
     "name": "stdout",
     "output_type": "stream",
     "text": [
      "val/accuracy: 0.762301504611969\n",
      "val/f1: 0.7626084089279175\n",
      "val/taskclf_loss: 0.6925884485244751\n",
      "val/loss: 0.9176583290100098\n",
      "val/mlm_loss: 1.556315302848816\n"
     ]
    },
    {
     "data": {
      "application/vnd.jupyter.widget-view+json": {
       "model_id": "061e74717781467ab00cc183e94a5d0e",
       "version_major": 2,
       "version_minor": 0
      },
      "text/plain": [
       "Validation: |          | 0/? [00:00<?, ?it/s]"
      ]
     },
     "metadata": {},
     "output_type": "display_data"
    },
    {
     "name": "stdout",
     "output_type": "stream",
     "text": [
      "val/accuracy: 0.7644967436790466\n",
      "val/f1: 0.7643694877624512\n",
      "val/taskclf_loss: 0.6767385005950928\n",
      "val/loss: 0.9090414643287659\n",
      "val/mlm_loss: 1.5682231187820435\n"
     ]
    },
    {
     "data": {
      "application/vnd.jupyter.widget-view+json": {
       "model_id": "f4b5a2f330894705af3eeac2478f3874",
       "version_major": 2,
       "version_minor": 0
      },
      "text/plain": [
       "Validation: |          | 0/? [00:00<?, ?it/s]"
      ]
     },
     "metadata": {},
     "output_type": "display_data"
    },
    {
     "name": "stdout",
     "output_type": "stream",
     "text": [
      "val/accuracy: 0.7651424407958984\n",
      "val/f1: 0.7650908827781677\n",
      "val/taskclf_loss: 0.6744473576545715\n",
      "val/loss: 0.9049272537231445\n",
      "val/mlm_loss: 1.5589361190795898\n"
     ]
    },
    {
     "data": {
      "application/vnd.jupyter.widget-view+json": {
       "model_id": "1921f238a7384f1991d209aed1ad215a",
       "version_major": 2,
       "version_minor": 0
      },
      "text/plain": [
       "Validation: |          | 0/? [00:00<?, ?it/s]"
      ]
     },
     "metadata": {},
     "output_type": "display_data"
    },
    {
     "name": "stdout",
     "output_type": "stream",
     "text": [
      "val/accuracy: 0.7652715444564819\n",
      "val/f1: 0.7652300000190735\n",
      "val/taskclf_loss: 0.6741917133331299\n",
      "val/loss: 0.902003288269043\n",
      "val/mlm_loss: 1.5484404563903809\n"
     ]
    },
    {
     "data": {
      "application/vnd.jupyter.widget-view+json": {
       "model_id": "46fdee02b7474983bf22abdbaa229a03",
       "version_major": 2,
       "version_minor": 0
      },
      "text/plain": [
       "Validation: |          | 0/? [00:00<?, ?it/s]"
      ]
     },
     "metadata": {},
     "output_type": "display_data"
    },
    {
     "name": "stdout",
     "output_type": "stream",
     "text": [
      "val/accuracy: 0.7652715444564819\n",
      "val/f1: 0.7652300000190735\n",
      "val/taskclf_loss: 0.6739785671234131\n",
      "val/loss: 0.9024276733398438\n",
      "val/mlm_loss: 1.5506740808486938\n"
     ]
    },
    {
     "data": {
      "application/vnd.jupyter.widget-view+json": {
       "model_id": "52ad927ccc63476e8b7cd2178c08ff3f",
       "version_major": 2,
       "version_minor": 0
      },
      "text/plain": [
       "Validation: |          | 0/? [00:00<?, ?it/s]"
      ]
     },
     "metadata": {},
     "output_type": "display_data"
    },
    {
     "name": "stdout",
     "output_type": "stream",
     "text": [
      "val/accuracy: 0.7651424407958984\n",
      "val/f1: 0.7650877833366394\n",
      "val/taskclf_loss: 0.673761785030365\n",
      "val/loss: 0.9008792638778687\n",
      "val/mlm_loss: 1.545346736907959\n"
     ]
    },
    {
     "data": {
      "application/vnd.jupyter.widget-view+json": {
       "model_id": "2b301e5736214bf19be6a10d6a708235",
       "version_major": 2,
       "version_minor": 0
      },
      "text/plain": [
       "Validation: |          | 0/? [00:00<?, ?it/s]"
      ]
     },
     "metadata": {},
     "output_type": "display_data"
    },
    {
     "name": "stderr",
     "output_type": "stream",
     "text": [
      "`Trainer.fit` stopped: `max_epochs=10` reached.\n"
     ]
    },
    {
     "name": "stdout",
     "output_type": "stream",
     "text": [
      "val/accuracy: 0.7650132775306702\n",
      "val/f1: 0.7649500966072083\n",
      "val/taskclf_loss: 0.6735296249389648\n",
      "val/loss: 0.9053974747657776\n",
      "val/mlm_loss: 1.5633443593978882\n",
      "Best checkpoint path: ./lightning_logs/yr42u2kc/checkpoints/task-STR-epoch=01-val_loss=0.87.ckpt\n",
      "Saved epoch checkpoint path: ./lightning_logs/yr42u2kc/checkpoints/STR-epoch=05.ckpt\n",
      "Source genre: slate\n"
     ]
    },
    {
     "name": "stderr",
     "output_type": "stream",
     "text": [
      "LOCAL_RANK: 0 - CUDA_VISIBLE_DEVICES: [0]\n"
     ]
    },
    {
     "name": "stdout",
     "output_type": "stream",
     "text": [
      "Target genre: travel\n",
      "Number of target samples: 69615\n"
     ]
    },
    {
     "data": {
      "application/vnd.jupyter.widget-view+json": {
       "model_id": "0daa933f96f34af8a9401900be8c29e1",
       "version_major": 2,
       "version_minor": 0
      },
      "text/plain": [
       "Testing: |          | 0/? [00:00<?, ?it/s]"
      ]
     },
     "metadata": {},
     "output_type": "display_data"
    },
    {
     "data": {
      "text/html": [
       "<pre style=\"white-space:pre;overflow-x:auto;line-height:normal;font-family:Menlo,'DejaVu Sans Mono',consolas,'Courier New',monospace\">┏━━━━━━━━━━━━━━━━━━━━━━━━━━━┳━━━━━━━━━━━━━━━━━━━━━━━━━━━┓\n",
       "┃<span style=\"font-weight: bold\">        Test metric        </span>┃<span style=\"font-weight: bold\">       DataLoader 0        </span>┃\n",
       "┡━━━━━━━━━━━━━━━━━━━━━━━━━━━╇━━━━━━━━━━━━━━━━━━━━━━━━━━━┩\n",
       "│<span style=\"color: #008080; text-decoration-color: #008080\">   source_test/accuracy    </span>│<span style=\"color: #800080; text-decoration-color: #800080\">    0.7424395084381104     </span>│\n",
       "│<span style=\"color: #008080; text-decoration-color: #008080\">      source_test/f1       </span>│<span style=\"color: #800080; text-decoration-color: #800080\">    0.7421094179153442     </span>│\n",
       "│<span style=\"color: #008080; text-decoration-color: #008080\">   source_test/f1_macro    </span>│<span style=\"color: #800080; text-decoration-color: #800080\">    0.7310559749603271     </span>│\n",
       "│<span style=\"color: #008080; text-decoration-color: #008080\">     source_test/loss      </span>│<span style=\"color: #800080; text-decoration-color: #800080\">    0.7276239395141602     </span>│\n",
       "│<span style=\"color: #008080; text-decoration-color: #008080\">   target_test/accuracy    </span>│<span style=\"color: #800080; text-decoration-color: #800080\">    0.7923386693000793     </span>│\n",
       "│<span style=\"color: #008080; text-decoration-color: #008080\">      target_test/f1       </span>│<span style=\"color: #800080; text-decoration-color: #800080\">    0.7928553819656372     </span>│\n",
       "│<span style=\"color: #008080; text-decoration-color: #008080\">   target_test/f1_macro    </span>│<span style=\"color: #800080; text-decoration-color: #800080\">    0.7816459536552429     </span>│\n",
       "│<span style=\"color: #008080; text-decoration-color: #008080\">     target_test/loss      </span>│<span style=\"color: #800080; text-decoration-color: #800080\">    0.5949236750602722     </span>│\n",
       "└───────────────────────────┴───────────────────────────┘\n",
       "</pre>\n"
      ],
      "text/plain": [
       "┏━━━━━━━━━━━━━━━━━━━━━━━━━━━┳━━━━━━━━━━━━━━━━━━━━━━━━━━━┓\n",
       "┃\u001b[1m \u001b[0m\u001b[1m       Test metric       \u001b[0m\u001b[1m \u001b[0m┃\u001b[1m \u001b[0m\u001b[1m      DataLoader 0       \u001b[0m\u001b[1m \u001b[0m┃\n",
       "┡━━━━━━━━━━━━━━━━━━━━━━━━━━━╇━━━━━━━━━━━━━━━━━━━━━━━━━━━┩\n",
       "│\u001b[36m \u001b[0m\u001b[36m  source_test/accuracy   \u001b[0m\u001b[36m \u001b[0m│\u001b[35m \u001b[0m\u001b[35m   0.7424395084381104    \u001b[0m\u001b[35m \u001b[0m│\n",
       "│\u001b[36m \u001b[0m\u001b[36m     source_test/f1      \u001b[0m\u001b[36m \u001b[0m│\u001b[35m \u001b[0m\u001b[35m   0.7421094179153442    \u001b[0m\u001b[35m \u001b[0m│\n",
       "│\u001b[36m \u001b[0m\u001b[36m  source_test/f1_macro   \u001b[0m\u001b[36m \u001b[0m│\u001b[35m \u001b[0m\u001b[35m   0.7310559749603271    \u001b[0m\u001b[35m \u001b[0m│\n",
       "│\u001b[36m \u001b[0m\u001b[36m    source_test/loss     \u001b[0m\u001b[36m \u001b[0m│\u001b[35m \u001b[0m\u001b[35m   0.7276239395141602    \u001b[0m\u001b[35m \u001b[0m│\n",
       "│\u001b[36m \u001b[0m\u001b[36m  target_test/accuracy   \u001b[0m\u001b[36m \u001b[0m│\u001b[35m \u001b[0m\u001b[35m   0.7923386693000793    \u001b[0m\u001b[35m \u001b[0m│\n",
       "│\u001b[36m \u001b[0m\u001b[36m     target_test/f1      \u001b[0m\u001b[36m \u001b[0m│\u001b[35m \u001b[0m\u001b[35m   0.7928553819656372    \u001b[0m\u001b[35m \u001b[0m│\n",
       "│\u001b[36m \u001b[0m\u001b[36m  target_test/f1_macro   \u001b[0m\u001b[36m \u001b[0m│\u001b[35m \u001b[0m\u001b[35m   0.7816459536552429    \u001b[0m\u001b[35m \u001b[0m│\n",
       "│\u001b[36m \u001b[0m\u001b[36m    target_test/loss     \u001b[0m\u001b[36m \u001b[0m│\u001b[35m \u001b[0m\u001b[35m   0.5949236750602722    \u001b[0m\u001b[35m \u001b[0m│\n",
       "└───────────────────────────┴───────────────────────────┘\n"
      ]
     },
     "metadata": {},
     "output_type": "display_data"
    },
    {
     "name": "stdout",
     "output_type": "stream",
     "text": [
      "Test Results Last Epoch: [{'source_test/loss': 0.7276239395141602, 'source_test/accuracy': 0.7424395084381104, 'source_test/f1': 0.7421094179153442, 'source_test/f1_macro': 0.7310559749603271, 'target_test/loss': 0.5949236750602722, 'target_test/accuracy': 0.7923386693000793, 'target_test/f1': 0.7928553819656372, 'target_test/f1_macro': 0.7816459536552429}]\n",
      "Best checkpoint path: ./lightning_logs/yr42u2kc/checkpoints/task-STR-epoch=01-val_loss=0.87.ckpt\n",
      "Saved epoch checkpoint path: ./lightning_logs/yr42u2kc/checkpoints/STR-epoch=05.ckpt\n"
     ]
    },
    {
     "name": "stderr",
     "output_type": "stream",
     "text": [
      "Some weights of BertAdapterModel were not initialized from the model checkpoint at bert-base-uncased and are newly initialized: ['heads.default.3.bias']\n",
      "You should probably TRAIN this model on a down-stream task to be able to use it for predictions and inference.\n"
     ]
    },
    {
     "name": "stdout",
     "output_type": "stream",
     "text": [
      "================================================================================\n",
      "Name                     Architecture         #Param      %Param  Active   Train\n",
      "--------------------------------------------------------------------------------\n",
      "task_STR                 bottleneck          894,528       0.817       1       1\n",
      "mlm_adapter_TR           bottleneck        7,091,712       6.477       1       1\n",
      "--------------------------------------------------------------------------------\n",
      "Full model                               109,482,240     100.000               0\n",
      "================================================================================\n"
     ]
    },
    {
     "name": "stderr",
     "output_type": "stream",
     "text": [
      "LOCAL_RANK: 0 - CUDA_VISIBLE_DEVICES: [0]\n"
     ]
    },
    {
     "data": {
      "application/vnd.jupyter.widget-view+json": {
       "model_id": "6781413cfd494c84acd20bb474e37ec1",
       "version_major": 2,
       "version_minor": 0
      },
      "text/plain": [
       "Testing: |          | 0/? [00:00<?, ?it/s]"
      ]
     },
     "metadata": {},
     "output_type": "display_data"
    },
    {
     "data": {
      "text/html": [
       "<pre style=\"white-space:pre;overflow-x:auto;line-height:normal;font-family:Menlo,'DejaVu Sans Mono',consolas,'Courier New',monospace\">┏━━━━━━━━━━━━━━━━━━━━━━━━━━━┳━━━━━━━━━━━━━━━━━━━━━━━━━━━┓\n",
       "┃<span style=\"font-weight: bold\">        Test metric        </span>┃<span style=\"font-weight: bold\">       DataLoader 0        </span>┃\n",
       "┡━━━━━━━━━━━━━━━━━━━━━━━━━━━╇━━━━━━━━━━━━━━━━━━━━━━━━━━━┩\n",
       "│<span style=\"color: #008080; text-decoration-color: #008080\">   source_test/accuracy    </span>│<span style=\"color: #800080; text-decoration-color: #800080\">    0.7372311353683472     </span>│\n",
       "│<span style=\"color: #008080; text-decoration-color: #008080\">      source_test/f1       </span>│<span style=\"color: #800080; text-decoration-color: #800080\">    0.7371792793273926     </span>│\n",
       "│<span style=\"color: #008080; text-decoration-color: #008080\">   source_test/f1_macro    </span>│<span style=\"color: #800080; text-decoration-color: #800080\">     0.72635817527771      </span>│\n",
       "│<span style=\"color: #008080; text-decoration-color: #008080\">     source_test/loss      </span>│<span style=\"color: #800080; text-decoration-color: #800080\">    0.6533322930335999     </span>│\n",
       "│<span style=\"color: #008080; text-decoration-color: #008080\">   target_test/accuracy    </span>│<span style=\"color: #800080; text-decoration-color: #800080\">    0.7713373899459839     </span>│\n",
       "│<span style=\"color: #008080; text-decoration-color: #008080\">      target_test/f1       </span>│<span style=\"color: #800080; text-decoration-color: #800080\">    0.7731791734695435     </span>│\n",
       "│<span style=\"color: #008080; text-decoration-color: #008080\">   target_test/f1_macro    </span>│<span style=\"color: #800080; text-decoration-color: #800080\">    0.7598021626472473     </span>│\n",
       "│<span style=\"color: #008080; text-decoration-color: #008080\">     target_test/loss      </span>│<span style=\"color: #800080; text-decoration-color: #800080\">    0.5613260865211487     </span>│\n",
       "└───────────────────────────┴───────────────────────────┘\n",
       "</pre>\n"
      ],
      "text/plain": [
       "┏━━━━━━━━━━━━━━━━━━━━━━━━━━━┳━━━━━━━━━━━━━━━━━━━━━━━━━━━┓\n",
       "┃\u001b[1m \u001b[0m\u001b[1m       Test metric       \u001b[0m\u001b[1m \u001b[0m┃\u001b[1m \u001b[0m\u001b[1m      DataLoader 0       \u001b[0m\u001b[1m \u001b[0m┃\n",
       "┡━━━━━━━━━━━━━━━━━━━━━━━━━━━╇━━━━━━━━━━━━━━━━━━━━━━━━━━━┩\n",
       "│\u001b[36m \u001b[0m\u001b[36m  source_test/accuracy   \u001b[0m\u001b[36m \u001b[0m│\u001b[35m \u001b[0m\u001b[35m   0.7372311353683472    \u001b[0m\u001b[35m \u001b[0m│\n",
       "│\u001b[36m \u001b[0m\u001b[36m     source_test/f1      \u001b[0m\u001b[36m \u001b[0m│\u001b[35m \u001b[0m\u001b[35m   0.7371792793273926    \u001b[0m\u001b[35m \u001b[0m│\n",
       "│\u001b[36m \u001b[0m\u001b[36m  source_test/f1_macro   \u001b[0m\u001b[36m \u001b[0m│\u001b[35m \u001b[0m\u001b[35m    0.72635817527771     \u001b[0m\u001b[35m \u001b[0m│\n",
       "│\u001b[36m \u001b[0m\u001b[36m    source_test/loss     \u001b[0m\u001b[36m \u001b[0m│\u001b[35m \u001b[0m\u001b[35m   0.6533322930335999    \u001b[0m\u001b[35m \u001b[0m│\n",
       "│\u001b[36m \u001b[0m\u001b[36m  target_test/accuracy   \u001b[0m\u001b[36m \u001b[0m│\u001b[35m \u001b[0m\u001b[35m   0.7713373899459839    \u001b[0m\u001b[35m \u001b[0m│\n",
       "│\u001b[36m \u001b[0m\u001b[36m     target_test/f1      \u001b[0m\u001b[36m \u001b[0m│\u001b[35m \u001b[0m\u001b[35m   0.7731791734695435    \u001b[0m\u001b[35m \u001b[0m│\n",
       "│\u001b[36m \u001b[0m\u001b[36m  target_test/f1_macro   \u001b[0m\u001b[36m \u001b[0m│\u001b[35m \u001b[0m\u001b[35m   0.7598021626472473    \u001b[0m\u001b[35m \u001b[0m│\n",
       "│\u001b[36m \u001b[0m\u001b[36m    target_test/loss     \u001b[0m\u001b[36m \u001b[0m│\u001b[35m \u001b[0m\u001b[35m   0.5613260865211487    \u001b[0m\u001b[35m \u001b[0m│\n",
       "└───────────────────────────┴───────────────────────────┘\n"
      ]
     },
     "metadata": {},
     "output_type": "display_data"
    },
    {
     "name": "stdout",
     "output_type": "stream",
     "text": [
      "Test Results on Best Model: [{'source_test/loss': 0.6533322930335999, 'source_test/accuracy': 0.7372311353683472, 'source_test/f1': 0.7371792793273926, 'source_test/f1_macro': 0.72635817527771, 'target_test/loss': 0.5613260865211487, 'target_test/accuracy': 0.7713373899459839, 'target_test/f1': 0.7731791734695435, 'target_test/f1_macro': 0.7598021626472473}]\n"
     ]
    },
    {
     "name": "stderr",
     "output_type": "stream",
     "text": [
      "Some weights of BertAdapterModel were not initialized from the model checkpoint at bert-base-uncased and are newly initialized: ['heads.default.3.bias']\n",
      "You should probably TRAIN this model on a down-stream task to be able to use it for predictions and inference.\n"
     ]
    },
    {
     "name": "stdout",
     "output_type": "stream",
     "text": [
      "================================================================================\n",
      "Name                     Architecture         #Param      %Param  Active   Train\n",
      "--------------------------------------------------------------------------------\n",
      "task_STR                 bottleneck          894,528       0.817       1       1\n",
      "mlm_adapter_TR           bottleneck        7,091,712       6.477       1       1\n",
      "--------------------------------------------------------------------------------\n",
      "Full model                               109,482,240     100.000               0\n",
      "================================================================================\n"
     ]
    },
    {
     "name": "stderr",
     "output_type": "stream",
     "text": [
      "LOCAL_RANK: 0 - CUDA_VISIBLE_DEVICES: [0]\n"
     ]
    },
    {
     "data": {
      "application/vnd.jupyter.widget-view+json": {
       "model_id": "3c8be79dae014af18ba3b3c105a0d6c8",
       "version_major": 2,
       "version_minor": 0
      },
      "text/plain": [
       "Testing: |          | 0/? [00:00<?, ?it/s]"
      ]
     },
     "metadata": {},
     "output_type": "display_data"
    },
    {
     "data": {
      "text/html": [
       "<pre style=\"white-space:pre;overflow-x:auto;line-height:normal;font-family:Menlo,'DejaVu Sans Mono',consolas,'Courier New',monospace\">┏━━━━━━━━━━━━━━━━━━━━━━━━━━━┳━━━━━━━━━━━━━━━━━━━━━━━━━━━┓\n",
       "┃<span style=\"font-weight: bold\">        Test metric        </span>┃<span style=\"font-weight: bold\">       DataLoader 0        </span>┃\n",
       "┡━━━━━━━━━━━━━━━━━━━━━━━━━━━╇━━━━━━━━━━━━━━━━━━━━━━━━━━━┩\n",
       "│<span style=\"color: #008080; text-decoration-color: #008080\">   source_test/accuracy    </span>│<span style=\"color: #800080; text-decoration-color: #800080\">    0.7424395084381104     </span>│\n",
       "│<span style=\"color: #008080; text-decoration-color: #008080\">      source_test/f1       </span>│<span style=\"color: #800080; text-decoration-color: #800080\">    0.7421094179153442     </span>│\n",
       "│<span style=\"color: #008080; text-decoration-color: #008080\">   source_test/f1_macro    </span>│<span style=\"color: #800080; text-decoration-color: #800080\">    0.7310559749603271     </span>│\n",
       "│<span style=\"color: #008080; text-decoration-color: #008080\">     source_test/loss      </span>│<span style=\"color: #800080; text-decoration-color: #800080\">    0.7290706634521484     </span>│\n",
       "│<span style=\"color: #008080; text-decoration-color: #008080\">   target_test/accuracy    </span>│<span style=\"color: #800080; text-decoration-color: #800080\">    0.7928427457809448     </span>│\n",
       "│<span style=\"color: #008080; text-decoration-color: #008080\">      target_test/f1       </span>│<span style=\"color: #800080; text-decoration-color: #800080\">    0.7933055758476257     </span>│\n",
       "│<span style=\"color: #008080; text-decoration-color: #008080\">   target_test/f1_macro    </span>│<span style=\"color: #800080; text-decoration-color: #800080\">    0.7822151780128479     </span>│\n",
       "│<span style=\"color: #008080; text-decoration-color: #008080\">     target_test/loss      </span>│<span style=\"color: #800080; text-decoration-color: #800080\">    0.5962365865707397     </span>│\n",
       "└───────────────────────────┴───────────────────────────┘\n",
       "</pre>\n"
      ],
      "text/plain": [
       "┏━━━━━━━━━━━━━━━━━━━━━━━━━━━┳━━━━━━━━━━━━━━━━━━━━━━━━━━━┓\n",
       "┃\u001b[1m \u001b[0m\u001b[1m       Test metric       \u001b[0m\u001b[1m \u001b[0m┃\u001b[1m \u001b[0m\u001b[1m      DataLoader 0       \u001b[0m\u001b[1m \u001b[0m┃\n",
       "┡━━━━━━━━━━━━━━━━━━━━━━━━━━━╇━━━━━━━━━━━━━━━━━━━━━━━━━━━┩\n",
       "│\u001b[36m \u001b[0m\u001b[36m  source_test/accuracy   \u001b[0m\u001b[36m \u001b[0m│\u001b[35m \u001b[0m\u001b[35m   0.7424395084381104    \u001b[0m\u001b[35m \u001b[0m│\n",
       "│\u001b[36m \u001b[0m\u001b[36m     source_test/f1      \u001b[0m\u001b[36m \u001b[0m│\u001b[35m \u001b[0m\u001b[35m   0.7421094179153442    \u001b[0m\u001b[35m \u001b[0m│\n",
       "│\u001b[36m \u001b[0m\u001b[36m  source_test/f1_macro   \u001b[0m\u001b[36m \u001b[0m│\u001b[35m \u001b[0m\u001b[35m   0.7310559749603271    \u001b[0m\u001b[35m \u001b[0m│\n",
       "│\u001b[36m \u001b[0m\u001b[36m    source_test/loss     \u001b[0m\u001b[36m \u001b[0m│\u001b[35m \u001b[0m\u001b[35m   0.7290706634521484    \u001b[0m\u001b[35m \u001b[0m│\n",
       "│\u001b[36m \u001b[0m\u001b[36m  target_test/accuracy   \u001b[0m\u001b[36m \u001b[0m│\u001b[35m \u001b[0m\u001b[35m   0.7928427457809448    \u001b[0m\u001b[35m \u001b[0m│\n",
       "│\u001b[36m \u001b[0m\u001b[36m     target_test/f1      \u001b[0m\u001b[36m \u001b[0m│\u001b[35m \u001b[0m\u001b[35m   0.7933055758476257    \u001b[0m\u001b[35m \u001b[0m│\n",
       "│\u001b[36m \u001b[0m\u001b[36m  target_test/f1_macro   \u001b[0m\u001b[36m \u001b[0m│\u001b[35m \u001b[0m\u001b[35m   0.7822151780128479    \u001b[0m\u001b[35m \u001b[0m│\n",
       "│\u001b[36m \u001b[0m\u001b[36m    target_test/loss     \u001b[0m\u001b[36m \u001b[0m│\u001b[35m \u001b[0m\u001b[35m   0.5962365865707397    \u001b[0m\u001b[35m \u001b[0m│\n",
       "└───────────────────────────┴───────────────────────────┘\n"
      ]
     },
     "metadata": {},
     "output_type": "display_data"
    },
    {
     "name": "stdout",
     "output_type": "stream",
     "text": [
      "Test Results on saved epoch: [{'source_test/loss': 0.7290706634521484, 'source_test/accuracy': 0.7424395084381104, 'source_test/f1': 0.7421094179153442, 'source_test/f1_macro': 0.7310559749603271, 'target_test/loss': 0.5962365865707397, 'target_test/accuracy': 0.7928427457809448, 'target_test/f1': 0.7933055758476257, 'target_test/f1_macro': 0.7822151780128479}]\n"
     ]
    },
    {
     "data": {
      "application/vnd.jupyter.widget-view+json": {
       "model_id": "04494168aacb460593bdf88a916e36e5",
       "version_major": 2,
       "version_minor": 0
      },
      "text/plain": [
       "VBox(children=(Label(value='0.002 MB of 0.002 MB uploaded\\r'), FloatProgress(value=1.0, max=1.0)))"
      ]
     },
     "metadata": {},
     "output_type": "display_data"
    },
    {
     "data": {
      "text/html": [
       "<style>\n",
       "    table.wandb td:nth-child(1) { padding: 0 10px; text-align: left ; width: auto;} td:nth-child(2) {text-align: left ; width: 100%}\n",
       "    .wandb-row { display: flex; flex-direction: row; flex-wrap: wrap; justify-content: flex-start; width: 100% }\n",
       "    .wandb-col { display: flex; flex-direction: column; flex-basis: 100%; flex: 1; padding: 10px; }\n",
       "    </style>\n",
       "<div class=\"wandb-row\"><div class=\"wandb-col\"><h3>Run history:</h3><br/><table class=\"wandb\"><tr><td>epoch</td><td>▁▁▁▁▂▂▂▂▂▂▂▂▃▃▃▃▄▄▄▄▅▅▅▅▅▅▅▅▆▆▆▆▇▇▇▇▇▇▇█</td></tr><tr><td>source_test/accuracy</td><td>█▁█</td></tr><tr><td>source_test/f1</td><td>█▁█</td></tr><tr><td>source_test/f1_macro</td><td>█▁█</td></tr><tr><td>source_test/loss</td><td>█▁█</td></tr><tr><td>target_test/accuracy</td><td>█▁█</td></tr><tr><td>target_test/f1</td><td>█▁█</td></tr><tr><td>target_test/f1_macro</td><td>█▁█</td></tr><tr><td>target_test/loss</td><td>█▁█</td></tr><tr><td>train/accuracy</td><td>▁▃▄▄▅▅▅▅▅▇▅▅▄▇▄▅▇█▇▄▆▆▄█▄▇▅█▆▇▇▇▄▇▇▇▂▇█▇</td></tr><tr><td>train/f1</td><td>▁▃▃▃▅▅▅▅▅▇▅▅▄▇▃▄▇█▇▄▆▆▄█▄▇▅█▆▇▇▇▃▇▇▇▁▇█▇</td></tr><tr><td>train/loss</td><td>█▆▅█▆▅▅▄▅▃▆▅▅▃▆▄▂▂▃▅▄▄▆▂▅▂▅▁▃▄▃▃▇▃▃▃▆▂▁▃</td></tr><tr><td>train/mlm_loss</td><td>▆▇▂▆▅▄▄▃▄▅▇█▅▃▆▅▂▅▄▅▅▅▁▅▂▂▅▂▁▅▅▂▇▃▆▄▅▆▂▄</td></tr><tr><td>train/taskclf_loss</td><td>█▆▆█▆▅▅▄▅▃▅▄▄▃▅▄▃▂▃▅▄▄▇▂▆▂▄▂▄▄▃▄▆▃▂▃▆▂▁▃</td></tr><tr><td>trainer/global_step</td><td>▁▁▁▂▂▂▂▂▂▃▃▃▃▃▃▄▄▄▄▄▅▅▅▅▅▆▆▆▆▆▆▇▇▇▇▇▇███</td></tr><tr><td>val/accuracy</td><td>▁▆▆███████</td></tr><tr><td>val/avg_accuracy</td><td>▁▅▆███████</td></tr><tr><td>val/avg_f1</td><td>▁▆▆███████</td></tr><tr><td>val/avg_loss</td><td>▆▁▂█▇▆▆▆▆▆</td></tr><tr><td>val/avg_mlm_loss</td><td>█▆▆▃▄▃▁▂▁▄</td></tr><tr><td>val/avg_taskclf_loss</td><td>▅▁▂█▇▆▆▆▆▆</td></tr><tr><td>val/f1</td><td>▁▆▆███████</td></tr><tr><td>val/loss</td><td>▅▁▂█▇▆▆▆▆▆</td></tr><tr><td>val/mlm_loss</td><td>█▆▆▃▄▃▁▂▁▄</td></tr><tr><td>val/taskclf_loss</td><td>▅▁▂█▇▆▆▆▆▆</td></tr><tr><td>val_loss</td><td>▆▁▂█▇▆▆▆▆▆</td></tr></table><br/></div><div class=\"wandb-col\"><h3>Run summary:</h3><br/><table class=\"wandb\"><tr><td>epoch</td><td>10</td></tr><tr><td>source_test/accuracy</td><td>0.74244</td></tr><tr><td>source_test/f1</td><td>0.74211</td></tr><tr><td>source_test/f1_macro</td><td>0.73106</td></tr><tr><td>source_test/loss</td><td>0.72907</td></tr><tr><td>target_test/accuracy</td><td>0.79284</td></tr><tr><td>target_test/f1</td><td>0.79331</td></tr><tr><td>target_test/f1_macro</td><td>0.78222</td></tr><tr><td>target_test/loss</td><td>0.59624</td></tr><tr><td>train/accuracy</td><td>1.0</td></tr><tr><td>train/f1</td><td>1.0</td></tr><tr><td>train/loss</td><td>0.44874</td></tr><tr><td>train/mlm_loss</td><td>1.51883</td></tr><tr><td>train/taskclf_loss</td><td>0.07163</td></tr><tr><td>trainer/global_step</td><td>21750</td></tr><tr><td>val/accuracy</td><td>0.76497</td></tr><tr><td>val/avg_accuracy</td><td>0.76501</td></tr><tr><td>val/avg_f1</td><td>0.76495</td></tr><tr><td>val/avg_loss</td><td>0.9054</td></tr><tr><td>val/avg_mlm_loss</td><td>1.56334</td></tr><tr><td>val/avg_taskclf_loss</td><td>0.67353</td></tr><tr><td>val/f1</td><td>0.76491</td></tr><tr><td>val/loss</td><td>0.90583</td></tr><tr><td>val/mlm_loss</td><td>1.5635</td></tr><tr><td>val/taskclf_loss</td><td>0.67406</td></tr><tr><td>val_loss</td><td>0.9054</td></tr></table><br/></div></div>"
      ],
      "text/plain": [
       "<IPython.core.display.HTML object>"
      ]
     },
     "metadata": {},
     "output_type": "display_data"
    },
    {
     "data": {
      "text/html": [
       " View run <strong style=\"color:#cdcd00\">STR_adapter_run_with_seed_42</strong> at: <a href='https://wandb.ai/mrawhani/mixed_edited/runs/yr42u2kc' target=\"_blank\">https://wandb.ai/mrawhani/mixed_edited/runs/yr42u2kc</a><br/> View project at: <a href='https://wandb.ai/mrawhani/mixed_edited' target=\"_blank\">https://wandb.ai/mrawhani/mixed_edited</a><br/>Synced 5 W&B file(s), 0 media file(s), 0 artifact file(s) and 0 other file(s)"
      ],
      "text/plain": [
       "<IPython.core.display.HTML object>"
      ]
     },
     "metadata": {},
     "output_type": "display_data"
    },
    {
     "data": {
      "text/html": [
       "Find logs at: <code>./wandb/run-20240813_134046-yr42u2kc/logs</code>"
      ],
      "text/plain": [
       "<IPython.core.display.HTML object>"
      ]
     },
     "metadata": {},
     "output_type": "display_data"
    },
    {
     "data": {
      "application/vnd.jupyter.widget-view+json": {
       "model_id": "16fcbe4934c14a0fa247abae3f3f036c",
       "version_major": 2,
       "version_minor": 0
      },
      "text/plain": [
       "VBox(children=(Label(value='Waiting for wandb.init()...\\r'), FloatProgress(value=0.011112720911235859, max=1.0…"
      ]
     },
     "metadata": {},
     "output_type": "display_data"
    },
    {
     "data": {
      "text/html": [
       "wandb version 0.17.6 is available!  To upgrade, please run:\n",
       " $ pip install wandb --upgrade"
      ],
      "text/plain": [
       "<IPython.core.display.HTML object>"
      ]
     },
     "metadata": {},
     "output_type": "display_data"
    },
    {
     "data": {
      "text/html": [
       "Tracking run with wandb version 0.17.0"
      ],
      "text/plain": [
       "<IPython.core.display.HTML object>"
      ]
     },
     "metadata": {},
     "output_type": "display_data"
    },
    {
     "data": {
      "text/html": [
       "Run data is saved locally in <code>/home/guest/Desktop/projects/third-experiments/domain_adaptation_project/mixed/government/wandb/run-20240813_145423-y7h0bik4</code>"
      ],
      "text/plain": [
       "<IPython.core.display.HTML object>"
      ]
     },
     "metadata": {},
     "output_type": "display_data"
    },
    {
     "data": {
      "text/html": [
       "Syncing run <strong><a href='https://wandb.ai/mrawhani/mixed_edited/runs/y7h0bik4' target=\"_blank\">STR_adapter_run_with_seed_10</a></strong> to <a href='https://wandb.ai/mrawhani/mixed_edited' target=\"_blank\">Weights & Biases</a> (<a href='https://wandb.me/run' target=\"_blank\">docs</a>)<br/>"
      ],
      "text/plain": [
       "<IPython.core.display.HTML object>"
      ]
     },
     "metadata": {},
     "output_type": "display_data"
    },
    {
     "data": {
      "text/html": [
       " View project at <a href='https://wandb.ai/mrawhani/mixed_edited' target=\"_blank\">https://wandb.ai/mrawhani/mixed_edited</a>"
      ],
      "text/plain": [
       "<IPython.core.display.HTML object>"
      ]
     },
     "metadata": {},
     "output_type": "display_data"
    },
    {
     "data": {
      "text/html": [
       " View run at <a href='https://wandb.ai/mrawhani/mixed_edited/runs/y7h0bik4' target=\"_blank\">https://wandb.ai/mrawhani/mixed_edited/runs/y7h0bik4</a>"
      ],
      "text/plain": [
       "<IPython.core.display.HTML object>"
      ]
     },
     "metadata": {},
     "output_type": "display_data"
    },
    {
     "name": "stderr",
     "output_type": "stream",
     "text": [
      "Seed set to 10\n",
      "/home/guest/.cache/pypoetry/virtualenvs/third-experments-xuKQSur9-py3.8/lib/python3.8/site-packages/huggingface_hub/file_download.py:1132: FutureWarning: `resume_download` is deprecated and will be removed in version 1.0.0. Downloads always resume when possible. If you want to force a new download, use `force_download=True`.\n",
      "  warnings.warn(\n"
     ]
    },
    {
     "name": "stdout",
     "output_type": "stream",
     "text": [
      "Batch size: 32\n",
      "Source genre: slate\n",
      "Target genre: travel\n",
      "Number of target samples: 69615\n",
      "Source genre: slate\n",
      "Target genre: travel\n",
      "Number of target samples: 69615\n",
      "Source dataset length: 69575\n",
      "Target dataset length: 24519\n"
     ]
    },
    {
     "name": "stderr",
     "output_type": "stream",
     "text": [
      "Some weights of BertAdapterModel were not initialized from the model checkpoint at bert-base-uncased and are newly initialized: ['heads.default.3.bias']\n",
      "You should probably TRAIN this model on a down-stream task to be able to use it for predictions and inference.\n",
      "/home/guest/.cache/pypoetry/virtualenvs/third-experments-xuKQSur9-py3.8/lib/python3.8/site-packages/torch/utils/data/dataloader.py:558: UserWarning: This DataLoader will create 16 worker processes in total. Our suggested max number of worker in current system is 12, which is smaller than what this DataLoader is going to create. Please be aware that excessive worker creation might get DataLoader running slow or even freeze, lower the worker number to avoid potential slowness/freeze if necessary.\n",
      "  warnings.warn(_create_warning_msg(\n",
      "/home/guest/.cache/pypoetry/virtualenvs/third-experments-xuKQSur9-py3.8/lib/python3.8/site-packages/lightning_fabric/connector.py:563: `precision=16` is supported for historical reasons but its usage is discouraged. Please set your precision to 16-mixed instead!\n",
      "Using 16bit Automatic Mixed Precision (AMP)\n",
      "GPU available: True (cuda), used: True\n",
      "TPU available: False, using: 0 TPU cores\n",
      "IPU available: False, using: 0 IPUs\n",
      "HPU available: False, using: 0 HPUs\n",
      "`Trainer(limit_train_batches=1.0)` was configured so 100% of the batches per epoch will be used..\n",
      "`Trainer(limit_val_batches=1.0)` was configured so 100% of the batches will be used..\n",
      "`Trainer(limit_test_batches=1.0)` was configured so 100% of the batches will be used..\n",
      "/home/guest/.cache/pypoetry/virtualenvs/third-experments-xuKQSur9-py3.8/lib/python3.8/site-packages/pytorch_lightning/loggers/wandb.py:396: There is a wandb run already in progress and newly created instances of `WandbLogger` will reuse this run. If this is not desired, call `wandb.finish()` before instantiating `WandbLogger`.\n",
      "LOCAL_RANK: 0 - CUDA_VISIBLE_DEVICES: [0]\n",
      "/home/guest/.cache/pypoetry/virtualenvs/third-experments-xuKQSur9-py3.8/lib/python3.8/site-packages/pytorch_lightning/core/optimizer.py:257: Found unsupported keys in the lr scheduler dict: {'reduce_lr_on_plateau'}. HINT: remove them from the output of `configure_optimizers`.\n",
      "\n",
      "  | Name          | Type               | Params\n",
      "-----------------------------------------------------\n",
      "0 | model         | BertAdapterModel   | 119 M \n",
      "1 | criterion     | CrossEntropyLoss   | 0     \n",
      "2 | mlm_criterion | CrossEntropyLoss   | 0     \n",
      "3 | accuracy      | MulticlassAccuracy | 0     \n",
      "4 | f1            | MulticlassF1Score  | 0     \n",
      "5 | f1_macro      | MulticlassF1Score  | 0     \n",
      "6 | softmax       | Softmax            | 0     \n",
      "-----------------------------------------------------\n",
      "9.8 M     Trainable params\n",
      "109 M     Non-trainable params\n",
      "119 M     Total params\n",
      "477.227   Total estimated model params size (MB)\n"
     ]
    },
    {
     "name": "stdout",
     "output_type": "stream",
     "text": [
      "================================================================================\n",
      "Name                     Architecture         #Param      %Param  Active   Train\n",
      "--------------------------------------------------------------------------------\n",
      "task_STR                 bottleneck          894,528       0.817       1       1\n",
      "mlm_adapter_TR           bottleneck        7,091,712       6.477       1       1\n",
      "--------------------------------------------------------------------------------\n",
      "Full model                               109,482,240     100.000               0\n",
      "================================================================================\n",
      "eee\n"
     ]
    },
    {
     "data": {
      "application/vnd.jupyter.widget-view+json": {
       "model_id": "4abc0ee1466e44f79f7582deedd91fc5",
       "version_major": 2,
       "version_minor": 0
      },
      "text/plain": [
       "Sanity Checking: |          | 0/? [00:00<?, ?it/s]"
      ]
     },
     "metadata": {},
     "output_type": "display_data"
    },
    {
     "name": "stdout",
     "output_type": "stream",
     "text": [
      "val/accuracy: 0.234375\n",
      "val/f1: 0.23654352128505707\n",
      "val/taskclf_loss: 1.1039886474609375\n",
      "val/loss: 1.2397480010986328\n",
      "val/mlm_loss: 1.6249778270721436\n"
     ]
    },
    {
     "data": {
      "application/vnd.jupyter.widget-view+json": {
       "model_id": "1ce8683e4d1a4a55a06ac6081718fee2",
       "version_major": 2,
       "version_minor": 0
      },
      "text/plain": [
       "Training: |          | 0/? [00:00<?, ?it/s]"
      ]
     },
     "metadata": {},
     "output_type": "display_data"
    },
    {
     "data": {
      "application/vnd.jupyter.widget-view+json": {
       "model_id": "8c8f56e93bf9429cb43e4b38a4dab625",
       "version_major": 2,
       "version_minor": 0
      },
      "text/plain": [
       "Validation: |          | 0/? [00:00<?, ?it/s]"
      ]
     },
     "metadata": {},
     "output_type": "display_data"
    },
    {
     "name": "stdout",
     "output_type": "stream",
     "text": [
      "val/accuracy: 0.7256687879562378\n",
      "val/f1: 0.7250904440879822\n",
      "val/taskclf_loss: 0.6489115953445435\n",
      "val/loss: 0.8920480012893677\n",
      "val/mlm_loss: 1.5819706916809082\n"
     ]
    },
    {
     "data": {
      "application/vnd.jupyter.widget-view+json": {
       "model_id": "9d96b288849744ad9001c6c367076d83",
       "version_major": 2,
       "version_minor": 0
      },
      "text/plain": [
       "Validation: |          | 0/? [00:00<?, ?it/s]"
      ]
     },
     "metadata": {},
     "output_type": "display_data"
    },
    {
     "name": "stdout",
     "output_type": "stream",
     "text": [
      "val/accuracy: 0.7458541393280029\n",
      "val/f1: 0.7462177276611328\n",
      "val/taskclf_loss: 0.6211041212081909\n",
      "val/loss: 0.8725849390029907\n",
      "val/mlm_loss: 1.5861855745315552\n"
     ]
    },
    {
     "data": {
      "application/vnd.jupyter.widget-view+json": {
       "model_id": "c4decbda984b4854a0e88bc114d1ffe9",
       "version_major": 2,
       "version_minor": 0
      },
      "text/plain": [
       "Validation: |          | 0/? [00:00<?, ?it/s]"
      ]
     },
     "metadata": {},
     "output_type": "display_data"
    },
    {
     "name": "stdout",
     "output_type": "stream",
     "text": [
      "val/accuracy: 0.7515835165977478\n",
      "val/f1: 0.7529037594795227\n",
      "val/taskclf_loss: 0.6235176920890808\n",
      "val/loss: 0.8708669543266296\n",
      "val/mlm_loss: 1.5727438926696777\n"
     ]
    },
    {
     "data": {
      "application/vnd.jupyter.widget-view+json": {
       "model_id": "b864145fb4c346deb0b066483e5e8142",
       "version_major": 2,
       "version_minor": 0
      },
      "text/plain": [
       "Validation: |          | 0/? [00:00<?, ?it/s]"
      ]
     },
     "metadata": {},
     "output_type": "display_data"
    },
    {
     "name": "stdout",
     "output_type": "stream",
     "text": [
      "val/accuracy: 0.7518417835235596\n",
      "val/f1: 0.7519688010215759\n",
      "val/taskclf_loss: 0.6457965970039368\n",
      "val/loss: 0.8853498101234436\n",
      "val/mlm_loss: 1.5651047229766846\n"
     ]
    },
    {
     "data": {
      "application/vnd.jupyter.widget-view+json": {
       "model_id": "de15e5d7a1974167a4a90492fdda4798",
       "version_major": 2,
       "version_minor": 0
      },
      "text/plain": [
       "Validation: |          | 0/? [00:00<?, ?it/s]"
      ]
     },
     "metadata": {},
     "output_type": "display_data"
    },
    {
     "name": "stdout",
     "output_type": "stream",
     "text": [
      "val/accuracy: 0.7614859342575073\n",
      "val/f1: 0.7618608474731445\n",
      "val/taskclf_loss: 0.7507979869842529\n",
      "val/loss: 0.9631682634353638\n",
      "val/mlm_loss: 1.5657892227172852\n"
     ]
    },
    {
     "data": {
      "application/vnd.jupyter.widget-view+json": {
       "model_id": "c6af460ca4d14379b064e4e557190ab3",
       "version_major": 2,
       "version_minor": 0
      },
      "text/plain": [
       "Validation: |          | 0/? [00:00<?, ?it/s]"
      ]
     },
     "metadata": {},
     "output_type": "display_data"
    },
    {
     "name": "stdout",
     "output_type": "stream",
     "text": [
      "val/accuracy: 0.7610101699829102\n",
      "val/f1: 0.7607399821281433\n",
      "val/taskclf_loss: 0.7289873361587524\n",
      "val/loss: 0.9435890913009644\n",
      "val/mlm_loss: 1.5525418519973755\n"
     ]
    },
    {
     "data": {
      "application/vnd.jupyter.widget-view+json": {
       "model_id": "208f3412a9334084ae5e6bf50c4de7ee",
       "version_major": 2,
       "version_minor": 0
      },
      "text/plain": [
       "Validation: |          | 0/? [00:00<?, ?it/s]"
      ]
     },
     "metadata": {},
     "output_type": "display_data"
    },
    {
     "name": "stdout",
     "output_type": "stream",
     "text": [
      "val/accuracy: 0.7619141340255737\n",
      "val/f1: 0.7617965340614319\n",
      "val/taskclf_loss: 0.7259319424629211\n",
      "val/loss: 0.9406719207763672\n",
      "val/mlm_loss: 1.5500168800354004\n"
     ]
    },
    {
     "data": {
      "application/vnd.jupyter.widget-view+json": {
       "model_id": "f5e53b98aee341a6b43665c1bca9f527",
       "version_major": 2,
       "version_minor": 0
      },
      "text/plain": [
       "Validation: |          | 0/? [00:00<?, ?it/s]"
      ]
     },
     "metadata": {},
     "output_type": "display_data"
    },
    {
     "name": "stdout",
     "output_type": "stream",
     "text": [
      "val/accuracy: 0.7620432376861572\n",
      "val/f1: 0.7619520425796509\n",
      "val/taskclf_loss: 0.7257725596427917\n",
      "val/loss: 0.9395610690116882\n",
      "val/mlm_loss: 1.5462064743041992\n"
     ]
    },
    {
     "data": {
      "application/vnd.jupyter.widget-view+json": {
       "model_id": "46baba6b65244753b6dd6d40cffe4238",
       "version_major": 2,
       "version_minor": 0
      },
      "text/plain": [
       "Validation: |          | 0/? [00:00<?, ?it/s]"
      ]
     },
     "metadata": {},
     "output_type": "display_data"
    },
    {
     "name": "stdout",
     "output_type": "stream",
     "text": [
      "val/accuracy: 0.762301504611969\n",
      "val/f1: 0.7622100114822388\n",
      "val/taskclf_loss: 0.7255417704582214\n",
      "val/loss: 0.9395487308502197\n",
      "val/mlm_loss: 1.546813726425171\n"
     ]
    },
    {
     "data": {
      "application/vnd.jupyter.widget-view+json": {
       "model_id": "eb36409b64bb4b509dab34eef5166dd8",
       "version_major": 2,
       "version_minor": 0
      },
      "text/plain": [
       "Validation: |          | 0/? [00:00<?, ?it/s]"
      ]
     },
     "metadata": {},
     "output_type": "display_data"
    },
    {
     "name": "stderr",
     "output_type": "stream",
     "text": [
      "`Trainer.fit` stopped: `max_epochs=10` reached.\n"
     ]
    },
    {
     "name": "stdout",
     "output_type": "stream",
     "text": [
      "val/accuracy: 0.7621724009513855\n",
      "val/f1: 0.762071967124939\n",
      "val/taskclf_loss: 0.7253279685974121\n",
      "val/loss: 0.9407249093055725\n",
      "val/mlm_loss: 1.5519342422485352\n",
      "Best checkpoint path: ./lightning_logs/y7h0bik4/checkpoints/task-STR-epoch=02-val_loss=0.87.ckpt\n",
      "Saved epoch checkpoint path: ./lightning_logs/y7h0bik4/checkpoints/STR-epoch=05.ckpt\n",
      "Source genre: slate\n",
      "Target genre: travel\n",
      "Number of target samples: 69615\n"
     ]
    },
    {
     "name": "stderr",
     "output_type": "stream",
     "text": [
      "LOCAL_RANK: 0 - CUDA_VISIBLE_DEVICES: [0]\n"
     ]
    },
    {
     "data": {
      "application/vnd.jupyter.widget-view+json": {
       "model_id": "83a046d893e14ba08c3febe0d508b203",
       "version_major": 2,
       "version_minor": 0
      },
      "text/plain": [
       "Testing: |          | 0/? [00:00<?, ?it/s]"
      ]
     },
     "metadata": {},
     "output_type": "display_data"
    },
    {
     "data": {
      "text/html": [
       "<pre style=\"white-space:pre;overflow-x:auto;line-height:normal;font-family:Menlo,'DejaVu Sans Mono',consolas,'Courier New',monospace\">┏━━━━━━━━━━━━━━━━━━━━━━━━━━━┳━━━━━━━━━━━━━━━━━━━━━━━━━━━┓\n",
       "┃<span style=\"font-weight: bold\">        Test metric        </span>┃<span style=\"font-weight: bold\">       DataLoader 0        </span>┃\n",
       "┡━━━━━━━━━━━━━━━━━━━━━━━━━━━╇━━━━━━━━━━━━━━━━━━━━━━━━━━━┩\n",
       "│<span style=\"color: #008080; text-decoration-color: #008080\">   source_test/accuracy    </span>│<span style=\"color: #800080; text-decoration-color: #800080\">    0.7446236610412598     </span>│\n",
       "│<span style=\"color: #008080; text-decoration-color: #008080\">      source_test/f1       </span>│<span style=\"color: #800080; text-decoration-color: #800080\">     0.743624746799469     </span>│\n",
       "│<span style=\"color: #008080; text-decoration-color: #008080\">   source_test/f1_macro    </span>│<span style=\"color: #800080; text-decoration-color: #800080\">     0.734000027179718     </span>│\n",
       "│<span style=\"color: #008080; text-decoration-color: #008080\">     source_test/loss      </span>│<span style=\"color: #800080; text-decoration-color: #800080\">    0.7777258157730103     </span>│\n",
       "│<span style=\"color: #008080; text-decoration-color: #008080\">   target_test/accuracy    </span>│<span style=\"color: #800080; text-decoration-color: #800080\">    0.7841061353683472     </span>│\n",
       "│<span style=\"color: #008080; text-decoration-color: #008080\">      target_test/f1       </span>│<span style=\"color: #800080; text-decoration-color: #800080\">    0.7846300601959229     </span>│\n",
       "│<span style=\"color: #008080; text-decoration-color: #008080\">   target_test/f1_macro    </span>│<span style=\"color: #800080; text-decoration-color: #800080\">    0.7748361229896545     </span>│\n",
       "│<span style=\"color: #008080; text-decoration-color: #008080\">     target_test/loss      </span>│<span style=\"color: #800080; text-decoration-color: #800080\">    0.6185091137886047     </span>│\n",
       "└───────────────────────────┴───────────────────────────┘\n",
       "</pre>\n"
      ],
      "text/plain": [
       "┏━━━━━━━━━━━━━━━━━━━━━━━━━━━┳━━━━━━━━━━━━━━━━━━━━━━━━━━━┓\n",
       "┃\u001b[1m \u001b[0m\u001b[1m       Test metric       \u001b[0m\u001b[1m \u001b[0m┃\u001b[1m \u001b[0m\u001b[1m      DataLoader 0       \u001b[0m\u001b[1m \u001b[0m┃\n",
       "┡━━━━━━━━━━━━━━━━━━━━━━━━━━━╇━━━━━━━━━━━━━━━━━━━━━━━━━━━┩\n",
       "│\u001b[36m \u001b[0m\u001b[36m  source_test/accuracy   \u001b[0m\u001b[36m \u001b[0m│\u001b[35m \u001b[0m\u001b[35m   0.7446236610412598    \u001b[0m\u001b[35m \u001b[0m│\n",
       "│\u001b[36m \u001b[0m\u001b[36m     source_test/f1      \u001b[0m\u001b[36m \u001b[0m│\u001b[35m \u001b[0m\u001b[35m    0.743624746799469    \u001b[0m\u001b[35m \u001b[0m│\n",
       "│\u001b[36m \u001b[0m\u001b[36m  source_test/f1_macro   \u001b[0m\u001b[36m \u001b[0m│\u001b[35m \u001b[0m\u001b[35m    0.734000027179718    \u001b[0m\u001b[35m \u001b[0m│\n",
       "│\u001b[36m \u001b[0m\u001b[36m    source_test/loss     \u001b[0m\u001b[36m \u001b[0m│\u001b[35m \u001b[0m\u001b[35m   0.7777258157730103    \u001b[0m\u001b[35m \u001b[0m│\n",
       "│\u001b[36m \u001b[0m\u001b[36m  target_test/accuracy   \u001b[0m\u001b[36m \u001b[0m│\u001b[35m \u001b[0m\u001b[35m   0.7841061353683472    \u001b[0m\u001b[35m \u001b[0m│\n",
       "│\u001b[36m \u001b[0m\u001b[36m     target_test/f1      \u001b[0m\u001b[36m \u001b[0m│\u001b[35m \u001b[0m\u001b[35m   0.7846300601959229    \u001b[0m\u001b[35m \u001b[0m│\n",
       "│\u001b[36m \u001b[0m\u001b[36m  target_test/f1_macro   \u001b[0m\u001b[36m \u001b[0m│\u001b[35m \u001b[0m\u001b[35m   0.7748361229896545    \u001b[0m\u001b[35m \u001b[0m│\n",
       "│\u001b[36m \u001b[0m\u001b[36m    target_test/loss     \u001b[0m\u001b[36m \u001b[0m│\u001b[35m \u001b[0m\u001b[35m   0.6185091137886047    \u001b[0m\u001b[35m \u001b[0m│\n",
       "└───────────────────────────┴───────────────────────────┘\n"
      ]
     },
     "metadata": {},
     "output_type": "display_data"
    },
    {
     "name": "stdout",
     "output_type": "stream",
     "text": [
      "Test Results Last Epoch: [{'source_test/loss': 0.7777258157730103, 'source_test/accuracy': 0.7446236610412598, 'source_test/f1': 0.743624746799469, 'source_test/f1_macro': 0.734000027179718, 'target_test/loss': 0.6185091137886047, 'target_test/accuracy': 0.7841061353683472, 'target_test/f1': 0.7846300601959229, 'target_test/f1_macro': 0.7748361229896545}]\n",
      "Best checkpoint path: ./lightning_logs/y7h0bik4/checkpoints/task-STR-epoch=02-val_loss=0.87.ckpt\n",
      "Saved epoch checkpoint path: ./lightning_logs/y7h0bik4/checkpoints/STR-epoch=05.ckpt\n"
     ]
    },
    {
     "name": "stderr",
     "output_type": "stream",
     "text": [
      "Some weights of BertAdapterModel were not initialized from the model checkpoint at bert-base-uncased and are newly initialized: ['heads.default.3.bias']\n",
      "You should probably TRAIN this model on a down-stream task to be able to use it for predictions and inference.\n"
     ]
    },
    {
     "name": "stdout",
     "output_type": "stream",
     "text": [
      "================================================================================\n",
      "Name                     Architecture         #Param      %Param  Active   Train\n",
      "--------------------------------------------------------------------------------\n",
      "task_STR                 bottleneck          894,528       0.817       1       1\n",
      "mlm_adapter_TR           bottleneck        7,091,712       6.477       1       1\n",
      "--------------------------------------------------------------------------------\n",
      "Full model                               109,482,240     100.000               0\n",
      "================================================================================\n"
     ]
    },
    {
     "name": "stderr",
     "output_type": "stream",
     "text": [
      "LOCAL_RANK: 0 - CUDA_VISIBLE_DEVICES: [0]\n"
     ]
    },
    {
     "data": {
      "application/vnd.jupyter.widget-view+json": {
       "model_id": "b9b92e5f380b4bc6bacbad8f1dedd40d",
       "version_major": 2,
       "version_minor": 0
      },
      "text/plain": [
       "Testing: |          | 0/? [00:00<?, ?it/s]"
      ]
     },
     "metadata": {},
     "output_type": "display_data"
    },
    {
     "data": {
      "text/html": [
       "<pre style=\"white-space:pre;overflow-x:auto;line-height:normal;font-family:Menlo,'DejaVu Sans Mono',consolas,'Courier New',monospace\">┏━━━━━━━━━━━━━━━━━━━━━━━━━━━┳━━━━━━━━━━━━━━━━━━━━━━━━━━━┓\n",
       "┃<span style=\"font-weight: bold\">        Test metric        </span>┃<span style=\"font-weight: bold\">       DataLoader 0        </span>┃\n",
       "┡━━━━━━━━━━━━━━━━━━━━━━━━━━━╇━━━━━━━━━━━━━━━━━━━━━━━━━━━┩\n",
       "│<span style=\"color: #008080; text-decoration-color: #008080\">   source_test/accuracy    </span>│<span style=\"color: #800080; text-decoration-color: #800080\">    0.7399193048477173     </span>│\n",
       "│<span style=\"color: #008080; text-decoration-color: #008080\">      source_test/f1       </span>│<span style=\"color: #800080; text-decoration-color: #800080\">    0.7398250699043274     </span>│\n",
       "│<span style=\"color: #008080; text-decoration-color: #008080\">   source_test/f1_macro    </span>│<span style=\"color: #800080; text-decoration-color: #800080\">     0.727566123008728     </span>│\n",
       "│<span style=\"color: #008080; text-decoration-color: #008080\">     source_test/loss      </span>│<span style=\"color: #800080; text-decoration-color: #800080\">    0.6624234318733215     </span>│\n",
       "│<span style=\"color: #008080; text-decoration-color: #008080\">   target_test/accuracy    </span>│<span style=\"color: #800080; text-decoration-color: #800080\">    0.7738575339317322     </span>│\n",
       "│<span style=\"color: #008080; text-decoration-color: #008080\">      target_test/f1       </span>│<span style=\"color: #800080; text-decoration-color: #800080\">    0.7755113244056702     </span>│\n",
       "│<span style=\"color: #008080; text-decoration-color: #008080\">   target_test/f1_macro    </span>│<span style=\"color: #800080; text-decoration-color: #800080\">    0.7626182436943054     </span>│\n",
       "│<span style=\"color: #008080; text-decoration-color: #008080\">     target_test/loss      </span>│<span style=\"color: #800080; text-decoration-color: #800080\">     0.552638828754425     </span>│\n",
       "└───────────────────────────┴───────────────────────────┘\n",
       "</pre>\n"
      ],
      "text/plain": [
       "┏━━━━━━━━━━━━━━━━━━━━━━━━━━━┳━━━━━━━━━━━━━━━━━━━━━━━━━━━┓\n",
       "┃\u001b[1m \u001b[0m\u001b[1m       Test metric       \u001b[0m\u001b[1m \u001b[0m┃\u001b[1m \u001b[0m\u001b[1m      DataLoader 0       \u001b[0m\u001b[1m \u001b[0m┃\n",
       "┡━━━━━━━━━━━━━━━━━━━━━━━━━━━╇━━━━━━━━━━━━━━━━━━━━━━━━━━━┩\n",
       "│\u001b[36m \u001b[0m\u001b[36m  source_test/accuracy   \u001b[0m\u001b[36m \u001b[0m│\u001b[35m \u001b[0m\u001b[35m   0.7399193048477173    \u001b[0m\u001b[35m \u001b[0m│\n",
       "│\u001b[36m \u001b[0m\u001b[36m     source_test/f1      \u001b[0m\u001b[36m \u001b[0m│\u001b[35m \u001b[0m\u001b[35m   0.7398250699043274    \u001b[0m\u001b[35m \u001b[0m│\n",
       "│\u001b[36m \u001b[0m\u001b[36m  source_test/f1_macro   \u001b[0m\u001b[36m \u001b[0m│\u001b[35m \u001b[0m\u001b[35m    0.727566123008728    \u001b[0m\u001b[35m \u001b[0m│\n",
       "│\u001b[36m \u001b[0m\u001b[36m    source_test/loss     \u001b[0m\u001b[36m \u001b[0m│\u001b[35m \u001b[0m\u001b[35m   0.6624234318733215    \u001b[0m\u001b[35m \u001b[0m│\n",
       "│\u001b[36m \u001b[0m\u001b[36m  target_test/accuracy   \u001b[0m\u001b[36m \u001b[0m│\u001b[35m \u001b[0m\u001b[35m   0.7738575339317322    \u001b[0m\u001b[35m \u001b[0m│\n",
       "│\u001b[36m \u001b[0m\u001b[36m     target_test/f1      \u001b[0m\u001b[36m \u001b[0m│\u001b[35m \u001b[0m\u001b[35m   0.7755113244056702    \u001b[0m\u001b[35m \u001b[0m│\n",
       "│\u001b[36m \u001b[0m\u001b[36m  target_test/f1_macro   \u001b[0m\u001b[36m \u001b[0m│\u001b[35m \u001b[0m\u001b[35m   0.7626182436943054    \u001b[0m\u001b[35m \u001b[0m│\n",
       "│\u001b[36m \u001b[0m\u001b[36m    target_test/loss     \u001b[0m\u001b[36m \u001b[0m│\u001b[35m \u001b[0m\u001b[35m    0.552638828754425    \u001b[0m\u001b[35m \u001b[0m│\n",
       "└───────────────────────────┴───────────────────────────┘\n"
      ]
     },
     "metadata": {},
     "output_type": "display_data"
    },
    {
     "name": "stdout",
     "output_type": "stream",
     "text": [
      "Test Results on Best Model: [{'source_test/loss': 0.6624234318733215, 'source_test/accuracy': 0.7399193048477173, 'source_test/f1': 0.7398250699043274, 'source_test/f1_macro': 0.727566123008728, 'target_test/loss': 0.552638828754425, 'target_test/accuracy': 0.7738575339317322, 'target_test/f1': 0.7755113244056702, 'target_test/f1_macro': 0.7626182436943054}]\n"
     ]
    },
    {
     "name": "stderr",
     "output_type": "stream",
     "text": [
      "Some weights of BertAdapterModel were not initialized from the model checkpoint at bert-base-uncased and are newly initialized: ['heads.default.3.bias']\n",
      "You should probably TRAIN this model on a down-stream task to be able to use it for predictions and inference.\n"
     ]
    },
    {
     "name": "stdout",
     "output_type": "stream",
     "text": [
      "================================================================================\n",
      "Name                     Architecture         #Param      %Param  Active   Train\n",
      "--------------------------------------------------------------------------------\n",
      "task_STR                 bottleneck          894,528       0.817       1       1\n",
      "mlm_adapter_TR           bottleneck        7,091,712       6.477       1       1\n",
      "--------------------------------------------------------------------------------\n",
      "Full model                               109,482,240     100.000               0\n",
      "================================================================================\n"
     ]
    },
    {
     "name": "stderr",
     "output_type": "stream",
     "text": [
      "LOCAL_RANK: 0 - CUDA_VISIBLE_DEVICES: [0]\n"
     ]
    },
    {
     "data": {
      "application/vnd.jupyter.widget-view+json": {
       "model_id": "1a97db0645e24a2ea873b138f9298f73",
       "version_major": 2,
       "version_minor": 0
      },
      "text/plain": [
       "Testing: |          | 0/? [00:00<?, ?it/s]"
      ]
     },
     "metadata": {},
     "output_type": "display_data"
    },
    {
     "data": {
      "text/html": [
       "<pre style=\"white-space:pre;overflow-x:auto;line-height:normal;font-family:Menlo,'DejaVu Sans Mono',consolas,'Courier New',monospace\">┏━━━━━━━━━━━━━━━━━━━━━━━━━━━┳━━━━━━━━━━━━━━━━━━━━━━━━━━━┓\n",
       "┃<span style=\"font-weight: bold\">        Test metric        </span>┃<span style=\"font-weight: bold\">       DataLoader 0        </span>┃\n",
       "┡━━━━━━━━━━━━━━━━━━━━━━━━━━━╇━━━━━━━━━━━━━━━━━━━━━━━━━━━┩\n",
       "│<span style=\"color: #008080; text-decoration-color: #008080\">   source_test/accuracy    </span>│<span style=\"color: #800080; text-decoration-color: #800080\">    0.7456316947937012     </span>│\n",
       "│<span style=\"color: #008080; text-decoration-color: #008080\">      source_test/f1       </span>│<span style=\"color: #800080; text-decoration-color: #800080\">    0.7446166276931763     </span>│\n",
       "│<span style=\"color: #008080; text-decoration-color: #008080\">   source_test/f1_macro    </span>│<span style=\"color: #800080; text-decoration-color: #800080\">    0.7349688410758972     </span>│\n",
       "│<span style=\"color: #008080; text-decoration-color: #008080\">     source_test/loss      </span>│<span style=\"color: #800080; text-decoration-color: #800080\">    0.7845600247383118     </span>│\n",
       "│<span style=\"color: #008080; text-decoration-color: #008080\">   target_test/accuracy    </span>│<span style=\"color: #800080; text-decoration-color: #800080\">    0.7841061353683472     </span>│\n",
       "│<span style=\"color: #008080; text-decoration-color: #008080\">      target_test/f1       </span>│<span style=\"color: #800080; text-decoration-color: #800080\">    0.7845883369445801     </span>│\n",
       "│<span style=\"color: #008080; text-decoration-color: #008080\">   target_test/f1_macro    </span>│<span style=\"color: #800080; text-decoration-color: #800080\">    0.7746967077255249     </span>│\n",
       "│<span style=\"color: #008080; text-decoration-color: #008080\">     target_test/loss      </span>│<span style=\"color: #800080; text-decoration-color: #800080\">    0.6241379976272583     </span>│\n",
       "└───────────────────────────┴───────────────────────────┘\n",
       "</pre>\n"
      ],
      "text/plain": [
       "┏━━━━━━━━━━━━━━━━━━━━━━━━━━━┳━━━━━━━━━━━━━━━━━━━━━━━━━━━┓\n",
       "┃\u001b[1m \u001b[0m\u001b[1m       Test metric       \u001b[0m\u001b[1m \u001b[0m┃\u001b[1m \u001b[0m\u001b[1m      DataLoader 0       \u001b[0m\u001b[1m \u001b[0m┃\n",
       "┡━━━━━━━━━━━━━━━━━━━━━━━━━━━╇━━━━━━━━━━━━━━━━━━━━━━━━━━━┩\n",
       "│\u001b[36m \u001b[0m\u001b[36m  source_test/accuracy   \u001b[0m\u001b[36m \u001b[0m│\u001b[35m \u001b[0m\u001b[35m   0.7456316947937012    \u001b[0m\u001b[35m \u001b[0m│\n",
       "│\u001b[36m \u001b[0m\u001b[36m     source_test/f1      \u001b[0m\u001b[36m \u001b[0m│\u001b[35m \u001b[0m\u001b[35m   0.7446166276931763    \u001b[0m\u001b[35m \u001b[0m│\n",
       "│\u001b[36m \u001b[0m\u001b[36m  source_test/f1_macro   \u001b[0m\u001b[36m \u001b[0m│\u001b[35m \u001b[0m\u001b[35m   0.7349688410758972    \u001b[0m\u001b[35m \u001b[0m│\n",
       "│\u001b[36m \u001b[0m\u001b[36m    source_test/loss     \u001b[0m\u001b[36m \u001b[0m│\u001b[35m \u001b[0m\u001b[35m   0.7845600247383118    \u001b[0m\u001b[35m \u001b[0m│\n",
       "│\u001b[36m \u001b[0m\u001b[36m  target_test/accuracy   \u001b[0m\u001b[36m \u001b[0m│\u001b[35m \u001b[0m\u001b[35m   0.7841061353683472    \u001b[0m\u001b[35m \u001b[0m│\n",
       "│\u001b[36m \u001b[0m\u001b[36m     target_test/f1      \u001b[0m\u001b[36m \u001b[0m│\u001b[35m \u001b[0m\u001b[35m   0.7845883369445801    \u001b[0m\u001b[35m \u001b[0m│\n",
       "│\u001b[36m \u001b[0m\u001b[36m  target_test/f1_macro   \u001b[0m\u001b[36m \u001b[0m│\u001b[35m \u001b[0m\u001b[35m   0.7746967077255249    \u001b[0m\u001b[35m \u001b[0m│\n",
       "│\u001b[36m \u001b[0m\u001b[36m    target_test/loss     \u001b[0m\u001b[36m \u001b[0m│\u001b[35m \u001b[0m\u001b[35m   0.6241379976272583    \u001b[0m\u001b[35m \u001b[0m│\n",
       "└───────────────────────────┴───────────────────────────┘\n"
      ]
     },
     "metadata": {},
     "output_type": "display_data"
    },
    {
     "name": "stdout",
     "output_type": "stream",
     "text": [
      "Test Results on saved epoch: [{'source_test/loss': 0.7845600247383118, 'source_test/accuracy': 0.7456316947937012, 'source_test/f1': 0.7446166276931763, 'source_test/f1_macro': 0.7349688410758972, 'target_test/loss': 0.6241379976272583, 'target_test/accuracy': 0.7841061353683472, 'target_test/f1': 0.7845883369445801, 'target_test/f1_macro': 0.7746967077255249}]\n"
     ]
    },
    {
     "data": {
      "application/vnd.jupyter.widget-view+json": {
       "model_id": "47906c080f9c4c38b455fcdcb898d800",
       "version_major": 2,
       "version_minor": 0
      },
      "text/plain": [
       "VBox(children=(Label(value='0.002 MB of 0.018 MB uploaded\\r'), FloatProgress(value=0.13787095017696704, max=1.…"
      ]
     },
     "metadata": {},
     "output_type": "display_data"
    },
    {
     "data": {
      "text/html": [
       "<style>\n",
       "    table.wandb td:nth-child(1) { padding: 0 10px; text-align: left ; width: auto;} td:nth-child(2) {text-align: left ; width: 100%}\n",
       "    .wandb-row { display: flex; flex-direction: row; flex-wrap: wrap; justify-content: flex-start; width: 100% }\n",
       "    .wandb-col { display: flex; flex-direction: column; flex-basis: 100%; flex: 1; padding: 10px; }\n",
       "    </style>\n",
       "<div class=\"wandb-row\"><div class=\"wandb-col\"><h3>Run history:</h3><br/><table class=\"wandb\"><tr><td>epoch</td><td>▁▁▁▁▂▂▂▂▂▂▂▂▃▃▃▃▄▄▄▄▅▅▅▅▅▅▅▅▆▆▆▆▇▇▇▇▇▇▇█</td></tr><tr><td>source_test/accuracy</td><td>▇▁█</td></tr><tr><td>source_test/f1</td><td>▇▁█</td></tr><tr><td>source_test/f1_macro</td><td>▇▁█</td></tr><tr><td>source_test/loss</td><td>█▁█</td></tr><tr><td>target_test/accuracy</td><td>█▁█</td></tr><tr><td>target_test/f1</td><td>█▁█</td></tr><tr><td>target_test/f1_macro</td><td>█▁█</td></tr><tr><td>target_test/loss</td><td>▇▁█</td></tr><tr><td>train/accuracy</td><td>▁▃▃▃▂▄▄▃▄▅▄▅▃▅▂▄▆▆▆▅▆▆▃▆▅▇▃█▆▅▆▇▃▆█▆▄▆▇▇</td></tr><tr><td>train/f1</td><td>▁▃▃▂▁▄▄▂▄▄▄▄▃▄▂▄▆▆▆▄▆▆▃▆▄▇▃█▆▅▆▇▃▆█▆▄▆▇▇</td></tr><tr><td>train/loss</td><td>█▆▅█▇▅▆▅▆▄▅▅▅▄█▅▃▂▃▄▄▂▇▂▄▂▅▁▄▃▂▃▅▃▁▃▅▃▂▃</td></tr><tr><td>train/mlm_loss</td><td>▄▅▄▄▃▅█▅▆▅▄▅▅▃▃▅▄▂▄▁▄▄▅▃▂▅▅▄▃▅▃▄▃▃▂▄▇▃▅▅</td></tr><tr><td>train/taskclf_loss</td><td>█▅▅█▇▅▅▅▆▄▅▅▅▄█▅▃▃▃▄▄▂▇▂▄▂▅▁▄▃▂▃▅▃▁▃▄▃▁▂</td></tr><tr><td>trainer/global_step</td><td>▁▁▁▂▂▂▂▂▂▃▃▃▃▃▃▄▄▄▄▄▅▅▅▅▅▆▆▆▆▆▆▇▇▇▇▇▇███</td></tr><tr><td>val/accuracy</td><td>▁▅▆▆██████</td></tr><tr><td>val/avg_accuracy</td><td>▁▅▆▆██████</td></tr><tr><td>val/avg_f1</td><td>▁▅▆▆██████</td></tr><tr><td>val/avg_loss</td><td>▃▁▁▂█▇▆▆▆▆</td></tr><tr><td>val/avg_mlm_loss</td><td>▇█▆▄▄▂▂▁▁▂</td></tr><tr><td>val/avg_taskclf_loss</td><td>▃▁▁▂█▇▇▇▇▇</td></tr><tr><td>val/f1</td><td>▁▅▆▆██████</td></tr><tr><td>val/loss</td><td>▃▁▁▂█▇▆▆▆▆</td></tr><tr><td>val/mlm_loss</td><td>▇█▆▄▅▂▂▁▁▂</td></tr><tr><td>val/taskclf_loss</td><td>▂▁▁▂█▇▇▇▇▇</td></tr><tr><td>val_loss</td><td>▃▁▁▂█▇▆▆▆▆</td></tr></table><br/></div><div class=\"wandb-col\"><h3>Run summary:</h3><br/><table class=\"wandb\"><tr><td>epoch</td><td>10</td></tr><tr><td>source_test/accuracy</td><td>0.74563</td></tr><tr><td>source_test/f1</td><td>0.74462</td></tr><tr><td>source_test/f1_macro</td><td>0.73497</td></tr><tr><td>source_test/loss</td><td>0.78456</td></tr><tr><td>target_test/accuracy</td><td>0.78411</td></tr><tr><td>target_test/f1</td><td>0.78459</td></tr><tr><td>target_test/f1_macro</td><td>0.7747</td></tr><tr><td>target_test/loss</td><td>0.62414</td></tr><tr><td>train/accuracy</td><td>1.0</td></tr><tr><td>train/f1</td><td>1.0</td></tr><tr><td>train/loss</td><td>0.39787</td></tr><tr><td>train/mlm_loss</td><td>1.44761</td></tr><tr><td>train/taskclf_loss</td><td>0.02793</td></tr><tr><td>trainer/global_step</td><td>21750</td></tr><tr><td>val/accuracy</td><td>0.76213</td></tr><tr><td>val/avg_accuracy</td><td>0.76217</td></tr><tr><td>val/avg_f1</td><td>0.76207</td></tr><tr><td>val/avg_loss</td><td>0.94072</td></tr><tr><td>val/avg_mlm_loss</td><td>1.55193</td></tr><tr><td>val/avg_taskclf_loss</td><td>0.72533</td></tr><tr><td>val/f1</td><td>0.76203</td></tr><tr><td>val/loss</td><td>0.94111</td></tr><tr><td>val/mlm_loss</td><td>1.55186</td></tr><tr><td>val/taskclf_loss</td><td>0.72587</td></tr><tr><td>val_loss</td><td>0.94072</td></tr></table><br/></div></div>"
      ],
      "text/plain": [
       "<IPython.core.display.HTML object>"
      ]
     },
     "metadata": {},
     "output_type": "display_data"
    },
    {
     "data": {
      "text/html": [
       " View run <strong style=\"color:#cdcd00\">STR_adapter_run_with_seed_10</strong> at: <a href='https://wandb.ai/mrawhani/mixed_edited/runs/y7h0bik4' target=\"_blank\">https://wandb.ai/mrawhani/mixed_edited/runs/y7h0bik4</a><br/> View project at: <a href='https://wandb.ai/mrawhani/mixed_edited' target=\"_blank\">https://wandb.ai/mrawhani/mixed_edited</a><br/>Synced 5 W&B file(s), 0 media file(s), 0 artifact file(s) and 0 other file(s)"
      ],
      "text/plain": [
       "<IPython.core.display.HTML object>"
      ]
     },
     "metadata": {},
     "output_type": "display_data"
    },
    {
     "data": {
      "text/html": [
       "Find logs at: <code>./wandb/run-20240813_145423-y7h0bik4/logs</code>"
      ],
      "text/plain": [
       "<IPython.core.display.HTML object>"
      ]
     },
     "metadata": {},
     "output_type": "display_data"
    },
    {
     "data": {
      "application/vnd.jupyter.widget-view+json": {
       "model_id": "419a7968f3804ef58f6dfd677f2d1ca3",
       "version_major": 2,
       "version_minor": 0
      },
      "text/plain": [
       "VBox(children=(Label(value='Waiting for wandb.init()...\\r'), FloatProgress(value=0.011112770144568964, max=1.0…"
      ]
     },
     "metadata": {},
     "output_type": "display_data"
    },
    {
     "data": {
      "text/html": [
       "wandb version 0.17.6 is available!  To upgrade, please run:\n",
       " $ pip install wandb --upgrade"
      ],
      "text/plain": [
       "<IPython.core.display.HTML object>"
      ]
     },
     "metadata": {},
     "output_type": "display_data"
    },
    {
     "data": {
      "text/html": [
       "Tracking run with wandb version 0.17.0"
      ],
      "text/plain": [
       "<IPython.core.display.HTML object>"
      ]
     },
     "metadata": {},
     "output_type": "display_data"
    },
    {
     "data": {
      "text/html": [
       "Run data is saved locally in <code>/home/guest/Desktop/projects/third-experiments/domain_adaptation_project/mixed/government/wandb/run-20240813_160831-6oobg6kj</code>"
      ],
      "text/plain": [
       "<IPython.core.display.HTML object>"
      ]
     },
     "metadata": {},
     "output_type": "display_data"
    },
    {
     "data": {
      "text/html": [
       "Syncing run <strong><a href='https://wandb.ai/mrawhani/mixed_edited/runs/6oobg6kj' target=\"_blank\">STR_adapter_run_with_seed_100</a></strong> to <a href='https://wandb.ai/mrawhani/mixed_edited' target=\"_blank\">Weights & Biases</a> (<a href='https://wandb.me/run' target=\"_blank\">docs</a>)<br/>"
      ],
      "text/plain": [
       "<IPython.core.display.HTML object>"
      ]
     },
     "metadata": {},
     "output_type": "display_data"
    },
    {
     "data": {
      "text/html": [
       " View project at <a href='https://wandb.ai/mrawhani/mixed_edited' target=\"_blank\">https://wandb.ai/mrawhani/mixed_edited</a>"
      ],
      "text/plain": [
       "<IPython.core.display.HTML object>"
      ]
     },
     "metadata": {},
     "output_type": "display_data"
    },
    {
     "data": {
      "text/html": [
       " View run at <a href='https://wandb.ai/mrawhani/mixed_edited/runs/6oobg6kj' target=\"_blank\">https://wandb.ai/mrawhani/mixed_edited/runs/6oobg6kj</a>"
      ],
      "text/plain": [
       "<IPython.core.display.HTML object>"
      ]
     },
     "metadata": {},
     "output_type": "display_data"
    },
    {
     "name": "stderr",
     "output_type": "stream",
     "text": [
      "Seed set to 100\n",
      "/home/guest/.cache/pypoetry/virtualenvs/third-experments-xuKQSur9-py3.8/lib/python3.8/site-packages/huggingface_hub/file_download.py:1132: FutureWarning: `resume_download` is deprecated and will be removed in version 1.0.0. Downloads always resume when possible. If you want to force a new download, use `force_download=True`.\n",
      "  warnings.warn(\n"
     ]
    },
    {
     "name": "stdout",
     "output_type": "stream",
     "text": [
      "Batch size: 32\n",
      "Source genre: slate\n",
      "Target genre: travel\n",
      "Number of target samples: 69615\n",
      "Source genre: slate\n",
      "Target genre: travel\n",
      "Number of target samples: 69615\n",
      "Source dataset length: 69575\n",
      "Target dataset length: 24519\n"
     ]
    },
    {
     "name": "stderr",
     "output_type": "stream",
     "text": [
      "Some weights of BertAdapterModel were not initialized from the model checkpoint at bert-base-uncased and are newly initialized: ['heads.default.3.bias']\n",
      "You should probably TRAIN this model on a down-stream task to be able to use it for predictions and inference.\n",
      "/home/guest/.cache/pypoetry/virtualenvs/third-experments-xuKQSur9-py3.8/lib/python3.8/site-packages/torch/utils/data/dataloader.py:558: UserWarning: This DataLoader will create 16 worker processes in total. Our suggested max number of worker in current system is 12, which is smaller than what this DataLoader is going to create. Please be aware that excessive worker creation might get DataLoader running slow or even freeze, lower the worker number to avoid potential slowness/freeze if necessary.\n",
      "  warnings.warn(_create_warning_msg(\n",
      "/home/guest/.cache/pypoetry/virtualenvs/third-experments-xuKQSur9-py3.8/lib/python3.8/site-packages/lightning_fabric/connector.py:563: `precision=16` is supported for historical reasons but its usage is discouraged. Please set your precision to 16-mixed instead!\n",
      "Using 16bit Automatic Mixed Precision (AMP)\n",
      "GPU available: True (cuda), used: True\n",
      "TPU available: False, using: 0 TPU cores\n",
      "IPU available: False, using: 0 IPUs\n",
      "HPU available: False, using: 0 HPUs\n",
      "`Trainer(limit_train_batches=1.0)` was configured so 100% of the batches per epoch will be used..\n",
      "`Trainer(limit_val_batches=1.0)` was configured so 100% of the batches will be used..\n",
      "`Trainer(limit_test_batches=1.0)` was configured so 100% of the batches will be used..\n",
      "/home/guest/.cache/pypoetry/virtualenvs/third-experments-xuKQSur9-py3.8/lib/python3.8/site-packages/pytorch_lightning/loggers/wandb.py:396: There is a wandb run already in progress and newly created instances of `WandbLogger` will reuse this run. If this is not desired, call `wandb.finish()` before instantiating `WandbLogger`.\n",
      "LOCAL_RANK: 0 - CUDA_VISIBLE_DEVICES: [0]\n",
      "/home/guest/.cache/pypoetry/virtualenvs/third-experments-xuKQSur9-py3.8/lib/python3.8/site-packages/pytorch_lightning/core/optimizer.py:257: Found unsupported keys in the lr scheduler dict: {'reduce_lr_on_plateau'}. HINT: remove them from the output of `configure_optimizers`.\n",
      "\n",
      "  | Name          | Type               | Params\n",
      "-----------------------------------------------------\n",
      "0 | model         | BertAdapterModel   | 119 M \n",
      "1 | criterion     | CrossEntropyLoss   | 0     \n",
      "2 | mlm_criterion | CrossEntropyLoss   | 0     \n",
      "3 | accuracy      | MulticlassAccuracy | 0     \n",
      "4 | f1            | MulticlassF1Score  | 0     \n",
      "5 | f1_macro      | MulticlassF1Score  | 0     \n",
      "6 | softmax       | Softmax            | 0     \n",
      "-----------------------------------------------------\n",
      "9.8 M     Trainable params\n",
      "109 M     Non-trainable params\n",
      "119 M     Total params\n",
      "477.227   Total estimated model params size (MB)\n"
     ]
    },
    {
     "name": "stdout",
     "output_type": "stream",
     "text": [
      "================================================================================\n",
      "Name                     Architecture         #Param      %Param  Active   Train\n",
      "--------------------------------------------------------------------------------\n",
      "task_STR                 bottleneck          894,528       0.817       1       1\n",
      "mlm_adapter_TR           bottleneck        7,091,712       6.477       1       1\n",
      "--------------------------------------------------------------------------------\n",
      "Full model                               109,482,240     100.000               0\n",
      "================================================================================\n",
      "eee\n"
     ]
    },
    {
     "data": {
      "application/vnd.jupyter.widget-view+json": {
       "model_id": "c23b9026ced64608b2921b6d002606b7",
       "version_major": 2,
       "version_minor": 0
      },
      "text/plain": [
       "Sanity Checking: |          | 0/? [00:00<?, ?it/s]"
      ]
     },
     "metadata": {},
     "output_type": "display_data"
    },
    {
     "name": "stdout",
     "output_type": "stream",
     "text": [
      "val/accuracy: 0.234375\n",
      "val/f1: 0.25246700644493103\n",
      "val/taskclf_loss: 1.108917236328125\n",
      "val/loss: 1.2682106494903564\n",
      "val/mlm_loss: 1.7202204465866089\n"
     ]
    },
    {
     "data": {
      "application/vnd.jupyter.widget-view+json": {
       "model_id": "88633b6b6ab9487097b2d817c379f4aa",
       "version_major": 2,
       "version_minor": 0
      },
      "text/plain": [
       "Training: |          | 0/? [00:00<?, ?it/s]"
      ]
     },
     "metadata": {},
     "output_type": "display_data"
    },
    {
     "data": {
      "application/vnd.jupyter.widget-view+json": {
       "model_id": "5925a5e928b04e92a273cd68ad3cab95",
       "version_major": 2,
       "version_minor": 0
      },
      "text/plain": [
       "Validation: |          | 0/? [00:00<?, ?it/s]"
      ]
     },
     "metadata": {},
     "output_type": "display_data"
    },
    {
     "name": "stdout",
     "output_type": "stream",
     "text": [
      "val/accuracy: 0.7255396246910095\n",
      "val/f1: 0.7261731624603271\n",
      "val/taskclf_loss: 0.6477411389350891\n",
      "val/loss: 0.8883228898048401\n",
      "val/mlm_loss: 1.5709964036941528\n"
     ]
    },
    {
     "data": {
      "application/vnd.jupyter.widget-view+json": {
       "model_id": "a08dd261c28f4f29ad06629309f8df04",
       "version_major": 2,
       "version_minor": 0
      },
      "text/plain": [
       "Validation: |          | 0/? [00:00<?, ?it/s]"
      ]
     },
     "metadata": {},
     "output_type": "display_data"
    },
    {
     "name": "stdout",
     "output_type": "stream",
     "text": [
      "val/accuracy: 0.7426258325576782\n",
      "val/f1: 0.743028998374939\n",
      "val/taskclf_loss: 0.618272066116333\n",
      "val/loss: 0.8671191334724426\n",
      "val/mlm_loss: 1.5732462406158447\n"
     ]
    },
    {
     "data": {
      "application/vnd.jupyter.widget-view+json": {
       "model_id": "1ab55171c4fd47f9bf8ca682f3a09457",
       "version_major": 2,
       "version_minor": 0
      },
      "text/plain": [
       "Validation: |          | 0/? [00:00<?, ?it/s]"
      ]
     },
     "metadata": {},
     "output_type": "display_data"
    },
    {
     "name": "stdout",
     "output_type": "stream",
     "text": [
      "val/accuracy: 0.7504213452339172\n",
      "val/f1: 0.7501412034034729\n",
      "val/taskclf_loss: 0.6385982036590576\n",
      "val/loss: 0.8860843181610107\n",
      "val/mlm_loss: 1.5883495807647705\n"
     ]
    },
    {
     "data": {
      "application/vnd.jupyter.widget-view+json": {
       "model_id": "09ea1e7405a542c0b31e8667dff3a2b3",
       "version_major": 2,
       "version_minor": 0
      },
      "text/plain": [
       "Validation: |          | 0/? [00:00<?, ?it/s]"
      ]
     },
     "metadata": {},
     "output_type": "display_data"
    },
    {
     "name": "stdout",
     "output_type": "stream",
     "text": [
      "val/accuracy: 0.7579517960548401\n",
      "val/f1: 0.758622944355011\n",
      "val/taskclf_loss: 0.6985327005386353\n",
      "val/loss: 0.9235091805458069\n",
      "val/mlm_loss: 1.561901330947876\n"
     ]
    },
    {
     "data": {
      "application/vnd.jupyter.widget-view+json": {
       "model_id": "626c48939a3544b2844926f55081df23",
       "version_major": 2,
       "version_minor": 0
      },
      "text/plain": [
       "Validation: |          | 0/? [00:00<?, ?it/s]"
      ]
     },
     "metadata": {},
     "output_type": "display_data"
    },
    {
     "name": "stdout",
     "output_type": "stream",
     "text": [
      "val/accuracy: 0.7615267038345337\n",
      "val/f1: 0.7611809372901917\n",
      "val/taskclf_loss: 0.6804635524749756\n",
      "val/loss: 0.9076746702194214\n",
      "val/mlm_loss: 1.5524077415466309\n"
     ]
    },
    {
     "data": {
      "application/vnd.jupyter.widget-view+json": {
       "model_id": "1655d97cae8c48ddb987bf0d4579e66b",
       "version_major": 2,
       "version_minor": 0
      },
      "text/plain": [
       "Validation: |          | 0/? [00:00<?, ?it/s]"
      ]
     },
     "metadata": {},
     "output_type": "display_data"
    },
    {
     "name": "stdout",
     "output_type": "stream",
     "text": [
      "val/accuracy: 0.762688934803009\n",
      "val/f1: 0.7624595761299133\n",
      "val/taskclf_loss: 0.6774281859397888\n",
      "val/loss: 0.9055944681167603\n",
      "val/mlm_loss: 1.5530380010604858\n"
     ]
    },
    {
     "data": {
      "application/vnd.jupyter.widget-view+json": {
       "model_id": "3678764bbf2c4dbf86016c3c3a6e2326",
       "version_major": 2,
       "version_minor": 0
      },
      "text/plain": [
       "Validation: |          | 0/? [00:00<?, ?it/s]"
      ]
     },
     "metadata": {},
     "output_type": "display_data"
    },
    {
     "name": "stdout",
     "output_type": "stream",
     "text": [
      "val/accuracy: 0.7630763053894043\n",
      "val/f1: 0.7628254294395447\n",
      "val/taskclf_loss: 0.6771578788757324\n",
      "val/loss: 0.9066040515899658\n",
      "val/mlm_loss: 1.5576794147491455\n"
     ]
    },
    {
     "data": {
      "application/vnd.jupyter.widget-view+json": {
       "model_id": "1e4d639881fa442ebc5b9054ee605aa6",
       "version_major": 2,
       "version_minor": 0
      },
      "text/plain": [
       "Validation: |          | 0/? [00:00<?, ?it/s]"
      ]
     },
     "metadata": {},
     "output_type": "display_data"
    },
    {
     "name": "stdout",
     "output_type": "stream",
     "text": [
      "val/accuracy: 0.7628180384635925\n",
      "val/f1: 0.7625654935836792\n",
      "val/taskclf_loss: 0.6768810153007507\n",
      "val/loss: 0.9067729711532593\n",
      "val/mlm_loss: 1.5591133832931519\n"
     ]
    },
    {
     "data": {
      "application/vnd.jupyter.widget-view+json": {
       "model_id": "2bf8a1b447c649c5999f3c20bfe264a6",
       "version_major": 2,
       "version_minor": 0
      },
      "text/plain": [
       "Validation: |          | 0/? [00:00<?, ?it/s]"
      ]
     },
     "metadata": {},
     "output_type": "display_data"
    },
    {
     "name": "stdout",
     "output_type": "stream",
     "text": [
      "val/accuracy: 0.7630763053894043\n",
      "val/f1: 0.7628439664840698\n",
      "val/taskclf_loss: 0.6766652464866638\n",
      "val/loss: 0.9080471992492676\n",
      "val/mlm_loss: 1.5646154880523682\n"
     ]
    },
    {
     "data": {
      "application/vnd.jupyter.widget-view+json": {
       "model_id": "1fbf718709744671aaead73924c9fb71",
       "version_major": 2,
       "version_minor": 0
      },
      "text/plain": [
       "Validation: |          | 0/? [00:00<?, ?it/s]"
      ]
     },
     "metadata": {},
     "output_type": "display_data"
    },
    {
     "name": "stderr",
     "output_type": "stream",
     "text": [
      "`Trainer.fit` stopped: `max_epochs=10` reached.\n"
     ]
    },
    {
     "name": "stdout",
     "output_type": "stream",
     "text": [
      "val/accuracy: 0.7629472017288208\n",
      "val/f1: 0.7627230286598206\n",
      "val/taskclf_loss: 0.6764513254165649\n",
      "val/loss: 0.9005722403526306\n",
      "val/mlm_loss: 1.536536693572998\n",
      "Best checkpoint path: ./lightning_logs/6oobg6kj/checkpoints/task-STR-epoch=01-val_loss=0.87.ckpt\n",
      "Saved epoch checkpoint path: ./lightning_logs/6oobg6kj/checkpoints/STR-epoch=05.ckpt\n",
      "Source genre: slate\n",
      "Target genre: travel\n",
      "Number of target samples: 69615\n"
     ]
    },
    {
     "name": "stderr",
     "output_type": "stream",
     "text": [
      "LOCAL_RANK: 0 - CUDA_VISIBLE_DEVICES: [0]\n"
     ]
    },
    {
     "data": {
      "application/vnd.jupyter.widget-view+json": {
       "model_id": "01df2e8315344c60af66bf05d0287b74",
       "version_major": 2,
       "version_minor": 0
      },
      "text/plain": [
       "Testing: |          | 0/? [00:00<?, ?it/s]"
      ]
     },
     "metadata": {},
     "output_type": "display_data"
    },
    {
     "data": {
      "text/html": [
       "<pre style=\"white-space:pre;overflow-x:auto;line-height:normal;font-family:Menlo,'DejaVu Sans Mono',consolas,'Courier New',monospace\">┏━━━━━━━━━━━━━━━━━━━━━━━━━━━┳━━━━━━━━━━━━━━━━━━━━━━━━━━━┓\n",
       "┃<span style=\"font-weight: bold\">        Test metric        </span>┃<span style=\"font-weight: bold\">       DataLoader 0        </span>┃\n",
       "┡━━━━━━━━━━━━━━━━━━━━━━━━━━━╇━━━━━━━━━━━━━━━━━━━━━━━━━━━┩\n",
       "│<span style=\"color: #008080; text-decoration-color: #008080\">   source_test/accuracy    </span>│<span style=\"color: #800080; text-decoration-color: #800080\">    0.7550402879714966     </span>│\n",
       "│<span style=\"color: #008080; text-decoration-color: #008080\">      source_test/f1       </span>│<span style=\"color: #800080; text-decoration-color: #800080\">    0.7543998956680298     </span>│\n",
       "│<span style=\"color: #008080; text-decoration-color: #008080\">   source_test/f1_macro    </span>│<span style=\"color: #800080; text-decoration-color: #800080\">    0.7436860203742981     </span>│\n",
       "│<span style=\"color: #008080; text-decoration-color: #008080\">     source_test/loss      </span>│<span style=\"color: #800080; text-decoration-color: #800080\">    0.7169814705848694     </span>│\n",
       "│<span style=\"color: #008080; text-decoration-color: #008080\">   target_test/accuracy    </span>│<span style=\"color: #800080; text-decoration-color: #800080\">    0.7846101522445679     </span>│\n",
       "│<span style=\"color: #008080; text-decoration-color: #008080\">      target_test/f1       </span>│<span style=\"color: #800080; text-decoration-color: #800080\">    0.7851084470748901     </span>│\n",
       "│<span style=\"color: #008080; text-decoration-color: #008080\">   target_test/f1_macro    </span>│<span style=\"color: #800080; text-decoration-color: #800080\">    0.7756248712539673     </span>│\n",
       "│<span style=\"color: #008080; text-decoration-color: #008080\">     target_test/loss      </span>│<span style=\"color: #800080; text-decoration-color: #800080\">    0.5984389781951904     </span>│\n",
       "└───────────────────────────┴───────────────────────────┘\n",
       "</pre>\n"
      ],
      "text/plain": [
       "┏━━━━━━━━━━━━━━━━━━━━━━━━━━━┳━━━━━━━━━━━━━━━━━━━━━━━━━━━┓\n",
       "┃\u001b[1m \u001b[0m\u001b[1m       Test metric       \u001b[0m\u001b[1m \u001b[0m┃\u001b[1m \u001b[0m\u001b[1m      DataLoader 0       \u001b[0m\u001b[1m \u001b[0m┃\n",
       "┡━━━━━━━━━━━━━━━━━━━━━━━━━━━╇━━━━━━━━━━━━━━━━━━━━━━━━━━━┩\n",
       "│\u001b[36m \u001b[0m\u001b[36m  source_test/accuracy   \u001b[0m\u001b[36m \u001b[0m│\u001b[35m \u001b[0m\u001b[35m   0.7550402879714966    \u001b[0m\u001b[35m \u001b[0m│\n",
       "│\u001b[36m \u001b[0m\u001b[36m     source_test/f1      \u001b[0m\u001b[36m \u001b[0m│\u001b[35m \u001b[0m\u001b[35m   0.7543998956680298    \u001b[0m\u001b[35m \u001b[0m│\n",
       "│\u001b[36m \u001b[0m\u001b[36m  source_test/f1_macro   \u001b[0m\u001b[36m \u001b[0m│\u001b[35m \u001b[0m\u001b[35m   0.7436860203742981    \u001b[0m\u001b[35m \u001b[0m│\n",
       "│\u001b[36m \u001b[0m\u001b[36m    source_test/loss     \u001b[0m\u001b[36m \u001b[0m│\u001b[35m \u001b[0m\u001b[35m   0.7169814705848694    \u001b[0m\u001b[35m \u001b[0m│\n",
       "│\u001b[36m \u001b[0m\u001b[36m  target_test/accuracy   \u001b[0m\u001b[36m \u001b[0m│\u001b[35m \u001b[0m\u001b[35m   0.7846101522445679    \u001b[0m\u001b[35m \u001b[0m│\n",
       "│\u001b[36m \u001b[0m\u001b[36m     target_test/f1      \u001b[0m\u001b[36m \u001b[0m│\u001b[35m \u001b[0m\u001b[35m   0.7851084470748901    \u001b[0m\u001b[35m \u001b[0m│\n",
       "│\u001b[36m \u001b[0m\u001b[36m  target_test/f1_macro   \u001b[0m\u001b[36m \u001b[0m│\u001b[35m \u001b[0m\u001b[35m   0.7756248712539673    \u001b[0m\u001b[35m \u001b[0m│\n",
       "│\u001b[36m \u001b[0m\u001b[36m    target_test/loss     \u001b[0m\u001b[36m \u001b[0m│\u001b[35m \u001b[0m\u001b[35m   0.5984389781951904    \u001b[0m\u001b[35m \u001b[0m│\n",
       "└───────────────────────────┴───────────────────────────┘\n"
      ]
     },
     "metadata": {},
     "output_type": "display_data"
    },
    {
     "name": "stdout",
     "output_type": "stream",
     "text": [
      "Test Results Last Epoch: [{'source_test/loss': 0.7169814705848694, 'source_test/accuracy': 0.7550402879714966, 'source_test/f1': 0.7543998956680298, 'source_test/f1_macro': 0.7436860203742981, 'target_test/loss': 0.5984389781951904, 'target_test/accuracy': 0.7846101522445679, 'target_test/f1': 0.7851084470748901, 'target_test/f1_macro': 0.7756248712539673}]\n",
      "Best checkpoint path: ./lightning_logs/6oobg6kj/checkpoints/task-STR-epoch=01-val_loss=0.87.ckpt\n",
      "Saved epoch checkpoint path: ./lightning_logs/6oobg6kj/checkpoints/STR-epoch=05.ckpt\n"
     ]
    },
    {
     "name": "stderr",
     "output_type": "stream",
     "text": [
      "Some weights of BertAdapterModel were not initialized from the model checkpoint at bert-base-uncased and are newly initialized: ['heads.default.3.bias']\n",
      "You should probably TRAIN this model on a down-stream task to be able to use it for predictions and inference.\n"
     ]
    },
    {
     "name": "stdout",
     "output_type": "stream",
     "text": [
      "================================================================================\n",
      "Name                     Architecture         #Param      %Param  Active   Train\n",
      "--------------------------------------------------------------------------------\n",
      "task_STR                 bottleneck          894,528       0.817       1       1\n",
      "mlm_adapter_TR           bottleneck        7,091,712       6.477       1       1\n",
      "--------------------------------------------------------------------------------\n",
      "Full model                               109,482,240     100.000               0\n",
      "================================================================================\n"
     ]
    },
    {
     "name": "stderr",
     "output_type": "stream",
     "text": [
      "LOCAL_RANK: 0 - CUDA_VISIBLE_DEVICES: [0]\n"
     ]
    },
    {
     "data": {
      "application/vnd.jupyter.widget-view+json": {
       "model_id": "9e041a2bf8e34d9d85a8f668594ef6de",
       "version_major": 2,
       "version_minor": 0
      },
      "text/plain": [
       "Testing: |          | 0/? [00:00<?, ?it/s]"
      ]
     },
     "metadata": {},
     "output_type": "display_data"
    },
    {
     "data": {
      "text/html": [
       "<pre style=\"white-space:pre;overflow-x:auto;line-height:normal;font-family:Menlo,'DejaVu Sans Mono',consolas,'Courier New',monospace\">┏━━━━━━━━━━━━━━━━━━━━━━━━━━━┳━━━━━━━━━━━━━━━━━━━━━━━━━━━┓\n",
       "┃<span style=\"font-weight: bold\">        Test metric        </span>┃<span style=\"font-weight: bold\">       DataLoader 0        </span>┃\n",
       "┡━━━━━━━━━━━━━━━━━━━━━━━━━━━╇━━━━━━━━━━━━━━━━━━━━━━━━━━━┩\n",
       "│<span style=\"color: #008080; text-decoration-color: #008080\">   source_test/accuracy    </span>│<span style=\"color: #800080; text-decoration-color: #800080\">    0.7263104915618896     </span>│\n",
       "│<span style=\"color: #008080; text-decoration-color: #008080\">      source_test/f1       </span>│<span style=\"color: #800080; text-decoration-color: #800080\">     0.726767361164093     </span>│\n",
       "│<span style=\"color: #008080; text-decoration-color: #008080\">   source_test/f1_macro    </span>│<span style=\"color: #800080; text-decoration-color: #800080\">    0.7152743935585022     </span>│\n",
       "│<span style=\"color: #008080; text-decoration-color: #008080\">     source_test/loss      </span>│<span style=\"color: #800080; text-decoration-color: #800080\">    0.6739835143089294     </span>│\n",
       "│<span style=\"color: #008080; text-decoration-color: #008080\">   target_test/accuracy    </span>│<span style=\"color: #800080; text-decoration-color: #800080\">    0.7654569745063782     </span>│\n",
       "│<span style=\"color: #008080; text-decoration-color: #008080\">      target_test/f1       </span>│<span style=\"color: #800080; text-decoration-color: #800080\">    0.7654721140861511     </span>│\n",
       "│<span style=\"color: #008080; text-decoration-color: #008080\">   target_test/f1_macro    </span>│<span style=\"color: #800080; text-decoration-color: #800080\">    0.7567905783653259     </span>│\n",
       "│<span style=\"color: #008080; text-decoration-color: #008080\">     target_test/loss      </span>│<span style=\"color: #800080; text-decoration-color: #800080\">    0.5703954100608826     </span>│\n",
       "└───────────────────────────┴───────────────────────────┘\n",
       "</pre>\n"
      ],
      "text/plain": [
       "┏━━━━━━━━━━━━━━━━━━━━━━━━━━━┳━━━━━━━━━━━━━━━━━━━━━━━━━━━┓\n",
       "┃\u001b[1m \u001b[0m\u001b[1m       Test metric       \u001b[0m\u001b[1m \u001b[0m┃\u001b[1m \u001b[0m\u001b[1m      DataLoader 0       \u001b[0m\u001b[1m \u001b[0m┃\n",
       "┡━━━━━━━━━━━━━━━━━━━━━━━━━━━╇━━━━━━━━━━━━━━━━━━━━━━━━━━━┩\n",
       "│\u001b[36m \u001b[0m\u001b[36m  source_test/accuracy   \u001b[0m\u001b[36m \u001b[0m│\u001b[35m \u001b[0m\u001b[35m   0.7263104915618896    \u001b[0m\u001b[35m \u001b[0m│\n",
       "│\u001b[36m \u001b[0m\u001b[36m     source_test/f1      \u001b[0m\u001b[36m \u001b[0m│\u001b[35m \u001b[0m\u001b[35m    0.726767361164093    \u001b[0m\u001b[35m \u001b[0m│\n",
       "│\u001b[36m \u001b[0m\u001b[36m  source_test/f1_macro   \u001b[0m\u001b[36m \u001b[0m│\u001b[35m \u001b[0m\u001b[35m   0.7152743935585022    \u001b[0m\u001b[35m \u001b[0m│\n",
       "│\u001b[36m \u001b[0m\u001b[36m    source_test/loss     \u001b[0m\u001b[36m \u001b[0m│\u001b[35m \u001b[0m\u001b[35m   0.6739835143089294    \u001b[0m\u001b[35m \u001b[0m│\n",
       "│\u001b[36m \u001b[0m\u001b[36m  target_test/accuracy   \u001b[0m\u001b[36m \u001b[0m│\u001b[35m \u001b[0m\u001b[35m   0.7654569745063782    \u001b[0m\u001b[35m \u001b[0m│\n",
       "│\u001b[36m \u001b[0m\u001b[36m     target_test/f1      \u001b[0m\u001b[36m \u001b[0m│\u001b[35m \u001b[0m\u001b[35m   0.7654721140861511    \u001b[0m\u001b[35m \u001b[0m│\n",
       "│\u001b[36m \u001b[0m\u001b[36m  target_test/f1_macro   \u001b[0m\u001b[36m \u001b[0m│\u001b[35m \u001b[0m\u001b[35m   0.7567905783653259    \u001b[0m\u001b[35m \u001b[0m│\n",
       "│\u001b[36m \u001b[0m\u001b[36m    target_test/loss     \u001b[0m\u001b[36m \u001b[0m│\u001b[35m \u001b[0m\u001b[35m   0.5703954100608826    \u001b[0m\u001b[35m \u001b[0m│\n",
       "└───────────────────────────┴───────────────────────────┘\n"
      ]
     },
     "metadata": {},
     "output_type": "display_data"
    },
    {
     "name": "stdout",
     "output_type": "stream",
     "text": [
      "Test Results on Best Model: [{'source_test/loss': 0.6739835143089294, 'source_test/accuracy': 0.7263104915618896, 'source_test/f1': 0.726767361164093, 'source_test/f1_macro': 0.7152743935585022, 'target_test/loss': 0.5703954100608826, 'target_test/accuracy': 0.7654569745063782, 'target_test/f1': 0.7654721140861511, 'target_test/f1_macro': 0.7567905783653259}]\n"
     ]
    },
    {
     "name": "stderr",
     "output_type": "stream",
     "text": [
      "Some weights of BertAdapterModel were not initialized from the model checkpoint at bert-base-uncased and are newly initialized: ['heads.default.3.bias']\n",
      "You should probably TRAIN this model on a down-stream task to be able to use it for predictions and inference.\n"
     ]
    },
    {
     "name": "stdout",
     "output_type": "stream",
     "text": [
      "================================================================================\n",
      "Name                     Architecture         #Param      %Param  Active   Train\n",
      "--------------------------------------------------------------------------------\n",
      "task_STR                 bottleneck          894,528       0.817       1       1\n",
      "mlm_adapter_TR           bottleneck        7,091,712       6.477       1       1\n",
      "--------------------------------------------------------------------------------\n",
      "Full model                               109,482,240     100.000               0\n",
      "================================================================================\n"
     ]
    },
    {
     "name": "stderr",
     "output_type": "stream",
     "text": [
      "LOCAL_RANK: 0 - CUDA_VISIBLE_DEVICES: [0]\n"
     ]
    },
    {
     "data": {
      "application/vnd.jupyter.widget-view+json": {
       "model_id": "d890cf9b55e04d83bca3008924a35b68",
       "version_major": 2,
       "version_minor": 0
      },
      "text/plain": [
       "Testing: |          | 0/? [00:00<?, ?it/s]"
      ]
     },
     "metadata": {},
     "output_type": "display_data"
    },
    {
     "data": {
      "text/html": [
       "<pre style=\"white-space:pre;overflow-x:auto;line-height:normal;font-family:Menlo,'DejaVu Sans Mono',consolas,'Courier New',monospace\">┏━━━━━━━━━━━━━━━━━━━━━━━━━━━┳━━━━━━━━━━━━━━━━━━━━━━━━━━━┓\n",
       "┃<span style=\"font-weight: bold\">        Test metric        </span>┃<span style=\"font-weight: bold\">       DataLoader 0        </span>┃\n",
       "┡━━━━━━━━━━━━━━━━━━━━━━━━━━━╇━━━━━━━━━━━━━━━━━━━━━━━━━━━┩\n",
       "│<span style=\"color: #008080; text-decoration-color: #008080\">   source_test/accuracy    </span>│<span style=\"color: #800080; text-decoration-color: #800080\">    0.7535281777381897     </span>│\n",
       "│<span style=\"color: #008080; text-decoration-color: #008080\">      source_test/f1       </span>│<span style=\"color: #800080; text-decoration-color: #800080\">    0.7528422474861145     </span>│\n",
       "│<span style=\"color: #008080; text-decoration-color: #008080\">   source_test/f1_macro    </span>│<span style=\"color: #800080; text-decoration-color: #800080\">    0.7419508695602417     </span>│\n",
       "│<span style=\"color: #008080; text-decoration-color: #008080\">     source_test/loss      </span>│<span style=\"color: #800080; text-decoration-color: #800080\">    0.7186063528060913     </span>│\n",
       "│<span style=\"color: #008080; text-decoration-color: #008080\">   target_test/accuracy    </span>│<span style=\"color: #800080; text-decoration-color: #800080\">    0.7846101522445679     </span>│\n",
       "│<span style=\"color: #008080; text-decoration-color: #008080\">      target_test/f1       </span>│<span style=\"color: #800080; text-decoration-color: #800080\">    0.7851431369781494     </span>│\n",
       "│<span style=\"color: #008080; text-decoration-color: #008080\">   target_test/f1_macro    </span>│<span style=\"color: #800080; text-decoration-color: #800080\">    0.7757112383842468     </span>│\n",
       "│<span style=\"color: #008080; text-decoration-color: #008080\">     target_test/loss      </span>│<span style=\"color: #800080; text-decoration-color: #800080\">    0.5999500751495361     </span>│\n",
       "└───────────────────────────┴───────────────────────────┘\n",
       "</pre>\n"
      ],
      "text/plain": [
       "┏━━━━━━━━━━━━━━━━━━━━━━━━━━━┳━━━━━━━━━━━━━━━━━━━━━━━━━━━┓\n",
       "┃\u001b[1m \u001b[0m\u001b[1m       Test metric       \u001b[0m\u001b[1m \u001b[0m┃\u001b[1m \u001b[0m\u001b[1m      DataLoader 0       \u001b[0m\u001b[1m \u001b[0m┃\n",
       "┡━━━━━━━━━━━━━━━━━━━━━━━━━━━╇━━━━━━━━━━━━━━━━━━━━━━━━━━━┩\n",
       "│\u001b[36m \u001b[0m\u001b[36m  source_test/accuracy   \u001b[0m\u001b[36m \u001b[0m│\u001b[35m \u001b[0m\u001b[35m   0.7535281777381897    \u001b[0m\u001b[35m \u001b[0m│\n",
       "│\u001b[36m \u001b[0m\u001b[36m     source_test/f1      \u001b[0m\u001b[36m \u001b[0m│\u001b[35m \u001b[0m\u001b[35m   0.7528422474861145    \u001b[0m\u001b[35m \u001b[0m│\n",
       "│\u001b[36m \u001b[0m\u001b[36m  source_test/f1_macro   \u001b[0m\u001b[36m \u001b[0m│\u001b[35m \u001b[0m\u001b[35m   0.7419508695602417    \u001b[0m\u001b[35m \u001b[0m│\n",
       "│\u001b[36m \u001b[0m\u001b[36m    source_test/loss     \u001b[0m\u001b[36m \u001b[0m│\u001b[35m \u001b[0m\u001b[35m   0.7186063528060913    \u001b[0m\u001b[35m \u001b[0m│\n",
       "│\u001b[36m \u001b[0m\u001b[36m  target_test/accuracy   \u001b[0m\u001b[36m \u001b[0m│\u001b[35m \u001b[0m\u001b[35m   0.7846101522445679    \u001b[0m\u001b[35m \u001b[0m│\n",
       "│\u001b[36m \u001b[0m\u001b[36m     target_test/f1      \u001b[0m\u001b[36m \u001b[0m│\u001b[35m \u001b[0m\u001b[35m   0.7851431369781494    \u001b[0m\u001b[35m \u001b[0m│\n",
       "│\u001b[36m \u001b[0m\u001b[36m  target_test/f1_macro   \u001b[0m\u001b[36m \u001b[0m│\u001b[35m \u001b[0m\u001b[35m   0.7757112383842468    \u001b[0m\u001b[35m \u001b[0m│\n",
       "│\u001b[36m \u001b[0m\u001b[36m    target_test/loss     \u001b[0m\u001b[36m \u001b[0m│\u001b[35m \u001b[0m\u001b[35m   0.5999500751495361    \u001b[0m\u001b[35m \u001b[0m│\n",
       "└───────────────────────────┴───────────────────────────┘\n"
      ]
     },
     "metadata": {},
     "output_type": "display_data"
    },
    {
     "name": "stdout",
     "output_type": "stream",
     "text": [
      "Test Results on saved epoch: [{'source_test/loss': 0.7186063528060913, 'source_test/accuracy': 0.7535281777381897, 'source_test/f1': 0.7528422474861145, 'source_test/f1_macro': 0.7419508695602417, 'target_test/loss': 0.5999500751495361, 'target_test/accuracy': 0.7846101522445679, 'target_test/f1': 0.7851431369781494, 'target_test/f1_macro': 0.7757112383842468}]\n"
     ]
    },
    {
     "data": {
      "application/vnd.jupyter.widget-view+json": {
       "model_id": "628dde2466494d30ae9a86a5838e4aee",
       "version_major": 2,
       "version_minor": 0
      },
      "text/plain": [
       "VBox(children=(Label(value='0.002 MB of 0.002 MB uploaded\\r'), FloatProgress(value=1.0, max=1.0)))"
      ]
     },
     "metadata": {},
     "output_type": "display_data"
    },
    {
     "data": {
      "text/html": [
       "<style>\n",
       "    table.wandb td:nth-child(1) { padding: 0 10px; text-align: left ; width: auto;} td:nth-child(2) {text-align: left ; width: 100%}\n",
       "    .wandb-row { display: flex; flex-direction: row; flex-wrap: wrap; justify-content: flex-start; width: 100% }\n",
       "    .wandb-col { display: flex; flex-direction: column; flex-basis: 100%; flex: 1; padding: 10px; }\n",
       "    </style>\n",
       "<div class=\"wandb-row\"><div class=\"wandb-col\"><h3>Run history:</h3><br/><table class=\"wandb\"><tr><td>epoch</td><td>▁▁▁▁▂▂▂▂▂▂▂▂▃▃▃▃▄▄▄▄▅▅▅▅▅▅▅▅▆▆▆▆▇▇▇▇▇▇▇█</td></tr><tr><td>source_test/accuracy</td><td>█▁█</td></tr><tr><td>source_test/f1</td><td>█▁█</td></tr><tr><td>source_test/f1_macro</td><td>█▁█</td></tr><tr><td>source_test/loss</td><td>█▁█</td></tr><tr><td>target_test/accuracy</td><td>█▁█</td></tr><tr><td>target_test/f1</td><td>█▁█</td></tr><tr><td>target_test/f1_macro</td><td>█▁█</td></tr><tr><td>target_test/loss</td><td>█▁█</td></tr><tr><td>train/accuracy</td><td>▁▄▂▂▃▄▃▃▃▆▄▄▃▅▁▅█▇█▄▆▆▃▆▃▆▃▆▆▅▆▅▁▆█▇▅▃██</td></tr><tr><td>train/f1</td><td>▁▄▂▂▃▄▃▃▃▆▄▄▄▅▁▅█▇█▄▆▆▃▆▄▇▃▆▆▅▆▅▁▆█▇▅▃██</td></tr><tr><td>train/loss</td><td>▇▆▅█▆▆▆▅▇▃▅▅▅▄▇▄▃▂▂▄▄▄▅▃▅▃▇▁▃▃▃▃▆▃▂▂▄▃▁▃</td></tr><tr><td>train/mlm_loss</td><td>▅▆▃▅▅▃▆▄▇▄▄▄▄▅▄▁▅▅▃▄▄▅▃▆▂▄█▂▃▂▃▃▂▃▄▂▃▃▅▄</td></tr><tr><td>train/taskclf_loss</td><td>▇▅▆█▆▆▆▅▆▃▅▅▅▄▇▅▂▂▂▅▄▄▆▂▅▃▆▂▄▄▃▃▇▄▁▃▅▄▁▂</td></tr><tr><td>trainer/global_step</td><td>▁▁▁▂▂▂▂▂▂▃▃▃▃▃▃▄▄▄▄▄▅▅▅▅▅▆▆▆▆▆▆▇▇▇▇▇▇███</td></tr><tr><td>val/accuracy</td><td>▁▄▆▇██████</td></tr><tr><td>val/avg_accuracy</td><td>▁▄▆▇██████</td></tr><tr><td>val/avg_f1</td><td>▁▄▆▇██████</td></tr><tr><td>val/avg_loss</td><td>▄▁▃█▆▆▆▆▆▅</td></tr><tr><td>val/avg_mlm_loss</td><td>▆▆█▄▃▃▄▄▅▁</td></tr><tr><td>val/avg_taskclf_loss</td><td>▄▁▃█▆▆▆▆▆▆</td></tr><tr><td>val/f1</td><td>▁▄▆▇██████</td></tr><tr><td>val/loss</td><td>▄▁▃█▆▆▆▆▆▅</td></tr><tr><td>val/mlm_loss</td><td>▆▆█▅▃▃▄▄▅▁</td></tr><tr><td>val/taskclf_loss</td><td>▄▁▃█▆▆▆▆▆▆</td></tr><tr><td>val_loss</td><td>▄▁▃█▆▆▆▆▆▅</td></tr></table><br/></div><div class=\"wandb-col\"><h3>Run summary:</h3><br/><table class=\"wandb\"><tr><td>epoch</td><td>10</td></tr><tr><td>source_test/accuracy</td><td>0.75353</td></tr><tr><td>source_test/f1</td><td>0.75284</td></tr><tr><td>source_test/f1_macro</td><td>0.74195</td></tr><tr><td>source_test/loss</td><td>0.71861</td></tr><tr><td>target_test/accuracy</td><td>0.78461</td></tr><tr><td>target_test/f1</td><td>0.78514</td></tr><tr><td>target_test/f1_macro</td><td>0.77571</td></tr><tr><td>target_test/loss</td><td>0.59995</td></tr><tr><td>train/accuracy</td><td>1.0</td></tr><tr><td>train/f1</td><td>1.0</td></tr><tr><td>train/loss</td><td>0.51752</td></tr><tr><td>train/mlm_loss</td><td>1.83976</td></tr><tr><td>train/taskclf_loss</td><td>0.05155</td></tr><tr><td>trainer/global_step</td><td>21750</td></tr><tr><td>val/accuracy</td><td>0.7629</td></tr><tr><td>val/avg_accuracy</td><td>0.76295</td></tr><tr><td>val/avg_f1</td><td>0.76272</td></tr><tr><td>val/avg_loss</td><td>0.90057</td></tr><tr><td>val/avg_mlm_loss</td><td>1.53654</td></tr><tr><td>val/avg_taskclf_loss</td><td>0.67645</td></tr><tr><td>val/f1</td><td>0.76268</td></tr><tr><td>val/loss</td><td>0.90083</td></tr><tr><td>val/mlm_loss</td><td>1.53676</td></tr><tr><td>val/taskclf_loss</td><td>0.67672</td></tr><tr><td>val_loss</td><td>0.90057</td></tr></table><br/></div></div>"
      ],
      "text/plain": [
       "<IPython.core.display.HTML object>"
      ]
     },
     "metadata": {},
     "output_type": "display_data"
    },
    {
     "data": {
      "text/html": [
       " View run <strong style=\"color:#cdcd00\">STR_adapter_run_with_seed_100</strong> at: <a href='https://wandb.ai/mrawhani/mixed_edited/runs/6oobg6kj' target=\"_blank\">https://wandb.ai/mrawhani/mixed_edited/runs/6oobg6kj</a><br/> View project at: <a href='https://wandb.ai/mrawhani/mixed_edited' target=\"_blank\">https://wandb.ai/mrawhani/mixed_edited</a><br/>Synced 5 W&B file(s), 0 media file(s), 0 artifact file(s) and 0 other file(s)"
      ],
      "text/plain": [
       "<IPython.core.display.HTML object>"
      ]
     },
     "metadata": {},
     "output_type": "display_data"
    },
    {
     "data": {
      "text/html": [
       "Find logs at: <code>./wandb/run-20240813_160831-6oobg6kj/logs</code>"
      ],
      "text/plain": [
       "<IPython.core.display.HTML object>"
      ]
     },
     "metadata": {},
     "output_type": "display_data"
    }
   ],
   "source": [
    "reload(processed)\n",
    "for seed in seeds:\n",
    "    wandb.init(project=project_name, name=f'{domain}_{type}_run_with_seed_{seed}', config={'seed': seed})\n",
    "\n",
    "    try:\n",
    "        seed_everything(seed)\n",
    "\n",
    "        hparams = {\n",
    "            \"source_target\": \"slate_travel\",\n",
    "            \"source_domain\": \"slate\",\n",
    "            \"target_domain\": \"travel\",\n",
    "            \"domain_adapter_name\": \"mlm_adapter_TR\",\n",
    "            \"task_adapter_name\": \"task_STR\",\n",
    "            \"pretrained_model_name\": \"bert-base-uncased\",\n",
    "            \"padding\": \"max_length\",\n",
    "            \"max_seq_length\": 128,\n",
    "            \"bsz\": 32,\n",
    "            \"num_classes\": 3,\n",
    "            \"learning_rate\": 1e-4,\n",
    "            \"reduction_factor\": 16,\n",
    "            \"mode\": \"domain\",\n",
    "            \"saved_adapter_dir\": \"../../saved/adapters\",\n",
    "        }\n",
    "\n",
    "        save_dir = \"checkpoints\"\n",
    "        save_epoch_3 = 6  # Save model at the 3rd epoch\n",
    "        \n",
    "        dm = processed.DataModuleSourceTargetMixed(hparams)\n",
    "        dm.setup('fit')\n",
    "        dm.setup(\"test\")\n",
    "        source_length, target_length = dm.get_dataset_lengths()\n",
    "        print(f\"Source dataset length: {source_length}\")\n",
    "        print(f\"Target dataset length: {target_length}\")\n",
    "        model = JointDomainTaskAdapter(hparams,source_length,target_length)\n",
    "\n",
    "        checkpoint_callback = ModelCheckpoint(\n",
    "            filename=\"task-STR-{epoch:02d}-{val_loss:.2f}\",\n",
    "            save_top_k=1,\n",
    "            monitor=\"val_loss\",\n",
    "            mode=\"min\",\n",
    "        )\n",
    "        save_model_callback_epoch = ModelCheckpoint(\n",
    "            filename=\"STR-{epoch:02d}\",\n",
    "            every_n_epochs=save_epoch_3,\n",
    "            save_top_k=-1,\n",
    "        )\n",
    "\n",
    "        wandb_logger = WandbLogger()\n",
    "\n",
    "    except Exception as e:\n",
    "        print(f\"Error during preprocessing : {e}\")\n",
    "\n",
    "    try:\n",
    "        train_loader = dm.train_dataloader()\n",
    "        val_loader = dm.val_dataloader()\n",
    "        trainer = Trainer(\n",
    "            max_epochs=10,\n",
    "            accelerator=\"auto\",\n",
    "            precision=16,\n",
    "            \n",
    "            default_root_dir=\"checkpoints\",\n",
    "            logger=wandb_logger,\n",
    "            callbacks=[checkpoint_callback, save_model_callback_epoch],\n",
    "            limit_train_batches=1.0,\n",
    "            limit_val_batches=1.0,\n",
    "            limit_test_batches=1.0,\n",
    "        )\n",
    "\n",
    "        trainer.fit(model, train_loader, val_loader)\n",
    "        print(f\"Best checkpoint path: {checkpoint_callback.best_model_path}\")\n",
    "        print(f\"Saved epoch checkpoint path: {save_model_callback_epoch.best_model_path}\")\n",
    "    except Exception as e:\n",
    "        print(f\"Error during training : {e}\")\n",
    "\n",
    "    try:\n",
    "        dm.setup(\"test\")\n",
    "        test_loader = dm.test_dataloader()\n",
    "        test_results_last = trainer.test(model, test_loader)\n",
    "        print(\"Test Results Last Epoch:\", test_results_last)\n",
    "\n",
    "        # Collect results for last epoch model\n",
    "        for key, value in test_results_last[0].items():\n",
    "            results[\"last_epoch\"][key].append(value)\n",
    "\n",
    "        # Paths to the saved checkpoints\n",
    "        best_checkpoint_path = checkpoint_callback.best_model_path\n",
    "        saved_epoch_checkpoint_path = save_model_callback_epoch.best_model_path\n",
    "        print(f\"Best checkpoint path: {best_checkpoint_path}\")\n",
    "        print(f\"Saved epoch checkpoint path: {saved_epoch_checkpoint_path}\")\n",
    "\n",
    "        best_model = JointDomainTaskAdapter.load_from_checkpoint(best_checkpoint_path,source_dataset_length=source_length, target_dataset_length=target_length)\n",
    "        test_results_best = trainer.test(best_model, test_loader)\n",
    "        print(\"Test Results on Best Model:\", test_results_best)\n",
    "        for key, value in test_results_best[0].items():\n",
    "            results[\"best_model\"][key].append(value)\n",
    "\n",
    "        saved_epoch_model = JointDomainTaskAdapter.load_from_checkpoint(saved_epoch_checkpoint_path,source_dataset_length=source_length, target_dataset_length=target_length)\n",
    "        test_results_saved_epoch = trainer.test(saved_epoch_model, test_loader)\n",
    "        print(\"Test Results on saved epoch:\", test_results_saved_epoch)\n",
    "        for key, value in test_results_saved_epoch[0].items():\n",
    "            results[\"epoch_saved\"][key].append(value)\n",
    "\n",
    "    except Exception as e:\n",
    "        print(f\"Error during testing: {e}\")\n",
    "\n",
    "    wandb.finish()"
   ]
  },
  {
   "cell_type": "code",
   "execution_count": 6,
   "metadata": {},
   "outputs": [
    {
     "data": {
      "text/plain": [
       "dict_items([('last_epoch', {'source_test/loss': [0.7276239395141602, 0.7777258157730103, 0.7169814705848694], 'source_test/accuracy': [0.7424395084381104, 0.7446236610412598, 0.7550402879714966], 'source_test/f1': [0.7421094179153442, 0.743624746799469, 0.7543998956680298], 'source_test/f1_macro': [0.7310559749603271, 0.734000027179718, 0.7436860203742981], 'target_test/loss': [0.5949236750602722, 0.6185091137886047, 0.5984389781951904], 'target_test/accuracy': [0.7923386693000793, 0.7841061353683472, 0.7846101522445679], 'target_test/f1': [0.7928553819656372, 0.7846300601959229, 0.7851084470748901], 'target_test/f1_macro': [0.7816459536552429, 0.7748361229896545, 0.7756248712539673]}), ('best_model', {'source_test/loss': [0.6533322930335999, 0.6624234318733215, 0.6739835143089294], 'source_test/accuracy': [0.7372311353683472, 0.7399193048477173, 0.7263104915618896], 'source_test/f1': [0.7371792793273926, 0.7398250699043274, 0.726767361164093], 'source_test/f1_macro': [0.72635817527771, 0.727566123008728, 0.7152743935585022], 'target_test/loss': [0.5613260865211487, 0.552638828754425, 0.5703954100608826], 'target_test/accuracy': [0.7713373899459839, 0.7738575339317322, 0.7654569745063782], 'target_test/f1': [0.7731791734695435, 0.7755113244056702, 0.7654721140861511], 'target_test/f1_macro': [0.7598021626472473, 0.7626182436943054, 0.7567905783653259]}), ('epoch_saved', {'source_test/loss': [0.7290706634521484, 0.7845600247383118, 0.7186063528060913], 'source_test/accuracy': [0.7424395084381104, 0.7456316947937012, 0.7535281777381897], 'source_test/f1': [0.7421094179153442, 0.7446166276931763, 0.7528422474861145], 'source_test/f1_macro': [0.7310559749603271, 0.7349688410758972, 0.7419508695602417], 'target_test/loss': [0.5962365865707397, 0.6241379976272583, 0.5999500751495361], 'target_test/accuracy': [0.7928427457809448, 0.7841061353683472, 0.7846101522445679], 'target_test/f1': [0.7933055758476257, 0.7845883369445801, 0.7851431369781494], 'target_test/f1_macro': [0.7822151780128479, 0.7746967077255249, 0.7757112383842468]})])"
      ]
     },
     "execution_count": 6,
     "metadata": {},
     "output_type": "execute_result"
    }
   ],
   "source": [
    "results.items()"
   ]
  },
  {
   "cell_type": "code",
   "execution_count": 7,
   "metadata": {},
   "outputs": [
    {
     "data": {
      "text/html": [
       "wandb version 0.17.6 is available!  To upgrade, please run:\n",
       " $ pip install wandb --upgrade"
      ],
      "text/plain": [
       "<IPython.core.display.HTML object>"
      ]
     },
     "metadata": {},
     "output_type": "display_data"
    },
    {
     "data": {
      "text/html": [
       "Tracking run with wandb version 0.17.0"
      ],
      "text/plain": [
       "<IPython.core.display.HTML object>"
      ]
     },
     "metadata": {},
     "output_type": "display_data"
    },
    {
     "data": {
      "text/html": [
       "Run data is saved locally in <code>/home/guest/Desktop/projects/third-experiments/domain_adaptation_project/mixed/government/wandb/run-20240813_172252-h7glbla6</code>"
      ],
      "text/plain": [
       "<IPython.core.display.HTML object>"
      ]
     },
     "metadata": {},
     "output_type": "display_data"
    },
    {
     "data": {
      "text/html": [
       "Syncing run <strong><a href='https://wandb.ai/mrawhani/mixed_edited/runs/h7glbla6' target=\"_blank\">STR_mean_results</a></strong> to <a href='https://wandb.ai/mrawhani/mixed_edited' target=\"_blank\">Weights & Biases</a> (<a href='https://wandb.me/run' target=\"_blank\">docs</a>)<br/>"
      ],
      "text/plain": [
       "<IPython.core.display.HTML object>"
      ]
     },
     "metadata": {},
     "output_type": "display_data"
    },
    {
     "data": {
      "text/html": [
       " View project at <a href='https://wandb.ai/mrawhani/mixed_edited' target=\"_blank\">https://wandb.ai/mrawhani/mixed_edited</a>"
      ],
      "text/plain": [
       "<IPython.core.display.HTML object>"
      ]
     },
     "metadata": {},
     "output_type": "display_data"
    },
    {
     "data": {
      "text/html": [
       " View run at <a href='https://wandb.ai/mrawhani/mixed_edited/runs/h7glbla6' target=\"_blank\">https://wandb.ai/mrawhani/mixed_edited/runs/h7glbla6</a>"
      ],
      "text/plain": [
       "<IPython.core.display.HTML object>"
      ]
     },
     "metadata": {},
     "output_type": "display_data"
    },
    {
     "data": {
      "application/vnd.jupyter.widget-view+json": {
       "model_id": "be8863ab814c43dd8356b372bf25b3ea",
       "version_major": 2,
       "version_minor": 0
      },
      "text/plain": [
       "VBox(children=(Label(value='0.010 MB of 0.010 MB uploaded\\r'), FloatProgress(value=1.0, max=1.0)))"
      ]
     },
     "metadata": {},
     "output_type": "display_data"
    },
    {
     "data": {
      "text/html": [
       "<style>\n",
       "    table.wandb td:nth-child(1) { padding: 0 10px; text-align: left ; width: auto;} td:nth-child(2) {text-align: left ; width: 100%}\n",
       "    .wandb-row { display: flex; flex-direction: row; flex-wrap: wrap; justify-content: flex-start; width: 100% }\n",
       "    .wandb-col { display: flex; flex-direction: column; flex-basis: 100%; flex: 1; padding: 10px; }\n",
       "    </style>\n",
       "<div class=\"wandb-row\"><div class=\"wandb-col\"><h3>Run history:</h3><br/><table class=\"wandb\"><tr><td>best_model/source_test/accuracy</td><td>▁</td></tr><tr><td>best_model/source_test/accuracy_std</td><td>▁</td></tr><tr><td>best_model/source_test/f1</td><td>▁</td></tr><tr><td>best_model/source_test/f1_macro</td><td>▁</td></tr><tr><td>best_model/source_test/f1_macro_std</td><td>▁</td></tr><tr><td>best_model/source_test/f1_std</td><td>▁</td></tr><tr><td>best_model/source_test/loss</td><td>▁</td></tr><tr><td>best_model/source_test/loss_std</td><td>▁</td></tr><tr><td>best_model/target_test/accuracy</td><td>▁</td></tr><tr><td>best_model/target_test/accuracy_std</td><td>▁</td></tr><tr><td>best_model/target_test/f1</td><td>▁</td></tr><tr><td>best_model/target_test/f1_macro</td><td>▁</td></tr><tr><td>best_model/target_test/f1_macro_std</td><td>▁</td></tr><tr><td>best_model/target_test/f1_std</td><td>▁</td></tr><tr><td>best_model/target_test/loss</td><td>▁</td></tr><tr><td>best_model/target_test/loss_std</td><td>▁</td></tr><tr><td>epoch_saved/source_test/accuracy</td><td>▁</td></tr><tr><td>epoch_saved/source_test/accuracy_std</td><td>▁</td></tr><tr><td>epoch_saved/source_test/f1</td><td>▁</td></tr><tr><td>epoch_saved/source_test/f1_macro</td><td>▁</td></tr><tr><td>epoch_saved/source_test/f1_macro_std</td><td>▁</td></tr><tr><td>epoch_saved/source_test/f1_std</td><td>▁</td></tr><tr><td>epoch_saved/source_test/loss</td><td>▁</td></tr><tr><td>epoch_saved/source_test/loss_std</td><td>▁</td></tr><tr><td>epoch_saved/target_test/accuracy</td><td>▁</td></tr><tr><td>epoch_saved/target_test/accuracy_std</td><td>▁</td></tr><tr><td>epoch_saved/target_test/f1</td><td>▁</td></tr><tr><td>epoch_saved/target_test/f1_macro</td><td>▁</td></tr><tr><td>epoch_saved/target_test/f1_macro_std</td><td>▁</td></tr><tr><td>epoch_saved/target_test/f1_std</td><td>▁</td></tr><tr><td>epoch_saved/target_test/loss</td><td>▁</td></tr><tr><td>epoch_saved/target_test/loss_std</td><td>▁</td></tr><tr><td>last_epoch/source_test/accuracy</td><td>▁</td></tr><tr><td>last_epoch/source_test/accuracy_std</td><td>▁</td></tr><tr><td>last_epoch/source_test/f1</td><td>▁</td></tr><tr><td>last_epoch/source_test/f1_macro</td><td>▁</td></tr><tr><td>last_epoch/source_test/f1_macro_std</td><td>▁</td></tr><tr><td>last_epoch/source_test/f1_std</td><td>▁</td></tr><tr><td>last_epoch/source_test/loss</td><td>▁</td></tr><tr><td>last_epoch/source_test/loss_std</td><td>▁</td></tr><tr><td>last_epoch/target_test/accuracy</td><td>▁</td></tr><tr><td>last_epoch/target_test/accuracy_std</td><td>▁</td></tr><tr><td>last_epoch/target_test/f1</td><td>▁</td></tr><tr><td>last_epoch/target_test/f1_macro</td><td>▁</td></tr><tr><td>last_epoch/target_test/f1_macro_std</td><td>▁</td></tr><tr><td>last_epoch/target_test/f1_std</td><td>▁</td></tr><tr><td>last_epoch/target_test/loss</td><td>▁</td></tr><tr><td>last_epoch/target_test/loss_std</td><td>▁</td></tr></table><br/></div><div class=\"wandb-col\"><h3>Run summary:</h3><br/><table class=\"wandb\"><tr><td>best_model/source_test/accuracy</td><td>0.73449</td></tr><tr><td>best_model/source_test/accuracy_std</td><td>0.00588</td></tr><tr><td>best_model/source_test/f1</td><td>0.73459</td></tr><tr><td>best_model/source_test/f1_macro</td><td>0.72307</td></tr><tr><td>best_model/source_test/f1_macro_std</td><td>0.00553</td></tr><tr><td>best_model/source_test/f1_std</td><td>0.00564</td></tr><tr><td>best_model/source_test/loss</td><td>0.66325</td></tr><tr><td>best_model/source_test/loss_std</td><td>0.00845</td></tr><tr><td>best_model/target_test/accuracy</td><td>0.77022</td></tr><tr><td>best_model/target_test/accuracy_std</td><td>0.00352</td></tr><tr><td>best_model/target_test/f1</td><td>0.77139</td></tr><tr><td>best_model/target_test/f1_macro</td><td>0.75974</td></tr><tr><td>best_model/target_test/f1_macro_std</td><td>0.00238</td></tr><tr><td>best_model/target_test/f1_std</td><td>0.00429</td></tr><tr><td>best_model/target_test/loss</td><td>0.56145</td></tr><tr><td>best_model/target_test/loss_std</td><td>0.00725</td></tr><tr><td>epoch_saved/source_test/accuracy</td><td>0.7472</td></tr><tr><td>epoch_saved/source_test/accuracy_std</td><td>0.00466</td></tr><tr><td>epoch_saved/source_test/f1</td><td>0.74652</td></tr><tr><td>epoch_saved/source_test/f1_macro</td><td>0.73599</td></tr><tr><td>epoch_saved/source_test/f1_macro_std</td><td>0.00451</td></tr><tr><td>epoch_saved/source_test/f1_std</td><td>0.00458</td></tr><tr><td>epoch_saved/source_test/loss</td><td>0.74408</td></tr><tr><td>epoch_saved/source_test/loss_std</td><td>0.02894</td></tr><tr><td>epoch_saved/target_test/accuracy</td><td>0.78719</td></tr><tr><td>epoch_saved/target_test/accuracy_std</td><td>0.004</td></tr><tr><td>epoch_saved/target_test/f1</td><td>0.78768</td></tr><tr><td>epoch_saved/target_test/f1_macro</td><td>0.77754</td></tr><tr><td>epoch_saved/target_test/f1_macro_std</td><td>0.00333</td></tr><tr><td>epoch_saved/target_test/f1_std</td><td>0.00399</td></tr><tr><td>epoch_saved/target_test/loss</td><td>0.60677</td></tr><tr><td>epoch_saved/target_test/loss_std</td><td>0.01237</td></tr><tr><td>last_epoch/source_test/accuracy</td><td>0.74737</td></tr><tr><td>last_epoch/source_test/accuracy_std</td><td>0.0055</td></tr><tr><td>last_epoch/source_test/f1</td><td>0.74671</td></tr><tr><td>last_epoch/source_test/f1_macro</td><td>0.73625</td></tr><tr><td>last_epoch/source_test/f1_macro_std</td><td>0.0054</td></tr><tr><td>last_epoch/source_test/f1_std</td><td>0.00547</td></tr><tr><td>last_epoch/source_test/loss</td><td>0.74078</td></tr><tr><td>last_epoch/source_test/loss_std</td><td>0.02649</td></tr><tr><td>last_epoch/target_test/accuracy</td><td>0.78702</td></tr><tr><td>last_epoch/target_test/accuracy_std</td><td>0.00377</td></tr><tr><td>last_epoch/target_test/f1</td><td>0.78753</td></tr><tr><td>last_epoch/target_test/f1_macro</td><td>0.77737</td></tr><tr><td>last_epoch/target_test/f1_macro_std</td><td>0.00304</td></tr><tr><td>last_epoch/target_test/f1_std</td><td>0.00377</td></tr><tr><td>last_epoch/target_test/loss</td><td>0.60396</td></tr><tr><td>last_epoch/target_test/loss_std</td><td>0.01039</td></tr></table><br/></div></div>"
      ],
      "text/plain": [
       "<IPython.core.display.HTML object>"
      ]
     },
     "metadata": {},
     "output_type": "display_data"
    },
    {
     "data": {
      "text/html": [
       " View run <strong style=\"color:#cdcd00\">STR_mean_results</strong> at: <a href='https://wandb.ai/mrawhani/mixed_edited/runs/h7glbla6' target=\"_blank\">https://wandb.ai/mrawhani/mixed_edited/runs/h7glbla6</a><br/> View project at: <a href='https://wandb.ai/mrawhani/mixed_edited' target=\"_blank\">https://wandb.ai/mrawhani/mixed_edited</a><br/>Synced 4 W&B file(s), 0 media file(s), 0 artifact file(s) and 0 other file(s)"
      ],
      "text/plain": [
       "<IPython.core.display.HTML object>"
      ]
     },
     "metadata": {},
     "output_type": "display_data"
    },
    {
     "data": {
      "text/html": [
       "Find logs at: <code>./wandb/run-20240813_172252-h7glbla6/logs</code>"
      ],
      "text/plain": [
       "<IPython.core.display.HTML object>"
      ]
     },
     "metadata": {},
     "output_type": "display_data"
    },
    {
     "name": "stdout",
     "output_type": "stream",
     "text": [
      "Mean Results: {'last_epoch': {'source_test/loss': 0.7407770752906799, 'source_test/accuracy': 0.7473678191502889, 'source_test/f1': 0.7467113534609476, 'source_test/f1_macro': 0.7362473408381144, 'target_test/loss': 0.6039572556813558, 'target_test/accuracy': 0.7870183189709982, 'target_test/f1': 0.78753129641215, 'target_test/f1_macro': 0.777368982632955}, 'best_model': {'source_test/loss': 0.6632464130719503, 'source_test/accuracy': 0.734486977259318, 'source_test/f1': 0.7345905701319376, 'source_test/f1_macro': 0.7230662306149801, 'target_test/loss': 0.5614534417788187, 'target_test/accuracy': 0.7702172994613647, 'target_test/f1': 0.771387537320455, 'target_test/f1_macro': 0.7597369949022929}, 'epoch_saved': {'source_test/loss': 0.7440790136655172, 'source_test/accuracy': 0.7471997936566671, 'source_test/f1': 0.7465227643648783, 'source_test/f1_macro': 0.735991895198822, 'target_test/loss': 0.6067748864491781, 'target_test/accuracy': 0.78718634446462, 'target_test/f1': 0.7876790165901184, 'target_test/f1_macro': 0.7775410413742065}}\n",
      "Standard Deviation Results: {'last_epoch': {'source_test/loss': 0.02648550048171863, 'source_test/accuracy': 0.005498042925003047, 'source_test/f1': 0.005471703961249366, 'source_test/f1_macro': 0.005395512073266905, 'target_test/loss': 0.010389314055403965, 'target_test/accuracy': 0.0037676786815398493, 'target_test/f1': 0.003769759385524924, 'target_test/f1_macro': 0.0030413694065045288}, 'best_model': {'source_test/loss': 0.008450885893625934, 'source_test/accuracy': 0.005884881905223614, 'source_test/f1': 0.0056363109010636216, 'source_test/f1_macro': 0.005531686178507969, 'target_test/loss': 0.007249653299501125, 'target_test/accuracy': 0.003519782349807703, 'target_test/f1': 0.004289825639652116, 'target_test/f1_macro': 0.0023795806245196856}, 'epoch_saved': {'source_test/loss': 0.028941430999302544, 'source_test/accuracy': 0.004660747239421075, 'source_test/f1': 0.0045842793259286835, 'source_test/f1_macro': 0.0045062668873201385, 'target_test/loss': 0.012370818396344253, 'target_test/accuracy': 0.004004969008733201, 'target_test/f1': 0.003985020081755605, 'target_test/f1_macro': 0.0033309641348903602}}\n"
     ]
    }
   ],
   "source": [
    "# Calculate mean and standard deviation for each scenario\n",
    "mean_results = {scenario: {key: np.mean(values) for key, values in metrics.items()} for scenario, metrics in results.items()}\n",
    "std_results = {scenario: {key: np.std(values) for key, values in metrics.items()} for scenario, metrics in results.items()}\n",
    "\n",
    "# Log mean and standard deviation results to wandb\n",
    "wandb.init(project=project_name, name=f'{domain}_mean_results')\n",
    "for scenario in mean_results:\n",
    "    for key, value in mean_results[scenario].items():\n",
    "        wandb.log({f\"{scenario}/{key}\": value})\n",
    "        wandb.log({f\"{scenario}/{key}_std\": std_results[scenario][key]})\n",
    "wandb.finish()\n",
    "\n",
    "print(\"Mean Results:\", mean_results)\n",
    "print(\"Standard Deviation Results:\", std_results)\n",
    "\n",
    "# # Save the best model's adapter\n",
    "# if model:\n",
    "#     adapter_save_path = f\"../../saved/adapter_after_run/{hparams['task_adapter_name']}\"\n",
    "#     model.save_adapter(adapter_save_path, hparams['task_adapter_name'])\n",
    "#     print(f\"Adapter saved to {adapter_save_path}\")\n",
    "# else:\n",
    "#     print(\"No best model to save.\")"
   ]
  },
  {
   "cell_type": "code",
   "execution_count": 8,
   "metadata": {},
   "outputs": [
    {
     "name": "stdout",
     "output_type": "stream",
     "text": [
      "dones\n"
     ]
    }
   ],
   "source": [
    "print('dones')"
   ]
  },
  {
   "cell_type": "code",
   "execution_count": 9,
   "metadata": {},
   "outputs": [
    {
     "data": {
      "text/plain": [
       "inf"
      ]
     },
     "execution_count": 9,
     "metadata": {},
     "output_type": "execute_result"
    }
   ],
   "source": [
    "best_val_loss"
   ]
  },
  {
   "cell_type": "code",
   "execution_count": null,
   "metadata": {},
   "outputs": [],
   "source": []
  }
 ],
 "metadata": {
  "kernelspec": {
   "display_name": ".venv",
   "language": "python",
   "name": "python3"
  },
  "language_info": {
   "codemirror_mode": {
    "name": "ipython",
    "version": 3
   },
   "file_extension": ".py",
   "mimetype": "text/x-python",
   "name": "python",
   "nbconvert_exporter": "python",
   "pygments_lexer": "ipython3",
   "version": "3.8.10"
  }
 },
 "nbformat": 4,
 "nbformat_minor": 2
}
